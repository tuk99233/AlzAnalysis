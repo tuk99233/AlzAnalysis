{
 "cells": [
  {
   "cell_type": "code",
   "execution_count": 31,
   "id": "f41e2f41",
   "metadata": {},
   "outputs": [],
   "source": [
    "import pandas as pd\n",
    "import numpy as np\n",
    "import nltk\n",
    "from textblob import TextBlob\n",
    "from nltk.corpus import stopwords\n",
    "from nltk.tokenize import wordpunct_tokenize\n",
    "from nltk.stem.porter import PorterStemmer\n",
    "from textblob import TextBlob\n",
    "from nltk.sentiment import SentimentIntensityAnalyzer\n",
    "from sklearn.feature_extraction.text import CountVectorizer, TfidfTransformer"
   ]
  },
  {
   "cell_type": "code",
   "execution_count": null,
   "id": "90ea1074",
   "metadata": {},
   "outputs": [],
   "source": [
    "import re"
   ]
  },
  {
   "cell_type": "code",
   "execution_count": null,
   "id": "32bf9a55",
   "metadata": {},
   "outputs": [],
   "source": [
    "import matplotlib as plt"
   ]
  },
  {
   "cell_type": "code",
   "execution_count": null,
   "id": "f73736a5",
   "metadata": {},
   "outputs": [],
   "source": [
    "df = pd.read_csv('/Users/jaredhuzar/alz/alz/con4.csv')"
   ]
  },
  {
   "cell_type": "code",
   "execution_count": null,
   "id": "24cba005",
   "metadata": {
    "scrolled": false
   },
   "outputs": [],
   "source": [
    "df.head()"
   ]
  },
  {
   "cell_type": "code",
   "execution_count": null,
   "id": "704e9a76",
   "metadata": {},
   "outputs": [],
   "source": [
    "df=df[-df[\"POST_CONTENT\"].isnull()]"
   ]
  },
  {
   "cell_type": "code",
   "execution_count": null,
   "id": "39adabd6",
   "metadata": {},
   "outputs": [],
   "source": [
    "df['POST_CONTENT'] = df['POST_CONTENT'].apply(lambda x: re.sub('[,\\.!?]', '', str(x)))"
   ]
  },
  {
   "cell_type": "code",
   "execution_count": null,
   "id": "bfa0cad3",
   "metadata": {},
   "outputs": [],
   "source": [
    "df['POST_CONTENT'] = df['POST_CONTENT'].apply(lambda x: x.lower())"
   ]
  },
  {
   "cell_type": "code",
   "execution_count": null,
   "id": "1092d4ec",
   "metadata": {},
   "outputs": [],
   "source": [
    "import wordcloud\n",
    "from wordcloud import WordCloud"
   ]
  },
  {
   "cell_type": "code",
   "execution_count": null,
   "id": "e7bfaa95",
   "metadata": {},
   "outputs": [],
   "source": [
    "long_string = ','.join(list(df[\"POST_CONTENT\"].values))"
   ]
  },
  {
   "cell_type": "code",
   "execution_count": null,
   "id": "328263fb",
   "metadata": {},
   "outputs": [],
   "source": [
    "wordcloud = WordCloud(background_color=\"white\", max_words=5000, contour_width=3, contour_color='steelblue')"
   ]
  },
  {
   "cell_type": "code",
   "execution_count": null,
   "id": "bbcce260",
   "metadata": {},
   "outputs": [],
   "source": [
    "wordcloud.generate(long_string)"
   ]
  },
  {
   "cell_type": "code",
   "execution_count": null,
   "id": "cacca3b7",
   "metadata": {
    "scrolled": true
   },
   "outputs": [],
   "source": [
    "wordcloud.to_image()"
   ]
  },
  {
   "cell_type": "code",
   "execution_count": null,
   "id": "dd65aaa6",
   "metadata": {},
   "outputs": [],
   "source": [
    "import gensim\n",
    "from gensim.utils import simple_preprocess\n",
    "import nltk\n",
    "nltk.download('stopwords')\n",
    "from nltk.corpus import stopwords"
   ]
  },
  {
   "cell_type": "code",
   "execution_count": null,
   "id": "c22f8ae9",
   "metadata": {},
   "outputs": [],
   "source": [
    "stops = stopwords.words('english')"
   ]
  },
  {
   "cell_type": "code",
   "execution_count": null,
   "id": "5a088593",
   "metadata": {},
   "outputs": [],
   "source": [
    "def sent_to_words(sentences):\n",
    "    for sentence in sentences:\n",
    "        # deacc=True removes punctuations\n",
    "        yield(gensim.utils.simple_preprocess(str(sentence), deacc=True))"
   ]
  },
  {
   "cell_type": "code",
   "execution_count": null,
   "id": "5d50fcd0",
   "metadata": {},
   "outputs": [],
   "source": [
    "def remove_stopwords(texts):\n",
    "    return [[word for word in simple_preprocess(str(doc)) \n",
    "             if word not in stops] for doc in texts]\n",
    "data = df.POST_CONTENT.values.tolist()\n",
    "data_words = list(sent_to_words(data))"
   ]
  },
  {
   "cell_type": "code",
   "execution_count": null,
   "id": "dc5f5c6c",
   "metadata": {},
   "outputs": [],
   "source": [
    "data_words = remove_stopwords(data_words)"
   ]
  },
  {
   "cell_type": "code",
   "execution_count": null,
   "id": "5933af41",
   "metadata": {},
   "outputs": [],
   "source": [
    "import gensim.corpora as corpora\n",
    "# Create Dictionary\n",
    "id2word = corpora.Dictionary(data_words)\n",
    "# Create Corpus\n",
    "texts = data_words\n",
    "# Term Document Frequency\n",
    "corpus = [id2word.doc2bow(text) for text in texts]\n",
    "# View\n",
    "#print(corpus[:1][0][:30])"
   ]
  },
  {
   "cell_type": "code",
   "execution_count": null,
   "id": "2e4bb050",
   "metadata": {
    "scrolled": true
   },
   "outputs": [],
   "source": [
    "from pprint import pprint\n",
    "# number of topics\n",
    "num_topics = 10\n",
    "# Build LDA model\n",
    "lda_model1 = gensim.models.LdaMulticore(corpus=corpus,\n",
    "                                       id2word=id2word,\n",
    "                                       num_topics=num_topics)\n",
    "# Print the Keyword in the 10 topics\n",
    "pprint(lda_model1.print_topics())\n",
    "doc_lda = lda_model1[corpus]"
   ]
  },
  {
   "cell_type": "code",
   "execution_count": null,
   "id": "70d485cf",
   "metadata": {},
   "outputs": [],
   "source": [
    "import pyLDAvis\n",
    "import pyLDAvis.gensim_models\n",
    "import pickle "
   ]
  },
  {
   "cell_type": "code",
   "execution_count": null,
   "id": "80964d6b",
   "metadata": {},
   "outputs": [],
   "source": [
    "import os"
   ]
  },
  {
   "cell_type": "code",
   "execution_count": null,
   "id": "92668e3c",
   "metadata": {},
   "outputs": [],
   "source": [
    "pyLDAvis.enable_notebook()\n",
    "LDAvis_prepared = pyLDAvis.gensim_models.prepare(lda_model1, corpus, id2word)\n",
    "LDAvis_prepared"
   ]
  },
  {
   "cell_type": "code",
   "execution_count": null,
   "id": "17ae20c8",
   "metadata": {},
   "outputs": [],
   "source": [
    "def get_textBlob_score(sent):\n",
    "    # This polarity score is between -1 to 1\n",
    "    polarity = TextBlob(sent).sentiment.polarity\n",
    "    return polarity"
   ]
  },
  {
   "cell_type": "code",
   "execution_count": null,
   "id": "97c81035",
   "metadata": {},
   "outputs": [],
   "source": [
    "def getBinary(val):\n",
    "    if(val < 0):\n",
    "        val = -1\n",
    "    elif(val == 0):\n",
    "        val = 0\n",
    "    else:\n",
    "        val = 1\n",
    "    return val"
   ]
  },
  {
   "cell_type": "code",
   "execution_count": null,
   "id": "d2ae527c",
   "metadata": {},
   "outputs": [],
   "source": [
    "def get_nltk_score(sent):\n",
    "    polarity = sia.polarity_scores(sent)['compound']\n",
    "    return polarity"
   ]
  },
  {
   "cell_type": "code",
   "execution_count": null,
   "id": "9c407f2b",
   "metadata": {},
   "outputs": [],
   "source": [
    "from nltk.sentiment.vader import SentimentIntensityAnalyzer as SIA\n",
    "sia = SIA()"
   ]
  },
  {
   "cell_type": "code",
   "execution_count": null,
   "id": "17c6a7dd",
   "metadata": {},
   "outputs": [],
   "source": [
    "df[\"Sentiment\"] = np.nan"
   ]
  },
  {
   "cell_type": "code",
   "execution_count": null,
   "id": "9b5afb4b",
   "metadata": {},
   "outputs": [],
   "source": [
    "df['Sentiment'] = df['POST_CONTENT'].apply(lambda x: get_textBlob_score(x))"
   ]
  },
  {
   "cell_type": "code",
   "execution_count": null,
   "id": "8d88fc27",
   "metadata": {},
   "outputs": [],
   "source": [
    "df['Sentiment'] = df['Sentiment'].apply(lambda x: getBinary(x))"
   ]
  },
  {
   "cell_type": "code",
   "execution_count": null,
   "id": "7907ce86",
   "metadata": {},
   "outputs": [],
   "source": [
    "neg_df = df[df['Sentiment'] == -1]\n",
    "data = neg_df.POST_CONTENT.values.tolist()\n",
    "data_words = list(sent_to_words(data))\n",
    "data_words = remove_stopwords(data_words)\n",
    "id2word = corpora.Dictionary(data_words)\n",
    "\n",
    "texts = data_words\n",
    "\n",
    "corpus = [id2word.doc2bow(text) for text in texts]\n",
    "num_topics = 10\n",
    "\n",
    "lda_model2 = gensim.models.LdaMulticore(corpus=corpus,\n",
    "                                       id2word=id2word,\n",
    "                                       num_topics=num_topics)\n",
    "\n",
    "pprint(lda_model2.print_topics())\n",
    "doc_lda = lda_model2[corpus]\n",
    "\n",
    "pyLDAvis.enable_notebook()\n",
    "LDAvis_prepared = pyLDAvis.gensim_models.prepare(lda_model2, corpus, id2word)\n",
    "LDAvis_prepared"
   ]
  },
  {
   "cell_type": "code",
   "execution_count": null,
   "id": "5aab29e3",
   "metadata": {
    "scrolled": true
   },
   "outputs": [],
   "source": [
    "pos_df = df[df['Sentiment'] == 1]\n",
    "data = pos_df.POST_CONTENT.values.tolist()\n",
    "data_words = list(sent_to_words(data))\n",
    "data_words = remove_stopwords(data_words)\n",
    "id2word = corpora.Dictionary(data_words)\n",
    "\n",
    "texts = data_words\n",
    "\n",
    "corpus = [id2word.doc2bow(text) for text in texts]\n",
    "num_topics = 10\n",
    "\n",
    "lda_model3 = gensim.models.LdaMulticore(corpus=corpus,\n",
    "                                       id2word=id2word,\n",
    "                                       num_topics=num_topics)\n",
    "\n",
    "pprint(lda_model3.print_topics())\n",
    "doc_lda = lda_model3[corpus]\n",
    "\n",
    "pyLDAvis.enable_notebook()\n",
    "LDAvis_prepared = pyLDAvis.gensim_models.prepare(lda_model3, corpus, id2word)\n",
    "LDAvis_prepared"
   ]
  },
  {
   "cell_type": "code",
   "execution_count": null,
   "id": "7d4ab5cb",
   "metadata": {},
   "outputs": [],
   "source": [
    "mdiff, annotation=lda_model2.diff(lda_model3, distance ='jaccard')"
   ]
  },
  {
   "cell_type": "code",
   "execution_count": 33,
   "id": "d715ad61",
   "metadata": {},
   "outputs": [],
   "source": [
    "def make_bigrams(texts):\n",
    "    return [bigram_mod[doc] for doc in texts]\n",
    "def make_trigrams(texts):\n",
    "    return [trigram_mod[bigram_mod[doc]] for doc in texts]\n",
    "def lemmatization(texts, allowed_postags=['NOUN', 'ADJ', 'VERB', 'ADV']):\n",
    "    \"\"\"https://spacy.io/api/annotation\"\"\"\n",
    "    texts_out = []\n",
    "    for sent in texts:\n",
    "        doc = nlp(\" \".join(sent)) \n",
    "        texts_out.append([token.lemma_ for token in doc if token.pos_ in allowed_postags])\n",
    "    return texts_out"
   ]
  },
  {
   "cell_type": "code",
   "execution_count": 34,
   "id": "160684bb",
   "metadata": {},
   "outputs": [],
   "source": [
    "from nltk.util import ngrams"
   ]
  },
  {
   "cell_type": "code",
   "execution_count": 35,
   "id": "6941f79d",
   "metadata": {},
   "outputs": [],
   "source": [
    "from collections import Counter\n",
    "from nltk import word_tokenize"
   ]
  },
  {
   "cell_type": "code",
   "execution_count": 36,
   "id": "5a10335f",
   "metadata": {},
   "outputs": [],
   "source": [
    "bi_g = []\n",
    "for x in range(len(data_words)):\n",
    "    bigrams = ngrams(data_words[x],2)\n",
    "    bi_g.append(list(bigrams))"
   ]
  },
  {
   "cell_type": "code",
   "execution_count": 37,
   "id": "670d1a57",
   "metadata": {},
   "outputs": [],
   "source": [
    "import collections"
   ]
  },
  {
   "cell_type": "code",
   "execution_count": 38,
   "id": "7d328339",
   "metadata": {},
   "outputs": [],
   "source": [
    "#flat_list = []\n",
    "for sublist in list(bi_g):\n",
    "    for i in range(len(sublist)):\n",
    "       sublist[i] = '_'.join(sublist[i])"
   ]
  },
  {
   "cell_type": "code",
   "execution_count": 39,
   "id": "db2784b7",
   "metadata": {},
   "outputs": [],
   "source": [
    "#freq = Counter(flat_list)\n",
    "#freq.most_common(10)"
   ]
  },
  {
   "cell_type": "code",
   "execution_count": 40,
   "id": "33bcc488",
   "metadata": {},
   "outputs": [],
   "source": [
    "id2word = corpora.Dictionary(list(bi_g))\n",
    "# Create Corpus\n",
    "texts = list(bi_g)\n",
    "# Term Document Frequency\n",
    "corpus = [id2word.doc2bow(text) for text in texts]\n"
   ]
  },
  {
   "cell_type": "code",
   "execution_count": 41,
   "id": "17eb5f4c",
   "metadata": {},
   "outputs": [],
   "source": [
    "#output_list = ['_'.join(i) for i in flat_list]"
   ]
  },
  {
   "cell_type": "code",
   "execution_count": 42,
   "id": "cd7e55d2",
   "metadata": {},
   "outputs": [
    {
     "name": "stdout",
     "output_type": "stream",
     "text": [
      "[(0,\n",
      "  '0.001*\"memory_care\" + 0.001*\"assisted_living\" + 0.001*\"nursing_home\" + '\n",
      "  '0.001*\"one_day\" + 0.001*\"long_term\" + 0.000*\"elder_law\" + '\n",
      "  '0.000*\"sounds_like\" + 0.000*\"even_though\" + 0.000*\"make_sure\" + '\n",
      "  '0.000*\"feel_like\"'),\n",
      " (1,\n",
      "  '0.000*\"memory_care\" + 0.000*\"sounds_like\" + 0.000*\"take_care\" + '\n",
      "  '0.000*\"good_luck\" + 0.000*\"make_sure\" + 0.000*\"nursing_home\" + '\n",
      "  '0.000*\"long_term\" + 0.000*\"geriatric_psychiatrist\" + 0.000*\"feel_like\" + '\n",
      "  '0.000*\"assisted_living\"'),\n",
      " (2,\n",
      "  '0.001*\"years_ago\" + 0.001*\"memory_care\" + 0.001*\"take_care\" + '\n",
      "  '0.001*\"make_sure\" + 0.001*\"nursing_home\" + 0.001*\"feel_like\" + '\n",
      "  '0.001*\"even_though\" + 0.001*\"sounds_like\" + 0.001*\"assisted_living\" + '\n",
      "  '0.001*\"go_home\"'),\n",
      " (3,\n",
      "  '0.001*\"take_care\" + 0.001*\"memory_care\" + 0.000*\"sounds_like\" + '\n",
      "  '0.000*\"feel_like\" + 0.000*\"nursing_home\" + 0.000*\"good_luck\" + '\n",
      "  '0.000*\"years_ago\" + 0.000*\"make_sure\" + 0.000*\"assisted_living\" + '\n",
      "  '0.000*\"loved_one\"'),\n",
      " (4,\n",
      "  '0.002*\"memory_care\" + 0.001*\"nursing_home\" + 0.001*\"years_ago\" + '\n",
      "  '0.001*\"care_facility\" + 0.001*\"take_care\" + 0.001*\"assisted_living\" + '\n",
      "  '0.001*\"feel_like\" + 0.001*\"go_home\" + 0.001*\"good_luck\" + '\n",
      "  '0.000*\"loved_one\"'),\n",
      " (5,\n",
      "  '0.001*\"loved_one\" + 0.001*\"assisted_living\" + 0.001*\"make_sure\" + '\n",
      "  '0.001*\"memory_care\" + 0.001*\"sounds_like\" + 0.001*\"good_luck\" + '\n",
      "  '0.000*\"family_members\" + 0.000*\"take_care\" + 0.000*\"every_day\" + '\n",
      "  '0.000*\"loved_ones\"'),\n",
      " (6,\n",
      "  '0.001*\"sounds_like\" + 0.001*\"years_ago\" + 0.001*\"elder_law\" + '\n",
      "  '0.001*\"good_luck\" + 0.000*\"one_day\" + 0.000*\"even_though\" + '\n",
      "  '0.000*\"full_time\" + 0.000*\"take_care\" + 0.000*\"go_home\" + '\n",
      "  '0.000*\"make_sure\"'),\n",
      " (7,\n",
      "  '0.001*\"memory_care\" + 0.001*\"sounds_like\" + 0.001*\"take_care\" + '\n",
      "  '0.001*\"good_luck\" + 0.001*\"assisted_living\" + 0.001*\"every_day\" + '\n",
      "  '0.001*\"even_though\" + 0.000*\"years_ago\" + 0.000*\"nursing_home\" + '\n",
      "  '0.000*\"make_sure\"'),\n",
      " (8,\n",
      "  '0.001*\"take_care\" + 0.001*\"make_sure\" + 0.001*\"memory_care\" + '\n",
      "  '0.001*\"quality_life\" + 0.001*\"good_luck\" + 0.001*\"years_ago\" + '\n",
      "  '0.001*\"assisted_living\" + 0.001*\"let_go\" + 0.001*\"sounds_like\" + '\n",
      "  '0.000*\"us_know\"'),\n",
      " (9,\n",
      "  '0.001*\"sounds_like\" + 0.001*\"nursing_home\" + 0.001*\"take_care\" + '\n",
      "  '0.001*\"make_sure\" + 0.000*\"memory_care\" + 0.000*\"even_though\" + '\n",
      "  '0.000*\"feel_like\" + 0.000*\"assisted_living\" + 0.000*\"alzheimer_disease\" + '\n",
      "  '0.000*\"years_ago\"')]\n"
     ]
    },
    {
     "name": "stderr",
     "output_type": "stream",
     "text": [
      "/opt/anaconda3/lib/python3.8/site-packages/pyLDAvis/_prepare.py:246: FutureWarning: In a future version of pandas all arguments of DataFrame.drop except for the argument 'labels' will be keyword-only\n",
      "  default_term_info = default_term_info.sort_values(\n"
     ]
    },
    {
     "data": {
      "text/html": [
       "\n",
       "<link rel=\"stylesheet\" type=\"text/css\" href=\"https://cdn.jsdelivr.net/gh/bmabey/pyLDAvis@3.3.1/pyLDAvis/js/ldavis.v1.0.0.css\">\n",
       "\n",
       "\n",
       "<div id=\"ldavis_el19211140519317857776311645617\"></div>\n",
       "<script type=\"text/javascript\">\n",
       "\n",
       "var ldavis_el19211140519317857776311645617_data = {\"mdsDat\": {\"x\": [0.05717384998620089, 0.045357702740665105, 0.0180431557985889, -0.004452300333859052, -0.017060888704925066, -0.014022691808838448, -0.013429769784532211, -0.015684996183932157, -0.02121064282007721, -0.034713418889290706], \"y\": [0.05668098666545798, -0.05718116744899653, -0.014517584746445959, -0.0018452169181956027, -0.001076267451794494, 0.0044076631430213925, 0.003271357632816271, -0.00038328129347016285, 0.0042586370775707085, 0.006384873340036335], \"topics\": [1, 2, 3, 4, 5, 6, 7, 8, 9, 10], \"cluster\": [1, 1, 1, 1, 1, 1, 1, 1, 1, 1], \"Freq\": [16.707124120198927, 16.428582600869976, 13.024236256633213, 10.444813719131668, 9.015933178206351, 8.186098092297424, 8.128751558071029, 7.73910111087615, 6.846862750670566, 3.478496613044709]}, \"tinfo\": {\"Term\": [\"memory_care\", \"sounds_like\", \"one_day\", \"nursing_home\", \"elder_law\", \"assisted_living\", \"welcome_world\", \"loved_one\", \"wishes_greg\", \"alzheimer_disease\", \"hearing_aid\", \"missher_wrote\", \"care_facility\", \"take_care\", \"younger_brother\", \"good_luck\", \"law_attorney\", \"long_term\", \"years_ago\", \"thank_much\", \"sorry_loss\", \"first_facility\", \"thank_sharing\", \"truly_believes\", \"skilled_nursing\", \"version_niv\", \"https_youtube\", \"dementia_truly\", \"naomi_feil\", \"high_road\", \"anymore_dad\", \"close_could\", \"drive_work\", \"nose_dive\", \"road_map\", \"amazing_daughter\", \"site_helpful\", \"happy_moments\", \"psych_staff\", \"heart_smile\", \"baking_soda\", \"never_noticed\", \"well_fact\", \"longer_stay\", \"teeth_etc\", \"best_speak\", \"along_fine\", \"three_working\", \"dad_moderate\", \"digestive_system\", \"pull_away\", \"brother_let\", \"absolutely_want\", \"assist_mom\", \"attack_others\", \"ask_visit\", \"hearing_test\", \"wrote_missher\", \"seemed_think\", \"disease_continue\", \"health_aid\", \"care_trying\", \"fortunate_enough\", \"fall_alert\", \"mean_well\", \"blood_clots\", \"thick_skin\", \"good_sign\", \"help_problem\", \"uti_cause\", \"neurologist_sees\", \"feelings_behind\", \"make_new\", \"one_small\", \"part_practice\", \"patients_routine\", \"sees_dementia\", \"routine_part\", \"geriatric_case\", \"primary_md\", \"talk_person\", \"dementia_specialist\", \"one_type\", \"psych_unit\", \"type_dementia\", \"missher_wrote\", \"quality_life\", \"take_care\", \"things_even\", \"good_neurologist\", \"things_going\", \"family_dynamics\", \"let_go\", \"highly_educated\", \"consultants_highly\", \"let_us\", \"us_know\", \"specialize_dementia\", \"educated_social\", \"one_thing\", \"wishes_greg\", \"make_sure\", \"medical_care\", \"workers_specialize\", \"good_luck\", \"power_attorney\", \"one_another\", \"long_term\", \"social_workers\", \"years_ago\", \"assisted_living\", \"memory_care\", \"even_though\", \"social_worker\", \"sounds_like\", \"many_times\", \"geriatric_psychiatrist\", \"side_effects\", \"every_day\", \"elder_law\", \"feel_like\", \"taking_care\", \"care_needs\", \"loved_one\", \"someone_else\", \"go_home\", \"loved_ones\", \"care_facility\", \"good_conversations\", \"truly_feel\", \"stage_non\", \"make_stop\", \"read_reply\", \"hear_better\", \"give_give\", \"experience_much\", \"know_alz\", \"plus_person\", \"god_please\", \"either_parent\", \"agree_take\", \"local_caregivers\", \"rock_solid\", \"gained_pounds\", \"money_living\", \"changed_phone\", \"one_predict\", \"nowi_think\", \"see_thing\", \"characteristic_dementias\", \"wife_stage\", \"keeps_track\", \"thing_asked\", \"better_great\", \"time_therei\", \"easier_say\", \"getting_stuff\", \"certainly_hope\", \"sales_people\", \"morning_still\", \"psychiatrist_neurologist\", \"need_continue\", \"also_glad\", \"best_right\", \"exelon_patch\", \"young_man\", \"needs_step\", \"people_board\", \"go_feel\", \"post_many\", \"one_feels\", \"maybe_want\", \"new_people\", \"think_sometimes\", \"years_ago\", \"started_looking\", \"help_line\", \"wishes_good\", \"director_nursing\", \"process_mom\", \"last_week\", \"want_go\", \"feil_validation\", \"like_mine\", \"make_sure\", \"thanks_everyone\", \"one_day\", \"roller_coaster\", \"take_care\", \"memory_care\", \"go_home\", \"first_thing\", \"nursing_home\", \"feel_like\", \"every_day\", \"even_though\", \"vascular_dementia\", \"long_time\", \"loved_one\", \"year_old\", \"assisted_living\", \"good_luck\", \"get_mom\", \"sounds_like\", \"would_like\", \"taking_care\", \"naomi_feil\", \"think_would\", \"long_term\", \"able_get\", \"full_time\", \"months_ago\", \"first_time\", \"loved_ones\", \"geriatric_psychiatrist\", \"elder_law\", \"go_back\", \"care_facility\", \"family_members\", \"really_cause\", \"posts_get\", \"first_facility\", \"speak_mother\", \"give_needy\", \"erase_board\", \"bring_us\", \"family_sometimes\", \"wheelchair_transport\", \"place_better\", \"friend_years\", \"brothers_sister\", \"one_poa\", \"understand_post\", \"said_patient\", \"see_went\", \"like_god\", \"poa_hippa\", \"kind_work\", \"open_arms\", \"highly_experienced\", \"sense_keep\", \"certain_extent\", \"making_way\", \"bare_minimum\", \"stage_memory\", \"one_credit\", \"dr_going\", \"sending_lots\", \"mom_surgery\", \"oh_good\", \"child_adult\", \"working_day\", \"al_community\", \"said_needs\", \"take_places\", \"course_mom\", \"also_nice\", \"medicaid_pending\", \"andy_griffith\", \"next_move\", \"dry_erase\", \"provide_support\", \"contact_information\", \"much_hurts\", \"day_month\", \"tell_love\", \"worse_better\", \"really_big\", \"younger_brother\", \"everyone_responded\", \"mc_snf\", \"full_year\", \"mother_al\", \"waiver_program\", \"memory_care\", \"go_let\", \"skilled_nursing\", \"care_facility\", \"al_mc\", \"nursing_home\", \"level_care\", \"need_memory\", \"short_term\", \"go_home\", \"memory_issues\", \"years_ago\", \"feel_like\", \"geri_psych\", \"home_care\", \"social_worker\", \"every_day\", \"assisted_living\", \"take_care\", \"good_luck\", \"loved_one\", \"long_term\", \"taking_care\", \"would_like\", \"term_memory\", \"able_get\", \"let_go\", \"mom_would\", \"sounds_like\", \"would_take\", \"family_members\", \"even_though\", \"make_sure\", \"year_old\", \"let_us\", \"many_elderly\", \"see_positive\", \"remember_remember\", \"hospital_beds\", \"highest_level\", \"easter_bunny\", \"may_dad\", \"lot_success\", \"seem_reasonable\", \"fast_mom\", \"got_easier\", \"board_may\", \"care_hard\", \"excellent_article\", \"room_memory\", \"situation_nothing\", \"hospital_last\", \"give_dh\", \"know_plenty\", \"used_living\", \"snf_mc\", \"use_medication\", \"sounds_bad\", \"try_cover\", \"great_thread\", \"become_interested\", \"awhile_still\", \"issues_called\", \"welcome_world\", \"especially_appreciate\", \"retirement_accounts\", \"said_stop\", \"charge_nurse\", \"anyone_even\", \"tell_little\", \"dad_hospice\", \"held_liable\", \"goal_make\", \"may_order\", \"place_hope\", \"idea_go\", \"mind_pretty\", \"baby_doll\", \"like_facility\", \"like_wonderful\", \"sounds_like\", \"care_option\", \"memory_care\", \"hearing_aid\", \"care_coordinator\", \"thank_much\", \"different_kind\", \"hearing_aids\", \"every_day\", \"good_luck\", \"take_care\", \"even_though\", \"assisted_living\", \"social_worker\", \"care_mom\", \"alzheimer_disease\", \"loved_one\", \"nursing_home\", \"wishes_greg\", \"three_years\", \"need_help\", \"years_ago\", \"mom_would\", \"care_facility\", \"make_sure\", \"someone_else\", \"best_wishes\", \"taking_care\", \"months_ago\", \"could_get\", \"go_home\", \"year_old\", \"last_year\", \"pretty_much\", \"feel_like\", \"long_term\", \"loved_ones\", \"mc_nh\", \"resist_become\", \"old_brain\", \"sippy_cup\", \"matter_think\", \"free_could\", \"suffered_stroke\", \"forgetting_eat\", \"go_testing\", \"absolutely_refused\", \"protective_underwear\", \"remember_reading\", \"idea_dealing\", \"family_event\", \"week_good\", \"safety_happiness\", \"knowledgeable_willing\", \"medication_needs\", \"fine_sees\", \"low_dosage\", \"really_main\", \"much_eating\", \"angry_like\", \"bring_great\", \"wow_lot\", \"list_current\", \"bed_bedroom\", \"appointments_even\", \"dementia_suppose\", \"many_women\", \"take_bank\", \"recently_last\", \"sisters_live\", \"take_personal\", \"anosognosia_characteristic\", \"dementia_truly\", \"actually_need\", \"doctors_medications\", \"sees_need\", \"best_loved\", \"see_reality\", \"say_received\", \"yes_want\", \"believes_fine\", \"several_issues\", \"health_proxy\", \"husband_stayed\", \"part_family\", \"truly_believes\", \"medications_changes\", \"loved_one\", \"get_relief\", \"assisted_living\", \"like_yesterday\", \"make_sure\", \"say_brother\", \"trying_kill\", \"family_members\", \"support_group\", \"good_luck\", \"become_upset\", \"loved_ones\", \"sounds_like\", \"every_day\", \"memory_care\", \"hard_time\", \"mother_law\", \"family_member\", \"feel_like\", \"take_care\", \"nursing_home\", \"health_care\", \"would_like\", \"full_time\", \"much_better\", \"even_though\", \"good_idea\", \"right_thing\", \"taking_care\", \"years_old\", \"year_old\", \"elder_law\", \"one_day\", \"years_ago\", \"able_get\", \"mom_would\", \"go_home\", \"gets_care\", \"book_naomi\", \"cover_bills\", \"high_road\", \"take_high\", \"experience_area\", \"years_living\", \"thyroid_problems\", \"caught_guard\", \"title_easy\", \"says_even\", \"mom_dearly\", \"really_push\", \"thisi_would\", \"one_grown\", \"advice_vent\", \"opinion_whether\", \"living_good\", \"point_thought\", \"ran_much\", \"library_ask\", \"sometimes_possible\", \"information_forum\", \"ask_book\", \"go_visits\", \"helpful_post\", \"us_part\", \"patrick_day\", \"feeling_lost\", \"also_wrote\", \"husbands_mom\", \"step_parent\", \"facilities_specialize\", \"remember_feeling\", \"issue_many\", \"information_one\", \"version_niv\", \"point_contact\", \"ok_good\", \"niv_god\", \"many_links\", \"daughter_wrote\", \"since_february\", \"still_miss\", \"know_went\", \"try_accept\", \"days_feel\", \"irrevocable_trust\", \"validation_title\", \"father_care\", \"truly_blessed\", \"caregiving_daughter\", \"elder_law\", \"one_day\", \"full_time\", \"sounds_like\", \"good_luck\", \"years_ago\", \"go_home\", \"even_though\", \"glad_found\", \"law_attorney\", \"lewy_body\", \"long_term\", \"make_sure\", \"feel_like\", \"take_care\", \"nursing_home\", \"term_care\", \"pretty_much\", \"us_know\", \"loved_ones\", \"going_get\", \"family_members\", \"body_dementia\", \"taking_care\", \"year_old\", \"last_years\", \"passed_away\", \"elder_care\", \"go_back\", \"memory_care\", \"loved_one\", \"many_times\", \"let_know\", \"social_worker\", \"every_day\", \"care_facility\", \"precious_memories\", \"done_really\", \"wonderful_life\", \"approved_medicaid\", \"day_prior\", \"refuse_accept\", \"guilt_know\", \"sense_guilt\", \"given_mother\", \"thoughts_family\", \"tooi_know\", \"upset_said\", \"term_disability\", \"thanks_responding\", \"wonderful_resource\", \"god_want\", \"care_easy\", \"way_easier\", \"support_getting\", \"dementia_deal\", \"wise_words\", \"mentioned_getting\", \"specialized_care\", \"enjoy_little\", \"would_knowledgeable\", \"behaviors_toward\", \"appointment_lo\", \"know_order\", \"room_everyone\", \"current_events\", \"far_disease\", \"days_family\", \"cover_skilled\", \"mom_baby\", \"honor_mom\", \"know_stay\", \"change_care\", \"needs_different\", \"great_source\", \"time_full\", \"go_town\", \"available_time\", \"family_got\", \"house_insurance\", \"variety_things\", \"day_often\", \"care_provider\", \"alzheimer_disease\", \"home_something\", \"move_father\", \"cataract_surgery\", \"appointment_neurologist\", \"sounds_like\", \"thank_kind\", \"nursing_home\", \"home_care\", \"make_sure\", \"even_though\", \"take_care\", \"feel_like\", \"family_members\", \"power_attorney\", \"full_time\", \"early_stages\", \"loved_ones\", \"come_back\", \"short_term\", \"assisted_living\", \"right_thing\", \"memory_care\", \"would_get\", \"let_know\", \"long_term\", \"able_get\", \"would_go\", \"one_thing\", \"years_ago\", \"first_time\", \"things_like\", \"loved_one\", \"go_home\", \"care_facility\", \"months_ago\", \"year_old\", \"every_day\", \"every_visit\", \"trust_one\", \"https_youtube\", \"cover_mirrors\", \"journey_together\", \"great_post\", \"kids_still\", \"longer_see\", \"facility_spend\", \"hang_walls\", \"sister_calls\", \"helps_see\", \"watching_old\", \"transport_chair\", \"post_seriously\", \"care_god\", \"week_appointment\", \"thanks_laugh\", \"bills_food\", \"classic_symptoms\", \"forget_let\", \"year_getting\", \"changes_one\", \"far_behind\", \"post_hope\", \"world_glad\", \"find_facilities\", \"becomes_available\", \"money_use\", \"better_health\", \"coming_sure\", \"still_long\", \"care_wing\", \"home_pretty\", \"hoping_keep\", \"attorney_wwwnelforg\", \"alz_could\", \"mom_none\", \"understand_well\", \"office_visits\", \"think_went\", \"sooooo_much\", \"heart_prayers\", \"thanks_suggestion\", \"world_may\", \"need_bit\", \"thanks_update\", \"yesterday_said\", \"show_respect\", \"caregiver_agreement\", \"make_appt\", \"memory_care\", \"one_day\", \"assisted_living\", \"elder_law\", \"nursing_home\", \"long_term\", \"law_attorney\", \"year_old\", \"early_onset\", \"even_though\", \"feel_like\", \"sounds_like\", \"make_sure\", \"thank_much\", \"loved_one\", \"years_ago\", \"would_like\", \"care_facility\", \"go_home\", \"quality_life\", \"loved_ones\", \"family_members\", \"social_worker\", \"pretty_much\", \"take_care\", \"every_day\", \"home_care\", \"us_know\", \"short_term\", \"taking_care\", \"good_luck\", \"prescription_coverage\", \"jjaz_wrote\", \"peaceful_passing\", \"mom_side\", \"financial_stress\", \"enjoy_vacation\", \"call_came\", \"day_watching\", \"wife_one\", \"much_comments\", \"mother_adjust\", \"thoughtful_loving\", \"work_patients\", \"much_caregiving\", \"support_try\", \"funny_things\", \"mother_easy\", \"books_read\", \"eyes_see\", \"look_solutions\", \"sort_plan\", \"bother_others\", \"life_great\", \"air_force\", \"stigma_attached\", \"totally_normal\", \"loss_glad\", \"high_tailed\", \"else_experiencing\", \"suspect_something\", \"like_charm\", \"bed_toilet\", \"life_together\", \"wear_hearing\", \"best_whatever\", \"soon_started\", \"said_put\", \"another_level\", \"short_long\", \"increased_mg\", \"long_day\", \"room_checks\", \"always_seems\", \"mil_still\", \"need_level\", \"fully_vaccinated\", \"take_care\", \"thank_sharing\", \"like_oh\", \"sorry_loss\", \"yes_think\", \"memory_care\", \"feel_like\", \"sounds_like\", \"nursing_home\", \"good_luck\", \"god_bless\", \"make_sure\", \"years_ago\", \"may_able\", \"let_go\", \"go_back\", \"assisted_living\", \"things_like\", \"loved_one\", \"loved_ones\", \"many_people\", \"even_though\", \"long_time\", \"someone_else\", \"seems_like\", \"care_mom\", \"care_facility\", \"long_term\", \"every_day\", \"person_dementia\", \"taking_care\", \"elder_law\", \"home_care\", \"social_worker\", \"full_time\", \"pwd_family\", \"think_given\", \"visit_friend\", \"doi_think\", \"thoughtful_response\", \"dentist_appointment\", \"better_need\", \"issue_take\", \"days_er\", \"mil_matter\", \"meeting_director\", \"time_choices\", \"care_gave\", \"become_guardian\", \"insurance_plan\", \"forgotten_name\", \"nursing_needs\", \"poa_handling\", \"dementia_nursing\", \"sheriff_office\", \"awake_would\", \"aware_point\", \"go_probate\", \"see_posted\", \"lost_awareness\", \"led_believe\", \"though_thought\", \"know_denial\", \"caregiver_nurse\", \"deal_mention\", \"rep_payee\", \"old_ladies\", \"would_everything\", \"get_trouble\", \"https_pmc\", \"understand_everyone\", \"help_evaluate\", \"supply_store\", \"regarding_mother\", \"great_good\", \"would_focus\", \"may_seen\", \"changes_day\", \"learning_let\", \"foster_home\", \"consider_placing\", \"memory_care\", \"sounds_like\", \"good_luck\", \"take_care\", \"geriatric_psychiatrist\", \"make_sure\", \"long_term\", \"nursing_home\", \"term_care\", \"feel_like\", \"one_day\", \"assisted_living\", \"let_go\", \"years_ago\", \"health_care\", \"loved_one\", \"someone_else\", \"care_mom\", \"geriatric_care\", \"taking_care\", \"may_want\", \"pretty_much\", \"months_ago\", \"even_though\", \"things_like\", \"full_time\", \"social_worker\", \"every_day\", \"year_old\", \"family_members\", \"elder_law\"], \"Freq\": [2438.0, 1578.0, 756.0, 1294.0, 716.0, 1387.0, 63.0, 1178.0, 113.0, 338.0, 191.0, 67.0, 799.0, 1888.0, 93.0, 1227.0, 555.0, 950.0, 1571.0, 438.0, 178.0, 37.0, 147.0, 55.0, 442.0, 33.0, 28.0, 36.0, 145.0, 28.0, 26.164136842234686, 24.03597901304519, 21.33108656166144, 22.775715793303085, 21.54359918070561, 19.24856102899961, 28.55084900956995, 16.8497637268557, 16.768374661176953, 16.46005556674955, 23.32962152256194, 22.578969926065028, 15.987137446015238, 21.49140815757536, 14.459844681538652, 13.87955110981072, 13.637114001939024, 16.019220563588576, 13.336608984263059, 14.12661294037547, 13.190151997924627, 33.148572115919144, 12.887268505918408, 18.08134506324757, 12.559292348690597, 13.685304791282757, 26.03066826930186, 12.197722830309353, 21.811849027742152, 11.324571840384616, 16.59391603833291, 32.81198852613516, 27.038359181112604, 18.078553980175496, 20.778189254539928, 25.648027029576827, 22.431913940163184, 17.993073874925354, 18.147472384730843, 20.067465120962755, 69.41491147005996, 26.940081832530293, 46.37024805895233, 28.608716190797118, 65.56650495586157, 65.48574834450909, 66.07869418893017, 66.55853744557447, 30.540330474409608, 39.821529209712764, 25.267276780494807, 141.59763424192124, 64.21080326312759, 121.80765726179351, 137.83215730557663, 48.01605671045165, 252.24287091615517, 526.1308332049997, 65.59674806147815, 55.88827146738807, 151.39968858695514, 110.8125104884849, 227.0580744638416, 86.59130041895791, 78.38125946676021, 191.26021649164755, 209.1473375395424, 82.63714499247399, 80.60645363213867, 181.23682543559676, 64.85688801562634, 326.03140956015426, 101.95590685860488, 77.1225383522771, 252.07634903752634, 141.36805172840374, 100.4479509470557, 196.13321813139973, 107.31374129391784, 245.94251704014755, 230.9604419174334, 301.82331375766455, 207.6376802143397, 157.19857787101353, 223.4022399369447, 129.77840426074349, 133.90191725527876, 118.37733969818584, 174.6563309339853, 150.16255057376225, 174.35186073036962, 145.03127816480657, 124.40286747663092, 158.94143719645734, 128.89282801258778, 136.53766827035483, 131.04016497939412, 131.306222742922, 22.749469067055095, 24.91337448535941, 19.249993834339655, 16.250856973420547, 15.696727299938077, 15.367841848723739, 17.004604102781624, 15.259151712871642, 15.799397283993919, 14.257942351113293, 14.256700097568034, 14.192648063572378, 22.041002314397318, 14.473660540835748, 36.93294043293753, 13.091368364363936, 12.651165716521458, 17.391710985601385, 14.478369512030008, 12.89705750859197, 12.77029046884893, 20.60840356891456, 12.124954634064977, 14.894408526914576, 14.064753909799308, 18.36893529813973, 11.755991232406867, 20.299954990022353, 11.691672106066362, 14.494816447681554, 17.139896949485664, 18.005869859404573, 25.540519843261208, 28.113059317423055, 38.31719938031233, 31.399789622999773, 28.62963001108064, 46.850907888452355, 34.254616724974596, 34.70442216503957, 25.758868226807735, 17.1287699293949, 28.274831119581716, 16.82789706064755, 37.07526853900065, 28.749860729363913, 527.0848519564325, 29.999116636977774, 48.11104173883832, 63.93353585293476, 42.64311785590876, 26.798238113613387, 163.12579272898537, 153.57421957574124, 37.67593650797185, 35.183242762942236, 357.6134213370934, 56.57135546374697, 216.20477714643272, 51.058572599074616, 392.42689863808096, 460.44291513441385, 244.87201626610678, 78.24155214424252, 288.6467879386462, 263.0171266127375, 236.75278494840666, 256.0056658865091, 109.82042679283374, 150.2363328618745, 242.20559187457488, 183.90866634373813, 252.00952578081657, 229.52546974486634, 104.39970854462403, 254.60920371704407, 149.05725409716166, 164.02745888862526, 67.3232243829864, 107.51882704650775, 177.6205888118547, 132.63780154296563, 153.9813027728222, 131.38144928155603, 122.7598399777898, 147.0972317796335, 123.7247310467445, 139.9106462005279, 121.75035936922316, 126.11633699697516, 124.3566918994737, 23.798456104749512, 21.820678771833744, 36.1104407868409, 23.828984673342003, 17.755093590984817, 15.598901351994103, 15.340869002102709, 12.281689592096871, 12.048271847587591, 12.489112972062605, 11.234783977857408, 15.630660650855699, 22.464123433515258, 10.615044845314833, 11.736043899095282, 10.003661886955586, 11.442375015327007, 9.823912551340625, 9.779939713799392, 9.76468039713289, 10.241446798963663, 13.405427051773767, 10.18925005038104, 9.876064591255552, 11.947040246754476, 11.370985208274256, 9.929062370134416, 9.17159259816752, 19.73156816300019, 14.210245165693026, 25.404451059985586, 12.522537668795918, 22.010742769658652, 24.51755031598936, 16.676234940323738, 14.22873219978577, 22.520496095851534, 14.142325248016544, 12.923708544041824, 19.871174703606634, 29.539322256690628, 15.162682606995993, 21.815544726493194, 28.194582401142444, 19.539934394176143, 20.035861564883703, 26.765350615091393, 24.211474776935145, 17.671796375435413, 60.30170972979184, 18.55898772577167, 22.81977094978605, 17.69245550563377, 18.776034646459202, 28.99935083876426, 587.2632133493523, 31.267309779367935, 152.02342920965611, 217.91231159473574, 128.81408680007667, 275.40362453782956, 138.81913155096228, 27.111162224468828, 143.12258919829353, 188.86914377781346, 88.79371902660398, 234.12234317692585, 192.65940553153914, 91.65233162759841, 121.93855937065135, 132.91625609017618, 165.0288130381359, 193.80939194678396, 216.23070931479415, 172.65440288262593, 168.4755532597962, 150.9823431736619, 133.39422155363644, 115.81815140337022, 88.88176529618877, 103.01912291446119, 112.77631274689367, 95.19030733713922, 155.5734861947346, 81.49456703548933, 109.66485772718302, 131.3500518491905, 145.23064262124885, 108.38996522965203, 95.449001623694, 17.902284076369867, 14.293683299531793, 13.626111766077882, 11.84331494028555, 11.186510625374426, 14.287961565138277, 10.368996784450939, 10.263914069766875, 10.091848718592653, 9.785015358507534, 9.627573545383791, 9.652311954539677, 17.18232954166941, 8.989588707078392, 9.391604040053675, 8.921706727479904, 13.80803802103456, 8.911567953567634, 8.68121759975157, 8.420205920428314, 12.535177701216897, 9.178017521452873, 8.043144121870709, 9.932052478992622, 7.877077379269533, 10.435890781365638, 9.870266711095217, 9.293826620717994, 57.21213710707111, 7.650840798110113, 11.698702958747061, 22.791214800171183, 31.845237506957663, 17.40338269956494, 15.642912091335612, 12.475975428361577, 15.90372458060165, 14.024043702880247, 12.80253258791218, 15.739093002362711, 19.964399143693846, 16.31241875619537, 13.533383814692613, 15.908974234559565, 20.19125869175721, 327.13575886120043, 17.947320948306302, 379.1816030493004, 67.43898091123988, 27.545337677050163, 105.43229323447666, 20.14500078477004, 77.5759939834056, 143.67194788527306, 158.20314939282983, 190.2996950354735, 137.24856253141348, 148.5565342739265, 98.7275877790104, 83.37677495922767, 68.39118906075309, 126.32200787805905, 130.28613701231944, 38.251426783177834, 43.740981262202915, 77.18224304590419, 132.76869050101058, 75.79337045296303, 94.48843294895136, 127.86934014531631, 79.4134027471847, 62.997580448487604, 86.40306153090124, 73.37956940442042, 66.32056061038372, 92.4052555249774, 78.88908671097965, 67.09019912105545, 62.755237857276875, 80.36458307600269, 69.86066191844594, 64.83175436573754, 19.93299595195097, 13.39061653297762, 11.085150925642338, 10.005967728054245, 9.800286741458724, 9.21474496125156, 9.053801117359844, 8.870008988721617, 9.369793832478683, 8.226548263875953, 9.802687887536047, 9.075123432078701, 8.663127858938145, 7.8841721717549795, 15.007008237012343, 8.83905715835217, 7.484423045399768, 7.432515133118105, 12.8789712483746, 13.415554751885956, 7.332642758986816, 10.34240242363373, 8.015495862783077, 7.031087869583182, 9.295350566768853, 9.031915698208248, 6.920327806767233, 8.753203935342583, 6.896952525047787, 6.884096549952804, 11.295020377575748, 8.78562757454997, 12.298447545379515, 19.848413367646103, 22.042226971938, 29.59305507473289, 10.993418204593791, 11.563109669646066, 11.87486749555012, 16.332695343316146, 15.293103115707599, 15.882048453852509, 13.549895135210983, 26.56661376365405, 11.6793602156066, 18.001281240206733, 12.781651327771264, 14.327897413514897, 30.59280529954607, 11.229255797741528, 215.85606189219047, 18.726693862999724, 192.52505823488806, 14.608560698613116, 171.01076187162855, 18.15289818334912, 19.447132253353264, 100.67002574534007, 67.84855110696613, 120.47275285991024, 17.721567065480645, 85.53613073634907, 120.51247794331194, 94.40115861501984, 141.82172520052262, 44.153996911468845, 39.55530956447935, 56.355581037701185, 82.99830588782768, 99.57435347443904, 83.94981654633555, 53.00458868382726, 60.2379032596842, 63.67833894971447, 50.51221796899733, 74.04295433874236, 48.546710113677214, 51.376063153893746, 60.74617937440644, 42.006490264681034, 54.90882046044803, 52.66524389892743, 52.92061648753346, 61.792532294013576, 45.399425731630664, 43.42530710684744, 45.91633668745588, 13.802498873538493, 25.061273588346275, 12.637605050857566, 26.228299938335404, 16.064685715459706, 11.560626461776888, 12.708178278891781, 17.704683517427725, 14.99951642566374, 12.019303267857108, 9.554628586809146, 7.811476411183011, 7.704803991925305, 7.748584028212026, 7.520468393849918, 7.377984815058593, 7.506349377030438, 7.199721299681058, 7.182462815499351, 7.0335644821623315, 15.178959387879745, 6.9674530133132215, 10.143370044347769, 9.458621145813524, 6.6799286963375675, 6.696789868513463, 6.630260792742723, 14.189201321819407, 12.15498961099695, 6.411078824208731, 13.619201438464538, 9.583489518248967, 7.91566036153202, 17.755208490929018, 17.381850730371777, 17.309194931745218, 25.602256425524264, 18.74691174661309, 14.352038359454605, 11.037357183239127, 9.384864738290707, 15.389592513412468, 12.939036068610303, 12.934352626498578, 17.007754547108256, 12.721537797515477, 15.973522514754977, 18.54162242852985, 16.89031099156727, 19.380709478413877, 20.320145520131103, 17.813935732715308, 115.21959495358274, 101.74732402219462, 97.31833644269432, 140.32082142543678, 110.2162300335005, 121.41276648608556, 93.04101120795065, 99.32023318351956, 55.836127992365235, 69.04951697758565, 33.387849793876825, 80.38227290513761, 91.62934682040293, 78.25633988342544, 95.5289618157202, 79.36521037156591, 50.343817960408366, 50.88343791593185, 57.04470584076959, 59.05731829714646, 43.338659335227334, 56.39343262530259, 26.91745283360204, 55.39356144657566, 54.578024304776754, 39.51204359095816, 41.48878088075921, 37.06314352351617, 47.33349807556019, 62.26836114401894, 53.70659808711126, 43.974118127830415, 44.68011268093081, 46.85424144426737, 49.30659476969307, 46.94235884645211, 12.682091527193023, 10.73210284226108, 10.174343908709524, 12.49269372598059, 14.127167195671612, 9.422466781520772, 9.388352838762357, 9.0915238666374, 8.844213283748656, 8.833769512397051, 8.572591517214143, 8.345125960146623, 14.153936238821313, 7.948866455961103, 7.573825464522372, 7.5779854556789745, 7.326106401041206, 7.318228228856426, 7.477022540067711, 8.096634891598944, 7.1119889355905785, 9.637700398874792, 8.114987839354868, 6.594816850731629, 6.873479675523379, 6.505362701413125, 8.282477283935778, 6.194351236612943, 6.284836663783851, 8.634527096375598, 12.122535124013712, 9.338927462184762, 11.64751637603956, 17.78255692822774, 8.654124863546, 14.942179765317967, 10.527018456173048, 12.849678635065478, 9.374008736592783, 13.712612876641803, 14.69968026219614, 12.820768750556631, 11.857590891262342, 9.447653834368511, 12.181545455061693, 16.733147808235994, 22.845293294505833, 77.57568251112046, 15.163675459913312, 11.307593864072297, 13.065060297567795, 19.086671912573696, 143.193235973175, 26.176047145538245, 124.31007885807519, 75.52651442830621, 118.39978169247902, 100.53033233857217, 122.23406112114044, 91.83184431239376, 74.35937918630412, 57.85278851150317, 71.16240389194822, 43.198281397174895, 69.2742717254179, 45.2903779223624, 60.553590878893694, 87.88466611870417, 53.15556243957762, 103.19704246615795, 49.892994618365655, 53.41359815711028, 67.1656747545919, 53.81533223136085, 41.40181010528875, 52.21175059091268, 76.97697242929672, 49.76441701951678, 50.76739111990543, 64.91678989119725, 58.6816615174943, 54.51615160981329, 47.80263742989427, 44.0368742259914, 44.04858451971116, 19.01046894829117, 17.29083223464223, 26.414289272656433, 10.172012985952442, 10.085733239480804, 10.064062572561372, 8.558034610115612, 8.466784764151283, 8.112837671326192, 7.469021240560847, 7.299127964316472, 6.664042230967316, 8.273803217256896, 24.157574826211246, 6.388585074629476, 6.327415584347564, 6.282627128741044, 6.224115737697837, 6.51579157950715, 6.226510388455638, 6.171507216118927, 6.167023426287065, 7.16127725526915, 12.001979266780785, 6.061121564669078, 16.468955624724476, 6.354710175280923, 5.9283125363543565, 5.818801356752887, 7.219582758003751, 7.411883176192607, 14.823333913142049, 12.71614160760408, 8.384962241278139, 10.090000071740157, 11.456852703224804, 6.856279185376458, 8.68759665435196, 16.627814320758873, 8.43523293432062, 11.888340727645147, 8.429373603961011, 11.57257373987616, 10.728867065638763, 17.554708727084183, 9.518986927619348, 16.785969011609, 10.112829321614825, 11.954405046425206, 14.872348613706942, 10.854179250487078, 243.97913931069073, 113.98671028655737, 158.78802985363512, 96.32727303982898, 128.2670289137453, 106.89513175838327, 75.30880714959413, 83.24187997512676, 44.6879466902758, 93.26883247147605, 85.44165855575768, 95.33043712055365, 88.31078224151923, 51.021879857209775, 76.81443957034307, 83.5607751368749, 56.019820762471255, 61.123819974947224, 63.74285504338507, 51.63048274564517, 54.84593565681338, 53.59169064701949, 51.90553771872784, 43.643282695526054, 67.72124885164486, 55.27802068353359, 46.48200575490291, 45.86777082499339, 44.12393965225501, 46.10147988354355, 46.97644763494641, 21.341825980923772, 10.43838385072462, 12.989886537622041, 10.030751611018816, 11.442957942518131, 9.074272047876192, 8.087695700921806, 8.032234155447737, 8.57321827872341, 7.780784108713601, 7.558194957556002, 7.93694345113681, 10.744717650493216, 7.996063695855573, 7.209156094208778, 6.869978874703647, 6.787897093147651, 8.430955987000154, 7.811239319699762, 6.511737769055576, 6.332336807358307, 6.131324449801326, 6.08137053937869, 7.674691623709697, 6.30087617223995, 5.8642374463202875, 6.1169259927809, 5.651879465017004, 5.531862508654996, 5.530445774650538, 12.23600646584508, 6.39883190337401, 10.657879690493683, 11.943100301223804, 12.071380668781403, 10.057340509205714, 13.205389407266097, 13.005043632851306, 11.458830586350569, 14.349739651110523, 12.79390325934448, 12.863016375340772, 9.056100638868779, 15.6849598733602, 11.031517495693432, 10.025630476672747, 145.5565730326156, 35.20213952768308, 13.247818305644776, 37.12944357541808, 13.952621928059928, 117.497802217255, 75.7183242602546, 84.15000428320451, 75.47257771041585, 71.4219719734664, 29.446778416041816, 70.05714919212448, 70.66197578917618, 39.81236694810418, 48.95310862995636, 45.508624789719825, 62.38520420433956, 42.79100775574482, 55.992445976745955, 46.276178629694655, 38.28798466272836, 50.399853891887865, 37.62519340583712, 38.93173553689793, 35.28377735572616, 36.15739168993705, 41.32894609761765, 42.247005401454125, 42.3445237078034, 33.680642940141226, 38.43031615896981, 37.2061796343803, 35.07972326373288, 35.64670674104521, 35.08115436093922, 7.156433863981867, 5.9822224843338825, 5.548333999482983, 5.1925110525894524, 4.709281793729806, 4.5516631012899325, 5.067042456507355, 4.8618621595215705, 4.014631213907361, 3.992839373171297, 4.155106991634865, 3.654491359750819, 4.020408871042544, 3.205760541730096, 3.051073631333846, 2.979654438957438, 3.248357122471165, 2.9493933004838606, 2.866619132829547, 2.7958848742601403, 3.0543122239205567, 2.6915847130592603, 2.6836547385034337, 2.655515568083265, 2.8060484295696453, 2.6182181858736984, 2.9510885531170725, 2.5766398844486065, 2.747073141133799, 2.5334266974376995, 4.3159682569063325, 3.8520697206965764, 4.860019306140603, 5.495661428819841, 3.104511072388728, 3.3792620696897018, 3.765578999382482, 4.047612849758673, 11.553492644956878, 4.060879669328857, 4.447016492940668, 5.880159718288027, 3.3150239024569133, 4.364121259504488, 4.78608924261698, 4.356990982483131, 41.0467291069409, 33.920427023473906, 28.722537664985897, 32.89140900680136, 19.56392254410627, 24.864953315003508, 19.705786432236824, 21.262202816926067, 14.064772430646215, 18.81290207781117, 14.905376268529732, 17.4013957953365, 13.825941816668724, 16.837802407099378, 12.336235662971871, 15.331872775258198, 12.766941942038574, 12.168086237632009, 8.314569697920353, 12.49725779647404, 9.867913333559688, 10.75342428433903, 10.987578773952793, 12.481821080068311, 10.952188426572937, 11.383253591053283, 11.2211382169565, 11.894136596300871, 11.154327153093734, 10.983888423571827, 10.864378917454175], \"Total\": [2438.0, 1578.0, 756.0, 1294.0, 716.0, 1387.0, 63.0, 1178.0, 113.0, 338.0, 191.0, 67.0, 799.0, 1888.0, 93.0, 1227.0, 555.0, 950.0, 1571.0, 438.0, 178.0, 37.0, 147.0, 55.0, 442.0, 33.0, 28.0, 36.0, 145.0, 28.0, 27.02528291741593, 24.871838102398595, 22.152621562630976, 23.692447516750676, 22.45690676535039, 20.064850330815002, 29.905115564817542, 17.665807014956776, 17.584482687054297, 17.276993324992826, 24.50027757010508, 23.71724478370213, 16.80806625924376, 22.618938188135903, 15.278620255808297, 14.695800470086764, 14.453270257794914, 16.98384948979793, 14.153334988677805, 14.999857180859903, 14.006484618817385, 35.21429739836574, 13.703696338934696, 19.238242497525565, 13.375514646878846, 14.606367981575794, 27.80422885001758, 13.045920955934209, 23.36554358211085, 12.140625164170688, 17.799641368357122, 35.5632657127708, 29.638653729029976, 19.489369685773084, 22.59622326463222, 28.305001380049816, 24.614248048059252, 19.495620672196168, 19.731677606433358, 22.06292085817157, 91.8135734636481, 31.05032736877902, 58.50528479173438, 33.488567477414236, 89.90027937115326, 90.12833167845874, 91.42057980348822, 93.62995847839846, 36.68827443662117, 51.427567253021806, 29.20691454187486, 256.6647400869256, 97.66449703829188, 228.595183840684, 271.28461012714826, 67.48092689999089, 627.7954212286145, 1888.5947434957095, 105.8928016161097, 86.03490250799169, 360.73763378668195, 231.23520702973093, 666.2608703477395, 166.28246896422175, 144.67123114174615, 540.8131027414796, 633.5854900994217, 159.6091519617958, 153.7075967762553, 547.9476278150329, 113.11764558694541, 1521.0175887969706, 236.45846682488366, 150.440230561672, 1227.1950638581004, 444.97931330730836, 250.37465754955548, 950.9859935331614, 298.6052428007226, 1571.1612272170628, 1387.9383653296034, 2438.5218447363172, 1162.285987785719, 678.1019999262787, 1578.1480924790794, 468.2878693654956, 510.6426384609279, 383.84389362693145, 1017.382895697863, 716.8621967841348, 1143.4523509281194, 768.3964179577956, 485.303536001909, 1178.5627984017337, 587.0742953559385, 962.7496837034515, 736.4525144894963, 799.0509046568633, 23.567225251901682, 26.02609928856054, 20.119045453015374, 17.068940379182425, 16.515441578473585, 16.185366597410443, 17.91495757325581, 16.076878995357752, 16.696640832513378, 15.075226631504403, 15.074549976171998, 15.009811476585778, 23.313650322220287, 15.364158948285946, 39.20920285039479, 13.91340778395014, 13.46970367554608, 18.531159287311123, 15.430977125952518, 13.750927569469262, 13.621980720319446, 21.99220135902806, 12.943508024836511, 15.910289949215317, 15.03095273623598, 19.63312597820866, 12.573594199128369, 21.715321036963424, 12.509490948985512, 15.534045765240762, 18.5334389923568, 19.56257304701293, 28.466777002839276, 31.675118945212105, 44.933960321486566, 36.365907267933316, 32.8893005778412, 57.883886187723114, 40.97556461417489, 41.819389331561, 30.329489151011785, 18.764363808470623, 34.64064017334438, 18.43010130036341, 48.552083674296526, 36.25865385799776, 1571.1612272170628, 38.702340527674735, 73.8990531440245, 109.69998469179345, 64.54571864080187, 34.274548104137175, 432.5037058356217, 428.58794083229265, 56.20255735305307, 51.27603149425601, 1521.0175887969706, 102.58521516259385, 756.7501300192687, 88.32058677682181, 1888.5947434957095, 2438.5218447363172, 962.7496837034515, 168.282747412913, 1294.8931914152486, 1143.4523509281194, 1017.382895697863, 1162.285987785719, 302.10282419073343, 512.4993907156161, 1178.5627984017337, 756.6147068721085, 1387.9383653296034, 1227.1950638581004, 311.84156800791965, 1578.1480924790794, 626.5623372043613, 768.3964179577956, 145.62084876736043, 357.76788289833564, 950.9859935331614, 539.6793679497011, 728.8570103525631, 541.9138193318272, 488.6819874179336, 736.4525144894963, 510.6426384609279, 716.8621967841348, 562.266787569661, 799.0509046568633, 740.6886733991159, 24.637545771276308, 22.66048329559061, 37.82933156356585, 25.023798541640666, 18.66195783341331, 16.43748972740133, 16.20851931426482, 13.120181325839706, 12.890103866888373, 13.396884576779227, 12.080651257316473, 16.84874473136928, 24.2294686698831, 11.454119153384529, 12.715739764945459, 10.842762083058783, 12.406025568621388, 10.663205239223347, 10.620757573287351, 10.606549436596858, 11.136322026303285, 14.589932142694611, 11.099057990936661, 10.761034560624168, 13.018745443585173, 12.395733872677402, 10.825567979331707, 10.010497598176796, 21.540621522159384, 15.516682924947709, 27.930315980657504, 13.675691736001037, 24.265101509099612, 27.157074434301748, 18.3624244297894, 15.667647386926285, 25.620649748703688, 15.663185660564134, 14.262109476590117, 22.83446418235348, 35.52189107770275, 17.007167585768094, 25.542293195357146, 34.55138823473232, 22.836482578771214, 23.55411432383173, 33.15825131728389, 29.510971807943406, 20.52849388038988, 93.30059172293939, 21.794686934998527, 28.23882872317346, 20.590564156464247, 22.512538048467977, 40.46688723217298, 2438.5218447363172, 45.132493794051776, 442.05550071955815, 799.0509046568633, 389.7655834715451, 1294.8931914152486, 493.6598309984596, 39.45453563353224, 581.8771606036921, 962.7496837034515, 287.7182483549902, 1571.1612272170628, 1143.4523509281194, 334.366447779328, 571.255353470222, 678.1019999262787, 1017.382895697863, 1387.9383653296034, 1888.5947434957095, 1227.1950638581004, 1178.5627984017337, 950.9859935331614, 768.3964179577956, 626.5623372043613, 370.13118861144966, 539.6793679497011, 666.2608703477395, 495.93086037708076, 1578.1480924790794, 367.61557535440335, 740.6886733991159, 1162.285987785719, 1521.0175887969706, 756.6147068721085, 540.8131027414796, 18.75916391075359, 15.152651892539243, 14.578322514045245, 12.70303349332521, 12.043697765407606, 15.436627916570405, 11.227691030716604, 11.123023750055117, 10.95211288560443, 10.642277768438232, 10.484524013853319, 10.512551723673008, 18.759385384314868, 9.846985140519589, 10.293538052476734, 9.780075577358508, 15.141864445798706, 9.776604624837743, 9.562239530096965, 9.281413524450251, 13.83197900509191, 10.152906036000083, 8.909028560145606, 11.010074841941153, 8.733943914463868, 11.586845910133752, 10.972909232589974, 10.33340861967613, 63.62825369678773, 8.512597282441584, 13.088793784242272, 26.424624315948286, 37.736070204869556, 20.634508601162267, 18.369996908263033, 14.38821754327655, 19.338015706520697, 16.91437753361821, 15.230550216772023, 20.0570666231494, 27.226139585520315, 21.154083610115347, 16.617011914052377, 20.913920170718317, 29.696617443791673, 1578.1480924790794, 25.264131000011268, 2438.5218447363172, 191.53028753271738, 51.34619802676573, 438.93256070270155, 32.93667728747111, 337.52907855789863, 1017.382895697863, 1227.1950638581004, 1888.5947434957095, 1162.285987785719, 1387.9383653296034, 678.1019999262787, 493.2576974343622, 338.8290758033064, 1178.5627984017337, 1294.8931914152486, 113.11764558694541, 152.88511329603494, 497.2932481383629, 1571.1612272170628, 495.93086037708076, 799.0509046568633, 1521.0175887969706, 587.0742953559385, 368.4655791831738, 768.3964179577956, 541.9138193318272, 426.58262488303683, 962.7496837034515, 756.6147068721085, 490.0092789691089, 445.00072534267355, 1143.4523509281194, 950.9859935331614, 736.4525144894963, 20.802559456190348, 14.257147192151248, 11.952411620029443, 10.872716458322351, 10.669703305986014, 10.084488053134203, 9.920931863997383, 9.740198398053783, 10.311516490965206, 9.093702241955254, 10.837193334180137, 10.034095331301831, 9.585158505673633, 8.751115312119117, 16.70643928701376, 9.843269859171714, 8.351041904791588, 8.300613516716059, 14.384852654834056, 14.998253512207542, 8.200218839577051, 11.616782254555636, 9.003668760578766, 7.904760884669132, 10.45327924146055, 10.160514232932142, 7.788470166472697, 9.853135099617681, 7.764062131447241, 7.758662536716873, 12.73894332507095, 9.933168853567214, 14.04583386674661, 23.183159358484215, 26.325415090138254, 36.4311925114651, 12.716663438913749, 13.560319624487844, 14.082668242644779, 20.808257135381382, 19.382789233659302, 20.337931323540346, 16.72557511802578, 38.82792943728532, 14.015442891946774, 25.035021258195993, 16.043960771170415, 18.872664389486705, 55.15048804715673, 13.521470323789687, 1178.5627984017337, 29.273630667921232, 1387.9383653296034, 20.888668474875004, 1521.0175887969706, 30.72187041632936, 35.39034184096719, 740.6886733991159, 392.9859412251299, 1227.1950638581004, 31.17059172082338, 736.4525144894963, 1578.1480924790794, 1017.382895697863, 2438.5218447363172, 231.4397792582083, 196.349138248593, 455.63952278930634, 1143.4523509281194, 1888.5947434957095, 1294.8931914152486, 443.8599542483755, 626.5623372043613, 728.8570103525631, 417.70106354249083, 1162.285987785719, 394.0792944721161, 474.4196810875925, 768.3964179577956, 284.2856841544916, 756.6147068721085, 716.8621967841348, 756.7501300192687, 1571.1612272170628, 539.6793679497011, 495.93086037708076, 962.7496837034515, 14.679328877863554, 26.70955957459023, 13.513943714452285, 28.079700085133204, 17.21632924560875, 12.435261419487695, 13.68973452323713, 19.361645825637652, 16.443097000835735, 13.210100207208365, 10.61120292854781, 8.697295308118223, 8.578965607312437, 8.644922891703333, 8.394091053702411, 8.254529226145339, 8.415976773582141, 8.073768925943563, 8.055931770315473, 7.909029829867755, 17.08754736759412, 7.8499168387656555, 11.447636650539504, 10.675051319836177, 7.553593894098127, 7.572675603903023, 7.503604935752461, 16.08029500004809, 13.793153059615229, 7.300199967457798, 15.605092695514656, 10.985187359413287, 9.022140877171031, 21.776032836547667, 21.41810287807214, 21.362886377536068, 33.70027182583074, 23.76696520320926, 17.82393626069332, 13.21938110518907, 10.951479788610342, 19.76059009257281, 16.084373722671156, 16.380860466982497, 23.516171432352714, 16.382001641167594, 22.89954912171818, 28.51549671805143, 25.651205634326615, 32.058719290293865, 34.89297863033097, 28.537133544950493, 716.8621967841348, 756.7501300192687, 728.8570103525631, 1578.1480924790794, 1227.1950638581004, 1571.1612272170628, 962.7496837034515, 1162.285987785719, 334.63554617566194, 555.996042868529, 119.83787576461275, 950.9859935331614, 1521.0175887969706, 1143.4523509281194, 1888.5947434957095, 1294.8931914152486, 409.7989559664542, 445.00072534267355, 633.5854900994217, 736.4525144894963, 321.58930836805393, 740.6886733991159, 80.56556247919985, 768.3964179577956, 756.6147068721085, 269.0949256075822, 323.8239077284749, 241.2722779155013, 562.266787569661, 2438.5218447363172, 1178.5627984017337, 468.2878693654956, 516.6972598644023, 678.1019999262787, 1017.382895697863, 799.0509046568633, 13.55679729610973, 11.615456217978846, 11.049741407291174, 13.583412256211618, 15.418181521708043, 10.296421398856893, 10.26223826673553, 9.96548843876017, 9.717993162985385, 9.708166875378911, 9.463917322183931, 9.22238917043225, 15.669737053165022, 8.823119076793043, 8.447596991681682, 8.467603142762018, 8.199900517170091, 8.191980216641769, 8.38701975727547, 9.089408740696866, 7.986132384021698, 10.855555747127704, 9.151554885267538, 7.4684071284755, 7.793845292780202, 7.380681228722582, 9.44651309640454, 7.067973064987897, 7.173778016083388, 9.86826706176679, 13.874759595068182, 10.880134360584556, 13.86824536455181, 22.229453106639124, 10.074259432206858, 18.805760965435795, 12.65843278738896, 16.0747998946829, 11.080162559499794, 17.80107141734463, 19.61235851679262, 16.62605349268712, 15.060705504463424, 11.25367504221618, 16.2113133655625, 26.717816743800277, 46.8465132754144, 338.8290758033064, 24.65199947968168, 15.203041279154125, 19.79395183336912, 39.62907985136706, 1578.1480924790794, 71.13540570575314, 1294.8931914152486, 571.255353470222, 1521.0175887969706, 1162.285987785719, 1888.5947434957095, 1143.4523509281194, 740.6886733991159, 444.97931330730836, 728.8570103525631, 249.8665918985966, 736.4525144894963, 298.95255662303043, 581.8771606036921, 1387.9383653296034, 474.4196810875925, 2438.5218447363172, 431.94388793319064, 516.6972598644023, 950.9859935331614, 539.6793679497011, 295.06188044134416, 547.9476278150329, 1571.1612272170628, 488.6819874179336, 540.7898646073671, 1178.5627984017337, 962.7496837034515, 799.0509046568633, 541.9138193318272, 756.6147068721085, 1017.382895697863, 19.967001184632565, 18.168107848551262, 28.629812630165706, 11.051028057535744, 10.963021976206191, 10.940991973022218, 9.434884624087454, 9.374520399819906, 8.990471825028278, 8.345853889899159, 8.234606553245511, 7.541099859553281, 9.371398183207335, 27.42978618291801, 7.265464205082316, 7.20619122523232, 7.16221982220392, 7.10097621894944, 7.437446785701042, 7.109800534141133, 7.048476765461662, 7.04543542579609, 8.18617601255251, 13.733199489996926, 6.938084442192393, 18.86495253248344, 7.2803316254050365, 6.806084741968471, 6.695560154862904, 8.327410721988599, 8.557986066167018, 17.661034036006757, 15.10092848563394, 9.76606720597981, 12.08042431390346, 14.240484311021818, 7.937502353936148, 10.454395421242443, 22.884121643448395, 10.182857577824898, 15.503607990057965, 10.29202578671548, 15.460503664924554, 14.17773767291808, 27.567177212846314, 12.173025389391057, 26.80005623917146, 13.283566532189925, 17.143547132653854, 24.25861831625343, 14.963386623789264, 2438.5218447363172, 756.7501300192687, 1387.9383653296034, 716.8621967841348, 1294.8931914152486, 950.9859935331614, 555.996042868529, 756.6147068721085, 250.4275258962727, 1162.285987785719, 1143.4523509281194, 1578.1480924790794, 1521.0175887969706, 438.93256070270155, 1178.5627984017337, 1571.1612272170628, 626.5623372043613, 799.0509046568633, 962.7496837034515, 627.7954212286145, 736.4525144894963, 740.6886733991159, 678.1019999262787, 445.00072534267355, 1888.5947434957095, 1017.382895697863, 571.255353470222, 633.5854900994217, 581.8771606036921, 768.3964179577956, 1227.1950638581004, 23.00161078822404, 11.326527665226836, 14.142782154229584, 10.957380252968495, 12.539140971921334, 9.958690983799562, 8.97264535446013, 8.927593932337988, 9.538261334291612, 8.667631416547863, 8.444104776535207, 8.88362788008843, 12.027508344807595, 8.972519369639734, 8.0943325469201, 7.754570426829448, 7.672964652929878, 9.552691997571412, 8.855841546896812, 7.39668361811261, 7.218729382799455, 7.016190556413635, 6.967225237426323, 8.81682175232277, 7.23896838600976, 6.749050872773008, 7.041915985359133, 6.536961216685151, 6.416938258553104, 6.4153388956143065, 14.201104241678427, 7.426392856827208, 12.638556093950259, 14.407976627172026, 14.637044772717667, 12.235806799534828, 16.779778940610406, 16.505600927719286, 14.749787309046829, 20.661331037400064, 17.918548025279808, 19.457474965013375, 11.683641582728256, 27.213534446247916, 16.42663729978223, 14.027946688397053, 1888.5947434957095, 147.01152519650938, 23.682011490719756, 178.84339615036083, 26.976776049712367, 2438.5218447363172, 1143.4523509281194, 1578.1480924790794, 1294.8931914152486, 1227.1950638581004, 165.14810543418602, 1521.0175887969706, 1571.1612272170628, 375.7730448280201, 666.2608703477395, 562.266787569661, 1387.9383653296034, 540.7898646073671, 1178.5627984017337, 736.4525144894963, 452.4995143588947, 1162.285987785719, 512.4993907156161, 587.0742953559385, 431.88200966271796, 493.2576974343622, 799.0509046568633, 950.9859935331614, 1017.382895697863, 438.76355115402197, 768.3964179577956, 716.8621967841348, 571.255353470222, 678.1019999262787, 728.8570103525631, 8.071524787230933, 6.896323609469185, 6.467828832383278, 6.10732302023956, 5.623306231968977, 5.472906533491266, 6.0969718447274595, 5.899340809196207, 4.9539661149208065, 4.928794164316, 5.177364137930841, 4.5692499569795535, 5.109214201140647, 4.119828671671211, 3.972090588518057, 3.8957099719276767, 4.252176615337205, 3.863233768324148, 3.7806200287720495, 3.7116179872691366, 4.078964108492203, 3.6060283262735924, 3.598139863988374, 3.5699346783674355, 3.7726356515813513, 3.5323745260952593, 3.990131861410214, 3.4907873037709902, 3.7371750338649194, 3.4499184275589805, 5.88364223571745, 5.425493275789481, 7.221823029598275, 8.413943320502966, 4.314536590382385, 4.829965950348348, 5.551526815035624, 6.118600376468264, 25.546183671091107, 6.376633647521609, 7.346166294164669, 11.296199713992344, 4.800451272037959, 8.105410026698832, 9.877812397566629, 9.086867758772316, 2438.5218447363172, 1578.1480924790794, 1227.1950638581004, 1888.5947434957095, 510.6426384609279, 1521.0175887969706, 950.9859935331614, 1294.8931914152486, 409.7989559664542, 1143.4523509281194, 756.7501300192687, 1387.9383653296034, 666.2608703477395, 1571.1612272170628, 443.8599542483755, 1178.5627984017337, 587.0742953559385, 493.2576974343622, 97.64222856315268, 768.3964179577956, 243.60075016216115, 445.00072534267355, 541.9138193318272, 1162.285987785719, 540.7898646073671, 728.8570103525631, 678.1019999262787, 1017.382895697863, 756.6147068721085, 740.6886733991159, 716.8621967841348], \"Category\": [\"Default\", \"Default\", \"Default\", \"Default\", \"Default\", \"Default\", \"Default\", \"Default\", \"Default\", \"Default\", \"Default\", \"Default\", \"Default\", \"Default\", \"Default\", \"Default\", \"Default\", \"Default\", \"Default\", \"Default\", \"Default\", \"Default\", \"Default\", \"Default\", \"Default\", \"Default\", \"Default\", \"Default\", \"Default\", \"Default\", \"Topic1\", \"Topic1\", \"Topic1\", \"Topic1\", \"Topic1\", \"Topic1\", \"Topic1\", \"Topic1\", \"Topic1\", \"Topic1\", \"Topic1\", \"Topic1\", \"Topic1\", \"Topic1\", \"Topic1\", \"Topic1\", \"Topic1\", \"Topic1\", \"Topic1\", \"Topic1\", \"Topic1\", \"Topic1\", \"Topic1\", \"Topic1\", \"Topic1\", \"Topic1\", \"Topic1\", \"Topic1\", \"Topic1\", \"Topic1\", \"Topic1\", \"Topic1\", \"Topic1\", \"Topic1\", \"Topic1\", \"Topic1\", \"Topic1\", \"Topic1\", \"Topic1\", \"Topic1\", \"Topic1\", \"Topic1\", \"Topic1\", \"Topic1\", \"Topic1\", \"Topic1\", \"Topic1\", \"Topic1\", \"Topic1\", \"Topic1\", \"Topic1\", \"Topic1\", \"Topic1\", \"Topic1\", \"Topic1\", \"Topic1\", \"Topic1\", \"Topic1\", \"Topic1\", \"Topic1\", \"Topic1\", \"Topic1\", \"Topic1\", \"Topic1\", \"Topic1\", \"Topic1\", \"Topic1\", \"Topic1\", \"Topic1\", \"Topic1\", \"Topic1\", \"Topic1\", \"Topic1\", \"Topic1\", \"Topic1\", \"Topic1\", \"Topic1\", \"Topic1\", \"Topic1\", \"Topic1\", \"Topic1\", \"Topic1\", \"Topic1\", \"Topic1\", \"Topic1\", \"Topic1\", \"Topic1\", \"Topic1\", \"Topic1\", \"Topic1\", \"Topic1\", \"Topic1\", \"Topic1\", \"Topic1\", \"Topic1\", \"Topic1\", \"Topic1\", \"Topic1\", \"Topic2\", \"Topic2\", \"Topic2\", \"Topic2\", \"Topic2\", \"Topic2\", \"Topic2\", \"Topic2\", \"Topic2\", \"Topic2\", \"Topic2\", \"Topic2\", \"Topic2\", \"Topic2\", \"Topic2\", \"Topic2\", \"Topic2\", \"Topic2\", \"Topic2\", \"Topic2\", \"Topic2\", \"Topic2\", \"Topic2\", \"Topic2\", \"Topic2\", \"Topic2\", \"Topic2\", \"Topic2\", \"Topic2\", \"Topic2\", \"Topic2\", \"Topic2\", \"Topic2\", \"Topic2\", \"Topic2\", \"Topic2\", \"Topic2\", \"Topic2\", \"Topic2\", \"Topic2\", \"Topic2\", \"Topic2\", \"Topic2\", \"Topic2\", \"Topic2\", \"Topic2\", \"Topic2\", \"Topic2\", \"Topic2\", \"Topic2\", \"Topic2\", \"Topic2\", \"Topic2\", \"Topic2\", \"Topic2\", \"Topic2\", \"Topic2\", \"Topic2\", \"Topic2\", \"Topic2\", \"Topic2\", \"Topic2\", \"Topic2\", \"Topic2\", \"Topic2\", \"Topic2\", \"Topic2\", \"Topic2\", \"Topic2\", \"Topic2\", \"Topic2\", \"Topic2\", \"Topic2\", \"Topic2\", \"Topic2\", \"Topic2\", \"Topic2\", \"Topic2\", \"Topic2\", \"Topic2\", \"Topic2\", \"Topic2\", \"Topic2\", \"Topic2\", \"Topic2\", \"Topic2\", \"Topic2\", \"Topic2\", \"Topic2\", \"Topic2\", \"Topic2\", \"Topic3\", \"Topic3\", \"Topic3\", \"Topic3\", \"Topic3\", \"Topic3\", \"Topic3\", \"Topic3\", \"Topic3\", \"Topic3\", \"Topic3\", \"Topic3\", \"Topic3\", \"Topic3\", \"Topic3\", \"Topic3\", \"Topic3\", \"Topic3\", \"Topic3\", \"Topic3\", \"Topic3\", \"Topic3\", \"Topic3\", \"Topic3\", \"Topic3\", \"Topic3\", \"Topic3\", \"Topic3\", \"Topic3\", \"Topic3\", \"Topic3\", \"Topic3\", \"Topic3\", \"Topic3\", \"Topic3\", \"Topic3\", \"Topic3\", \"Topic3\", \"Topic3\", \"Topic3\", \"Topic3\", \"Topic3\", \"Topic3\", \"Topic3\", \"Topic3\", \"Topic3\", \"Topic3\", \"Topic3\", \"Topic3\", \"Topic3\", \"Topic3\", \"Topic3\", \"Topic3\", \"Topic3\", \"Topic3\", \"Topic3\", \"Topic3\", \"Topic3\", \"Topic3\", \"Topic3\", \"Topic3\", \"Topic3\", \"Topic3\", \"Topic3\", \"Topic3\", \"Topic3\", \"Topic3\", \"Topic3\", \"Topic3\", \"Topic3\", \"Topic3\", \"Topic3\", \"Topic3\", \"Topic3\", \"Topic3\", \"Topic3\", \"Topic3\", \"Topic3\", \"Topic3\", \"Topic3\", \"Topic3\", \"Topic3\", \"Topic3\", \"Topic3\", \"Topic3\", \"Topic3\", \"Topic3\", \"Topic3\", \"Topic3\", \"Topic3\", \"Topic4\", \"Topic4\", \"Topic4\", \"Topic4\", \"Topic4\", \"Topic4\", \"Topic4\", \"Topic4\", \"Topic4\", \"Topic4\", \"Topic4\", \"Topic4\", \"Topic4\", \"Topic4\", \"Topic4\", \"Topic4\", \"Topic4\", \"Topic4\", \"Topic4\", \"Topic4\", \"Topic4\", \"Topic4\", \"Topic4\", \"Topic4\", \"Topic4\", \"Topic4\", \"Topic4\", \"Topic4\", \"Topic4\", \"Topic4\", \"Topic4\", \"Topic4\", \"Topic4\", \"Topic4\", \"Topic4\", \"Topic4\", \"Topic4\", \"Topic4\", \"Topic4\", \"Topic4\", \"Topic4\", \"Topic4\", \"Topic4\", \"Topic4\", \"Topic4\", \"Topic4\", \"Topic4\", \"Topic4\", \"Topic4\", \"Topic4\", \"Topic4\", \"Topic4\", \"Topic4\", \"Topic4\", \"Topic4\", \"Topic4\", \"Topic4\", \"Topic4\", \"Topic4\", \"Topic4\", \"Topic4\", \"Topic4\", \"Topic4\", \"Topic4\", \"Topic4\", \"Topic4\", \"Topic4\", \"Topic4\", \"Topic4\", \"Topic4\", \"Topic4\", \"Topic4\", \"Topic4\", \"Topic4\", \"Topic4\", \"Topic4\", \"Topic4\", \"Topic4\", \"Topic4\", \"Topic4\", \"Topic4\", \"Topic4\", \"Topic5\", \"Topic5\", \"Topic5\", \"Topic5\", \"Topic5\", \"Topic5\", \"Topic5\", \"Topic5\", \"Topic5\", \"Topic5\", \"Topic5\", \"Topic5\", \"Topic5\", \"Topic5\", \"Topic5\", \"Topic5\", \"Topic5\", \"Topic5\", \"Topic5\", \"Topic5\", \"Topic5\", \"Topic5\", \"Topic5\", \"Topic5\", \"Topic5\", \"Topic5\", \"Topic5\", \"Topic5\", \"Topic5\", \"Topic5\", \"Topic5\", \"Topic5\", \"Topic5\", \"Topic5\", \"Topic5\", \"Topic5\", \"Topic5\", \"Topic5\", \"Topic5\", \"Topic5\", \"Topic5\", \"Topic5\", \"Topic5\", \"Topic5\", \"Topic5\", \"Topic5\", \"Topic5\", \"Topic5\", \"Topic5\", \"Topic5\", \"Topic5\", \"Topic5\", \"Topic5\", \"Topic5\", \"Topic5\", \"Topic5\", \"Topic5\", \"Topic5\", \"Topic5\", \"Topic5\", \"Topic5\", \"Topic5\", \"Topic5\", \"Topic5\", \"Topic5\", \"Topic5\", \"Topic5\", \"Topic5\", \"Topic5\", \"Topic5\", \"Topic5\", \"Topic5\", \"Topic5\", \"Topic5\", \"Topic5\", \"Topic5\", \"Topic5\", \"Topic5\", \"Topic5\", \"Topic5\", \"Topic5\", \"Topic5\", \"Topic5\", \"Topic5\", \"Topic5\", \"Topic5\", \"Topic5\", \"Topic6\", \"Topic6\", \"Topic6\", \"Topic6\", \"Topic6\", \"Topic6\", \"Topic6\", \"Topic6\", \"Topic6\", \"Topic6\", \"Topic6\", \"Topic6\", \"Topic6\", \"Topic6\", \"Topic6\", \"Topic6\", \"Topic6\", \"Topic6\", \"Topic6\", \"Topic6\", \"Topic6\", \"Topic6\", \"Topic6\", \"Topic6\", \"Topic6\", \"Topic6\", \"Topic6\", \"Topic6\", \"Topic6\", \"Topic6\", \"Topic6\", \"Topic6\", \"Topic6\", \"Topic6\", \"Topic6\", \"Topic6\", \"Topic6\", \"Topic6\", \"Topic6\", \"Topic6\", \"Topic6\", \"Topic6\", \"Topic6\", \"Topic6\", \"Topic6\", \"Topic6\", \"Topic6\", \"Topic6\", \"Topic6\", \"Topic6\", \"Topic6\", \"Topic6\", \"Topic6\", \"Topic6\", \"Topic6\", \"Topic6\", \"Topic6\", \"Topic6\", \"Topic6\", \"Topic6\", \"Topic6\", \"Topic6\", \"Topic6\", \"Topic6\", \"Topic6\", \"Topic6\", \"Topic6\", \"Topic6\", \"Topic6\", \"Topic6\", \"Topic6\", \"Topic6\", \"Topic6\", \"Topic6\", \"Topic6\", \"Topic6\", \"Topic6\", \"Topic6\", \"Topic6\", \"Topic6\", \"Topic6\", \"Topic6\", \"Topic6\", \"Topic6\", \"Topic6\", \"Topic6\", \"Topic6\", \"Topic6\", \"Topic7\", \"Topic7\", \"Topic7\", \"Topic7\", \"Topic7\", \"Topic7\", \"Topic7\", \"Topic7\", \"Topic7\", \"Topic7\", \"Topic7\", \"Topic7\", \"Topic7\", \"Topic7\", \"Topic7\", \"Topic7\", \"Topic7\", \"Topic7\", \"Topic7\", \"Topic7\", \"Topic7\", \"Topic7\", \"Topic7\", \"Topic7\", \"Topic7\", \"Topic7\", \"Topic7\", \"Topic7\", \"Topic7\", \"Topic7\", \"Topic7\", \"Topic7\", \"Topic7\", \"Topic7\", \"Topic7\", \"Topic7\", \"Topic7\", \"Topic7\", \"Topic7\", \"Topic7\", \"Topic7\", \"Topic7\", \"Topic7\", \"Topic7\", \"Topic7\", \"Topic7\", \"Topic7\", \"Topic7\", \"Topic7\", \"Topic7\", \"Topic7\", \"Topic7\", \"Topic7\", \"Topic7\", \"Topic7\", \"Topic7\", \"Topic7\", \"Topic7\", \"Topic7\", \"Topic7\", \"Topic7\", \"Topic7\", \"Topic7\", \"Topic7\", \"Topic7\", \"Topic7\", \"Topic7\", \"Topic7\", \"Topic7\", \"Topic7\", \"Topic7\", \"Topic7\", \"Topic7\", \"Topic7\", \"Topic7\", \"Topic7\", \"Topic7\", \"Topic7\", \"Topic7\", \"Topic7\", \"Topic7\", \"Topic7\", \"Topic7\", \"Topic7\", \"Topic7\", \"Topic8\", \"Topic8\", \"Topic8\", \"Topic8\", \"Topic8\", \"Topic8\", \"Topic8\", \"Topic8\", \"Topic8\", \"Topic8\", \"Topic8\", \"Topic8\", \"Topic8\", \"Topic8\", \"Topic8\", \"Topic8\", \"Topic8\", \"Topic8\", \"Topic8\", \"Topic8\", \"Topic8\", \"Topic8\", \"Topic8\", \"Topic8\", \"Topic8\", \"Topic8\", \"Topic8\", \"Topic8\", \"Topic8\", \"Topic8\", \"Topic8\", \"Topic8\", \"Topic8\", \"Topic8\", \"Topic8\", \"Topic8\", \"Topic8\", \"Topic8\", \"Topic8\", \"Topic8\", \"Topic8\", \"Topic8\", \"Topic8\", \"Topic8\", \"Topic8\", \"Topic8\", \"Topic8\", \"Topic8\", \"Topic8\", \"Topic8\", \"Topic8\", \"Topic8\", \"Topic8\", \"Topic8\", \"Topic8\", \"Topic8\", \"Topic8\", \"Topic8\", \"Topic8\", \"Topic8\", \"Topic8\", \"Topic8\", \"Topic8\", \"Topic8\", \"Topic8\", \"Topic8\", \"Topic8\", \"Topic8\", \"Topic8\", \"Topic8\", \"Topic8\", \"Topic8\", \"Topic8\", \"Topic8\", \"Topic8\", \"Topic8\", \"Topic8\", \"Topic8\", \"Topic8\", \"Topic8\", \"Topic8\", \"Topic8\", \"Topic9\", \"Topic9\", \"Topic9\", \"Topic9\", \"Topic9\", \"Topic9\", \"Topic9\", \"Topic9\", \"Topic9\", \"Topic9\", \"Topic9\", \"Topic9\", \"Topic9\", \"Topic9\", \"Topic9\", \"Topic9\", \"Topic9\", \"Topic9\", \"Topic9\", \"Topic9\", \"Topic9\", \"Topic9\", \"Topic9\", \"Topic9\", \"Topic9\", \"Topic9\", \"Topic9\", \"Topic9\", \"Topic9\", \"Topic9\", \"Topic9\", \"Topic9\", \"Topic9\", \"Topic9\", \"Topic9\", \"Topic9\", \"Topic9\", \"Topic9\", \"Topic9\", \"Topic9\", \"Topic9\", \"Topic9\", \"Topic9\", \"Topic9\", \"Topic9\", \"Topic9\", \"Topic9\", \"Topic9\", \"Topic9\", \"Topic9\", \"Topic9\", \"Topic9\", \"Topic9\", \"Topic9\", \"Topic9\", \"Topic9\", \"Topic9\", \"Topic9\", \"Topic9\", \"Topic9\", \"Topic9\", \"Topic9\", \"Topic9\", \"Topic9\", \"Topic9\", \"Topic9\", \"Topic9\", \"Topic9\", \"Topic9\", \"Topic9\", \"Topic9\", \"Topic9\", \"Topic9\", \"Topic9\", \"Topic9\", \"Topic9\", \"Topic9\", \"Topic9\", \"Topic9\", \"Topic9\", \"Topic9\", \"Topic10\", \"Topic10\", \"Topic10\", \"Topic10\", \"Topic10\", \"Topic10\", \"Topic10\", \"Topic10\", \"Topic10\", \"Topic10\", \"Topic10\", \"Topic10\", \"Topic10\", \"Topic10\", \"Topic10\", \"Topic10\", \"Topic10\", \"Topic10\", \"Topic10\", \"Topic10\", \"Topic10\", \"Topic10\", \"Topic10\", \"Topic10\", \"Topic10\", \"Topic10\", \"Topic10\", \"Topic10\", \"Topic10\", \"Topic10\", \"Topic10\", \"Topic10\", \"Topic10\", \"Topic10\", \"Topic10\", \"Topic10\", \"Topic10\", \"Topic10\", \"Topic10\", \"Topic10\", \"Topic10\", \"Topic10\", \"Topic10\", \"Topic10\", \"Topic10\", \"Topic10\", \"Topic10\", \"Topic10\", \"Topic10\", \"Topic10\", \"Topic10\", \"Topic10\", \"Topic10\", \"Topic10\", \"Topic10\", \"Topic10\", \"Topic10\", \"Topic10\", \"Topic10\", \"Topic10\", \"Topic10\", \"Topic10\", \"Topic10\", \"Topic10\", \"Topic10\", \"Topic10\", \"Topic10\", \"Topic10\", \"Topic10\", \"Topic10\", \"Topic10\", \"Topic10\", \"Topic10\", \"Topic10\", \"Topic10\", \"Topic10\", \"Topic10\"], \"logprob\": [30.0, 29.0, 28.0, 27.0, 26.0, 25.0, 24.0, 23.0, 22.0, 21.0, 20.0, 19.0, 18.0, 17.0, 16.0, 15.0, 14.0, 13.0, 12.0, 11.0, 10.0, 9.0, 8.0, 7.0, 6.0, 5.0, 4.0, 3.0, 2.0, 1.0, -9.7254, -9.8102, -9.9296, -9.8641, -9.9197, -10.0323, -9.6381, -10.1654, -10.1703, -10.1888, -9.84, -9.8727, -10.218, -9.9221, -10.3184, -10.3593, -10.377, -10.216, -10.3992, -10.3417, -10.4103, -9.4888, -10.4335, -10.0949, -10.4593, -10.3734, -9.7305, -10.4885, -9.9073, -10.5628, -10.1807, -9.499, -9.6925, -10.095, -9.9559, -9.7453, -9.8793, -10.0998, -10.0912, -9.9907, -8.7497, -9.6961, -9.1531, -9.636, -8.8067, -8.8079, -8.7989, -8.7917, -9.5707, -9.3053, -9.7602, -8.0368, -8.8276, -8.1873, -8.0637, -9.1182, -7.4594, -6.7242, -8.8062, -8.9664, -7.9698, -8.2819, -7.5645, -8.5286, -8.6282, -7.7361, -7.6467, -8.5753, -8.6002, -7.7899, -8.8176, -7.2028, -8.3652, -8.6444, -7.46, -8.0384, -8.3801, -7.711, -8.314, -7.4847, -7.5475, -7.2799, -7.654, -7.9322, -7.5808, -8.1239, -8.0926, -8.2159, -7.8269, -7.978, -7.8287, -8.0128, -8.1662, -7.9212, -8.1308, -8.0732, -8.1143, -8.1122, -9.8484, -9.7575, -10.0154, -10.1848, -10.2195, -10.2407, -10.1395, -10.2478, -10.213, -10.3156, -10.3157, -10.3202, -9.88, -10.3006, -9.3638, -10.401, -10.4352, -10.1169, -10.3003, -10.4159, -10.4258, -9.9472, -10.4777, -10.272, -10.3293, -10.0623, -10.5086, -9.9623, -10.5141, -10.2992, -10.1315, -10.0822, -9.7327, -9.6367, -9.327, -9.5261, -9.6185, -9.126, -9.4391, -9.4261, -9.7242, -10.1322, -9.631, -10.1499, -9.36, -9.6143, -6.7056, -9.5718, -9.0994, -8.8151, -9.2201, -9.6846, -7.8784, -7.9388, -9.3439, -9.4124, -7.0935, -8.9374, -7.5967, -9.04, -7.0006, -6.8408, -7.4722, -8.6131, -7.3077, -7.4007, -7.5059, -7.4277, -8.2741, -7.9607, -7.4832, -7.7585, -7.4435, -7.5369, -8.3247, -7.4332, -7.9686, -7.8729, -8.7634, -8.2953, -7.7933, -8.0853, -7.9361, -8.0948, -8.1627, -7.9818, -8.1549, -8.0319, -8.171, -8.1357, -8.1498, -9.5711, -9.6579, -9.1541, -9.5698, -9.8641, -9.9935, -10.0102, -10.2326, -10.2518, -10.2159, -10.3217, -9.9915, -9.6288, -10.3785, -10.2781, -10.4378, -10.3034, -10.4559, -10.4604, -10.462, -10.4143, -10.1451, -10.4194, -10.4506, -10.2602, -10.3097, -10.4453, -10.5246, -9.7585, -10.0868, -9.5058, -10.2132, -9.6492, -9.5413, -9.9267, -10.0855, -9.6263, -10.0916, -10.1817, -9.7515, -9.355, -10.0219, -9.6581, -9.4016, -9.7683, -9.7432, -9.4536, -9.5539, -9.8688, -8.6414, -9.8198, -9.6131, -9.8676, -9.8081, -9.3735, -6.3653, -9.2982, -7.7167, -7.3566, -7.8824, -7.1225, -7.8076, -9.4408, -7.777, -7.4997, -8.2544, -7.2849, -7.4798, -8.2227, -7.9372, -7.851, -7.6346, -7.4739, -7.3644, -7.5894, -7.6139, -7.7236, -7.8474, -7.9887, -8.2534, -8.1058, -8.0153, -8.1849, -7.6936, -8.3402, -8.0433, -7.8629, -7.7624, -8.055, -8.1821, -9.6351, -9.8602, -9.908, -10.0483, -10.1053, -9.8606, -10.1812, -10.1914, -10.2083, -10.2392, -10.2554, -10.2528, -9.6761, -10.324, -10.2802, -10.3315, -9.8948, -10.3327, -10.3589, -10.3894, -9.9915, -10.3032, -10.4352, -10.2243, -10.4561, -10.1748, -10.2305, -10.2907, -8.4733, -10.4852, -10.0605, -9.3936, -9.0591, -9.6634, -9.77, -9.9962, -9.7535, -9.8793, -9.9704, -9.7639, -9.5261, -9.7281, -9.9149, -9.7531, -9.5148, -6.7296, -9.6326, -6.582, -8.3088, -9.2042, -7.862, -9.5171, -8.1688, -7.5525, -7.4561, -7.2714, -7.5982, -7.5191, -7.9277, -8.0967, -8.2948, -7.6812, -7.6503, -8.8758, -8.7417, -8.1739, -7.6314, -8.192, -7.9715, -7.669, -8.1454, -8.3769, -8.061, -8.2244, -8.3255, -7.9938, -8.152, -8.314, -8.3808, -8.1335, -8.2735, -8.3482, -9.3805, -9.7784, -9.9673, -10.0697, -10.0905, -10.1521, -10.1697, -10.1902, -10.1354, -10.2655, -10.0903, -10.1674, -10.2138, -10.3081, -9.6644, -10.1937, -10.3601, -10.367, -9.8173, -9.7765, -10.3806, -10.0367, -10.2915, -10.4226, -10.1434, -10.1721, -10.4384, -10.2035, -10.4418, -10.4437, -9.9486, -10.1998, -9.8634, -9.3848, -9.28, -8.9854, -9.9756, -9.9251, -9.8985, -9.5797, -9.6455, -9.6077, -9.7665, -9.0933, -9.9151, -9.4825, -9.8249, -9.7107, -8.9521, -9.9544, -6.9983, -9.443, -7.1127, -9.6913, -7.2312, -9.4741, -9.4052, -7.7611, -8.1556, -7.5815, -9.4981, -7.924, -7.5812, -7.8254, -7.4183, -8.5852, -8.6952, -8.3412, -7.9541, -7.772, -7.9427, -8.4025, -8.2746, -8.2191, -8.4507, -8.0683, -8.4904, -8.4337, -8.2662, -8.6351, -8.3672, -8.409, -8.4041, -8.2491, -8.5574, -8.6019, -8.5461, -9.6515, -9.055, -9.7397, -9.0095, -9.4997, -9.8288, -9.7341, -9.4025, -9.5683, -9.7898, -10.0193, -10.2208, -10.2345, -10.2288, -10.2587, -10.2779, -10.2606, -10.3023, -10.3047, -10.3257, -9.5564, -10.3351, -9.9595, -10.0294, -10.3772, -10.3747, -10.3847, -9.6239, -9.7786, -10.4183, -9.6649, -10.0163, -10.2075, -9.3997, -9.4209, -9.4251, -9.0337, -9.3453, -9.6125, -9.8751, -10.0373, -9.5427, -9.7161, -9.7165, -9.4427, -9.7331, -9.5054, -9.3563, -9.4496, -9.3121, -9.2647, -9.3964, -7.5295, -7.6539, -7.6984, -7.3324, -7.5739, -7.4772, -7.7433, -7.678, -8.2539, -8.0415, -8.7682, -7.8896, -7.7586, -7.9164, -7.7169, -7.9023, -8.3575, -8.3468, -8.2325, -8.1978, -8.5073, -8.244, -8.9836, -8.2619, -8.2767, -8.5998, -8.5509, -8.6637, -8.4191, -8.1449, -8.2928, -8.4928, -8.4768, -8.4293, -8.3783, -8.4274, -9.7291, -9.8961, -9.9495, -9.7442, -9.6212, -10.0262, -10.0299, -10.062, -10.0896, -10.0907, -10.1208, -10.1476, -9.6193, -10.1963, -10.2446, -10.2441, -10.2779, -10.279, -10.2575, -10.1779, -10.3075, -10.0036, -10.1756, -10.383, -10.3417, -10.3967, -10.1552, -10.4457, -10.4312, -10.1136, -9.7743, -10.0351, -9.8142, -9.3911, -10.1113, -9.5651, -9.9154, -9.716, -10.0314, -9.651, -9.5815, -9.7183, -9.7964, -10.0236, -9.7694, -9.4519, -9.1406, -7.9181, -9.5504, -9.8439, -9.6994, -9.3203, -7.3051, -9.0045, -7.4465, -7.9448, -7.4953, -7.6589, -7.4634, -7.7494, -7.9604, -8.2114, -8.0044, -8.5035, -8.0313, -8.4562, -8.1658, -7.7933, -8.2961, -7.6327, -8.3594, -8.2913, -8.0622, -8.2838, -8.546, -8.314, -7.9258, -8.362, -8.3421, -8.0962, -8.1972, -8.2708, -8.4022, -8.4843, -8.484, -9.2752, -9.37, -8.9463, -9.9006, -9.9091, -9.9112, -10.0733, -10.0841, -10.1268, -10.2094, -10.2324, -10.3235, -10.1071, -9.0356, -10.3657, -10.3753, -10.3824, -10.3918, -10.346, -10.3914, -10.4003, -10.401, -10.2515, -9.7351, -10.4183, -9.4187, -10.371, -10.4405, -10.4591, -10.2434, -10.2171, -9.524, -9.6773, -10.0938, -9.9087, -9.7816, -10.295, -10.0583, -9.4091, -10.0878, -9.7446, -10.0885, -9.7716, -9.8473, -9.3549, -9.9669, -9.3997, -9.9064, -9.7391, -9.5207, -9.8357, -6.7231, -7.4841, -7.1526, -7.6525, -7.3661, -7.5484, -7.8986, -7.7985, -8.4205, -7.6847, -7.7724, -7.6629, -7.7393, -8.2879, -7.8788, -7.7946, -8.1945, -8.1073, -8.0653, -8.2761, -8.2157, -8.2388, -8.2708, -8.4442, -8.0048, -8.2078, -8.3811, -8.3944, -8.4332, -8.3894, -8.3706, -9.037, -9.7522, -9.5335, -9.7921, -9.6603, -9.8923, -10.0074, -10.0142, -9.9491, -10.0461, -10.0751, -10.0262, -9.7233, -10.0188, -10.1224, -10.1705, -10.1826, -9.9658, -10.0421, -10.2241, -10.252, -10.2843, -10.2925, -10.0598, -10.257, -10.3288, -10.2866, -10.3657, -10.3872, -10.3874, -9.5933, -10.2416, -9.7314, -9.6176, -9.6069, -9.7894, -9.5171, -9.5324, -9.6589, -9.434, -9.5487, -9.5434, -9.8943, -9.345, -9.697, -9.7926, -7.1171, -8.5366, -9.5139, -8.4833, -9.462, -7.3313, -7.7707, -7.6651, -7.7739, -7.8291, -8.7151, -7.8484, -7.8398, -8.4135, -8.2068, -8.2798, -7.9644, -8.3414, -8.0725, -8.2631, -8.4526, -8.1777, -8.47, -8.4359, -8.5343, -8.5098, -8.3761, -8.3542, -8.3519, -8.5808, -8.4489, -8.4812, -8.5401, -8.5241, -8.54, -9.4525, -9.6317, -9.707, -9.7733, -9.871, -9.905, -9.7978, -9.8391, -10.0306, -10.036, -9.9962, -10.1246, -10.0291, -10.2556, -10.305, -10.3287, -10.2424, -10.3389, -10.3674, -10.3924, -10.304, -10.4304, -10.4333, -10.4439, -10.3887, -10.458, -10.3383, -10.474, -10.41, -10.4909, -9.9582, -10.0719, -9.8395, -9.7166, -10.2877, -10.2029, -10.0946, -10.0224, -8.9735, -10.0191, -9.9283, -9.6489, -10.2221, -9.9471, -9.8548, -9.9487, -7.7058, -7.8965, -8.0628, -7.9273, -8.4468, -8.2071, -8.4396, -8.3636, -8.7768, -8.486, -8.7188, -8.564, -8.794, -8.5969, -8.908, -8.6906, -8.8737, -8.9217, -9.3025, -8.895, -9.1312, -9.0453, -9.0238, -8.8962, -9.027, -8.9884, -9.0027, -8.9445, -9.0087, -9.0241, -9.035], \"loglift\": [30.0, 29.0, 28.0, 27.0, 26.0, 25.0, 24.0, 23.0, 22.0, 21.0, 20.0, 19.0, 18.0, 17.0, 16.0, 15.0, 14.0, 13.0, 12.0, 11.0, 10.0, 9.0, 8.0, 7.0, 6.0, 5.0, 4.0, 3.0, 2.0, 1.0, 1.757, 1.7552, 1.7515, 1.7499, 1.7478, 1.7478, 1.743, 1.742, 1.7418, 1.7409, 1.7404, 1.7402, 1.7393, 1.7382, 1.7343, 1.7322, 1.7312, 1.7309, 1.7299, 1.7294, 1.7293, 1.7289, 1.7279, 1.7273, 1.7264, 1.7242, 1.7234, 1.7221, 1.7205, 1.7198, 1.7192, 1.7088, 1.6975, 1.7142, 1.7055, 1.6908, 1.6965, 1.7091, 1.7056, 1.6945, 1.5097, 1.6473, 1.5569, 1.6318, 1.4737, 1.4699, 1.4647, 1.4481, 1.6059, 1.5336, 1.6444, 1.1946, 1.37, 1.1598, 1.1122, 1.449, 0.8775, 0.5113, 1.3104, 1.3579, 0.9211, 1.0537, 0.7129, 1.1368, 1.1765, 0.7499, 0.681, 1.1311, 1.1439, 0.683, 1.2331, 0.2492, 0.9481, 1.1212, 0.2066, 0.6427, 0.876, 0.2106, 0.766, -0.0651, -0.004, -0.3, 0.067, 0.3275, -0.1657, 0.5061, 0.4508, 0.613, 0.0272, 0.2262, -0.0914, 0.122, 0.4281, -0.2142, 0.2732, -0.1639, 0.063, -0.0166, 1.7708, 1.7625, 1.762, 1.757, 1.7553, 1.7543, 1.754, 1.7539, 1.7509, 1.7504, 1.7504, 1.7502, 1.75, 1.7464, 1.7463, 1.7452, 1.7435, 1.7427, 1.7424, 1.742, 1.7416, 1.7412, 1.7408, 1.7402, 1.7397, 1.7396, 1.7389, 1.7387, 1.7385, 1.7369, 1.728, 1.7232, 1.6977, 1.6869, 1.6469, 1.6593, 1.6674, 1.5947, 1.627, 1.6197, 1.6428, 1.7149, 1.6031, 1.7152, 1.5365, 1.5741, 0.7139, 1.5514, 1.377, 1.2662, 1.3916, 1.5601, 0.8311, 0.7798, 1.4062, 1.4295, 0.3585, 1.211, 0.5533, 1.2581, 0.2349, 0.1392, 0.4371, 1.0403, 0.3052, 0.3366, 0.3482, 0.2932, 0.7942, 0.5791, 0.2239, 0.3917, 0.1, 0.1297, 0.7119, -0.0181, 0.3702, 0.2619, 1.0346, 0.6039, 0.1283, 0.4028, 0.2515, 0.3891, 0.4247, 0.1954, 0.3885, 0.1723, 0.2761, -0.0401, 0.0217, 2.0037, 2.0006, 1.9919, 1.9894, 1.9885, 1.986, 1.9833, 1.9723, 1.9708, 1.9682, 1.9658, 1.9633, 1.9627, 1.9623, 1.9582, 1.9578, 1.9575, 1.9564, 1.9559, 1.9557, 1.9546, 1.9537, 1.9528, 1.9525, 1.9525, 1.9521, 1.9519, 1.9508, 1.9506, 1.9504, 1.9436, 1.9503, 1.9408, 1.9361, 1.942, 1.942, 1.9094, 1.9362, 1.9398, 1.8994, 1.8539, 1.9236, 1.8806, 1.835, 1.8825, 1.8766, 1.8242, 1.8404, 1.8885, 1.6019, 1.8776, 1.8253, 1.8867, 1.8569, 1.7051, 0.6147, 1.6713, 0.971, 0.739, 0.9312, 0.4904, 0.7697, 1.6632, 0.6358, 0.4096, 0.8627, 0.1346, 0.2575, 0.7441, 0.494, 0.4088, 0.2195, 0.0697, -0.1289, 0.0772, 0.0931, 0.198, 0.2874, 0.3501, 0.6118, 0.3823, 0.2621, 0.3878, -0.2785, 0.5319, 0.1282, -0.1419, -0.3105, 0.0952, 0.3039, 2.2123, 2.2007, 2.1915, 2.189, 2.1852, 2.1817, 2.1795, 2.1787, 2.1773, 2.1751, 2.1738, 2.1737, 2.1713, 2.168, 2.1674, 2.1672, 2.1669, 2.1664, 2.1624, 2.1617, 2.1606, 2.1581, 2.1568, 2.156, 2.1558, 2.1544, 2.1532, 2.153, 2.1528, 2.1523, 2.1468, 2.1111, 2.0893, 2.0888, 2.0984, 2.1165, 2.0635, 2.0717, 2.0854, 2.0166, 1.9488, 1.9992, 2.0538, 1.9855, 1.8733, 0.6854, 1.9171, 0.3979, 1.2152, 1.6363, 0.8328, 1.7674, 0.7887, 0.3016, 0.2105, -0.0359, 0.1227, 0.0245, 0.3321, 0.4814, 0.6588, 0.0258, -0.0374, 1.1748, 1.0077, 0.3961, -0.2119, 0.3806, 0.1241, -0.2171, 0.2586, 0.4928, 0.0738, 0.2596, 0.3978, -0.0845, -0.0017, 0.2707, 0.3002, -0.3962, -0.3519, -0.171, 2.3635, 2.3435, 2.3309, 2.3231, 2.3212, 2.316, 2.3147, 2.3126, 2.3104, 2.306, 2.3058, 2.3057, 2.305, 2.3019, 2.2989, 2.2986, 2.2966, 2.2957, 2.2956, 2.2947, 2.2944, 2.29, 2.2899, 2.2891, 2.2888, 2.2884, 2.288, 2.2878, 2.2878, 2.2866, 2.2859, 2.2834, 2.2733, 2.2509, 2.2286, 2.1983, 2.2606, 2.2468, 2.2357, 2.164, 2.1692, 2.1589, 2.1956, 2.0267, 2.2238, 2.0763, 2.1789, 2.1307, 1.8169, 2.2204, 0.7087, 1.9594, 0.4308, 2.0486, 0.2208, 1.88, 1.8074, 0.4104, 0.6497, 0.0851, 1.8415, 0.2533, -0.1661, 0.0287, -0.4384, 0.7495, 0.804, 0.3162, -0.2168, -0.5365, -0.3298, 0.281, 0.0642, -0.0315, 0.2936, -0.3473, 0.3122, 0.1833, -0.1314, 0.494, -0.217, -0.2048, -0.2541, -0.8296, -0.0693, -0.0292, -0.6368, 2.4411, 2.439, 2.4357, 2.4345, 2.4335, 2.4298, 2.4283, 2.4133, 2.4108, 2.4083, 2.3978, 2.3953, 2.3953, 2.3933, 2.3928, 2.3905, 2.3884, 2.3882, 2.388, 2.3854, 2.3843, 2.3835, 2.3818, 2.3818, 2.3798, 2.3798, 2.379, 2.3776, 2.3763, 2.3729, 2.3666, 2.3662, 2.3719, 2.2986, 2.2939, 2.2923, 2.2279, 2.2655, 2.2861, 2.3223, 2.3484, 2.2527, 2.2851, 2.2665, 2.1787, 2.2498, 2.1425, 2.0723, 2.0849, 1.9994, 1.9621, 2.0315, 0.6747, 0.4962, 0.4892, 0.0827, 0.0927, -0.0576, 0.166, 0.0429, 0.7121, 0.4168, 1.2248, 0.032, -0.3067, -0.1791, -0.4814, -0.2894, 0.4059, 0.3342, 0.0952, -0.0206, 0.4985, -0.0725, 1.4064, -0.1271, -0.1265, 0.5843, 0.448, 0.6294, 0.028, -1.165, -0.5858, 0.1373, 0.0548, -0.1695, -0.5242, -0.3318, 2.4431, 2.4307, 2.4272, 2.4261, 2.4223, 2.4211, 2.4208, 2.418, 2.4155, 2.4154, 2.4108, 2.4098, 2.408, 2.4054, 2.4006, 2.3988, 2.3971, 2.397, 2.3949, 2.3941, 2.3938, 2.3908, 2.3896, 2.3854, 2.3841, 2.3835, 2.3783, 2.3778, 2.3775, 2.3762, 2.3748, 2.357, 2.3353, 2.2866, 2.3578, 2.2798, 2.3254, 2.2858, 2.3425, 2.2488, 2.2214, 2.2499, 2.2706, 2.3348, 2.224, 2.0418, 1.7916, 1.0355, 2.0238, 2.2137, 2.0943, 1.7792, 0.11, 1.51, 0.1664, 0.4864, -0.0433, 0.0621, -0.2279, -0.0121, 0.2111, 0.4696, 0.1833, 0.7546, 0.146, 0.6226, 0.247, -0.2498, 0.3209, -0.6527, 0.3513, 0.2404, -0.1406, 0.2043, 0.5459, 0.1589, -0.5063, 0.2254, 0.144, -0.3892, -0.2879, -0.1752, 0.0817, -0.3341, -0.6299, 2.5098, 2.5094, 2.4783, 2.476, 2.4755, 2.4753, 2.4613, 2.457, 2.4562, 2.4479, 2.4383, 2.4352, 2.4343, 2.4319, 2.4303, 2.4288, 2.4279, 2.4271, 2.4266, 2.4262, 2.426, 2.4257, 2.4251, 2.4241, 2.4238, 2.4231, 2.4229, 2.4208, 2.4185, 2.4161, 2.4151, 2.3837, 2.387, 2.4064, 2.3788, 2.3414, 2.4125, 2.3738, 2.2395, 2.3706, 2.2934, 2.3592, 2.2692, 2.2801, 2.1076, 2.313, 2.091, 2.2862, 2.1984, 2.0696, 2.2378, 0.2568, 0.6659, 0.3909, 0.5518, 0.2468, 0.3732, 0.5597, 0.3518, 0.8354, 0.0362, -0.0351, -0.2478, -0.2874, 0.4068, -0.1718, -0.3751, 0.1443, -0.0116, -0.1561, 0.0608, -0.0384, -0.0673, -0.011, 0.2369, -0.7693, -0.3537, 0.0501, -0.0667, -0.0204, -0.2546, -0.704, 2.6065, 2.5997, 2.5963, 2.593, 2.5899, 2.5884, 2.5775, 2.5757, 2.5747, 2.5734, 2.5705, 2.5687, 2.5686, 2.5662, 2.5656, 2.5603, 2.5588, 2.5565, 2.5559, 2.554, 2.5504, 2.5466, 2.5454, 2.5426, 2.5426, 2.5409, 2.5406, 2.5359, 2.533, 2.533, 2.5324, 2.5325, 2.5109, 2.4938, 2.4887, 2.4853, 2.4418, 2.443, 2.4289, 2.3168, 2.3445, 2.2675, 2.4266, 2.1304, 2.2832, 2.3455, 0.1184, 1.252, 2.1005, 1.1093, 2.0221, -0.3513, -0.0334, -0.25, -0.161, -0.1625, 0.9571, -0.3964, -0.4203, 0.4366, 0.0706, 0.1673, -0.4209, 0.1447, -0.3655, -0.0858, 0.2117, -0.4568, 0.0698, -0.032, 0.1767, 0.0682, -0.2805, -0.4326, -0.4978, 0.1143, -0.3141, -0.277, -0.1088, -0.2643, -0.3524, 3.2382, 3.2164, 3.2052, 3.1963, 3.1812, 3.1743, 3.1735, 3.1652, 3.1483, 3.148, 3.1386, 3.1352, 3.1189, 3.1077, 3.0948, 3.0905, 3.0893, 3.0887, 3.0818, 3.0753, 3.0693, 3.0661, 3.0653, 3.0627, 3.0626, 3.0591, 3.0569, 3.0549, 3.0508, 3.0498, 3.0487, 3.0161, 2.9625, 2.9326, 3.0294, 3.0014, 2.9704, 2.9454, 2.5651, 2.9073, 2.8566, 2.7057, 2.9883, 2.7395, 2.634, 2.6235, -0.7259, -0.4814, -0.3962, -0.6918, 0.0966, -0.7551, -0.518, -0.7507, -0.0134, -0.7487, -0.5687, -1.0205, -0.5166, -1.1774, -0.2244, -0.9835, -0.4697, -0.3436, 0.8953, -0.7602, 0.1523, -0.3643, -0.5398, -1.1753, -0.5409, -0.8008, -0.7429, -1.0904, -0.8585, -0.8526, -0.8308]}, \"token.table\": {\"Topic\": [1, 2, 3, 4, 5, 6, 7, 8, 9, 10, 5, 1, 1, 5, 6, 2, 9, 3, 7, 1, 2, 3, 4, 5, 6, 7, 8, 9, 10, 1, 1, 2, 3, 9, 3, 6, 7, 9, 8, 1, 2, 3, 4, 5, 6, 7, 8, 9, 10, 1, 1, 3, 5, 2, 5, 5, 7, 9, 1, 2, 4, 5, 6, 7, 1, 2, 3, 4, 5, 6, 7, 8, 5, 7, 6, 1, 1, 1, 2, 3, 4, 5, 6, 7, 8, 9, 10, 1, 1, 6, 8, 1, 6, 7, 9, 10, 10, 4, 4, 5, 8, 1, 3, 10, 4, 1, 2, 3, 4, 5, 6, 7, 8, 9, 8, 5, 9, 7, 2, 3, 5, 2, 3, 5, 2, 3, 4, 9, 1, 1, 4, 9, 1, 2, 3, 4, 5, 6, 7, 8, 9, 10, 2, 8, 10, 8, 1, 6, 8, 4, 1, 2, 3, 4, 5, 6, 7, 8, 9, 10, 3, 6, 9, 9, 5, 3, 1, 9, 3, 9, 1, 2, 3, 4, 7, 7, 1, 2, 3, 4, 5, 6, 7, 8, 9, 10, 10, 8, 4, 1, 2, 3, 4, 5, 6, 7, 8, 9, 10, 1, 2, 3, 4, 5, 6, 7, 8, 9, 10, 2, 4, 5, 8, 9, 1, 2, 3, 4, 5, 6, 7, 8, 9, 10, 1, 5, 2, 8, 1, 8, 9, 10, 2, 5, 6, 1, 2, 3, 4, 7, 6, 3, 2, 4, 7, 2, 5, 10, 8, 2, 1, 2, 3, 4, 6, 3, 8, 1, 1, 2, 3, 4, 5, 6, 7, 8, 9, 10, 8, 3, 5, 10, 1, 2, 3, 4, 5, 6, 7, 8, 9, 10, 1, 2, 3, 9, 10, 1, 2, 3, 4, 5, 6, 7, 8, 9, 10, 2, 3, 5, 6, 8, 3, 7, 7, 4, 10, 1, 1, 6, 1, 2, 3, 7, 1, 3, 7, 8, 7, 9, 10, 2, 7, 1, 2, 3, 5, 6, 8, 9, 10, 7, 10, 1, 2, 3, 4, 5, 6, 7, 8, 9, 10, 5, 1, 2, 3, 5, 7, 10, 1, 2, 3, 4, 5, 6, 7, 8, 9, 1, 1, 2, 3, 7, 1, 2, 5, 10, 7, 3, 1, 2, 3, 1, 2, 3, 4, 5, 6, 7, 8, 9, 10, 1, 2, 3, 4, 5, 6, 7, 8, 9, 10, 2, 4, 1, 2, 3, 4, 5, 6, 7, 8, 9, 10, 2, 1, 2, 3, 4, 5, 6, 7, 8, 9, 10, 1, 2, 3, 4, 5, 6, 7, 8, 9, 10, 9, 7, 9, 3, 4, 1, 2, 3, 4, 5, 6, 7, 8, 9, 10, 1, 2, 3, 4, 5, 6, 7, 8, 9, 10, 8, 3, 6, 4, 2, 8, 9, 6, 2, 9, 6, 8, 1, 5, 1, 2, 3, 4, 5, 6, 7, 8, 9, 10, 5, 1, 2, 7, 1, 2, 3, 4, 5, 6, 7, 8, 9, 10, 1, 2, 3, 4, 5, 6, 7, 8, 9, 10, 3, 8, 4, 7, 4, 1, 2, 3, 5, 6, 9, 1, 2, 3, 4, 5, 6, 7, 8, 9, 10, 6, 1, 2, 3, 4, 6, 1, 2, 3, 4, 5, 6, 7, 8, 9, 8, 1, 5, 3, 9, 1, 2, 3, 4, 5, 6, 7, 8, 9, 10, 1, 2, 3, 4, 5, 6, 7, 8, 9, 10, 8, 5, 10, 1, 7, 10, 5, 6, 8, 10, 5, 3, 1, 2, 3, 4, 5, 6, 7, 8, 9, 10, 2, 3, 1, 6, 8, 9, 9, 2, 1, 2, 3, 4, 5, 6, 7, 8, 9, 10, 1, 2, 3, 4, 5, 6, 7, 8, 9, 10, 1, 2, 4, 7, 9, 1, 2, 3, 4, 5, 6, 7, 8, 9, 10, 1, 2, 3, 4, 5, 6, 7, 8, 9, 10, 1, 2, 3, 4, 5, 6, 7, 8, 9, 5, 10, 6, 2, 4, 2, 3, 7, 1, 2, 3, 4, 5, 6, 7, 8, 9, 10, 1, 2, 3, 4, 5, 6, 7, 8, 9, 10, 2, 3, 4, 5, 1, 2, 3, 4, 5, 6, 7, 8, 9, 10, 2, 3, 4, 5, 9, 10, 10, 5, 3, 4, 5, 7, 6, 4, 5, 1, 2, 3, 4, 5, 6, 7, 8, 9, 10, 2, 7, 1, 2, 3, 4, 5, 6, 7, 8, 9, 10, 2, 1, 2, 3, 4, 5, 6, 7, 8, 9, 10, 1, 2, 3, 4, 5, 6, 7, 8, 9, 10, 1, 2, 3, 4, 5, 6, 7, 8, 9, 10, 1, 4, 9, 10, 8, 7, 4, 7, 8, 1, 1, 2, 3, 4, 5, 6, 7, 8, 9, 10, 1, 1, 2, 3, 4, 5, 6, 7, 8, 9, 10, 2, 3, 4, 5, 7, 2, 1, 2, 3, 4, 5, 7, 8, 9, 1, 2, 3, 4, 5, 6, 7, 8, 9, 10, 1, 8, 2, 3, 8, 1, 2, 4, 9, 10, 6, 10, 1, 2, 3, 4, 5, 6, 7, 8, 9, 10, 1, 2, 6, 8, 4, 6, 9, 4, 1, 2, 3, 4, 5, 6, 7, 8, 9, 10, 3, 1, 2, 3, 4, 5, 6, 7, 8, 9, 10, 8, 1, 2, 3, 5, 7, 8, 9, 7, 2, 8, 10, 4, 4, 7, 8, 10, 7, 8, 2, 4, 5, 6, 9, 5, 2, 3, 4, 8, 9, 1, 2, 5, 7, 8, 9, 1, 6, 5, 6, 10, 1, 2, 4, 5, 6, 7, 1, 3, 6, 10, 4, 9, 8, 2, 8, 3, 2, 10, 7, 4, 3, 6, 7, 8, 1, 3, 4, 6, 5, 1, 2, 3, 4, 5, 6, 7, 8, 9, 10, 1, 2, 3, 4, 5, 6, 7, 8, 9, 10, 1, 2, 3, 4, 5, 6, 7, 8, 9, 10, 1, 2, 3, 4, 5, 6, 7, 8, 9, 10, 1, 10, 10, 1, 2, 3, 4, 5, 6, 7, 8, 9, 10, 1, 2, 3, 4, 5, 6, 7, 8, 9, 10, 1, 2, 3, 4, 5, 6, 7, 8, 9, 10, 1, 2, 3, 4, 5, 6, 7, 8, 9, 10, 1, 2, 3, 4, 5, 6, 7, 8, 9, 10, 6, 8, 9, 8, 9, 1, 9, 2, 4, 6, 9, 3, 1, 2, 3, 4, 5, 6, 7, 8, 9, 10, 1, 2, 5, 6, 7, 8, 9, 2, 4, 5, 6, 7, 8, 1, 2, 3, 5, 7, 8, 5, 6, 2, 2, 4, 6, 8, 9, 1, 2, 3, 4, 5, 6, 7, 8, 9, 10, 1, 2, 3, 4, 5, 6, 7, 8, 9, 10, 8, 1, 9, 9, 10, 4, 1, 2, 3, 4, 5, 6, 7, 8, 9, 10, 1, 2, 3, 4, 5, 6, 7, 8, 9, 10, 5, 8, 9, 10, 1, 2, 5, 7, 8, 9, 10, 2, 1, 2, 3, 4, 5, 6, 7, 8, 9, 10, 3, 4, 6, 1, 2, 3, 4, 5, 6, 7, 8, 9, 10, 1, 2, 3, 4, 5, 6, 7, 8, 9, 10, 5, 5, 1, 2, 3, 4, 5, 6, 7, 8, 9, 10, 4, 4, 5, 1, 6, 10, 1, 2, 3, 4, 5, 6, 7, 8, 9, 10, 2, 10, 5, 2, 3, 4, 9, 1, 2, 3, 1, 2, 3, 4, 5, 6, 7, 8, 9, 10, 5, 5, 10, 1, 2, 3, 4, 5, 6, 7, 8, 9, 10, 1, 2, 3, 4, 5, 6, 7, 8, 9, 10, 7, 10, 1, 2, 3, 4, 5, 6, 7, 8, 9, 1, 4, 7, 1, 8, 5, 7, 8, 6, 2, 8, 9, 3, 1, 2, 3, 4, 5, 6, 7, 8, 9, 10, 2, 8, 1, 2, 3, 4, 5, 6, 7, 8, 9, 10, 2, 9, 2, 3, 4, 9, 1, 2, 3, 4, 5, 6, 7, 8, 9, 10, 2, 4, 5, 7, 1, 2, 3, 4, 5, 6, 7, 8, 9, 10, 9, 9, 4, 5, 1, 3, 4, 1, 2, 3, 4, 5, 6, 7, 8, 9, 10, 2, 8, 2, 5, 1, 2, 3, 4, 5, 6, 7, 8, 9, 10, 7, 9, 2, 3, 4, 6, 7, 8, 9, 10, 1, 5, 7, 9, 2, 4, 6, 1, 2, 3, 4, 5, 6, 7, 8, 9, 10, 1, 1, 2, 3, 4, 5, 6, 7, 8, 9, 2, 3, 5, 3, 6, 1, 2, 1, 2, 3, 4, 5, 6, 7, 8, 9, 10, 10, 2, 8, 3, 5, 6, 1, 6, 5, 10, 1, 2, 3, 4, 5, 6, 7, 8, 9, 10, 3, 1, 2, 3, 4, 5, 6, 7, 8, 9, 10, 2, 5, 6, 6, 3, 9, 2, 1, 9, 1, 2, 3, 4, 5, 6, 7, 8, 9, 10, 1, 2, 3, 4, 5, 6, 7, 8, 9, 10, 3, 6, 4, 5, 7, 1, 2, 3, 4, 5, 6, 7, 8, 9, 10, 1, 2, 3, 4, 5, 6, 7, 8, 9, 10, 1, 2, 3, 4, 5, 6, 7, 8, 9, 10, 3, 6, 9, 2, 5, 6, 7, 1, 2, 3, 4, 5, 6, 7, 8, 9, 10, 3, 1, 4, 10, 2, 10, 3, 5, 6, 6, 8, 2, 6, 8, 3, 1, 2, 3, 4, 5, 6, 7, 8, 9, 10, 7, 8, 9, 1, 2, 3, 4, 5, 6, 7, 8, 9, 10, 1, 2, 3, 4, 5, 6, 7, 8, 9, 1, 2, 5, 8, 9, 5, 1, 3, 9, 1, 1, 2, 3, 4, 5, 6, 7, 8, 9, 10, 2, 6, 8, 1, 10, 1, 2, 3, 4, 5, 6, 7, 8, 9, 10, 6, 2, 2, 3, 3, 5, 6, 5, 7, 1, 3, 6, 7, 8, 9, 10, 2, 6, 5, 4, 10, 5, 4, 1, 2, 3, 4, 5, 6, 7, 8, 9, 10, 1, 2, 4, 1, 2, 3, 4, 5, 6, 7, 8, 9, 3, 4, 5, 9, 7, 4, 1, 2, 3, 4, 5, 6, 7, 8, 9, 10, 5, 2, 3, 3, 1, 3, 5, 9, 3, 4, 7, 2, 6, 1, 2, 3, 5, 6, 7, 9, 1, 5, 6, 4, 10, 1, 4, 5, 10, 2, 3, 4, 1, 5, 1, 2, 3, 4, 5, 6, 7, 8, 9, 10, 1, 2, 3, 4, 5, 6, 7, 8, 9, 10, 1, 5, 7, 3, 6, 7, 3, 3, 5, 10, 1, 2, 6, 9, 1, 2, 3, 4, 5, 6, 7, 8, 9, 10, 1, 2, 4, 6, 8, 1, 2, 3, 4, 5, 6, 7, 8, 9, 10, 2, 6, 8, 5, 8, 2, 5, 1, 6, 4, 1, 2, 3, 4, 5, 6, 7, 8, 9, 10, 4, 1, 2, 3, 4, 5, 6, 7, 8, 9, 10, 1, 2, 3, 4, 5, 6, 7, 8, 9, 10, 1, 2, 3, 4, 5, 6, 7, 8, 9, 10, 6, 2, 9, 1, 8, 1, 2, 3, 4, 5, 6, 7, 8, 9, 10, 9, 4, 1, 2, 3, 4, 5, 6, 7, 8, 9, 10, 3, 1, 2, 3, 4, 5, 6, 7, 8, 9, 10, 7, 3, 2, 1, 2, 3, 4, 5, 6, 6, 9, 2, 6, 7, 8, 5, 6, 5, 4, 10, 7, 1, 2, 3, 4, 5, 6, 7, 8, 9, 10, 9, 9, 5, 1, 2, 3, 4, 5, 6, 7, 8, 9, 10, 6, 4, 5, 6, 7, 3, 9, 1, 2, 3, 4, 5, 6, 7, 8, 9, 10, 1, 5, 9, 1, 3, 4, 1, 3, 6, 9, 1, 2, 3, 4, 5, 6, 7, 8, 9, 10, 7, 1, 2, 3, 4, 5, 6, 7, 8, 9, 10, 1, 2, 3, 4, 5, 6, 7, 8, 9, 10, 1, 2, 3, 4, 5, 6, 7, 8, 9, 10, 1, 2, 3, 4, 5, 6, 7, 8, 9, 10, 1, 2, 3, 4, 5, 6, 7, 8, 9, 10, 8, 7, 2, 8, 2, 3, 5, 8, 10, 1, 8, 2, 1, 2, 3, 4, 5, 6, 7, 8, 9, 10, 1, 2, 3, 4, 5, 6, 7, 8, 9, 10, 1, 2, 3, 4, 5, 6, 7, 8, 9, 10, 10, 2, 3, 4, 6, 7, 8, 3, 6, 8, 1, 2, 3, 4, 5, 6, 7, 8, 9, 10, 6, 10, 9, 10, 7, 1, 1, 2, 3, 4, 5, 6, 7, 8, 9, 10, 6, 10, 1, 3, 6, 7, 2, 6, 7, 9, 7, 8, 1, 2, 3, 5, 6, 8, 1, 2, 3, 6, 8, 9, 2, 8, 3, 6, 4, 1, 2, 3, 4, 5, 6, 7, 9, 1, 2, 3, 4, 5, 6, 7, 8, 9, 10, 10, 3, 1, 2, 5, 8, 7, 1, 2, 3, 4, 5, 6, 7, 8, 9, 10, 6, 4, 4, 1, 3, 2, 6, 7, 8, 6, 7, 8, 1, 2, 3, 4, 5, 6, 7, 8, 9, 10, 3, 6, 10, 1, 2, 3, 4, 5, 6, 7, 8, 9, 1, 2, 3, 4, 5, 6, 7, 8, 9, 10, 8, 7, 1, 3, 9, 8, 4, 5, 2, 3, 4, 6, 1, 3, 9, 2, 7, 1, 2, 3, 4, 5, 6, 7, 8, 9, 10, 1, 2, 3, 4, 7, 7, 9, 1, 2, 3, 4, 5, 6, 7, 8, 9, 10, 1, 2, 3, 5, 8, 1, 5, 7, 8, 2, 3, 5, 7, 10, 6, 10, 1, 2, 3, 4, 5, 6, 7, 8, 9, 10, 1, 2, 3, 4, 5, 6, 7, 8, 9, 10, 7, 1, 2, 3, 4, 5, 6, 7, 8, 9, 10, 1, 2, 3, 4, 5, 6, 7, 8, 9, 10, 5, 1, 8, 1, 2, 3, 4, 5, 6, 7, 8, 9, 10, 1, 2, 3, 4, 5, 6, 7, 8, 9, 10, 6, 1, 2, 3, 4, 5, 6, 7, 8, 9, 10, 1, 2, 3, 4, 9, 4, 5, 7, 5, 8, 10, 1, 2, 3, 4, 5, 6, 8, 2, 3, 4, 6, 7, 8, 9, 10], \"Freq\": [0.13711845290868505, 0.24644262482236634, 0.1908540628323589, 0.04817675372467312, 0.08338284298501117, 0.05744151405634103, 0.1000594115820134, 0.06670627438800894, 0.05744151405634103, 0.01297066446433507, 0.87972970602564, 0.9486491584803024, 0.0786369793305955, 0.8650067726365506, 0.8480192883475715, 0.9436531686773973, 0.9073564403059888, 0.9205704414324846, 0.03682281765729938, 0.1000601429521732, 0.16676690492028867, 0.330968165149496, 0.1000601429521732, 0.07953498542352229, 0.030787736292976372, 0.08466627480568502, 0.05387853851270865, 0.0359190256751391, 0.012828223455406821, 0.9686389135669516, 0.022254882339445583, 0.8456855288989322, 0.06676464701833676, 0.044509764678891166, 0.8938156198485467, 0.8218952942037592, 0.17117950647823438, 0.7703077791520546, 0.8818895022473603, 0.1977398186420523, 0.11805362306988197, 0.03541608692096459, 0.20069115921879935, 0.11510228249313492, 0.029513405767470493, 0.23020456498626984, 0.03541608692096459, 0.023610724613976394, 0.014756702883735246, 0.9469295652218429, 0.0437934515132088, 0.875869030264176, 0.8885266898119152, 0.11395831707602697, 0.8356943252241977, 0.12117098969969804, 0.06058549484984902, 0.7876114330480373, 0.9620620838438955, 0.04846250615067584, 0.8238626045614894, 0.04846250615067584, 0.04846250615067584, 0.8468733296992833, 0.050467989857478544, 0.025233994928739272, 0.1766379645011749, 0.1766379645011749, 0.050467989857478544, 0.025233994928739272, 0.47944590364604617, 0.025233994928739272, 0.9134148582159617, 0.8834304498497767, 0.843087281770381, 0.9584860533199865, 0.9356364024580297, 0.16643390352938534, 0.1815642583956931, 0.1397756592411288, 0.10735347024189791, 0.13905516615225702, 0.031701695910359116, 0.06340339182071823, 0.11455840113061588, 0.04467057151005148, 0.012248382510820567, 0.9719252188201617, 0.07022233079713604, 0.07022233079713604, 0.7724456387684964, 0.06014656457347768, 0.06014656457347768, 0.7819053394552099, 0.06014656457347768, 0.7354808525414939, 0.8319402202533857, 0.9113353430737954, 0.8425100777692005, 0.12035858253845723, 0.060179291269228614, 0.9387648745687804, 0.9217478021980108, 0.7281856210741521, 0.8630476384651055, 0.06416304245722447, 0.16040760614306115, 0.06416304245722447, 0.032081521228612235, 0.5774673821150201, 0.032081521228612235, 0.032081521228612235, 0.032081521228612235, 0.032081521228612235, 0.8815641043964826, 0.8987644364528926, 0.8079292485158658, 0.9484219387173738, 0.1802825981567306, 0.10301862751813176, 0.6953757357473894, 0.04805784518587321, 0.14417353555761964, 0.7689255229739713, 0.8524467648119188, 0.027498282735868348, 0.08249484820760504, 0.027498282735868348, 0.9526531085187865, 0.06831980194963423, 0.06831980194963423, 0.8198376233956107, 0.23068640546677574, 0.22254453233265425, 0.0922745621867103, 0.17097933581655145, 0.04613728109335515, 0.08956060447533647, 0.051565196516102814, 0.03256749253648599, 0.056993111938850476, 0.008141873134121498, 0.9168178322687222, 0.840597423820641, 0.8200792339764372, 0.9411832046258051, 0.9185655796620293, 0.035329445371616516, 0.035329445371616516, 0.9512438333579084, 0.2110082704926066, 0.09929800964357957, 0.062061256027237235, 0.08688575843813214, 0.062061256027237235, 0.33513078254708106, 0.049649004821789786, 0.07447350723268469, 0.024824502410894893, 0.024824502410894893, 0.03743977871321159, 0.9359944678302896, 0.8374602679573304, 0.8551649148860822, 0.8855422829520538, 0.9254392526033378, 0.937119364520716, 0.028397556500627755, 0.9496256400757813, 0.8915988188503798, 0.0973781933648447, 0.019475638672968937, 0.311610218767503, 0.5453178828431303, 0.019475638672968937, 0.8536688933411359, 0.1639444987003117, 0.15768707508579596, 0.2728236695928851, 0.1176395639528954, 0.020023755566450283, 0.0588197819764477, 0.06883165975967284, 0.07634056809709171, 0.05131087363902885, 0.012514847229031427, 0.7828992566228655, 0.8326173719885661, 0.9062130582494494, 0.1642143658807852, 0.1358316359754643, 0.16826904158154532, 0.16826904158154532, 0.08109351401520257, 0.060820135511401925, 0.0729841626136823, 0.05271078410988167, 0.0729841626136823, 0.02432805420456077, 0.2555101926962103, 0.1751481159611119, 0.17720868203124263, 0.07830151066496767, 0.06799868031431404, 0.08242264280522914, 0.05563528389352966, 0.057695849963660395, 0.039150755332483834, 0.010302830350653642, 0.07916361738304428, 0.7124725564473986, 0.07916361738304428, 0.03958180869152214, 0.03958180869152214, 0.042692611683645264, 0.08538522336729053, 0.1280778350509358, 0.021346305841822632, 0.042692611683645264, 0.0640389175254679, 0.49096503436192057, 0.021346305841822632, 0.0640389175254679, 0.0640389175254679, 0.9279237814245409, 0.02811890246741033, 0.06622109368648002, 0.8608742179242402, 0.16488985266403133, 0.6183369474901176, 0.16488985266403133, 0.8027453819569842, 0.3153785570587732, 0.035042061895419245, 0.6307571141175464, 0.05052048264127711, 0.10104096528255423, 0.15156144792383133, 0.05052048264127711, 0.6567662743366025, 0.9122369100685602, 0.9009773629587181, 0.9012462182470604, 0.07899872099461286, 0.8689859309407414, 0.9173737992549901, 0.20831374871460057, 0.6249412461438016, 0.8551001089234275, 0.9548839453208832, 0.026499844699540483, 0.052999689399080965, 0.026499844699540483, 0.8479950303852954, 0.026499844699540483, 0.9505917690275009, 0.8439055316936261, 0.9649467763979005, 0.2676009896141394, 0.11038540821583252, 0.11373042058600927, 0.13045548243689298, 0.0702452597737116, 0.06355523503335812, 0.15052555665795345, 0.0468301731824744, 0.030105111331590686, 0.016725061850883714, 0.8179494504756988, 0.22009784373380278, 0.11004892186690139, 0.44019568746760557, 0.5391534957186966, 0.0898589159531161, 0.11750781316945952, 0.041473345824515125, 0.020736672912257562, 0.03456112152042927, 0.055297794432686835, 0.055297794432686835, 0.041473345824515125, 0.013824448608171709, 0.028942397139191164, 0.028942397139191164, 0.8103871198973526, 0.028942397139191164, 0.028942397139191164, 0.12893164604414034, 0.1734716692230252, 0.1758158809692823, 0.1547179752529684, 0.07032635238771291, 0.0750147758802271, 0.05626108191017033, 0.0890800463577697, 0.060949505402684526, 0.011721058731285487, 0.039031016379691794, 0.8977133767329112, 0.039031016379691794, 0.9619693758304871, 0.9048931871257857, 0.07210717532847154, 0.8652861039416585, 0.9120142314418336, 0.8340157468363733, 0.06950131223636444, 0.9185114328460088, 0.20242310483953793, 0.7590866431482672, 0.04245542779709673, 0.04245542779709673, 0.8491085559419347, 0.04245542779709673, 0.18714103955220154, 0.07485641582088061, 0.6362795344774852, 0.037428207910440305, 0.9080188853846796, 0.8960981044424512, 0.8074338635366188, 0.09191062967224911, 0.8271956670502421, 0.043668982069677044, 0.043668982069677044, 0.043668982069677044, 0.043668982069677044, 0.6987037131148327, 0.043668982069677044, 0.043668982069677044, 0.8695857780390117, 0.8801452578736884, 0.7935206334328192, 0.5532509060337167, 0.08571492910381527, 0.06623426339840272, 0.0935071953859803, 0.0311690651286601, 0.0311690651286601, 0.05064973083407266, 0.04675359769299015, 0.027272931987577586, 0.01558453256433005, 0.9015898999117338, 0.027449005400668518, 0.08234701620200556, 0.027449005400668518, 0.8234701620200555, 0.027449005400668518, 0.9135913375100907, 0.12144515869308932, 0.03036128967327233, 0.06072257934654466, 0.6072257934654466, 0.03036128967327233, 0.03036128967327233, 0.03036128967327233, 0.091083869019817, 0.03036128967327233, 0.9333422199422179, 0.015492894355472572, 0.6661944572853206, 0.216900520976616, 0.07746447177736286, 0.9060488937969281, 0.07374457444160493, 0.8849348932992591, 0.8186892986387143, 0.9470140297179013, 0.8990562069201398, 0.9479690672558898, 0.05879873852932561, 0.8819810779398841, 0.16372002180376224, 0.16372002180376224, 0.1038224528511663, 0.12378830916869828, 0.11180879537817909, 0.047918055162076756, 0.03993171263506396, 0.17969270685778782, 0.05191122642558315, 0.015972685054025586, 0.13207047708639816, 0.19210251212567003, 0.14807901976353732, 0.08004271338569585, 0.08004271338569585, 0.06003203503927189, 0.17209183377924608, 0.0560298993699871, 0.0560298993699871, 0.01600854267713917, 0.9210087184967869, 0.9069338249043198, 0.526974604371102, 0.11710546763802267, 0.1040937490115757, 0.03903515587934089, 0.026023437252893925, 0.03252929656611741, 0.03903515587934089, 0.058552733819011334, 0.04554101519256437, 0.006505859313223481, 0.9327232405176433, 0.24039230905886685, 0.20309005420490475, 0.08289389967547132, 0.10361737459433916, 0.04559164482150923, 0.15335371439962195, 0.04144694983773566, 0.0621704247566035, 0.05388103478905636, 0.016578779935094264, 0.20924523663390884, 0.19529555419164824, 0.055798729769042356, 0.06974841221130294, 0.07393331694398113, 0.16042134808599678, 0.03487420610565147, 0.13391695144570165, 0.05161382503636418, 0.015344650686486648, 0.9350253591738444, 0.9372815219607459, 0.9037332330766036, 0.9733846387339768, 0.9397836799470254, 0.17895767666980358, 0.22025560205514289, 0.11270892136415515, 0.11787116203732256, 0.06366763496906475, 0.08517697110726229, 0.0868977179983181, 0.08001473043409488, 0.043018672276395095, 0.010324481346334824, 0.17200996865586246, 0.23295064326536802, 0.16218082758981317, 0.1415396313511097, 0.09239392602086327, 0.04816279122364149, 0.043248220690616845, 0.05406027586327106, 0.04128239247740699, 0.01179496927925914, 0.9515700341933766, 0.8717721000841384, 0.09176548421938299, 0.9139853337409528, 0.8817457194434359, 0.09121507442518303, 0.030405024808394344, 0.9649978070581143, 0.9330169123205627, 0.9033585298060455, 0.886707502012368, 0.889830940544084, 0.9235804076896187, 0.051310022649423255, 0.4800307073728969, 0.10811502418308488, 0.11243962515040828, 0.04757061064055735, 0.034596807738587164, 0.05621981257520414, 0.04324600967323396, 0.05621981257520414, 0.05621981257520414, 0.008649201934646791, 0.9141691904026309, 0.06639795192221491, 0.06639795192221491, 0.796775423066579, 0.18435626366600927, 0.08998341440840929, 0.17996682881681858, 0.12070945835274417, 0.12290417577733952, 0.0768151098608372, 0.08559397955921859, 0.08559397955921859, 0.032920761368930226, 0.01755773939676279, 0.1728121471232866, 0.1674117675256839, 0.14851043893407442, 0.07425521946703721, 0.13635958483946833, 0.07560531436643789, 0.09990702255565007, 0.07290512456763654, 0.03645256228381827, 0.014851043893407441, 0.9146215057536171, 0.8737949236622271, 0.07207332084913763, 0.8648798501896515, 0.9396484678925565, 0.031192761973581434, 0.031192761973581434, 0.12477104789432573, 0.12477104789432573, 0.5926624774980472, 0.06238552394716287, 0.15217074839958777, 0.23000521166144589, 0.16878709448919793, 0.06996356248256909, 0.07258719607566544, 0.06821447342050486, 0.08045809685495446, 0.07433628513772966, 0.06646538435844064, 0.01661634608961016, 0.8699968707760247, 0.8695560494202194, 0.03220577960815627, 0.03220577960815627, 0.03220577960815627, 0.03220577960815627, 0.07117113861692824, 0.6761258168608183, 0.07117113861692824, 0.01779278465423206, 0.01779278465423206, 0.10675670792539237, 0.01779278465423206, 0.03558556930846412, 0.8772530769557576, 0.8241382822538931, 0.06951756990461408, 0.9037284087599832, 0.9516425089221583, 0.02643451413672662, 0.10696283651605505, 0.4635056249029052, 0.08913569709671254, 0.05942379806447503, 0.07130855767737003, 0.02376951922579001, 0.04753903845158002, 0.06536617787092253, 0.029711899032237515, 0.035654278838685015, 0.19030781243112194, 0.2516974293443871, 0.14733508059183634, 0.059343296349489635, 0.06957489916836716, 0.05320433465816312, 0.10231602818877523, 0.059343296349489635, 0.05115801409438762, 0.014324243946428533, 0.8512477517696706, 0.9240058192036741, 0.7700778604202764, 0.9109725511437279, 0.03373972411643437, 0.03373972411643437, 0.2024739810297161, 0.10123699051485804, 0.10123699051485804, 0.5061849525742902, 0.8924597810597683, 0.910546937056726, 0.1742454256405759, 0.21128972872951726, 0.10152883068820959, 0.07408860617788267, 0.08780871843304613, 0.13308508887508555, 0.09741279701166056, 0.05625246024617018, 0.048020392893072104, 0.015092123480679804, 0.09713186995763376, 0.8741868296187038, 0.07128627034397919, 0.07128627034397919, 0.07128627034397919, 0.712862703439792, 0.9026934587867347, 0.934350534525136, 0.2542121093923201, 0.14056434284045932, 0.2751472242834523, 0.035888768384798125, 0.11663849725059391, 0.07177753676959625, 0.038879499083531305, 0.029907306987331773, 0.023925845589865418, 0.017944384192399063, 0.348209995821732, 0.04096588186138024, 0.04096588186138024, 0.1536220569801759, 0.1024147046534506, 0.1024147046534506, 0.04096588186138024, 0.04096588186138024, 0.04096588186138024, 0.08193176372276048, 0.8449566101439947, 0.054513329686709334, 0.027256664843354667, 0.027256664843354667, 0.054513329686709334, 0.26241443606016673, 0.24283126919000503, 0.14099880146516422, 0.07441603410661445, 0.03916633374032339, 0.05874950061048509, 0.05287455054943658, 0.048957917175404236, 0.04308296711435573, 0.03916633374032339, 0.1218567500245347, 0.3335026842776739, 0.12827026318372073, 0.08337567106941847, 0.08337567106941847, 0.07375540133063942, 0.05451486185308131, 0.04489459211430226, 0.06092837501226735, 0.01603378289796509, 0.03416043644684719, 0.06832087289369437, 0.06832087289369437, 0.03416043644684719, 0.6490482924900965, 0.03416043644684719, 0.03416043644684719, 0.03416043644684719, 0.06832087289369437, 0.11885033710213089, 0.5942516855106544, 0.953722075204134, 0.959271648137942, 0.9205649962703046, 0.9489277287141503, 0.9645290253400901, 0.9261171364351098, 0.08666144505992464, 0.22711275257083696, 0.11355637628541848, 0.11056805059369694, 0.07769646798476001, 0.1673462387364062, 0.08068479367648156, 0.035859908300658466, 0.08666144505992464, 0.017929954150329233, 0.21697884829251993, 0.21697884829251993, 0.09603981809668914, 0.08003318174724096, 0.07291912114748621, 0.08359021204711833, 0.07114060599754751, 0.06758357569767014, 0.08181169689717964, 0.014228121199509502, 0.8572514977270115, 0.03297121145103891, 0.03297121145103891, 0.03297121145103891, 0.14230074786729202, 0.2544794396166901, 0.19631271056144667, 0.09555962630504282, 0.04777981315252141, 0.09659831789531502, 0.06128280382606007, 0.0664762617774211, 0.031160747708166136, 0.008309532722177637, 0.044313970531439796, 0.6868665432373169, 0.0664709557971597, 0.1550988968600393, 0.022156985265719898, 0.022156985265719898, 0.8337641429743192, 0.8728105131660957, 0.10197651640354968, 0.05098825820177484, 0.05098825820177484, 0.7648238730266226, 0.9267111918035905, 0.8276982095364885, 0.059121300681177755, 0.1029379050719704, 0.1089930759585569, 0.13926893039148935, 0.08477239241221092, 0.12110341773172989, 0.07266205063903793, 0.030275854432932472, 0.14532410127807585, 0.17559995571100834, 0.01816551265975948, 0.9287176082954042, 0.9447773903809229, 0.14303958123929206, 0.22077848408673342, 0.06219112227795307, 0.09950579564472492, 0.09639623953082727, 0.13371091289759912, 0.04975289782236246, 0.09017712730303196, 0.07773890284744134, 0.02487644891118123, 0.9759316064645365, 0.23599311434156156, 0.1598663032636385, 0.11165265624762052, 0.0862770525549795, 0.12434045809394104, 0.06597656960086667, 0.07612681107792309, 0.053288767754546155, 0.06597656960086667, 0.01776292258484872, 0.20534632791607982, 0.1874192675424538, 0.14097188384715004, 0.12874888813785956, 0.09778396567432372, 0.08963530186813008, 0.03015005608291648, 0.03829871988911013, 0.05785551302397487, 0.023631125037961567, 0.6508986279701802, 0.05811594892590894, 0.03486956935554537, 0.046492759140727154, 0.05811594892590894, 0.023246379570363577, 0.046492759140727154, 0.03486956935554537, 0.03486956935554537, 0.011623189785181788, 0.9232842751023999, 0.9537867419433527, 0.15682255799479208, 0.6272902319791683, 0.913993907011131, 0.812262451175292, 0.9159664955887319, 0.8770016604635849, 0.8387398212748461, 0.962310976543949, 0.14258568732552754, 0.17715191455595844, 0.19011424976737004, 0.08209478967227343, 0.19011424976737004, 0.06913245446086183, 0.06481167605705797, 0.038887005634234785, 0.034566227230430915, 0.012962335211411593, 0.9550754224869572, 0.25007887946991164, 0.14418962419886797, 0.06758888634321937, 0.11940703253968754, 0.11940703253968754, 0.06984184922132668, 0.06758888634321937, 0.06758888634321937, 0.06533592346511205, 0.027035554537287745, 0.11983213311703726, 0.039944044372345756, 0.039944044372345756, 0.7189927987022235, 0.039944044372345756, 0.9267630677206845, 0.21406536025272943, 0.17751761581933662, 0.08353770156204075, 0.34981412529104566, 0.005221106347627547, 0.005221106347627547, 0.06265327617153056, 0.09397991425729585, 0.1540608003973207, 0.2844199391950536, 0.10369476949819663, 0.23109120059598107, 0.0355524923993817, 0.038515200099330175, 0.0355524923993817, 0.038515200099330175, 0.0711049847987634, 0.0059254153998969505, 0.9351095525882049, 0.03596575202262327, 0.06468094582641011, 0.06468094582641011, 0.7761713499169213, 0.9260870626635288, 0.05171161380651916, 0.8273858209043066, 0.05171161380651916, 0.05171161380651916, 0.1801306259192739, 0.7205225036770956, 0.06765986555004055, 0.6495347092803894, 0.09472381177005677, 0.054127892440032445, 0.027063946220016222, 0.040595919330024335, 0.013531973110008111, 0.040595919330024335, 0.013531973110008111, 0.013531973110008111, 0.9122387036230128, 0.05067992797905627, 0.9243760549299298, 0.9282465595694506, 0.035612915984435674, 0.9259358155953274, 0.9178576713420612, 0.9133407541656055, 0.5232060874602446, 0.09020794611383526, 0.12027726148511368, 0.04209704151978979, 0.024055452297022738, 0.04209704151978979, 0.04209704151978979, 0.06013863074255684, 0.048110904594045475, 0.0060138630742556844, 0.8979625388328961, 0.13479085934555501, 0.18730677857109593, 0.21356473818386637, 0.07527281755660864, 0.057767511148095, 0.04551379666213546, 0.13304032870470364, 0.08052440947916273, 0.06126857242979773, 0.010503183845108182, 0.8191629067534535, 0.040564660924328096, 0.12169398277298428, 0.040564660924328096, 0.040564660924328096, 0.6084699138649214, 0.08112932184865619, 0.040564660924328096, 0.8933659154366712, 0.08277854933034857, 0.8277854933034858, 0.08277854933034857, 0.9446562513044922, 0.9245889137440052, 0.7997387490075984, 0.08885986100084427, 0.6953238052696914, 0.03492862537795142, 0.908144259826737, 0.062328748758655156, 0.062328748758655156, 0.810273733862517, 0.8971430207539872, 0.06408164433957052, 0.9389516088516151, 0.07345881680058897, 0.03672940840029448, 0.7345881680058897, 0.07345881680058897, 0.03672940840029448, 0.04839959236846127, 0.09679918473692253, 0.04839959236846127, 0.04839959236846127, 0.04839959236846127, 0.6775942931584577, 0.08735427499377105, 0.8735427499377105, 0.140430461829101, 0.7957726170315722, 0.7552697837939458, 0.03506865091243389, 0.07013730182486778, 0.10520595273730168, 0.03506865091243389, 0.666304367336244, 0.10520595273730168, 0.04668947598640028, 0.04668947598640028, 0.7937210917688048, 0.8475523218129275, 0.8709613963066215, 0.8828831125977504, 0.9121572520518244, 0.9427860867324915, 0.9539067363921775, 0.941552420436689, 0.9582765875183223, 0.8594049820105603, 0.848899669655189, 0.9412021076937753, 0.05317519465646502, 0.10635038931293005, 0.7976279198469753, 0.05317519465646502, 0.127571786446186, 0.04252392881539533, 0.04252392881539533, 0.7229067898617206, 0.8382187611803985, 0.12485442152609753, 0.37687538349544253, 0.09710899452029807, 0.12023018369179762, 0.06242721076304877, 0.05086661617729899, 0.04624237834299909, 0.06011509184589881, 0.04624237834299909, 0.01618483242004968, 0.1632622144795004, 0.17142532520347542, 0.17142532520347542, 0.13673210462658159, 0.07346799651577518, 0.08979421796372522, 0.07550877419676894, 0.06530488579180016, 0.0408155536198751, 0.01224466608596253, 0.1635110729072783, 0.14864642991570753, 0.1895241981425271, 0.0631747327141757, 0.10033634019310259, 0.14864642991570753, 0.06689089346206839, 0.059458571966283014, 0.05202625047049764, 0.011148482243678065, 0.22122459606980444, 0.19064883888942497, 0.06295008831254598, 0.08273440178220329, 0.07194295807148111, 0.12410160267330493, 0.05395721855361084, 0.1348930463840271, 0.039568626939314615, 0.016187165566083253, 0.2467487756217262, 0.4934975512434524, 0.8492870667698552, 0.3407073867050343, 0.16059775496669018, 0.1696032365536074, 0.07954842068443532, 0.06303837110842045, 0.028517358358571155, 0.028517358358571155, 0.03452101274984929, 0.07354476629315719, 0.021012790369473483, 0.19740766580950714, 0.1741832345378004, 0.17611860381044264, 0.08515624799625798, 0.06580255526983571, 0.0870916172689002, 0.10257457145003802, 0.06580255526983571, 0.029030539089633402, 0.015482954181137815, 0.35317191656745445, 0.15347261295863204, 0.17566142447072342, 0.048075758276197984, 0.024037879138098992, 0.07026456978828936, 0.05917016403224368, 0.06841550216228175, 0.03513228489414468, 0.009245338130038075, 0.1985172660327427, 0.17015765659949372, 0.28157040794440036, 0.08305314191165765, 0.046590786926051855, 0.040513727761784225, 0.0729247099712116, 0.04456510053796264, 0.05266784609031949, 0.012154118328535267, 0.21695978699647153, 0.11682450069040776, 0.05841225034520388, 0.12516910788257973, 0.06675685753737585, 0.2753720373416754, 0.025033821576515947, 0.06675685753737585, 0.03337842876868793, 0.016689214384343964, 0.87783224106503, 0.05852214940433533, 0.8611749721782191, 0.07912296250982923, 0.8703525876081215, 0.07041705933438103, 0.8450047120125724, 0.04781504337001845, 0.7650406939202952, 0.04781504337001845, 0.04781504337001845, 0.8866659140073309, 0.01950228929303979, 0.6825801252563927, 0.01950228929303979, 0.058506867879119365, 0.01950228929303979, 0.01950228929303979, 0.058506867879119365, 0.09751144646519895, 0.01950228929303979, 0.03900457858607958, 0.16890457136917933, 0.04222614284229483, 0.04222614284229483, 0.08445228568458966, 0.04222614284229483, 0.04222614284229483, 0.5489398569498328, 0.03367386881326642, 0.6734773762653284, 0.10102160643979927, 0.03367386881326642, 0.03367386881326642, 0.10102160643979927, 0.09574569113419604, 0.04787284556709802, 0.09574569113419604, 0.7180926835064703, 0.04787284556709802, 0.04787284556709802, 0.8857819391492315, 0.8670052442926369, 0.911211609247369, 0.055808093300259716, 0.11161618660051943, 0.055808093300259716, 0.055808093300259716, 0.7255052129033763, 0.20610187882137865, 0.18717415525615, 0.15878256990830703, 0.07360781386477809, 0.04206160792273034, 0.08412321584546067, 0.07045319327057331, 0.11251480119330365, 0.04416468831886685, 0.02103080396136517, 0.21853684517285282, 0.2926832747850708, 0.07804887327601887, 0.048780545797511794, 0.07414642961221793, 0.048780545797511794, 0.07024398594841698, 0.0760976514441184, 0.07414642961221793, 0.017560996487104245, 0.8533769898408551, 0.9284255443526934, 0.9463700708867374, 0.8520408383846976, 0.795200034422224, 0.8990361096685107, 0.13491007879734726, 0.20533483691168578, 0.1425464983519141, 0.10690987376393557, 0.18327406930960383, 0.04581851732740096, 0.05515191900520486, 0.0653338117446273, 0.04751549945063803, 0.012727365924278044, 0.17787976471342254, 0.1996055375028482, 0.09369239515439813, 0.08826095195704171, 0.1167760287431629, 0.0801137871610071, 0.09369239515439813, 0.07468234396365069, 0.062461596769598754, 0.012220747194051931, 0.866767586600593, 0.7351277004706844, 0.06682979095188041, 0.13365958190376082, 0.7862537574810485, 0.03418494597743689, 0.08546236494359223, 0.03418494597743689, 0.017092472988718445, 0.017092472988718445, 0.017092472988718445, 0.9373751178786632, 0.2143301973633622, 0.23536874434381494, 0.09533091600517644, 0.08415418792181092, 0.11242473542679428, 0.060485822568801605, 0.07757964199041945, 0.05785600419624501, 0.04602182151974035, 0.016436364828478697, 0.9292786807498158, 0.9595310369713012, 0.8218067488340797, 0.20552508245619494, 0.1591161928693122, 0.13922666876064818, 0.10386751478968992, 0.07513820218828632, 0.081768043557841, 0.09281777917376545, 0.041988995340512945, 0.08397799068102589, 0.01325968273910935, 0.27760702017787237, 0.14734526455594762, 0.10677193083764322, 0.09395929913712603, 0.06833403573609166, 0.09395929913712603, 0.061927719885833066, 0.06406315850258593, 0.0661985971193388, 0.017083508934022915, 0.9022173560034864, 0.9372331838308671, 0.23152272680925598, 0.17297674991496137, 0.11709195378858923, 0.09580250764520938, 0.05854597689429462, 0.03725653075091476, 0.08249660380559697, 0.077174242269752, 0.10644723071689931, 0.023950626911302345, 0.8906550752636584, 0.8535476273000485, 0.06565750979231143, 0.08852534704758476, 0.2655760411427543, 0.5311520822855086, 0.23809450488715786, 0.1806234175006025, 0.09031170875030126, 0.12725740778451541, 0.09031170875030126, 0.032840621363745916, 0.07799647573889654, 0.04515585437515063, 0.07799647573889654, 0.04105077670468239, 0.9224040455851856, 0.05425906150501092, 0.9614201580396625, 0.03541223362353468, 0.8144813733412976, 0.03541223362353468, 0.03541223362353468, 0.9293588470100382, 0.0442551831909542, 0.9115061149501237, 0.4313653952410134, 0.10572681255907192, 0.08458145004725753, 0.10572681255907192, 0.03383258001890301, 0.059207015033080276, 0.08881052254962041, 0.04651979752599164, 0.029603507516540138, 0.01268721750708863, 0.8433111583743974, 0.8135209956158829, 0.7725939094557525, 0.12384551758348342, 0.18863886784239195, 0.24071959874670454, 0.1554220237223186, 0.05823199833395578, 0.02542523870919196, 0.04223870301688342, 0.10006061685552965, 0.047979885951217084, 0.016813464307691456, 0.14945176486319384, 0.2085373463207356, 0.30933039704242443, 0.07646369365093639, 0.05560995901886282, 0.0521343365801839, 0.05560995901886282, 0.038231846825468194, 0.024329357070752487, 0.02780497950943141, 0.9211872918294324, 0.8115575263742233, 0.03674642123297864, 0.03674642123297864, 0.03674642123297864, 0.11023926369893591, 0.11023926369893591, 0.03674642123297864, 0.03674642123297864, 0.03674642123297864, 0.5879427397276582, 0.14181658989782361, 0.7563551461217259, 0.04727219663260787, 0.7113121026203106, 0.2815610406205396, 0.0899707244440788, 0.8097365199967091, 0.0899707244440788, 0.9198261892444477, 0.09565354663820014, 0.8608819197438012, 0.9126269025199588, 0.9022546937200613, 0.16131280868299272, 0.1592963985744553, 0.19155896031105385, 0.15324716824884307, 0.08670563466710858, 0.0685579436902719, 0.05444307293051004, 0.04839384260489781, 0.058475893147584855, 0.01814769097683668, 0.9651288783435662, 0.8961162115229855, 0.14393432538069062, 0.241735854165006, 0.13286245419756057, 0.13470776606141557, 0.05720466777950524, 0.05904997964336025, 0.08857496946504037, 0.07012185082649029, 0.04982342032408521, 0.020298430502405086, 0.9201243597527922, 0.9474065293730957, 0.04441969172232235, 0.8439741427241246, 0.04441969172232235, 0.9122940501657453, 0.17825390175987088, 0.11204530967763313, 0.1324171841644755, 0.09167343519079074, 0.20371874486842387, 0.08658046656908014, 0.11713827829934371, 0.025464843108552983, 0.03565078035197417, 0.020371874486842384, 0.06577631288623578, 0.06577631288623578, 0.06577631288623578, 0.7235394417485936, 0.16040179412467404, 0.13167311457995629, 0.16758396401085346, 0.10773254829269151, 0.12209688806505038, 0.06703358560434139, 0.09576226514905913, 0.08139792537670025, 0.05745735908943547, 0.014364339772358868, 0.8916113379559322, 0.9229741800887783, 0.08608235723862691, 0.8608235723862692, 0.04378958084068514, 0.8757916168137029, 0.04378958084068514, 0.20601445640470833, 0.4600989526371819, 0.034335742734118053, 0.027468594187294443, 0.013734297093647221, 0.1854130107642375, 0.034335742734118053, 0.013734297093647221, 0.013734297093647221, 0.006867148546823611, 0.08214884698026774, 0.8214884698026773, 0.8839745810720113, 0.06314104150514367, 0.2131539094826146, 0.1829906204048861, 0.14277290163458145, 0.15483821726567285, 0.07842455160209405, 0.07239189378654835, 0.0502721484628808, 0.046250376585850336, 0.046250376585850336, 0.014076201569606624, 0.24350692883765254, 0.6696440543035445, 0.10138251371536654, 0.6843319675787242, 0.0760368852865249, 0.025345628428841634, 0.025345628428841634, 0.025345628428841634, 0.025345628428841634, 0.025345628428841634, 0.06220917252791261, 0.06220917252791261, 0.8087192428628639, 0.06220917252791261, 0.8297628188932435, 0.09761915516391101, 0.024404788790977752, 0.7515228674474727, 0.0435665430404332, 0.0435665430404332, 0.0326749072803249, 0.0217832715202166, 0.0217832715202166, 0.0217832715202166, 0.0326749072803249, 0.0108916357601083, 0.0108916357601083, 0.9697585115706608, 0.020596438387862643, 0.7620682203509177, 0.020596438387862643, 0.061789315163587925, 0.020596438387862643, 0.041192876775725286, 0.041192876775725286, 0.020596438387862643, 0.041192876775725286, 0.08445496309409928, 0.8445496309409928, 0.056303308729399516, 0.07564650659836601, 0.8321115725820262, 0.9707734915837162, 0.9453907697734862, 0.06795927307627646, 0.2231844308982261, 0.21237272836336393, 0.10039438068086295, 0.06487021520917298, 0.06100889287529364, 0.09576079388020774, 0.09884985174731122, 0.05791983500819017, 0.016217553802293245, 0.7055210240278542, 0.09820426067606892, 0.7856340854085514, 0.8950847536889011, 0.03580339014755604, 0.03580339014755604, 0.11220865979029279, 0.7854606185320495, 0.9203163637342088, 0.7372601525191176, 0.39940144493340934, 0.171742621321366, 0.09985036123335234, 0.04792817339200912, 0.0599102167400114, 0.06390423118934549, 0.05192218784134321, 0.06390423118934549, 0.031952115594672745, 0.01198204334800228, 0.9237390609981951, 0.10703665158001036, 0.2854310708800276, 0.09646513043630563, 0.07267920786297, 0.07003632757704381, 0.13478689458223528, 0.03039312328815109, 0.15064417629779236, 0.03171456343111418, 0.019821602144446362, 0.8082991497814672, 0.028867826777909545, 0.11547130711163818, 0.9530513725451444, 0.9079852430831759, 0.04127205650378072, 0.9072659421193856, 0.8659671698276891, 0.11944374756243988, 0.3303235397181042, 0.147824346503682, 0.09307458853935532, 0.08759961274292266, 0.06752470148933622, 0.065699709557192, 0.09489958047149956, 0.04562479830360555, 0.05474975796432666, 0.010949951592865333, 0.6553046597363539, 0.04095654123352212, 0.08191308246704423, 0.030717405925141585, 0.02047827061676106, 0.04095654123352212, 0.030717405925141585, 0.06143481185028317, 0.030717405925141585, 0.01023913530838053, 0.9428136888228684, 0.9505729655899363, 0.10597337814760958, 0.7418136470332671, 0.05298668907380479, 0.7341467730875344, 0.055617179779358664, 0.055617179779358664, 0.0333703078676152, 0.022246871911743467, 0.022246871911743467, 0.022246871911743467, 0.044493743823486934, 0.011123435955871733, 0.011123435955871733, 0.07411435483053927, 0.20072637766604387, 0.2192549663736787, 0.09881913977405236, 0.08646674730229582, 0.1266120228355046, 0.06176196235878273, 0.05249766800496532, 0.06176196235878273, 0.018528588707634817, 0.7211938664513794, 0.04438116101239258, 0.06657174151858887, 0.033285870759294435, 0.02219058050619629, 0.02219058050619629, 0.02219058050619629, 0.04438116101239258, 0.011095290253098146, 0.011095290253098146, 0.062187913840946914, 0.8706307937732568, 0.9191967929812296, 0.8369323550496128, 0.04782470600283502, 0.07173705900425252, 0.02391235300141751, 0.22107579297522248, 0.19828447411179748, 0.10256093488541249, 0.08660701168101499, 0.077490484135645, 0.09572353922638499, 0.06609482470393249, 0.06609482470393249, 0.077490484135645, 0.0113956594317125, 0.8957306403012203, 0.14957321807653917, 0.7977238297415422, 0.04985773935884639, 0.9286759225723757, 0.7765515057871804, 0.9378043257777855, 0.1683008312504231, 0.7994289484395098, 0.8689249362554964, 0.8647920113961651, 0.9059726284099143, 0.05329250755352437, 0.8258247278684406, 0.9708530799200065, 0.31686866284191423, 0.15281609271808627, 0.0651715689533015, 0.0651715689533015, 0.09213911472708143, 0.08764452376478478, 0.130343137906603, 0.03820402317952157, 0.03146213673607659, 0.02022565933033495, 0.9589285519324311, 0.04347521611451501, 0.9129795384048152, 0.18651654991367872, 0.14606717764324237, 0.09887624332773329, 0.14157280294652722, 0.06067405840565452, 0.11460655476623631, 0.08314593188923027, 0.09887624332773329, 0.04719093431550907, 0.024719060831933322, 0.7777929646798462, 0.038889648233992304, 0.038889648233992304, 0.038889648233992304, 0.019444824116996152, 0.019444824116996152, 0.038889648233992304, 0.019444824116996152, 0.019444824116996152, 0.05835233753989556, 0.7877565567885901, 0.05835233753989556, 0.02917616876994778, 0.02917616876994778, 0.9227481407441853, 0.03915075253234393, 0.8613165557115665, 0.03915075253234393, 0.9667614511352902, 0.5336945334991225, 0.1137381792703048, 0.1443599967661561, 0.030621817495851293, 0.039370908208951665, 0.030621817495851293, 0.026247272139301107, 0.04374545356550184, 0.026247272139301107, 0.00874909071310037, 0.9133454060291673, 0.03512866946266028, 0.03512866946266028, 0.9281415254285007, 0.8672462991223079, 0.4014046478816753, 0.16884481220419673, 0.08920103286259451, 0.08442240610209836, 0.03663613849713703, 0.039821889670801115, 0.05097201877862543, 0.08282953051526633, 0.028671760562976805, 0.01752163145515249, 0.8850643063154365, 0.968790324132452, 0.09742555940309516, 0.8768300346278565, 0.9741230000262611, 0.8536357549649303, 0.9325133548945639, 0.9060552712509168, 0.8740900990123791, 0.2348687411493794, 0.039144790191563236, 0.039144790191563236, 0.07828958038312647, 0.039144790191563236, 0.1174343705746897, 0.4697374822987588, 0.13776614053249261, 0.8265968431949557, 0.8969418470566128, 0.9603299684522639, 0.679850990211039, 0.9118233700467563, 0.9168148110368213, 0.18970545191902194, 0.21078383546557994, 0.12647030127934797, 0.08431353418623197, 0.10749975608744576, 0.05480379722105078, 0.11171543279675736, 0.04426460544777178, 0.05691163557570658, 0.012647030127934797, 0.9796540649999328, 0.9436560121147032, 0.02550421654364063, 0.10190149690402524, 0.5774418157894763, 0.022644777089783387, 0.056611942724458464, 0.045289554179566774, 0.06793433126935015, 0.03396716563467508, 0.07925671981424184, 0.011322388544891693, 0.05139413011185198, 0.20557652044740793, 0.05139413011185198, 0.6681236914540758, 0.8363793786967182, 0.8743349423801376, 0.7155829297463342, 0.06408205341011948, 0.05340171117509957, 0.042721368940079656, 0.021360684470039828, 0.021360684470039828, 0.021360684470039828, 0.042721368940079656, 0.010680342235019914, 0.010680342235019914, 0.9143303118540455, 0.05445903964498816, 0.9258036739647987, 0.9437122984445939, 0.05959554077198245, 0.05959554077198245, 0.05959554077198245, 0.7747420300357719, 0.07568697954176486, 0.8704002647302959, 0.03784348977088243, 0.9172609577213818, 0.05395652692478717, 0.09765030446861833, 0.1627505074476972, 0.03255010148953944, 0.58590182681171, 0.03255010148953944, 0.03255010148953944, 0.06510020297907888, 0.1475076276084982, 0.7867073472453237, 0.9424002224193204, 0.9239306821859494, 0.8403515106814021, 0.05159216188882887, 0.05159216188882887, 0.773882428332433, 0.05159216188882887, 0.954339920670152, 0.9222742252755364, 0.9130658261516006, 0.9415573801092161, 0.042798062732237095, 0.23154472231454112, 0.18986667229792373, 0.13198049171928844, 0.07409431114065317, 0.05788618057863528, 0.07872520558694399, 0.06946341669436235, 0.06946341669436235, 0.08104065281008939, 0.011577236115727056, 0.721938103454051, 0.04375382445176066, 0.04375382445176066, 0.04375382445176066, 0.02187691222588033, 0.02187691222588033, 0.0328153683388205, 0.04375382445176066, 0.010938456112940165, 0.010938456112940165, 0.07100927059914863, 0.8521112471897836, 0.07100927059914863, 0.9284783161630453, 0.04642391580815227, 0.9031167970648623, 0.8910253915409255, 0.07134986797845658, 0.8561984157414789, 0.8082728368840789, 0.06779758779210646, 0.06779758779210646, 0.06779758779210646, 0.745773465713171, 0.16326469989205006, 0.177013306198749, 0.24575633773224376, 0.10827027466525424, 0.03265293997841001, 0.041245818920096856, 0.1048331230885795, 0.07561733468684423, 0.03437151576674738, 0.01718575788337369, 0.058330985545883236, 0.058330985545883236, 0.058330985545883236, 0.058330985545883236, 0.6999718265505989, 0.3074166398350666, 0.12244561078176382, 0.0989985789299367, 0.07815677283942371, 0.03647316065839773, 0.07034109555548133, 0.10681425621387908, 0.0989985789299367, 0.059920192510224846, 0.018236580329198865, 0.06217214404751648, 0.8082378726177143, 0.06217214404751648, 0.9197333562713903, 0.8500709723940709, 0.07119548824847567, 0.8543458589817081, 0.9697337546529202, 0.03343909498803173, 0.9202382874050143, 0.13120524437675857, 0.13572956314837092, 0.34384822664253967, 0.10405933174708439, 0.04976750648773601, 0.03393239078709273, 0.08369989727482874, 0.06107830341676692, 0.038456709558705095, 0.018097275086449458, 0.9398510506135357, 0.23152859011928675, 0.12977398681845373, 0.19613568462334482, 0.14599573517076042, 0.048665245056920145, 0.0693111065962196, 0.03244349670461343, 0.07668462857454084, 0.053089358243912886, 0.016221748352306716, 0.35833262335386257, 0.1540495390119409, 0.12725831483595118, 0.07032696346197302, 0.033489030219987156, 0.05358244835197944, 0.060280254395976875, 0.07032696346197302, 0.05693135137397816, 0.016744515109993578, 0.21973368791728196, 0.19247989716785163, 0.12604878221611523, 0.13456559182531222, 0.06643111495173641, 0.05280421957702124, 0.06472775302989701, 0.05621094342070004, 0.06643111495173641, 0.022143704983912136, 0.8917291920127782, 0.08172734470096547, 0.8172734470096548, 0.09716260148616793, 0.7773008118893434, 0.28516568739905973, 0.17892749013274337, 0.06150632473313053, 0.02236593626659292, 0.05032335659983407, 0.08387226099972345, 0.07828077693307522, 0.01677445219994469, 0.2068849104659845, 0.01118296813329646, 0.8311712050456688, 0.8979654679510031, 0.14130486299907002, 0.16158179401238948, 0.09885003868993239, 0.20720488879235827, 0.07667214539411422, 0.08871157318327266, 0.09061253546577136, 0.06019713894579216, 0.053226943909963596, 0.02154423920165193, 0.9590870051188662, 0.5200203057269984, 0.10651018310071053, 0.10024487821243344, 0.04385713421793963, 0.03132652444138545, 0.03759182932966254, 0.05638774399449381, 0.05638774399449381, 0.04385713421793963, 0.01253060977655418, 0.8741683899944317, 0.88740207824614, 0.9443787998974049, 0.02583823061773057, 0.7751469185319171, 0.05167646123546114, 0.10335292247092227, 0.02583823061773057, 0.02583823061773057, 0.9103167449784939, 0.8288473826734447, 0.05662182621703982, 0.05662182621703982, 0.05662182621703982, 0.8493273932555973, 0.12209370832693614, 0.7936091041250849, 0.9071728466012952, 0.1634360700930779, 0.6537442803723116, 0.8346230487805547, 0.17812342034876788, 0.19084652180225128, 0.19593576238364466, 0.0788832290115972, 0.1730341797673745, 0.038169304360450254, 0.04071392465114694, 0.06616012755811378, 0.027990823197663522, 0.010178481162786735, 0.8648026207748909, 0.9352584637581277, 0.863493911488827, 0.2785139595519556, 0.2075617341147654, 0.11437075145099318, 0.10060390173929955, 0.0529494219680524, 0.0508314450893303, 0.06459829480102393, 0.036005606938275626, 0.0773061560733565, 0.01747330924945729, 0.9293502564770599, 0.043134759354273924, 0.8626951870854784, 0.043134759354273924, 0.043134759354273924, 0.8935610850983385, 0.06382579179273846, 0.18870467978673497, 0.21343149989672094, 0.17308774076990174, 0.11192139628730488, 0.0793861066689023, 0.07157763716048568, 0.03383670120313868, 0.059864932897860754, 0.04945364021997193, 0.01561693901683324, 0.8559616923642079, 0.06847693538913664, 0.03423846769456832, 0.9163131071784955, 0.10887318108912568, 0.8709854487130054, 0.060316811669663975, 0.8142769575404637, 0.030158405834831988, 0.09047521750449597, 0.17325568785932194, 0.14885347830167095, 0.16837524594779174, 0.07076640771718784, 0.05612508198259725, 0.12201104778825489, 0.07320662867295293, 0.09516861727483882, 0.058565302938362346, 0.03416309338071137, 0.8934419226372555, 0.10806979047094178, 0.18912213332414812, 0.24045528379784548, 0.1323854933269037, 0.027017447617735446, 0.051333150473697346, 0.11077153523271534, 0.08915757713852697, 0.03782442666482962, 0.01621046857064127, 0.07028848644909914, 0.07028848644909914, 0.1405769728981983, 0.056230789159279315, 0.056230789159279315, 0.15463467018801813, 0.3655001295353156, 0.028115394579639658, 0.042173091869459486, 0.014057697289819829, 0.17314732786815612, 0.1412517674713905, 0.13213875021517177, 0.239216702975742, 0.050121594909203086, 0.05467810353731246, 0.041008577652984345, 0.11619097001678896, 0.031895560396765596, 0.015947780198382798, 0.08842844112135413, 0.10883500445705124, 0.06802187778565703, 0.2176700089141025, 0.040813126671394216, 0.040813126671394216, 0.09523062889991984, 0.07482406556422273, 0.2380765722497996, 0.020406563335697108, 0.06823595377662613, 0.5556356236096699, 0.029243980189982626, 0.09747993396660876, 0.019495986793321752, 0.029243980189982626, 0.029243980189982626, 0.06823595377662613, 0.05848796037996525, 0.04873996698330438, 0.8449542450217746, 0.9067088328255654, 0.2115993446352528, 0.7758642636625936, 0.037313354534621514, 0.14925341813848605, 0.07462670906924303, 0.6343270270885657, 0.11194006360386453, 0.8937912690668047, 0.04062687586667294, 0.931411351340983, 0.6232718276665113, 0.04721756270200844, 0.08499161286361519, 0.03777405016160675, 0.04721756270200844, 0.03777405016160675, 0.06610458778281181, 0.03777405016160675, 0.018887025080803376, 0.009443512540401688, 0.41858676738255735, 0.10811181409218369, 0.12751649867283205, 0.08039083611982889, 0.04989776035023862, 0.04989776035023862, 0.04435356475576767, 0.0526698581474741, 0.05544195594470958, 0.016632586783412874, 0.22559594397830735, 0.16272494319746758, 0.1312894428070477, 0.09615564825304902, 0.06287100078083975, 0.06656929494441856, 0.09430650117125962, 0.061021853699050346, 0.07951332451694439, 0.020340617899683448, 0.8700287776173288, 0.799809063887884, 0.05515924578537131, 0.027579622892685656, 0.027579622892685656, 0.027579622892685656, 0.08273886867805696, 0.12900222975726325, 0.06450111487863162, 0.7740133785435795, 0.13975541794009538, 0.30187170275060604, 0.1090092259932744, 0.09782879255806677, 0.06708260061124578, 0.05590216717603815, 0.06428749225244387, 0.05590216717603815, 0.08664835912285913, 0.02236086687041526, 0.925398653084312, 0.7518548519696598, 0.9005329925999068, 0.889156626678905, 0.9270545217784721, 0.9420714667549944, 0.10465374721617816, 0.17660319842730066, 0.13735804322123385, 0.28779780484448997, 0.04578601440707795, 0.0915720288141559, 0.03924515520606681, 0.06540859201011136, 0.03924515520606681, 0.006540859201011135, 0.9296730330727033, 0.8754171992473248, 0.05617639391220246, 0.05617639391220246, 0.05617639391220246, 0.7864695147708344, 0.9543810472928949, 0.9083958343822367, 0.9509804126145012, 0.8890138944136833, 0.07291343748226177, 0.8749612497871412, 0.018132205813753535, 0.14505764651002828, 0.23571867557879594, 0.5620983802263596, 0.018132205813753535, 0.018132205813753535, 0.2579315482163132, 0.02865906091292369, 0.08597718273877107, 0.5731812182584738, 0.02865906091292369, 0.02865906091292369, 0.9605742190873932, 0.9357055859482688, 0.18312780487465394, 0.7935538211235005, 0.9082590394305559, 0.05651259343544509, 0.14128148358861273, 0.08476889015316763, 0.05651259343544509, 0.5368696376367283, 0.028256296717722545, 0.028256296717722545, 0.028256296717722545, 0.5086908539902829, 0.08846797460700573, 0.07740947778113001, 0.07003714656387953, 0.02580315926037667, 0.040547821694877625, 0.05897864973800382, 0.10321263704150668, 0.018430828043126193, 0.007372331217250477, 0.6211223910975259, 0.9603532015597774, 0.04369842179572117, 0.08739684359144234, 0.1310952653871635, 0.74287317052726, 0.8674541761530373, 0.32986866534333653, 0.18150668188748184, 0.13889206961824696, 0.03945797432336561, 0.03787965535043099, 0.0899641814572736, 0.06786771583618886, 0.07260267275499273, 0.033144698431627116, 0.007891594864673123, 0.9328849346328281, 0.886445710034928, 0.8619376756488015, 0.9064982886249391, 0.045324914431246956, 0.27289165662578263, 0.6627368803769007, 0.03898452237511181, 0.03898452237511181, 0.06168531675689448, 0.7402238010827338, 0.12337063351378896, 0.15557616889515216, 0.3641144378397178, 0.1754369564136822, 0.09930393759265031, 0.016550656265441718, 0.03641144378397178, 0.043031706290148464, 0.06289249380867853, 0.033101312530883435, 0.00993039375926503, 0.20771345810435296, 0.7715071301018824, 0.9276683343812469, 0.024711562178297605, 0.04942312435659521, 0.7166353031706305, 0.024711562178297605, 0.07413468653489282, 0.024711562178297605, 0.024711562178297605, 0.024711562178297605, 0.04942312435659521, 0.1446610930760199, 0.3593194892533398, 0.10032946777852994, 0.11199568496207993, 0.041998381860779976, 0.06533081622787996, 0.08866325059497994, 0.034998651550649976, 0.034998651550649976, 0.01633270405696999, 0.8536613047064042, 0.8544942510700532, 0.06940599821033153, 0.06940599821033153, 0.8328719785239782, 0.8377291047950147, 0.05985715943536331, 0.8978573915304496, 0.047148865884267616, 0.015716288628089208, 0.8958284518010847, 0.015716288628089208, 0.9519239008949435, 0.9309467265679031, 0.9435681917881119, 0.9271056947601786, 0.8765194043120663, 0.12762080176522875, 0.5834093794981886, 0.07292617243727358, 0.02734731466397759, 0.018231543109318394, 0.04557885777329598, 0.09115771554659197, 0.018231543109318394, 0.009115771554659197, 0.018231543109318394, 0.574622992396347, 0.07072282983339655, 0.017680707458349137, 0.3359334417086336, 0.9049985543916438, 0.9470148739194792, 0.9145701407680851, 0.5118311751618484, 0.09970737178477566, 0.13294316237970089, 0.026588632475940177, 0.019941474356955133, 0.03323579059492522, 0.039882948713910266, 0.07311873930883549, 0.04653010683289531, 0.013294316237970089, 0.041211449275206695, 0.041211449275206695, 0.9066518840545472, 0.053008349651455865, 0.8481335944232938, 0.2176501407334516, 0.07255004691115054, 0.03627502345557527, 0.6529504222003548, 0.10165710636450462, 0.8132568509160369, 0.03388570212150154, 0.13846919204493807, 0.6923459602246904, 0.13612542378659967, 0.5445016951463987, 0.16437320212986015, 0.23151155229557766, 0.14353716242325815, 0.12501623823961194, 0.05093254150502709, 0.05324765702798286, 0.11575577614778883, 0.05324765702798286, 0.057877888073894414, 0.00694534656886733, 0.206736295141745, 0.09489534858965344, 0.08811710940467819, 0.13556478369950492, 0.07794975062721532, 0.09150622899716582, 0.13895390329199253, 0.09150622899716582, 0.050836793887314345, 0.020334717554925736, 0.8981445919236327, 0.1436409350768962, 0.2378055480717504, 0.18513720521022176, 0.08299254026665114, 0.09576062338459747, 0.05905238442050177, 0.06384041558973165, 0.0893765818256243, 0.0351122285743524, 0.007980051948716456, 0.17681514157101783, 0.2040174710434821, 0.22033886872696068, 0.05440465894492856, 0.09248792020637855, 0.038083261261449994, 0.07344628957565356, 0.08432722136463927, 0.035363028314203564, 0.019041630630724997, 0.8609738429548071, 0.9198277408343142, 0.8516152143033853, 0.14802778611456663, 0.24318850575964518, 0.14274107946761783, 0.10441245627723895, 0.07269221639554611, 0.07269221639554611, 0.05815377311643689, 0.10969916292418777, 0.03304191654343005, 0.014538443279109222, 0.15657209186337312, 0.335420700861779, 0.1489344288456476, 0.08465076511312448, 0.03946125892491518, 0.07701310209539897, 0.04900833769707207, 0.05346364112407863, 0.045189506188209314, 0.010820022608444484, 0.9496166618814729, 0.13366835587594822, 0.25326635850179663, 0.13366835587594822, 0.09145729612564879, 0.14773870912604803, 0.06331658962544916, 0.05628141300039925, 0.04221105975029944, 0.06683417793797411, 0.01055276493757486, 0.07413784346633684, 0.1853446086658421, 0.03706892173316842, 0.14827568693267368, 0.5189649042643578, 0.05978867649951615, 0.8370414709932261, 0.05978867649951615, 0.07528098704340515, 0.7528098704340515, 0.07528098704340515, 0.034551930281837055, 0.8119703616231708, 0.017275965140918528, 0.034551930281837055, 0.06910386056367411, 0.017275965140918528, 0.017275965140918528, 0.05359022818255796, 0.6430827381906955, 0.04287218254604636, 0.07502631945558114, 0.07502631945558114, 0.01071804563651159, 0.032154136909534774, 0.06430827381906955], \"Term\": [\"able_get\", \"able_get\", \"able_get\", \"able_get\", \"able_get\", \"able_get\", \"able_get\", \"able_get\", \"able_get\", \"able_get\", \"absolutely_refused\", \"absolutely_want\", \"actually_need\", \"actually_need\", \"advice_vent\", \"agree_take\", \"air_force\", \"al_community\", \"al_community\", \"al_mc\", \"al_mc\", \"al_mc\", \"al_mc\", \"al_mc\", \"al_mc\", \"al_mc\", \"al_mc\", \"al_mc\", \"al_mc\", \"along_fine\", \"also_glad\", \"also_glad\", \"also_glad\", \"also_glad\", \"also_nice\", \"also_wrote\", \"always_seems\", \"always_seems\", \"alz_could\", \"alzheimer_disease\", \"alzheimer_disease\", \"alzheimer_disease\", \"alzheimer_disease\", \"alzheimer_disease\", \"alzheimer_disease\", \"alzheimer_disease\", \"alzheimer_disease\", \"alzheimer_disease\", \"alzheimer_disease\", \"amazing_daughter\", \"andy_griffith\", \"andy_griffith\", \"angry_like\", \"anosognosia_characteristic\", \"anosognosia_characteristic\", \"another_level\", \"another_level\", \"another_level\", \"anymore_dad\", \"anyone_even\", \"anyone_even\", \"anyone_even\", \"anyone_even\", \"appointment_lo\", \"appointment_neurologist\", \"appointment_neurologist\", \"appointment_neurologist\", \"appointment_neurologist\", \"appointment_neurologist\", \"appointment_neurologist\", \"appointment_neurologist\", \"appointment_neurologist\", \"appointments_even\", \"approved_medicaid\", \"ask_book\", \"ask_visit\", \"assist_mom\", \"assisted_living\", \"assisted_living\", \"assisted_living\", \"assisted_living\", \"assisted_living\", \"assisted_living\", \"assisted_living\", \"assisted_living\", \"assisted_living\", \"assisted_living\", \"attack_others\", \"attorney_wwwnelforg\", \"attorney_wwwnelforg\", \"attorney_wwwnelforg\", \"available_time\", \"available_time\", \"available_time\", \"available_time\", \"awake_would\", \"aware_point\", \"awhile_still\", \"baby_doll\", \"baby_doll\", \"baby_doll\", \"baking_soda\", \"bare_minimum\", \"become_guardian\", \"become_interested\", \"become_upset\", \"become_upset\", \"become_upset\", \"become_upset\", \"become_upset\", \"become_upset\", \"become_upset\", \"become_upset\", \"become_upset\", \"becomes_available\", \"bed_bedroom\", \"bed_toilet\", \"behaviors_toward\", \"believes_fine\", \"believes_fine\", \"believes_fine\", \"best_loved\", \"best_loved\", \"best_loved\", \"best_right\", \"best_right\", \"best_right\", \"best_right\", \"best_speak\", \"best_whatever\", \"best_whatever\", \"best_whatever\", \"best_wishes\", \"best_wishes\", \"best_wishes\", \"best_wishes\", \"best_wishes\", \"best_wishes\", \"best_wishes\", \"best_wishes\", \"best_wishes\", \"best_wishes\", \"better_great\", \"better_health\", \"better_need\", \"bills_food\", \"blood_clots\", \"blood_clots\", \"blood_clots\", \"board_may\", \"body_dementia\", \"body_dementia\", \"body_dementia\", \"body_dementia\", \"body_dementia\", \"body_dementia\", \"body_dementia\", \"body_dementia\", \"body_dementia\", \"body_dementia\", \"book_naomi\", \"book_naomi\", \"books_read\", \"bother_others\", \"bring_great\", \"bring_us\", \"brother_let\", \"brother_let\", \"brothers_sister\", \"call_came\", \"care_coordinator\", \"care_coordinator\", \"care_coordinator\", \"care_coordinator\", \"care_coordinator\", \"care_easy\", \"care_facility\", \"care_facility\", \"care_facility\", \"care_facility\", \"care_facility\", \"care_facility\", \"care_facility\", \"care_facility\", \"care_facility\", \"care_facility\", \"care_gave\", \"care_god\", \"care_hard\", \"care_mom\", \"care_mom\", \"care_mom\", \"care_mom\", \"care_mom\", \"care_mom\", \"care_mom\", \"care_mom\", \"care_mom\", \"care_mom\", \"care_needs\", \"care_needs\", \"care_needs\", \"care_needs\", \"care_needs\", \"care_needs\", \"care_needs\", \"care_needs\", \"care_needs\", \"care_needs\", \"care_option\", \"care_option\", \"care_option\", \"care_option\", \"care_option\", \"care_provider\", \"care_provider\", \"care_provider\", \"care_provider\", \"care_provider\", \"care_provider\", \"care_provider\", \"care_provider\", \"care_provider\", \"care_provider\", \"care_trying\", \"care_trying\", \"care_wing\", \"care_wing\", \"caregiver_agreement\", \"caregiver_agreement\", \"caregiver_agreement\", \"caregiver_nurse\", \"caregiving_daughter\", \"caregiving_daughter\", \"caregiving_daughter\", \"cataract_surgery\", \"cataract_surgery\", \"cataract_surgery\", \"cataract_surgery\", \"cataract_surgery\", \"caught_guard\", \"certain_extent\", \"certainly_hope\", \"change_care\", \"change_care\", \"changed_phone\", \"changes_day\", \"changes_day\", \"changes_one\", \"characteristic_dementias\", \"charge_nurse\", \"charge_nurse\", \"charge_nurse\", \"charge_nurse\", \"charge_nurse\", \"child_adult\", \"classic_symptoms\", \"close_could\", \"come_back\", \"come_back\", \"come_back\", \"come_back\", \"come_back\", \"come_back\", \"come_back\", \"come_back\", \"come_back\", \"come_back\", \"coming_sure\", \"consider_placing\", \"consider_placing\", \"consider_placing\", \"consultants_highly\", \"consultants_highly\", \"consultants_highly\", \"consultants_highly\", \"consultants_highly\", \"consultants_highly\", \"consultants_highly\", \"consultants_highly\", \"consultants_highly\", \"consultants_highly\", \"contact_information\", \"contact_information\", \"contact_information\", \"contact_information\", \"contact_information\", \"could_get\", \"could_get\", \"could_get\", \"could_get\", \"could_get\", \"could_get\", \"could_get\", \"could_get\", \"could_get\", \"could_get\", \"course_mom\", \"course_mom\", \"course_mom\", \"cover_bills\", \"cover_mirrors\", \"cover_skilled\", \"cover_skilled\", \"current_events\", \"dad_hospice\", \"dad_hospice\", \"dad_moderate\", \"daughter_wrote\", \"daughter_wrote\", \"day_month\", \"day_month\", \"day_month\", \"day_month\", \"day_often\", \"day_often\", \"day_often\", \"day_often\", \"day_prior\", \"day_watching\", \"days_er\", \"days_family\", \"days_family\", \"days_feel\", \"days_feel\", \"days_feel\", \"days_feel\", \"days_feel\", \"days_feel\", \"days_feel\", \"deal_mention\", \"dementia_deal\", \"dementia_nursing\", \"dementia_specialist\", \"dementia_specialist\", \"dementia_specialist\", \"dementia_specialist\", \"dementia_specialist\", \"dementia_specialist\", \"dementia_specialist\", \"dementia_specialist\", \"dementia_specialist\", \"dementia_specialist\", \"dementia_suppose\", \"dementia_truly\", \"dementia_truly\", \"dementia_truly\", \"dementia_truly\", \"dementia_truly\", \"dentist_appointment\", \"different_kind\", \"different_kind\", \"different_kind\", \"different_kind\", \"different_kind\", \"different_kind\", \"different_kind\", \"different_kind\", \"different_kind\", \"digestive_system\", \"director_nursing\", \"director_nursing\", \"director_nursing\", \"director_nursing\", \"disease_continue\", \"doctors_medications\", \"doctors_medications\", \"doi_think\", \"done_really\", \"dr_going\", \"drive_work\", \"dry_erase\", \"dry_erase\", \"early_onset\", \"early_onset\", \"early_onset\", \"early_onset\", \"early_onset\", \"early_onset\", \"early_onset\", \"early_onset\", \"early_onset\", \"early_onset\", \"early_stages\", \"early_stages\", \"early_stages\", \"early_stages\", \"early_stages\", \"early_stages\", \"early_stages\", \"early_stages\", \"early_stages\", \"early_stages\", \"easier_say\", \"easter_bunny\", \"educated_social\", \"educated_social\", \"educated_social\", \"educated_social\", \"educated_social\", \"educated_social\", \"educated_social\", \"educated_social\", \"educated_social\", \"educated_social\", \"either_parent\", \"elder_care\", \"elder_care\", \"elder_care\", \"elder_care\", \"elder_care\", \"elder_care\", \"elder_care\", \"elder_care\", \"elder_care\", \"elder_care\", \"elder_law\", \"elder_law\", \"elder_law\", \"elder_law\", \"elder_law\", \"elder_law\", \"elder_law\", \"elder_law\", \"elder_law\", \"elder_law\", \"else_experiencing\", \"enjoy_little\", \"enjoy_vacation\", \"erase_board\", \"especially_appreciate\", \"even_though\", \"even_though\", \"even_though\", \"even_though\", \"even_though\", \"even_though\", \"even_though\", \"even_though\", \"even_though\", \"even_though\", \"every_day\", \"every_day\", \"every_day\", \"every_day\", \"every_day\", \"every_day\", \"every_day\", \"every_day\", \"every_day\", \"every_day\", \"every_visit\", \"everyone_responded\", \"everyone_responded\", \"excellent_article\", \"exelon_patch\", \"exelon_patch\", \"exelon_patch\", \"experience_area\", \"experience_much\", \"eyes_see\", \"facilities_specialize\", \"facility_spend\", \"fall_alert\", \"fall_alert\", \"family_dynamics\", \"family_dynamics\", \"family_dynamics\", \"family_dynamics\", \"family_dynamics\", \"family_dynamics\", \"family_dynamics\", \"family_dynamics\", \"family_dynamics\", \"family_dynamics\", \"family_event\", \"family_got\", \"family_got\", \"family_got\", \"family_member\", \"family_member\", \"family_member\", \"family_member\", \"family_member\", \"family_member\", \"family_member\", \"family_member\", \"family_member\", \"family_member\", \"family_members\", \"family_members\", \"family_members\", \"family_members\", \"family_members\", \"family_members\", \"family_members\", \"family_members\", \"family_members\", \"family_members\", \"family_sometimes\", \"far_behind\", \"far_disease\", \"far_disease\", \"fast_mom\", \"father_care\", \"father_care\", \"father_care\", \"father_care\", \"father_care\", \"father_care\", \"feel_like\", \"feel_like\", \"feel_like\", \"feel_like\", \"feel_like\", \"feel_like\", \"feel_like\", \"feel_like\", \"feel_like\", \"feel_like\", \"feeling_lost\", \"feelings_behind\", \"feelings_behind\", \"feelings_behind\", \"feelings_behind\", \"feelings_behind\", \"feil_validation\", \"feil_validation\", \"feil_validation\", \"feil_validation\", \"feil_validation\", \"feil_validation\", \"feil_validation\", \"feil_validation\", \"financial_stress\", \"find_facilities\", \"fine_sees\", \"fine_sees\", \"first_facility\", \"first_facility\", \"first_thing\", \"first_thing\", \"first_thing\", \"first_thing\", \"first_thing\", \"first_thing\", \"first_thing\", \"first_thing\", \"first_thing\", \"first_thing\", \"first_time\", \"first_time\", \"first_time\", \"first_time\", \"first_time\", \"first_time\", \"first_time\", \"first_time\", \"first_time\", \"first_time\", \"forget_let\", \"forgetting_eat\", \"forgotten_name\", \"fortunate_enough\", \"fortunate_enough\", \"fortunate_enough\", \"foster_home\", \"foster_home\", \"foster_home\", \"foster_home\", \"free_could\", \"friend_years\", \"full_time\", \"full_time\", \"full_time\", \"full_time\", \"full_time\", \"full_time\", \"full_time\", \"full_time\", \"full_time\", \"full_time\", \"full_year\", \"full_year\", \"fully_vaccinated\", \"fully_vaccinated\", \"fully_vaccinated\", \"fully_vaccinated\", \"funny_things\", \"gained_pounds\", \"geri_psych\", \"geri_psych\", \"geri_psych\", \"geri_psych\", \"geri_psych\", \"geri_psych\", \"geri_psych\", \"geri_psych\", \"geri_psych\", \"geri_psych\", \"geriatric_care\", \"geriatric_care\", \"geriatric_care\", \"geriatric_care\", \"geriatric_care\", \"geriatric_care\", \"geriatric_care\", \"geriatric_care\", \"geriatric_care\", \"geriatric_care\", \"geriatric_case\", \"geriatric_case\", \"geriatric_case\", \"geriatric_case\", \"geriatric_case\", \"geriatric_psychiatrist\", \"geriatric_psychiatrist\", \"geriatric_psychiatrist\", \"geriatric_psychiatrist\", \"geriatric_psychiatrist\", \"geriatric_psychiatrist\", \"geriatric_psychiatrist\", \"geriatric_psychiatrist\", \"geriatric_psychiatrist\", \"geriatric_psychiatrist\", \"get_mom\", \"get_mom\", \"get_mom\", \"get_mom\", \"get_mom\", \"get_mom\", \"get_mom\", \"get_mom\", \"get_mom\", \"get_mom\", \"get_relief\", \"get_relief\", \"get_relief\", \"get_relief\", \"get_relief\", \"get_relief\", \"get_relief\", \"get_relief\", \"get_relief\", \"get_trouble\", \"get_trouble\", \"gets_care\", \"getting_stuff\", \"give_dh\", \"give_give\", \"give_needy\", \"given_mother\", \"glad_found\", \"glad_found\", \"glad_found\", \"glad_found\", \"glad_found\", \"glad_found\", \"glad_found\", \"glad_found\", \"glad_found\", \"glad_found\", \"go_back\", \"go_back\", \"go_back\", \"go_back\", \"go_back\", \"go_back\", \"go_back\", \"go_back\", \"go_back\", \"go_back\", \"go_feel\", \"go_feel\", \"go_feel\", \"go_feel\", \"go_home\", \"go_home\", \"go_home\", \"go_home\", \"go_home\", \"go_home\", \"go_home\", \"go_home\", \"go_home\", \"go_home\", \"go_let\", \"go_let\", \"go_let\", \"go_let\", \"go_let\", \"go_let\", \"go_probate\", \"go_testing\", \"go_town\", \"go_town\", \"go_town\", \"go_town\", \"go_visits\", \"goal_make\", \"goal_make\", \"god_bless\", \"god_bless\", \"god_bless\", \"god_bless\", \"god_bless\", \"god_bless\", \"god_bless\", \"god_bless\", \"god_bless\", \"god_bless\", \"god_please\", \"god_want\", \"going_get\", \"going_get\", \"going_get\", \"going_get\", \"going_get\", \"going_get\", \"going_get\", \"going_get\", \"going_get\", \"going_get\", \"good_conversations\", \"good_idea\", \"good_idea\", \"good_idea\", \"good_idea\", \"good_idea\", \"good_idea\", \"good_idea\", \"good_idea\", \"good_idea\", \"good_idea\", \"good_luck\", \"good_luck\", \"good_luck\", \"good_luck\", \"good_luck\", \"good_luck\", \"good_luck\", \"good_luck\", \"good_luck\", \"good_luck\", \"good_neurologist\", \"good_neurologist\", \"good_neurologist\", \"good_neurologist\", \"good_neurologist\", \"good_neurologist\", \"good_neurologist\", \"good_neurologist\", \"good_neurologist\", \"good_neurologist\", \"good_sign\", \"got_easier\", \"great_good\", \"great_good\", \"great_post\", \"great_source\", \"great_thread\", \"guilt_know\", \"hang_walls\", \"happy_moments\", \"hard_time\", \"hard_time\", \"hard_time\", \"hard_time\", \"hard_time\", \"hard_time\", \"hard_time\", \"hard_time\", \"hard_time\", \"hard_time\", \"health_aid\", \"health_care\", \"health_care\", \"health_care\", \"health_care\", \"health_care\", \"health_care\", \"health_care\", \"health_care\", \"health_care\", \"health_care\", \"health_proxy\", \"health_proxy\", \"health_proxy\", \"health_proxy\", \"health_proxy\", \"hear_better\", \"hearing_aid\", \"hearing_aid\", \"hearing_aid\", \"hearing_aid\", \"hearing_aid\", \"hearing_aid\", \"hearing_aid\", \"hearing_aid\", \"hearing_aids\", \"hearing_aids\", \"hearing_aids\", \"hearing_aids\", \"hearing_aids\", \"hearing_aids\", \"hearing_aids\", \"hearing_aids\", \"hearing_aids\", \"hearing_aids\", \"hearing_test\", \"hearing_test\", \"heart_prayers\", \"heart_prayers\", \"heart_prayers\", \"heart_smile\", \"held_liable\", \"held_liable\", \"held_liable\", \"held_liable\", \"help_evaluate\", \"help_evaluate\", \"help_line\", \"help_line\", \"help_line\", \"help_line\", \"help_line\", \"help_line\", \"help_line\", \"help_line\", \"help_line\", \"help_line\", \"help_problem\", \"help_problem\", \"helpful_post\", \"helps_see\", \"high_road\", \"high_road\", \"high_tailed\", \"highest_level\", \"highly_educated\", \"highly_educated\", \"highly_educated\", \"highly_educated\", \"highly_educated\", \"highly_educated\", \"highly_educated\", \"highly_educated\", \"highly_educated\", \"highly_educated\", \"highly_experienced\", \"home_care\", \"home_care\", \"home_care\", \"home_care\", \"home_care\", \"home_care\", \"home_care\", \"home_care\", \"home_care\", \"home_care\", \"home_pretty\", \"home_something\", \"home_something\", \"home_something\", \"home_something\", \"home_something\", \"home_something\", \"home_something\", \"honor_mom\", \"hoping_keep\", \"hoping_keep\", \"hoping_keep\", \"hospital_beds\", \"hospital_last\", \"house_insurance\", \"house_insurance\", \"https_pmc\", \"https_youtube\", \"https_youtube\", \"husband_stayed\", \"husband_stayed\", \"husband_stayed\", \"husbands_mom\", \"husbands_mom\", \"idea_dealing\", \"idea_go\", \"idea_go\", \"idea_go\", \"idea_go\", \"idea_go\", \"increased_mg\", \"increased_mg\", \"increased_mg\", \"increased_mg\", \"increased_mg\", \"increased_mg\", \"information_forum\", \"information_forum\", \"information_one\", \"information_one\", \"insurance_plan\", \"irrevocable_trust\", \"irrevocable_trust\", \"irrevocable_trust\", \"irrevocable_trust\", \"irrevocable_trust\", \"irrevocable_trust\", \"issue_many\", \"issue_many\", \"issue_many\", \"issue_take\", \"issues_called\", \"jjaz_wrote\", \"journey_together\", \"keeps_track\", \"kids_still\", \"kind_work\", \"know_alz\", \"know_denial\", \"know_order\", \"know_plenty\", \"know_stay\", \"know_stay\", \"know_stay\", \"know_stay\", \"know_went\", \"know_went\", \"know_went\", \"know_went\", \"knowledgeable_willing\", \"last_week\", \"last_week\", \"last_week\", \"last_week\", \"last_week\", \"last_week\", \"last_week\", \"last_week\", \"last_week\", \"last_week\", \"last_year\", \"last_year\", \"last_year\", \"last_year\", \"last_year\", \"last_year\", \"last_year\", \"last_year\", \"last_year\", \"last_year\", \"last_years\", \"last_years\", \"last_years\", \"last_years\", \"last_years\", \"last_years\", \"last_years\", \"last_years\", \"last_years\", \"last_years\", \"law_attorney\", \"law_attorney\", \"law_attorney\", \"law_attorney\", \"law_attorney\", \"law_attorney\", \"law_attorney\", \"law_attorney\", \"law_attorney\", \"law_attorney\", \"learning_let\", \"learning_let\", \"led_believe\", \"let_go\", \"let_go\", \"let_go\", \"let_go\", \"let_go\", \"let_go\", \"let_go\", \"let_go\", \"let_go\", \"let_go\", \"let_know\", \"let_know\", \"let_know\", \"let_know\", \"let_know\", \"let_know\", \"let_know\", \"let_know\", \"let_know\", \"let_know\", \"let_us\", \"let_us\", \"let_us\", \"let_us\", \"let_us\", \"let_us\", \"let_us\", \"let_us\", \"let_us\", \"let_us\", \"level_care\", \"level_care\", \"level_care\", \"level_care\", \"level_care\", \"level_care\", \"level_care\", \"level_care\", \"level_care\", \"level_care\", \"lewy_body\", \"lewy_body\", \"lewy_body\", \"lewy_body\", \"lewy_body\", \"lewy_body\", \"lewy_body\", \"lewy_body\", \"lewy_body\", \"lewy_body\", \"library_ask\", \"library_ask\", \"life_great\", \"life_together\", \"life_together\", \"like_charm\", \"like_charm\", \"like_facility\", \"like_facility\", \"like_facility\", \"like_facility\", \"like_god\", \"like_mine\", \"like_mine\", \"like_mine\", \"like_mine\", \"like_mine\", \"like_mine\", \"like_mine\", \"like_mine\", \"like_mine\", \"like_mine\", \"like_oh\", \"like_oh\", \"like_oh\", \"like_oh\", \"like_oh\", \"like_oh\", \"like_oh\", \"like_wonderful\", \"like_wonderful\", \"like_wonderful\", \"like_wonderful\", \"like_wonderful\", \"like_wonderful\", \"like_yesterday\", \"like_yesterday\", \"like_yesterday\", \"like_yesterday\", \"like_yesterday\", \"like_yesterday\", \"list_current\", \"living_good\", \"local_caregivers\", \"long_day\", \"long_day\", \"long_day\", \"long_day\", \"long_day\", \"long_term\", \"long_term\", \"long_term\", \"long_term\", \"long_term\", \"long_term\", \"long_term\", \"long_term\", \"long_term\", \"long_term\", \"long_time\", \"long_time\", \"long_time\", \"long_time\", \"long_time\", \"long_time\", \"long_time\", \"long_time\", \"long_time\", \"long_time\", \"longer_see\", \"longer_stay\", \"look_solutions\", \"loss_glad\", \"lost_awareness\", \"lot_success\", \"loved_one\", \"loved_one\", \"loved_one\", \"loved_one\", \"loved_one\", \"loved_one\", \"loved_one\", \"loved_one\", \"loved_one\", \"loved_one\", \"loved_ones\", \"loved_ones\", \"loved_ones\", \"loved_ones\", \"loved_ones\", \"loved_ones\", \"loved_ones\", \"loved_ones\", \"loved_ones\", \"loved_ones\", \"low_dosage\", \"make_appt\", \"make_appt\", \"make_appt\", \"make_new\", \"make_new\", \"make_new\", \"make_new\", \"make_new\", \"make_new\", \"make_new\", \"make_stop\", \"make_sure\", \"make_sure\", \"make_sure\", \"make_sure\", \"make_sure\", \"make_sure\", \"make_sure\", \"make_sure\", \"make_sure\", \"make_sure\", \"making_way\", \"many_elderly\", \"many_links\", \"many_people\", \"many_people\", \"many_people\", \"many_people\", \"many_people\", \"many_people\", \"many_people\", \"many_people\", \"many_people\", \"many_people\", \"many_times\", \"many_times\", \"many_times\", \"many_times\", \"many_times\", \"many_times\", \"many_times\", \"many_times\", \"many_times\", \"many_times\", \"many_women\", \"matter_think\", \"may_able\", \"may_able\", \"may_able\", \"may_able\", \"may_able\", \"may_able\", \"may_able\", \"may_able\", \"may_able\", \"may_able\", \"may_dad\", \"may_order\", \"may_order\", \"may_seen\", \"may_seen\", \"may_seen\", \"may_want\", \"may_want\", \"may_want\", \"may_want\", \"may_want\", \"may_want\", \"may_want\", \"may_want\", \"may_want\", \"may_want\", \"maybe_want\", \"maybe_want\", \"mc_nh\", \"mc_snf\", \"mc_snf\", \"mc_snf\", \"mc_snf\", \"mean_well\", \"mean_well\", \"medicaid_pending\", \"medical_care\", \"medical_care\", \"medical_care\", \"medical_care\", \"medical_care\", \"medical_care\", \"medical_care\", \"medical_care\", \"medical_care\", \"medical_care\", \"medication_needs\", \"medications_changes\", \"meeting_director\", \"memory_care\", \"memory_care\", \"memory_care\", \"memory_care\", \"memory_care\", \"memory_care\", \"memory_care\", \"memory_care\", \"memory_care\", \"memory_care\", \"memory_issues\", \"memory_issues\", \"memory_issues\", \"memory_issues\", \"memory_issues\", \"memory_issues\", \"memory_issues\", \"memory_issues\", \"memory_issues\", \"memory_issues\", \"mentioned_getting\", \"mil_matter\", \"mil_still\", \"mil_still\", \"mil_still\", \"mil_still\", \"mil_still\", \"mil_still\", \"mil_still\", \"mil_still\", \"mil_still\", \"mind_pretty\", \"mind_pretty\", \"mind_pretty\", \"missher_wrote\", \"missher_wrote\", \"mom_baby\", \"mom_baby\", \"mom_baby\", \"mom_dearly\", \"mom_none\", \"mom_none\", \"mom_side\", \"mom_surgery\", \"mom_would\", \"mom_would\", \"mom_would\", \"mom_would\", \"mom_would\", \"mom_would\", \"mom_would\", \"mom_would\", \"mom_would\", \"mom_would\", \"money_living\", \"money_use\", \"months_ago\", \"months_ago\", \"months_ago\", \"months_ago\", \"months_ago\", \"months_ago\", \"months_ago\", \"months_ago\", \"months_ago\", \"months_ago\", \"morning_still\", \"mother_adjust\", \"mother_al\", \"mother_al\", \"mother_al\", \"mother_easy\", \"mother_law\", \"mother_law\", \"mother_law\", \"mother_law\", \"mother_law\", \"mother_law\", \"mother_law\", \"mother_law\", \"mother_law\", \"mother_law\", \"move_father\", \"move_father\", \"move_father\", \"move_father\", \"much_better\", \"much_better\", \"much_better\", \"much_better\", \"much_better\", \"much_better\", \"much_better\", \"much_better\", \"much_better\", \"much_better\", \"much_caregiving\", \"much_comments\", \"much_eating\", \"much_eating\", \"much_hurts\", \"much_hurts\", \"much_hurts\", \"naomi_feil\", \"naomi_feil\", \"naomi_feil\", \"naomi_feil\", \"naomi_feil\", \"naomi_feil\", \"naomi_feil\", \"naomi_feil\", \"naomi_feil\", \"naomi_feil\", \"need_bit\", \"need_bit\", \"need_continue\", \"need_continue\", \"need_help\", \"need_help\", \"need_help\", \"need_help\", \"need_help\", \"need_help\", \"need_help\", \"need_help\", \"need_help\", \"need_help\", \"need_level\", \"need_level\", \"need_memory\", \"need_memory\", \"need_memory\", \"need_memory\", \"need_memory\", \"need_memory\", \"need_memory\", \"need_memory\", \"needs_different\", \"needs_different\", \"needs_different\", \"needs_different\", \"needs_step\", \"needs_step\", \"needs_step\", \"neurologist_sees\", \"neurologist_sees\", \"neurologist_sees\", \"neurologist_sees\", \"neurologist_sees\", \"neurologist_sees\", \"neurologist_sees\", \"neurologist_sees\", \"neurologist_sees\", \"neurologist_sees\", \"never_noticed\", \"new_people\", \"new_people\", \"new_people\", \"new_people\", \"new_people\", \"new_people\", \"new_people\", \"new_people\", \"new_people\", \"next_move\", \"next_move\", \"next_move\", \"niv_god\", \"niv_god\", \"nose_dive\", \"nowi_think\", \"nursing_home\", \"nursing_home\", \"nursing_home\", \"nursing_home\", \"nursing_home\", \"nursing_home\", \"nursing_home\", \"nursing_home\", \"nursing_home\", \"nursing_home\", \"nursing_needs\", \"office_visits\", \"office_visits\", \"oh_good\", \"oh_good\", \"oh_good\", \"ok_good\", \"ok_good\", \"old_brain\", \"old_ladies\", \"one_another\", \"one_another\", \"one_another\", \"one_another\", \"one_another\", \"one_another\", \"one_another\", \"one_another\", \"one_another\", \"one_another\", \"one_credit\", \"one_day\", \"one_day\", \"one_day\", \"one_day\", \"one_day\", \"one_day\", \"one_day\", \"one_day\", \"one_day\", \"one_day\", \"one_feels\", \"one_feels\", \"one_feels\", \"one_grown\", \"one_poa\", \"one_poa\", \"one_predict\", \"one_small\", \"one_small\", \"one_thing\", \"one_thing\", \"one_thing\", \"one_thing\", \"one_thing\", \"one_thing\", \"one_thing\", \"one_thing\", \"one_thing\", \"one_thing\", \"one_type\", \"one_type\", \"one_type\", \"one_type\", \"one_type\", \"one_type\", \"one_type\", \"one_type\", \"one_type\", \"one_type\", \"open_arms\", \"opinion_whether\", \"part_family\", \"part_family\", \"part_family\", \"part_practice\", \"part_practice\", \"part_practice\", \"part_practice\", \"part_practice\", \"part_practice\", \"part_practice\", \"part_practice\", \"part_practice\", \"part_practice\", \"passed_away\", \"passed_away\", \"passed_away\", \"passed_away\", \"passed_away\", \"passed_away\", \"passed_away\", \"passed_away\", \"passed_away\", \"passed_away\", \"patients_routine\", \"patients_routine\", \"patients_routine\", \"patients_routine\", \"patients_routine\", \"patients_routine\", \"patients_routine\", \"patients_routine\", \"patients_routine\", \"patients_routine\", \"patrick_day\", \"patrick_day\", \"peaceful_passing\", \"people_board\", \"people_board\", \"people_board\", \"people_board\", \"person_dementia\", \"person_dementia\", \"person_dementia\", \"person_dementia\", \"person_dementia\", \"person_dementia\", \"person_dementia\", \"person_dementia\", \"person_dementia\", \"person_dementia\", \"place_better\", \"place_hope\", \"place_hope\", \"place_hope\", \"plus_person\", \"poa_handling\", \"poa_hippa\", \"point_contact\", \"point_contact\", \"point_thought\", \"post_hope\", \"post_many\", \"post_many\", \"post_seriously\", \"posts_get\", \"power_attorney\", \"power_attorney\", \"power_attorney\", \"power_attorney\", \"power_attorney\", \"power_attorney\", \"power_attorney\", \"power_attorney\", \"power_attorney\", \"power_attorney\", \"precious_memories\", \"prescription_coverage\", \"prescription_coverage\", \"pretty_much\", \"pretty_much\", \"pretty_much\", \"pretty_much\", \"pretty_much\", \"pretty_much\", \"pretty_much\", \"pretty_much\", \"pretty_much\", \"pretty_much\", \"primary_md\", \"primary_md\", \"primary_md\", \"primary_md\", \"primary_md\", \"primary_md\", \"primary_md\", \"primary_md\", \"primary_md\", \"process_mom\", \"process_mom\", \"process_mom\", \"process_mom\", \"process_mom\", \"protective_underwear\", \"provide_support\", \"provide_support\", \"provide_support\", \"psych_staff\", \"psych_unit\", \"psych_unit\", \"psych_unit\", \"psych_unit\", \"psych_unit\", \"psych_unit\", \"psych_unit\", \"psych_unit\", \"psych_unit\", \"psych_unit\", \"psychiatrist_neurologist\", \"psychiatrist_neurologist\", \"psychiatrist_neurologist\", \"pull_away\", \"pwd_family\", \"quality_life\", \"quality_life\", \"quality_life\", \"quality_life\", \"quality_life\", \"quality_life\", \"quality_life\", \"quality_life\", \"quality_life\", \"quality_life\", \"ran_much\", \"read_reply\", \"really_big\", \"really_big\", \"really_cause\", \"really_main\", \"really_push\", \"recently_last\", \"refuse_accept\", \"regarding_mother\", \"regarding_mother\", \"regarding_mother\", \"regarding_mother\", \"regarding_mother\", \"regarding_mother\", \"regarding_mother\", \"remember_feeling\", \"remember_feeling\", \"remember_reading\", \"remember_remember\", \"rep_payee\", \"resist_become\", \"retirement_accounts\", \"right_thing\", \"right_thing\", \"right_thing\", \"right_thing\", \"right_thing\", \"right_thing\", \"right_thing\", \"right_thing\", \"right_thing\", \"right_thing\", \"road_map\", \"rock_solid\", \"rock_solid\", \"roller_coaster\", \"roller_coaster\", \"roller_coaster\", \"roller_coaster\", \"roller_coaster\", \"roller_coaster\", \"roller_coaster\", \"roller_coaster\", \"roller_coaster\", \"room_checks\", \"room_checks\", \"room_checks\", \"room_checks\", \"room_everyone\", \"room_memory\", \"routine_part\", \"routine_part\", \"routine_part\", \"routine_part\", \"routine_part\", \"routine_part\", \"routine_part\", \"routine_part\", \"routine_part\", \"routine_part\", \"safety_happiness\", \"said_needs\", \"said_needs\", \"said_patient\", \"said_put\", \"said_put\", \"said_put\", \"said_put\", \"said_stop\", \"said_stop\", \"said_stop\", \"sales_people\", \"sales_people\", \"say_brother\", \"say_brother\", \"say_brother\", \"say_brother\", \"say_brother\", \"say_brother\", \"say_brother\", \"say_received\", \"say_received\", \"says_even\", \"see_positive\", \"see_posted\", \"see_reality\", \"see_reality\", \"see_reality\", \"see_reality\", \"see_thing\", \"see_went\", \"seem_reasonable\", \"seemed_think\", \"seemed_think\", \"seems_like\", \"seems_like\", \"seems_like\", \"seems_like\", \"seems_like\", \"seems_like\", \"seems_like\", \"seems_like\", \"seems_like\", \"seems_like\", \"sees_dementia\", \"sees_dementia\", \"sees_dementia\", \"sees_dementia\", \"sees_dementia\", \"sees_dementia\", \"sees_dementia\", \"sees_dementia\", \"sees_dementia\", \"sees_dementia\", \"sees_need\", \"sees_need\", \"sees_need\", \"sending_lots\", \"sending_lots\", \"sense_guilt\", \"sense_keep\", \"several_issues\", \"several_issues\", \"sheriff_office\", \"short_long\", \"short_long\", \"short_long\", \"short_long\", \"short_term\", \"short_term\", \"short_term\", \"short_term\", \"short_term\", \"short_term\", \"short_term\", \"short_term\", \"short_term\", \"short_term\", \"show_respect\", \"show_respect\", \"show_respect\", \"show_respect\", \"show_respect\", \"side_effects\", \"side_effects\", \"side_effects\", \"side_effects\", \"side_effects\", \"side_effects\", \"side_effects\", \"side_effects\", \"side_effects\", \"side_effects\", \"since_february\", \"since_february\", \"since_february\", \"sippy_cup\", \"sister_calls\", \"sisters_live\", \"sisters_live\", \"site_helpful\", \"site_helpful\", \"situation_nothing\", \"skilled_nursing\", \"skilled_nursing\", \"skilled_nursing\", \"skilled_nursing\", \"skilled_nursing\", \"skilled_nursing\", \"skilled_nursing\", \"skilled_nursing\", \"skilled_nursing\", \"skilled_nursing\", \"snf_mc\", \"social_worker\", \"social_worker\", \"social_worker\", \"social_worker\", \"social_worker\", \"social_worker\", \"social_worker\", \"social_worker\", \"social_worker\", \"social_worker\", \"social_workers\", \"social_workers\", \"social_workers\", \"social_workers\", \"social_workers\", \"social_workers\", \"social_workers\", \"social_workers\", \"social_workers\", \"social_workers\", \"someone_else\", \"someone_else\", \"someone_else\", \"someone_else\", \"someone_else\", \"someone_else\", \"someone_else\", \"someone_else\", \"someone_else\", \"someone_else\", \"sometimes_possible\", \"soon_started\", \"soon_started\", \"sooooo_much\", \"sooooo_much\", \"sorry_loss\", \"sorry_loss\", \"sorry_loss\", \"sorry_loss\", \"sorry_loss\", \"sorry_loss\", \"sorry_loss\", \"sorry_loss\", \"sorry_loss\", \"sorry_loss\", \"sort_plan\", \"sounds_bad\", \"sounds_like\", \"sounds_like\", \"sounds_like\", \"sounds_like\", \"sounds_like\", \"sounds_like\", \"sounds_like\", \"sounds_like\", \"sounds_like\", \"sounds_like\", \"speak_mother\", \"specialize_dementia\", \"specialize_dementia\", \"specialize_dementia\", \"specialize_dementia\", \"specialize_dementia\", \"specialize_dementia\", \"specialize_dementia\", \"specialize_dementia\", \"specialize_dementia\", \"specialize_dementia\", \"specialized_care\", \"stage_memory\", \"stage_non\", \"started_looking\", \"started_looking\", \"started_looking\", \"started_looking\", \"started_looking\", \"started_looking\", \"step_parent\", \"stigma_attached\", \"still_long\", \"still_long\", \"still_long\", \"still_long\", \"still_miss\", \"still_miss\", \"suffered_stroke\", \"supply_store\", \"supply_store\", \"support_getting\", \"support_group\", \"support_group\", \"support_group\", \"support_group\", \"support_group\", \"support_group\", \"support_group\", \"support_group\", \"support_group\", \"support_group\", \"support_try\", \"suspect_something\", \"take_bank\", \"take_care\", \"take_care\", \"take_care\", \"take_care\", \"take_care\", \"take_care\", \"take_care\", \"take_care\", \"take_care\", \"take_care\", \"take_high\", \"take_personal\", \"take_personal\", \"take_personal\", \"take_personal\", \"take_places\", \"take_places\", \"taking_care\", \"taking_care\", \"taking_care\", \"taking_care\", \"taking_care\", \"taking_care\", \"taking_care\", \"taking_care\", \"taking_care\", \"taking_care\", \"talk_person\", \"talk_person\", \"talk_person\", \"teeth_etc\", \"tell_little\", \"tell_little\", \"tell_love\", \"tell_love\", \"tell_love\", \"tell_love\", \"term_care\", \"term_care\", \"term_care\", \"term_care\", \"term_care\", \"term_care\", \"term_care\", \"term_care\", \"term_care\", \"term_care\", \"term_disability\", \"term_memory\", \"term_memory\", \"term_memory\", \"term_memory\", \"term_memory\", \"term_memory\", \"term_memory\", \"term_memory\", \"term_memory\", \"term_memory\", \"thank_kind\", \"thank_kind\", \"thank_kind\", \"thank_kind\", \"thank_kind\", \"thank_kind\", \"thank_kind\", \"thank_kind\", \"thank_kind\", \"thank_kind\", \"thank_much\", \"thank_much\", \"thank_much\", \"thank_much\", \"thank_much\", \"thank_much\", \"thank_much\", \"thank_much\", \"thank_much\", \"thank_much\", \"thank_sharing\", \"thank_sharing\", \"thank_sharing\", \"thank_sharing\", \"thank_sharing\", \"thank_sharing\", \"thank_sharing\", \"thank_sharing\", \"thank_sharing\", \"thank_sharing\", \"thanks_everyone\", \"thanks_everyone\", \"thanks_everyone\", \"thanks_everyone\", \"thanks_everyone\", \"thanks_everyone\", \"thanks_everyone\", \"thanks_everyone\", \"thanks_everyone\", \"thanks_everyone\", \"thanks_laugh\", \"thanks_responding\", \"thanks_suggestion\", \"thanks_suggestion\", \"thanks_update\", \"thanks_update\", \"thanks_update\", \"thanks_update\", \"thanks_update\", \"thick_skin\", \"thick_skin\", \"thing_asked\", \"things_even\", \"things_even\", \"things_even\", \"things_even\", \"things_even\", \"things_even\", \"things_even\", \"things_even\", \"things_even\", \"things_even\", \"things_going\", \"things_going\", \"things_going\", \"things_going\", \"things_going\", \"things_going\", \"things_going\", \"things_going\", \"things_going\", \"things_going\", \"things_like\", \"things_like\", \"things_like\", \"things_like\", \"things_like\", \"things_like\", \"things_like\", \"things_like\", \"things_like\", \"things_like\", \"think_given\", \"think_sometimes\", \"think_sometimes\", \"think_sometimes\", \"think_sometimes\", \"think_sometimes\", \"think_sometimes\", \"think_went\", \"think_went\", \"think_went\", \"think_would\", \"think_would\", \"think_would\", \"think_would\", \"think_would\", \"think_would\", \"think_would\", \"think_would\", \"think_would\", \"think_would\", \"thisi_would\", \"though_thought\", \"thoughtful_loving\", \"thoughtful_response\", \"thoughts_family\", \"three_working\", \"three_years\", \"three_years\", \"three_years\", \"three_years\", \"three_years\", \"three_years\", \"three_years\", \"three_years\", \"three_years\", \"three_years\", \"thyroid_problems\", \"time_choices\", \"time_full\", \"time_full\", \"time_full\", \"time_full\", \"time_therei\", \"title_easy\", \"tooi_know\", \"totally_normal\", \"transport_chair\", \"transport_chair\", \"truly_believes\", \"truly_believes\", \"truly_believes\", \"truly_believes\", \"truly_believes\", \"truly_believes\", \"truly_blessed\", \"truly_blessed\", \"truly_blessed\", \"truly_blessed\", \"truly_blessed\", \"truly_blessed\", \"truly_feel\", \"trust_one\", \"try_accept\", \"try_accept\", \"try_cover\", \"trying_kill\", \"trying_kill\", \"trying_kill\", \"trying_kill\", \"trying_kill\", \"trying_kill\", \"trying_kill\", \"trying_kill\", \"type_dementia\", \"type_dementia\", \"type_dementia\", \"type_dementia\", \"type_dementia\", \"type_dementia\", \"type_dementia\", \"type_dementia\", \"type_dementia\", \"type_dementia\", \"understand_everyone\", \"understand_post\", \"understand_well\", \"understand_well\", \"understand_well\", \"understand_well\", \"upset_said\", \"us_know\", \"us_know\", \"us_know\", \"us_know\", \"us_know\", \"us_know\", \"us_know\", \"us_know\", \"us_know\", \"us_know\", \"us_part\", \"use_medication\", \"used_living\", \"uti_cause\", \"uti_cause\", \"validation_title\", \"validation_title\", \"validation_title\", \"validation_title\", \"variety_things\", \"variety_things\", \"variety_things\", \"vascular_dementia\", \"vascular_dementia\", \"vascular_dementia\", \"vascular_dementia\", \"vascular_dementia\", \"vascular_dementia\", \"vascular_dementia\", \"vascular_dementia\", \"vascular_dementia\", \"vascular_dementia\", \"version_niv\", \"version_niv\", \"visit_friend\", \"waiver_program\", \"waiver_program\", \"waiver_program\", \"waiver_program\", \"waiver_program\", \"waiver_program\", \"waiver_program\", \"waiver_program\", \"waiver_program\", \"want_go\", \"want_go\", \"want_go\", \"want_go\", \"want_go\", \"want_go\", \"want_go\", \"want_go\", \"want_go\", \"want_go\", \"watching_old\", \"way_easier\", \"wear_hearing\", \"wear_hearing\", \"wear_hearing\", \"week_appointment\", \"week_good\", \"week_good\", \"welcome_world\", \"welcome_world\", \"welcome_world\", \"welcome_world\", \"well_fact\", \"wheelchair_transport\", \"wife_one\", \"wife_stage\", \"wise_words\", \"wishes_good\", \"wishes_good\", \"wishes_good\", \"wishes_good\", \"wishes_good\", \"wishes_good\", \"wishes_good\", \"wishes_good\", \"wishes_good\", \"wishes_good\", \"wishes_greg\", \"wishes_greg\", \"wishes_greg\", \"wishes_greg\", \"wonderful_life\", \"wonderful_resource\", \"work_patients\", \"workers_specialize\", \"workers_specialize\", \"workers_specialize\", \"workers_specialize\", \"workers_specialize\", \"workers_specialize\", \"workers_specialize\", \"workers_specialize\", \"workers_specialize\", \"workers_specialize\", \"working_day\", \"working_day\", \"working_day\", \"world_glad\", \"world_glad\", \"world_may\", \"world_may\", \"world_may\", \"world_may\", \"worse_better\", \"worse_better\", \"worse_better\", \"would_everything\", \"would_everything\", \"would_focus\", \"would_focus\", \"would_get\", \"would_get\", \"would_get\", \"would_get\", \"would_get\", \"would_get\", \"would_get\", \"would_get\", \"would_get\", \"would_get\", \"would_go\", \"would_go\", \"would_go\", \"would_go\", \"would_go\", \"would_go\", \"would_go\", \"would_go\", \"would_go\", \"would_go\", \"would_knowledgeable\", \"would_like\", \"would_like\", \"would_like\", \"would_like\", \"would_like\", \"would_like\", \"would_like\", \"would_like\", \"would_like\", \"would_like\", \"would_take\", \"would_take\", \"would_take\", \"would_take\", \"would_take\", \"would_take\", \"would_take\", \"would_take\", \"would_take\", \"would_take\", \"wow_lot\", \"wrote_missher\", \"year_getting\", \"year_old\", \"year_old\", \"year_old\", \"year_old\", \"year_old\", \"year_old\", \"year_old\", \"year_old\", \"year_old\", \"year_old\", \"years_ago\", \"years_ago\", \"years_ago\", \"years_ago\", \"years_ago\", \"years_ago\", \"years_ago\", \"years_ago\", \"years_ago\", \"years_ago\", \"years_living\", \"years_old\", \"years_old\", \"years_old\", \"years_old\", \"years_old\", \"years_old\", \"years_old\", \"years_old\", \"years_old\", \"years_old\", \"yes_think\", \"yes_think\", \"yes_think\", \"yes_think\", \"yes_think\", \"yes_want\", \"yes_want\", \"yes_want\", \"yesterday_said\", \"yesterday_said\", \"yesterday_said\", \"young_man\", \"young_man\", \"young_man\", \"young_man\", \"young_man\", \"young_man\", \"young_man\", \"younger_brother\", \"younger_brother\", \"younger_brother\", \"younger_brother\", \"younger_brother\", \"younger_brother\", \"younger_brother\", \"younger_brother\"]}, \"R\": 30, \"lambda.step\": 0.01, \"plot.opts\": {\"xlab\": \"PC1\", \"ylab\": \"PC2\"}, \"topic.order\": [9, 3, 5, 8, 6, 7, 10, 1, 4, 2]};\n",
       "\n",
       "function LDAvis_load_lib(url, callback){\n",
       "  var s = document.createElement('script');\n",
       "  s.src = url;\n",
       "  s.async = true;\n",
       "  s.onreadystatechange = s.onload = callback;\n",
       "  s.onerror = function(){console.warn(\"failed to load library \" + url);};\n",
       "  document.getElementsByTagName(\"head\")[0].appendChild(s);\n",
       "}\n",
       "\n",
       "if(typeof(LDAvis) !== \"undefined\"){\n",
       "   // already loaded: just create the visualization\n",
       "   !function(LDAvis){\n",
       "       new LDAvis(\"#\" + \"ldavis_el19211140519317857776311645617\", ldavis_el19211140519317857776311645617_data);\n",
       "   }(LDAvis);\n",
       "}else if(typeof define === \"function\" && define.amd){\n",
       "   // require.js is available: use it to load d3/LDAvis\n",
       "   require.config({paths: {d3: \"https://d3js.org/d3.v5\"}});\n",
       "   require([\"d3\"], function(d3){\n",
       "      window.d3 = d3;\n",
       "      LDAvis_load_lib(\"https://cdn.jsdelivr.net/gh/bmabey/pyLDAvis@3.3.1/pyLDAvis/js/ldavis.v3.0.0.js\", function(){\n",
       "        new LDAvis(\"#\" + \"ldavis_el19211140519317857776311645617\", ldavis_el19211140519317857776311645617_data);\n",
       "      });\n",
       "    });\n",
       "}else{\n",
       "    // require.js not available: dynamically load d3 & LDAvis\n",
       "    LDAvis_load_lib(\"https://d3js.org/d3.v5.js\", function(){\n",
       "         LDAvis_load_lib(\"https://cdn.jsdelivr.net/gh/bmabey/pyLDAvis@3.3.1/pyLDAvis/js/ldavis.v3.0.0.js\", function(){\n",
       "                 new LDAvis(\"#\" + \"ldavis_el19211140519317857776311645617\", ldavis_el19211140519317857776311645617_data);\n",
       "            })\n",
       "         });\n",
       "}\n",
       "</script>"
      ],
      "text/plain": [
       "PreparedData(topic_coordinates=              x         y  topics  cluster       Freq\n",
       "topic                                                \n",
       "8      0.057174  0.056681       1        1  16.707124\n",
       "2      0.045358 -0.057181       2        1  16.428583\n",
       "4      0.018043 -0.014518       3        1  13.024236\n",
       "7     -0.004452 -0.001845       4        1  10.444814\n",
       "5     -0.017061 -0.001076       5        1   9.015933\n",
       "6     -0.014023  0.004408       6        1   8.186098\n",
       "9     -0.013430  0.003271       7        1   8.128752\n",
       "0     -0.015685 -0.000383       8        1   7.739101\n",
       "3     -0.021211  0.004259       9        1   6.846863\n",
       "1     -0.034713  0.006385      10        1   3.478497, topic_info=                Term         Freq        Total Category  logprob  loglift\n",
       "1763     memory_care  2438.000000  2438.000000  Default  30.0000  30.0000\n",
       "589      sounds_like  1578.000000  1578.000000  Default  29.0000  29.0000\n",
       "5537         one_day   756.000000   756.000000  Default  28.0000  28.0000\n",
       "9728    nursing_home  1294.000000  1294.000000  Default  27.0000  27.0000\n",
       "8342       elder_law   716.000000   716.000000  Default  26.0000  26.0000\n",
       "...              ...          ...          ...      ...      ...      ...\n",
       "9833   social_worker    11.221138   678.102000  Topic10  -9.0027  -0.7429\n",
       "1497       every_day    11.894137  1017.382896  Topic10  -8.9445  -1.0904\n",
       "4204        year_old    11.154327   756.614707  Topic10  -9.0087  -0.8585\n",
       "4733  family_members    10.983888   740.688673  Topic10  -9.0241  -0.8526\n",
       "8342       elder_law    10.864379   716.862197  Topic10  -9.0350  -0.8308\n",
       "\n",
       "[891 rows x 6 columns], token_table=       Topic      Freq             Term\n",
       "term                                   \n",
       "5067       1  0.137118         able_get\n",
       "5067       2  0.246443         able_get\n",
       "5067       3  0.190854         able_get\n",
       "5067       4  0.048177         able_get\n",
       "5067       5  0.083383         able_get\n",
       "...      ...       ...              ...\n",
       "40820      6  0.075026  younger_brother\n",
       "40820      7  0.075026  younger_brother\n",
       "40820      8  0.010718  younger_brother\n",
       "40820      9  0.032154  younger_brother\n",
       "40820     10  0.064308  younger_brother\n",
       "\n",
       "[2311 rows x 3 columns], R=30, lambda_step=0.01, plot_opts={'xlab': 'PC1', 'ylab': 'PC2'}, topic_order=[9, 3, 5, 8, 6, 7, 10, 1, 4, 2])"
      ]
     },
     "execution_count": 42,
     "metadata": {},
     "output_type": "execute_result"
    }
   ],
   "source": [
    "num_topics = 10\n",
    "\n",
    "lda_model4 = gensim.models.LdaMulticore(corpus=corpus,\n",
    "                                       id2word=id2word,\n",
    "                                       num_topics=num_topics)\n",
    "\n",
    "pprint(lda_model4.print_topics())\n",
    "doc_lda = lda_model4[corpus]\n",
    "\n",
    "pyLDAvis.enable_notebook()\n",
    "LDAvis_prepared = pyLDAvis.gensim_models.prepare(lda_model4, corpus, id2word)\n",
    "LDAvis_prepared"
   ]
  },
  {
   "cell_type": "code",
   "execution_count": 43,
   "id": "6c197743",
   "metadata": {},
   "outputs": [],
   "source": [
    "data = neg_df.POST_CONTENT.values.tolist()\n",
    "data_words = list(sent_to_words(data))"
   ]
  },
  {
   "cell_type": "code",
   "execution_count": 44,
   "id": "f1263e30",
   "metadata": {},
   "outputs": [],
   "source": [
    "data_words = remove_stopwords(data_words)"
   ]
  },
  {
   "cell_type": "code",
   "execution_count": 45,
   "id": "1055ce2c",
   "metadata": {},
   "outputs": [],
   "source": [
    "bi_g = []\n",
    "for x in range(len(data_words)):\n",
    "    bigrams = ngrams(data_words[x],2)\n",
    "    bi_g.append(list(bigrams))"
   ]
  },
  {
   "cell_type": "code",
   "execution_count": 46,
   "id": "b6fc2af0",
   "metadata": {},
   "outputs": [],
   "source": [
    "for sublist in list(bi_g):\n",
    "    for i in range(len(sublist)):\n",
    "       sublist[i] = '_'.join(sublist[i])"
   ]
  },
  {
   "cell_type": "code",
   "execution_count": 47,
   "id": "090827b3",
   "metadata": {},
   "outputs": [],
   "source": [
    "id2word = corpora.Dictionary(list(bi_g))\n",
    "# Create Corpus\n",
    "texts = list(bi_g)\n",
    "# Term Document Frequency\n",
    "corpus = [id2word.doc2bow(text) for text in texts]"
   ]
  },
  {
   "cell_type": "code",
   "execution_count": 48,
   "id": "a17c0d22",
   "metadata": {},
   "outputs": [
    {
     "name": "stdout",
     "output_type": "stream",
     "text": [
      "[(0,\n",
      "  '0.001*\"memory_care\" + 0.000*\"years_ago\" + 0.000*\"take_care\" + '\n",
      "  '0.000*\"let_go\" + 0.000*\"sounds_like\" + 0.000*\"even_though\" + '\n",
      "  '0.000*\"go_home\" + 0.000*\"every_day\" + 0.000*\"feel_like\" + '\n",
      "  '0.000*\"sorry_loss\"'),\n",
      " (1,\n",
      "  '0.000*\"take_care\" + 0.000*\"sounds_like\" + 0.000*\"even_though\" + '\n",
      "  '0.000*\"memory_care\" + 0.000*\"feel_like\" + 0.000*\"every_day\" + '\n",
      "  '0.000*\"years_ago\" + 0.000*\"assisted_living\" + 0.000*\"year_old\" + '\n",
      "  '0.000*\"person_dementia\"'),\n",
      " (2,\n",
      "  '0.001*\"take_care\" + 0.000*\"feel_like\" + 0.000*\"even_though\" + '\n",
      "  '0.000*\"memory_care\" + 0.000*\"long_term\" + 0.000*\"years_ago\" + '\n",
      "  '0.000*\"months_ago\" + 0.000*\"sorry_loss\" + 0.000*\"sounds_like\" + '\n",
      "  '0.000*\"let_go\"'),\n",
      " (3,\n",
      "  '0.001*\"take_care\" + 0.001*\"memory_care\" + 0.000*\"years_ago\" + '\n",
      "  '0.000*\"sorry_loss\" + 0.000*\"nursing_home\" + 0.000*\"feel_like\" + '\n",
      "  '0.000*\"sounds_like\" + 0.000*\"even_though\" + 0.000*\"year_old\" + '\n",
      "  '0.000*\"go_home\"'),\n",
      " (4,\n",
      "  '0.000*\"feel_like\" + 0.000*\"memory_care\" + 0.000*\"years_ago\" + '\n",
      "  '0.000*\"go_home\" + 0.000*\"take_care\" + 0.000*\"nursing_home\" + '\n",
      "  '0.000*\"even_though\" + 0.000*\"one_day\" + 0.000*\"every_day\" + '\n",
      "  '0.000*\"sounds_like\"'),\n",
      " (5,\n",
      "  '0.000*\"years_ago\" + 0.000*\"take_care\" + 0.000*\"memory_care\" + '\n",
      "  '0.000*\"taking_care\" + 0.000*\"every_day\" + 0.000*\"feel_like\" + '\n",
      "  '0.000*\"sounds_like\" + 0.000*\"let_go\" + 0.000*\"one_day\" + '\n",
      "  '0.000*\"assisted_living\"'),\n",
      " (6,\n",
      "  '0.000*\"years_ago\" + 0.000*\"nursing_home\" + 0.000*\"feel_like\" + '\n",
      "  '0.000*\"every_day\" + 0.000*\"take_care\" + 0.000*\"memory_care\" + '\n",
      "  '0.000*\"go_home\" + 0.000*\"even_though\" + 0.000*\"assisted_living\" + '\n",
      "  '0.000*\"taking_care\"'),\n",
      " (7,\n",
      "  '0.001*\"years_ago\" + 0.001*\"sounds_like\" + 0.000*\"take_care\" + '\n",
      "  '0.000*\"feel_like\" + 0.000*\"memory_care\" + 0.000*\"sorry_loss\" + '\n",
      "  '0.000*\"go_home\" + 0.000*\"every_day\" + 0.000*\"even_though\" + '\n",
      "  '0.000*\"assisted_living\"'),\n",
      " (8,\n",
      "  '0.000*\"nursing_home\" + 0.000*\"every_day\" + 0.000*\"sorry_loss\" + '\n",
      "  '0.000*\"years_ago\" + 0.000*\"take_care\" + 0.000*\"feel_like\" + '\n",
      "  '0.000*\"memory_care\" + 0.000*\"assisted_living\" + 0.000*\"even_though\" + '\n",
      "  '0.000*\"anyone_else\"'),\n",
      " (9,\n",
      "  '0.000*\"memory_care\" + 0.000*\"years_ago\" + 0.000*\"every_day\" + '\n",
      "  '0.000*\"take_care\" + 0.000*\"assisted_living\" + 0.000*\"nursing_home\" + '\n",
      "  '0.000*\"sounds_like\" + 0.000*\"even_though\" + 0.000*\"care_facility\" + '\n",
      "  '0.000*\"go_back\"')]\n"
     ]
    },
    {
     "name": "stderr",
     "output_type": "stream",
     "text": [
      "/opt/anaconda3/lib/python3.8/site-packages/pyLDAvis/_prepare.py:246: FutureWarning: In a future version of pandas all arguments of DataFrame.drop except for the argument 'labels' will be keyword-only\n",
      "  default_term_info = default_term_info.sort_values(\n"
     ]
    },
    {
     "data": {
      "text/html": [
       "\n",
       "<link rel=\"stylesheet\" type=\"text/css\" href=\"https://cdn.jsdelivr.net/gh/bmabey/pyLDAvis@3.3.1/pyLDAvis/js/ldavis.v1.0.0.css\">\n",
       "\n",
       "\n",
       "<div id=\"ldavis_el192111405193155469602746743705\"></div>\n",
       "<script type=\"text/javascript\">\n",
       "\n",
       "var ldavis_el192111405193155469602746743705_data = {\"mdsDat\": {\"x\": [0.016978035125024264, -0.01791506320527936, -0.038694103740047406, 0.0668712934068632, 0.009646832121729756, -0.035130962661633174, 0.009922882217146739, -0.0192594734015395, 0.010740495284402032, -0.0031599351466664663], \"y\": [0.05056659413564389, -0.04109622953890972, -0.015619816767383053, -0.04137995069756784, 0.036688673700693474, -0.0018740917392038575, 0.01102125993450189, -0.00973892711089245, -0.008100354993043934, 0.01953284307616165], \"topics\": [1, 2, 3, 4, 5, 6, 7, 8, 9, 10], \"cluster\": [1, 1, 1, 1, 1, 1, 1, 1, 1, 1], \"Freq\": [10.89086940676028, 10.73533384912743, 10.648295468624877, 10.597461027897275, 10.517788653457213, 10.18678089853542, 9.548666428404655, 9.382004758162422, 8.960632133746424, 8.532167375283986]}, \"tinfo\": {\"Term\": [\"motor_home\", \"going_gets\", \"gets_tough\", \"feel_grief\", \"teaching_us\", \"thoughts_prayers\", \"tough_may\", \"take_care\", \"brown_paper\", \"nursing_home\", \"let_go\", \"term_care\", \"sorry_hear\", \"loss_wishing\", \"may_find\", \"one_day\", \"quit_feeling\", \"taking_care\", \"home_motor\", \"sorry_loss\", \"find_peace\", \"loading_dishwasher\", \"red_riding\", \"months_ago\", \"realize_still\", \"sounds_like\", \"little_red\", \"long_term\", \"highest_number\", \"back_home\", \"one_third\", \"trying_helpful\", \"hate_wish\", \"close_behind\", \"someone_suggestions\", \"living_siblings\", \"helpful_patient\", \"sister_passed\", \"loss_wishing\", \"care_hugs\", \"know_dealing\", \"failed_remember\", \"village_idiot\", \"christmasknock_knockwho\", \"sick_mother\", \"care_horrible\", \"would_impact\", \"clear_paint\", \"hard_remember\", \"verbal_visited\", \"went_eventually\", \"point_mentioned\", \"sent_bloodwork\", \"yourfairy_talecomparisons\", \"could_contacti\", \"email_later\", \"know_toc\", \"woman_mother\", \"walker_proceeded\", \"face_terrifying\", \"loss_take\", \"marriage_put\", \"loading_dishwasher\", \"abusive_would\", \"someone_loading\", \"local_church\", \"well_sort\", \"two_mentioned\", \"double_negative\", \"day_home\", \"mechanical_soft\", \"storage_bin\", \"looking_web\", \"wish_easier\", \"wishing_peace\", \"say_neither\", \"would_quite\", \"take_care\", \"memory_care\", \"care_unit\", \"sorry_loss\", \"mother_law\", \"years_ago\", \"late_stage\", \"nursing_home\", \"family_friends\", \"later_stages\", \"difficult_time\", \"passed_away\", \"next_day\", \"year_ago\", \"year_old\", \"please_take\", \"full_time\", \"feel_like\", \"god_bless\", \"sounds_like\", \"loved_one\", \"getting_worse\", \"short_term\", \"family_members\", \"sorry_going\", \"even_though\", \"feel_guilty\", \"go_home\", \"last_week\", \"let_go\", \"anyone_else\", \"first_time\", \"every_day\", \"one_day\", \"assisted_living\", \"every_time\", \"anyone_debt\", \"divorce_father\", \"unlikely_gives\", \"appoint_aguardian\", \"related_divorce\", \"interests_divorce\", \"represent_interests\", \"father_capacity\", \"divorce_probable\", \"gives_power\", \"probable_court\", \"decisions_issues\", \"bother_mom\", \"poa_highly\", \"shady_pines\", \"read_poa\", \"power_represent\", \"would_appoint\", \"aguardian_ad\", \"mom_worse\", \"regular_coffee\", \"back_case\", \"vet_said\", \"getting_abused\", \"showed_check\", \"like_body\", \"blamed_getting\", \"okay_missy\", \"abused_get\", \"selfish_plain\", \"capacity_make\", \"get_work\", \"issues_related\", \"appreciate_sharing\", \"mom_would\", \"deal_anger\", \"care_facility\", \"mother_dementia\", \"go_back\", \"assisted_living\", \"memory_care\", \"every_day\", \"years_ago\", \"nursing_home\", \"feel_bad\", \"time_mom\", \"taking_care\", \"emergency_room\", \"sounds_like\", \"even_though\", \"would_want\", \"hard_know\", \"take_care\", \"back_home\", \"make_decisions\", \"everyone_else\", \"things_like\", \"loved_one\", \"us_know\", \"long_time\", \"blood_pressure\", \"sorry_going\", \"feel_like\", \"could_get\", \"every_time\", \"would_make\", \"late_stage\", \"feel_guilty\", \"one_day\", \"trying_get\", \"would_like\", \"sorry_loss\", \"year_old\", \"last_night\", \"go_home\", \"family_members\", \"walked_fell\", \"come_vent\", \"sorry_hospice\", \"bowel_regularity\", \"highest_number\", \"prayers_may\", \"christian_scientist\", \"comfort_difficult\", \"faith_maybe\", \"buried_military\", \"gets_attention\", \"anguish_must\", \"red_riding\", \"debi_advice\", \"change_cognition\", \"prayers_feel\", \"frustration_anguish\", \"support_feel\", \"little_red\", \"go_medicaid\", \"stages_behaviors\", \"caregiving_stages\", \"replies_header\", \"much_else\", \"riding_hood\", \"hear_horrible\", \"oh_misssy\", \"winter_coat\", \"number_click\", \"truly_wish\", \"thoughts_prayers\", \"mr_wolf\", \"priority_group\", \"easter_bunny\", \"crouched_behind\", \"may_find\", \"find_peace\", \"nursing_home\", \"still_home\", \"sorry_loss\", \"every_day\", \"know_alone\", \"feel_mom\", \"someone_else\", \"mom_sorry\", \"anyone_else\", \"let_know\", \"feel_like\", \"assisted_living\", \"years_ago\", \"mom_get\", \"side_effects\", \"difficult_time\", \"make_sure\", \"even_though\", \"take_care\", \"sorry_going\", \"last_year\", \"need_help\", \"feel_guilty\", \"memory_care\", \"year_old\", \"family_members\", \"go_back\", \"hard_time\", \"sounds_like\", \"times_day\", \"seems_like\", \"go_home\", \"every_time\", \"taking_care\", \"cried_listenedthank\", \"mother_dizzy\", \"mom_shoes\", \"river_blonde\", \"nc_caretakeri\", \"replying_kind\", \"thought_message\", \"listenedthank_replying\", \"mc_nh\", \"hurt_dogs\", \"tell_cried\", \"hi_nc\", \"message_mom\", \"caretakeri_agree\", \"hours_etc\", \"non_drivers\", \"missing_hanging\", \"used_bath\", \"connect_caregivers\", \"charge_per\", \"behave_differently\", \"multiple_pair\", \"put_multiple\", \"dh_go\", \"confused_sister\", \"shoes_room\", \"yes_brain\", \"medicine_mom\", \"balance_also\", \"relative_left\", \"cleaning_mess\", \"doctors_said\", \"general_anesthesia\", \"sister_thought\", \"kind_words\", \"sounds_like\", \"years_ago\", \"care_facilities\", \"eh_eh\", \"either_way\", \"feel_like\", \"geriatric_psychiatrist\", \"take_care\", \"sorry_loss\", \"vascular_dementia\", \"would_like\", \"geri_psych\", \"go_home\", \"memory_care\", \"trying_get\", \"last_months\", \"long_time\", \"told_going\", \"assisted_living\", \"every_day\", \"family_member\", \"even_though\", \"something_else\", \"physical_therapy\", \"last_week\", \"would_make\", \"things_worse\", \"phone_call\", \"get_help\", \"let_go\", \"months_ago\", \"hard_time\", \"weeks_ago\", \"want_go\", \"sorry_going\", \"nursing_home\", \"long_term\", \"every_time\", \"testing_god\", \"try_pass\", \"say_unto\", \"god_pray\", \"kinder_thing\", \"hey_pass\", \"people_testing\", \"die_god\", \"pray_hey\", \"die_die\", \"stage_system\", \"fail_die\", \"healing_fail\", \"use_stage\", \"test_healing\", \"female_staff\", \"always_always\", \"talk_understand\", \"doctor_idiot\", \"really_gotten\", \"loses_interest\", \"diagnosed_eo\", \"pass_test\", \"lohang_therewendy\", \"thank_veronica\", \"picture_still\", \"firmer_front\", \"bell_doubt\", \"week_trouble\", \"straw_put\", \"god_well\", \"come_tell\", \"real_angry\", \"lining_think\", \"home_goal\", \"found_facility\", \"forgot_mad\", \"think_politics\", \"peace_always\", \"new_little\", \"time_sorry\", \"let_go\", \"memory_care\", \"last_years\", \"brown_paper\", \"years_ago\", \"take_care\", \"back_home\", \"want_go\", \"even_though\", \"sounds_like\", \"trying_get\", \"go_home\", \"every_day\", \"sorry_going\", \"sorry_loss\", \"social_worker\", \"weeks_ago\", \"assisted_living\", \"full_time\", \"go_back\", \"feel_guilty\", \"last_night\", \"feel_like\", \"two_years\", \"year_old\", \"teepa_snow\", \"nursing_home\", \"years_old\", \"side_effects\", \"things_like\", \"family_members\", \"mother_law\", \"make_sure\", \"care_facility\", \"long_term\", \"months_ago\", \"cause_sleepiness\", \"teaching_us\", \"hear_hope\", \"took_break\", \"loud_annoying\", \"everyday_makes\", \"one_loud\", \"mucusthen_feel\", \"makes_one\", \"lo_everyday\", \"snorts_get\", \"annoying_nose\", \"often_sign\", \"mom_surgery\", \"realize_still\", \"nose_snorts\", \"rid_mucusthen\", \"feel_grief\", \"grief_realize\", \"mom_card\", \"us_teaching\", \"need_separate\", \"motor_home\", \"shocking_much\", \"rosy_tints\", \"discuss_frustration\", \"home_loathe\", \"youit_fun\", \"depends_daily\", \"regulation_well\", \"usually_feel\", \"grief_lo\", \"home_motor\", \"wrote_usually\", \"one_look\", \"grief_turns\", \"going_cold\", \"still_much\", \"service_asked\", \"st_woman\", \"helps_little\", \"brother_law\", \"nursing_home\", \"home_care\", \"feel_like\", \"years_ago\", \"need_help\", \"every_day\", \"go_home\", \"taking_care\", \"would_take\", \"assisted_living\", \"even_though\", \"take_care\", \"memory_care\", \"year_old\", \"get_back\", \"sorry_loss\", \"sounds_like\", \"sorry_hear\", \"feel_guilty\", \"social_worker\", \"last_night\", \"many_times\", \"every_time\", \"take_time\", \"dad_died\", \"family_members\", \"would_like\", \"full_time\", \"long_time\", \"go_back\", \"sorry_going\", \"let_know\", \"quit_feeling\", \"sure_respond\", \"suggestions_deal\", \"anyone_quit\", \"rules_irving\", \"like_justify\", \"justify_anything\", \"speaking_french\", \"respond_wanting\", \"english_home\", \"anything_anyone\", \"liquid_patch\", \"forgive_abusers\", \"things_person\", \"nobledo_forgive\", \"certain_officials\", \"guess_nobledo\", \"elm_tree\", \"molesting_beating\", \"things_salary\", \"beating_brother\", \"rest_guess\", \"brother_sorry\", \"polite_answer\", \"forgive_step\", \"place_going\", \"bullies_certain\", \"hard_forgive\", \"officials_awful\", \"salary_rest\", \"cry_cry\", \"deal_wanting\", \"one_post\", \"mil_live\", \"go_home\", \"feel_like\", \"quit_thinking\", \"one_day\", \"memory_care\", \"years_ago\", \"nursing_home\", \"months_ago\", \"wanting_go\", \"take_care\", \"awful_things\", \"even_though\", \"even_know\", \"home_cannot\", \"every_time\", \"passed_away\", \"last_years\", \"care_mom\", \"mom_go\", \"anyone_else\", \"every_day\", \"keep_us\", \"taking_care\", \"something_like\", \"past_years\", \"would_like\", \"sounds_like\", \"place_mom\", \"weeks_ago\", \"full_time\", \"year_old\", \"hours_away\", \"family_members\", \"feel_guilty\", \"assisted_living\", \"want_go\", \"go_back\", \"need_help\", \"let_go\", \"asks_god\", \"geez_sorry\", \"means_geez\", \"either_would\", \"caregiver_resource\", \"channeled_reform\", \"beaten_emotionally\", \"deserves_forgiveness\", \"forgive_lost\", \"lost_beaten\", \"healthy_anger\", \"point_everyone\", \"could_guess\", \"reform_helping\", \"anger_channeled\", \"forgiveness_healthy\", \"nothing_bout\", \"everyone_deserves\", \"man_asks\", \"spankings_forgive\", \"brutal_spankings\", \"know_molestation\", \"bout_brutal\", \"except_stupid\", \"emotionally_etc\", \"molestation_nothing\", \"eating_lot\", \"brain_center\", \"caregiver_gotten\", \"things_new\", \"mpsunshine_wrote\", \"reads_aloud\", \"hire_caregivers\", \"stupid_disease\", \"brown_paper\", \"taking_care\", \"sorry_hear\", \"hospice_care\", \"years_ago\", \"would_get\", \"one_day\", \"let_go\", \"memory_care\", \"take_care\", \"every_day\", \"health_care\", \"sounds_like\", \"seems_like\", \"dirty_clothes\", \"feel_like\", \"one_person\", \"feel_guilty\", \"assisted_living\", \"make_sure\", \"go_home\", \"get_help\", \"respite_care\", \"months_ago\", \"care_facility\", \"would_say\", \"anyone_else\", \"even_though\", \"year_old\", \"sorry_loss\", \"long_time\", \"one_thing\", \"hard_time\", \"social_worker\", \"would_like\", \"family_members\", \"last_night\", \"hii_sorry\", \"sad_well\", \"control_response\", \"super_woman\", \"check_doc\", \"wrote_feel\", \"maybe_bit\", \"hours_scheduled\", \"tylenol_mg\", \"po_every\", \"tramadol_mg\", \"something_drink\", \"turning_heater\", \"hundred_dollars\", \"windows_turning\", \"mg_po\", \"never_closer\", \"lane_never\", \"message_right\", \"chance_court\", \"sleepy_seemed\", \"majority_pelvic\", \"know_wish\", \"asleep_mid\", \"medicating_sleepy\", \"recipe_cardscreate\", \"related_physical\", \"objects_told\", \"support_hugs\", \"wow_zolly\", \"walk_memory\", \"unbearable_insidecan\", \"read_dear\", \"thank_message\", \"heater_closing\", \"outside_absolutely\", \"ago_seems\", \"insidecan_take\", \"memory_lane\", \"absolutely_unbearable\", \"july_degrees\", \"afraid_walk\", \"tells_afraid\", \"really_hard\", \"person_dementia\", \"looks_like\", \"take_care\", \"know_came\", \"even_though\", \"sounds_like\", \"every_hours\", \"year_old\", \"something_like\", \"feels_like\", \"things_like\", \"every_day\", \"going_get\", \"something_else\", \"bad_things\", \"assisted_living\", \"memory_care\", \"feel_like\", \"months_ago\", \"two_weeks\", \"long_time\", \"last_year\", \"times_day\", \"hard_time\", \"stage_dementia\", \"anyone_else\", \"one_day\", \"last_night\", \"years_ago\", \"get_back\", \"every_time\", \"go_home\", \"sorry_hear\", \"taking_care\", \"nursing_home\", \"steak_knife\", \"comfort_days\", \"little_johnny\", \"different_results\", \"pocket_found\", \"alz_association\", \"deeper_disease\", \"fight_going\", \"quote_function\", \"live_inand\", \"family_experience\", \"provide_safety\", \"feasible_covered\", \"aging_locate\", \"navigator_else\", \"king_county\", \"delusions_hallucination\", \"services_exist\", \"provide_live\", \"safety_assistance\", \"county_san\", \"inand_provide\", \"live_person\", \"confer_alz\", \"service_provide\", \"safety_precaution\", \"care_insurancehope\", \"elsewhere_services\", \"county_king\", \"set_free\", \"sounds_feasible\", \"sister_susan\", \"psychiatrist_soon\", \"going_gets\", \"gets_tough\", \"get_board\", \"tough_may\", \"daughter_rn\", \"term_care\", \"long_term\", \"take_care\", \"nothing_wrong\", \"months_ago\", \"family_needs\", \"something_wrong\", \"even_though\", \"let_go\", \"feel_like\", \"sorry_hear\", \"sorry_loss\", \"back_home\", \"last_week\", \"would_say\", \"one_day\", \"something_like\", \"feel_guilty\", \"last_year\", \"memory_care\", \"sounds_like\", \"good_luck\", \"years_ago\", \"thank_god\", \"may_need\", \"go_home\", \"years_old\", \"nursing_home\", \"family_members\", \"every_day\", \"trying_get\", \"every_time\", \"assisted_living\"], \"Freq\": [14.0, 12.0, 11.0, 9.0, 7.0, 12.0, 11.0, 220.0, 7.0, 136.0, 87.0, 34.0, 60.0, 6.0, 16.0, 80.0, 4.0, 85.0, 6.0, 114.0, 24.0, 6.0, 5.0, 76.0, 5.0, 148.0, 5.0, 60.0, 4.0, 52.0, 1.988132803577992, 2.2458164930362607, 1.5306994457850185, 1.525022351066209, 1.5168081232918194, 1.5130330817387119, 1.51106150485084, 2.20182477846882, 4.541735642697258, 2.795108551550019, 2.0914574144954936, 1.767280657789452, 1.3977440176000984, 1.7468901225627829, 1.3935875611823079, 1.3798828905709903, 1.3671456618658138, 1.0879204333360606, 2.0218321104425105, 1.0831693559722657, 1.0829567292552957, 1.0820608388465547, 1.0815199056637816, 1.0819852317986947, 1.0813832722375725, 1.081230609730974, 1.0806695919173521, 1.080269637393424, 1.0802643265535359, 1.080017807022008, 2.261080039995791, 1.3582519362679373, 4.281638514472437, 1.3583183700469, 2.952058354348872, 1.6759349842018472, 1.6550125925005772, 2.29488170122906, 1.6704617291740114, 1.942739413523023, 2.2130818278168514, 1.663065756985273, 2.1812486535282467, 1.8854354511316243, 4.496585392548434, 2.1545563722512155, 2.087197155298074, 43.35522489097421, 32.02707594973687, 6.559658202496407, 19.84562992190301, 10.8712900231988, 26.239155010387705, 10.698440145139658, 18.536042466818145, 5.1054332095660975, 4.061795621384065, 8.750119714819435, 9.865031477998585, 9.03021611421227, 7.882847587580942, 13.020174032206741, 5.217700888612072, 9.741348003772291, 16.516529744995804, 6.308679110434186, 15.254076283599014, 8.061886621884819, 7.991200308582941, 7.965551462502812, 10.384034561341714, 10.016207721914117, 13.436798799739684, 10.313586173666819, 11.236766960817048, 8.477531104935164, 9.487008598471851, 8.473932093584162, 7.281631930285944, 9.779843288737839, 8.388932390859077, 8.671868448059657, 8.05203665542493, 2.0332293333060223, 2.026256130541061, 2.0226953826030143, 2.0213095368404383, 2.0192716963337936, 2.010903891088526, 2.008960661206057, 2.0079275588772796, 2.006751874340237, 2.0033611209442204, 2.0029179548816827, 1.999771057038119, 1.99961857593155, 1.9965194593086468, 1.9948669143821467, 1.993877786005451, 1.9925437190955428, 1.990870043828432, 1.9797646221117902, 1.9545962924467242, 2.648063232414529, 2.2423072005654925, 1.8467009660198932, 1.7954823529235504, 1.7800600597291707, 1.398969607729409, 1.7613501901172517, 1.7736596605218458, 1.7698476328576174, 1.7584427694672762, 2.019205259497099, 3.0793001706789265, 2.2666158489855324, 2.4125414101527642, 12.541052846057495, 3.5475938251082013, 14.597792633926073, 6.587093952248009, 13.506413206471239, 16.958748410291527, 22.719669649726214, 17.57530814424667, 21.929206070364405, 16.54287284892425, 10.151519711741782, 7.933440826229322, 12.12400845323662, 4.118950620684469, 15.795801471005385, 14.92471212641029, 8.165322519003178, 5.962167364864743, 17.381123740576026, 8.544028478692223, 6.261653202879684, 6.291483532919129, 8.310045935116747, 7.438896435678112, 6.977934438350465, 9.131520478504195, 6.796164776060609, 9.095979626323848, 12.866793608189807, 7.315948311472446, 8.926787656509942, 6.761252123195717, 7.578425975996884, 8.915288182495425, 8.783517855539646, 8.307695327496377, 8.330875501509748, 9.316094574828977, 8.036987109758927, 7.770129563461776, 8.140844066404537, 7.735794092513385, 2.900647038552945, 2.4242971589610742, 2.0806567925447235, 2.0634998495236196, 3.5949705696087513, 2.0601343213451533, 2.052741828430256, 2.0376301839520803, 2.036260861109271, 1.9735535410017304, 1.9834545079881563, 1.9031772954583506, 4.068281202030481, 1.8969586966573178, 1.4714406791541212, 1.8767551424849827, 1.8609724316274157, 1.8562670365305025, 3.9459941767586293, 2.068386134207324, 2.115319051538528, 2.1021329937055495, 1.7689030307110765, 1.4082645189171412, 2.4787220773619136, 1.7999255948458084, 1.771406029001794, 1.7518206716010194, 1.7184437105375794, 1.7308021701879828, 7.356449437398938, 2.2656838037889533, 2.250658638883586, 3.31276204401103, 2.1990699861228244, 6.3240827320157775, 8.20423927848454, 24.689819850393146, 3.128450660672791, 16.989604670079288, 18.332385459197678, 6.598020562748531, 3.997436682817745, 9.807331134557431, 2.8976546187497396, 10.387323572219733, 8.27560040929379, 15.808929651370281, 13.157929691052402, 16.904886410491724, 5.378773766366682, 8.181521207999781, 7.471454429472253, 8.765794573336128, 12.822298314942257, 15.844057729373077, 9.27846511822743, 8.055464957329672, 8.095596766073568, 9.855205319728045, 13.935430143807489, 9.98452966744219, 9.255741005501775, 8.83301072689147, 7.954381288278235, 10.125954357828508, 7.333834085009393, 7.163380203523579, 8.423596036653326, 7.614027900908717, 7.688350485036586, 2.0290258268461634, 2.024598276466388, 2.019492715740268, 2.019320394374526, 2.0169823110238547, 2.014252041533266, 2.0104231998462443, 2.0103784752169678, 2.0097455653371203, 2.0020907007422326, 1.9982242753331296, 1.992599119649237, 1.9901052517705393, 1.9805542883966554, 1.9597184366306715, 1.9469865749384456, 1.4985104488264114, 1.484315264914954, 1.474066183903412, 1.8332755204329039, 1.451260287385237, 1.7922012101634168, 1.7952537600708516, 1.3800482480939753, 2.028961746600015, 1.9888783311631986, 1.362090839642885, 1.3717455340897131, 1.3678952696811049, 1.2756495942864072, 1.9757086191087267, 2.7924521346090416, 3.342116700907079, 3.081069563261612, 2.2168880616690214, 28.70620939649394, 31.906084487789197, 5.401798254424601, 3.0952576062658737, 5.619035550588901, 21.69544711388947, 9.058258065911607, 24.363742550114942, 16.00792650492421, 9.53828112270485, 11.477264431944716, 7.83531156134383, 14.868518842775192, 18.110717715180527, 10.657216179761802, 7.278852233930734, 10.478964102675105, 4.693882164582597, 12.33779110448352, 13.356334778140505, 7.749380890851826, 13.13614678395561, 8.036709949511453, 4.951038259480997, 8.477597076501546, 6.8025462072513205, 4.1789675077208335, 5.8502787966239795, 6.8582633235622525, 8.642590368112439, 8.157206369201532, 7.434250401294296, 7.380174941963872, 7.128556432676914, 7.420350437519787, 8.365142821662399, 6.82181538156235, 6.910856480893795, 2.0357905482362906, 2.0339372398378988, 2.0273908853261196, 2.027125860546597, 2.0259963812610318, 2.0215286341861125, 2.0163378040216724, 2.012756892151981, 2.008051350148215, 2.0070358259226695, 2.0056918649365763, 2.001631819598487, 2.0015189835734266, 1.998352674156148, 1.9953428431273417, 1.9351756904718134, 1.8801628128387218, 1.4871430944327202, 1.450999664041723, 1.3774472679736978, 1.3724560922965758, 2.3315212740297038, 3.551915062814799, 1.0654002664506974, 1.0596512243474039, 1.0594629467155052, 1.0594193976050068, 1.0586319700053277, 1.058530977100253, 1.0584948882228162, 2.257624867964614, 2.2619628069842572, 1.6379736202127753, 1.6237288646986392, 1.3229045715293297, 1.6490184952608542, 1.6027396854849316, 1.6096073895358505, 3.0672410658278295, 1.8013808866472483, 3.1849420953738776, 17.627281882153127, 27.399627675705933, 8.823533210116587, 3.138087728617233, 24.563705123897964, 23.691241311640095, 9.834996830806277, 10.483059816656718, 16.4555179955934, 17.17594971828369, 11.031577928669579, 14.34493450778381, 13.52342259529181, 9.959202997076439, 12.162247121408068, 8.533426381016854, 9.116866590015572, 11.887021965220129, 8.729044136225026, 9.602393478147338, 10.105196774003751, 9.190592343249373, 13.32670520173032, 7.440864804781635, 10.066294642679393, 5.519964456779511, 11.846077968106739, 6.888610608051397, 7.170975207279534, 7.30070940624853, 8.182348559149178, 6.943229958390475, 7.360329350808971, 7.424444085789181, 7.296858433942, 7.312850189533396, 1.9622561933081668, 5.494542414041109, 1.4440230505896345, 1.4388703109943364, 3.2015551401895057, 3.1979666202757375, 3.193656277872519, 3.1708018171592522, 3.1603509257804663, 3.121700185523296, 3.1500730839374396, 3.125607709069789, 1.4219150692151195, 1.405112916665084, 3.808874834207341, 3.0482766042090343, 3.0559652059209856, 6.2885681062422965, 2.9966240273288296, 2.388732980824976, 2.999678586462114, 1.2829645109503498, 9.317653191790384, 1.0378567330378012, 1.039573229085349, 1.0351403249806563, 1.0340113483642739, 1.0336049167823764, 1.0335649058510918, 1.0335075538389795, 3.1714470498750473, 3.138886641713548, 4.020182768269861, 2.2286403032605384, 1.5924943138194207, 1.5842255084447783, 3.337839778231415, 3.143844023195147, 2.047125971786217, 2.7047942295332708, 2.4319991581261755, 4.320796907322167, 20.160402419128495, 10.854213849400278, 19.88523992891591, 22.502601512733815, 10.168481761877583, 16.698718060713894, 14.25905342231687, 11.713189114751291, 8.525169410692786, 12.671380651512564, 13.775652008075738, 16.069512838874033, 15.048443988121837, 10.706923044120582, 7.7511726668475145, 10.642172893400273, 11.132116952928664, 8.033976793344808, 9.019659723578153, 7.357613947284275, 8.050049085091885, 6.532119973741212, 8.160114370194933, 6.4488748377732, 5.797044563268524, 7.913678825463389, 7.641545966580399, 7.160667679599689, 7.489463965177034, 7.154691509619466, 6.948236549281062, 6.533424890073491, 3.7792015231555838, 1.9297789288544527, 1.9293744211144555, 1.9240199848390547, 1.9234090748658819, 1.9196061264186914, 1.9105535513616752, 1.9042006294677045, 1.8876620367460764, 1.8792538972095412, 1.8617472966396234, 1.8569318089353448, 1.8168410112668205, 1.8007653420115601, 1.8064778920877538, 1.7897836934167504, 1.7815066082924202, 1.7656251501622233, 1.772941508238942, 1.7805399550116985, 1.774095091844049, 1.7629112740397137, 1.7563297688686412, 1.7496078966333335, 1.7543502376889393, 1.38970301887367, 1.7518600345360975, 1.7367413672676366, 1.7194521747923845, 1.6846538419330246, 2.861378032767407, 1.974846915730687, 2.17050573488255, 1.9750419734604805, 19.240116542485115, 22.42795721160935, 2.1375325125001385, 14.082921559797532, 19.899407605484637, 19.584936617165518, 15.21309146449168, 11.060353711497648, 5.451126324331065, 18.536424109173765, 3.5663908308156755, 14.103101907425756, 6.464444796412652, 2.4703409592712053, 9.663357700837807, 7.92018975706469, 6.607665934513572, 6.907406677814358, 5.0452921240428585, 8.585387411944524, 11.623071557019623, 5.292465825089957, 9.38246373339454, 7.612095395571981, 6.752183393777078, 8.483103337600243, 11.344908397793466, 3.951134752711845, 7.56699506839506, 7.374357950845537, 8.555804333542952, 5.8007222656143815, 7.725058880622458, 7.876106032847561, 8.193943121573188, 6.7063536319647845, 6.977183839661516, 6.512640310482476, 6.747018427640253, 2.7151551508143505, 1.8863644966507087, 1.873853302059526, 1.8841990815901548, 1.8679692824020528, 1.8726717733440947, 1.8492534815813557, 1.8357093227837362, 1.8431794723726262, 1.8473913510671593, 1.8355081867351644, 1.8427865167508508, 1.819257092746221, 1.834437291164729, 1.8226479570489416, 1.8205148169209127, 1.8227692375943583, 1.8056037980942896, 1.8217597309419733, 1.7985869948514361, 1.808067506732254, 1.7869204385717492, 1.7840251774854847, 2.5084613255886588, 1.7713825540453592, 1.777692968816554, 1.7966927557703463, 1.7463621612505724, 1.3695936658787968, 1.3631247878435289, 1.7006337391970021, 1.7212996779509977, 4.0265187660722095, 2.388408891264228, 3.596820296370148, 15.36589440554486, 11.133052975970998, 8.010551742615837, 19.893592298580778, 8.192897791295191, 11.88867569263758, 12.26405112539338, 18.20909236560246, 19.452907042569638, 15.064431895584304, 7.905879810930329, 14.370747103552343, 8.581897903814292, 4.516977291737355, 14.474931916668606, 5.567409224026625, 10.070214160341541, 11.477628806622429, 8.257504886122769, 11.369167731312213, 7.327082465824984, 5.315998147056064, 8.994187873828556, 8.076581596324628, 6.917266685483472, 8.254500322816561, 10.92517179923277, 9.007671475536284, 9.283387240354605, 7.823762400648432, 6.111116064658071, 7.324062596880671, 6.946782610374624, 7.320178957577231, 7.307444666674109, 7.1045943866346475, 1.8071436973596873, 1.802388009637167, 1.754757405746302, 1.7477163502819506, 1.3010027490373874, 1.2816997097028515, 1.2799481452655244, 1.576512704526951, 1.5800698572514433, 1.5644691994612592, 1.5660702121405814, 1.8225605151667454, 1.5646017167870387, 1.2282682154887736, 1.5488857021880824, 1.5449870869538773, 1.4980085827092948, 1.4897167162275131, 1.492934948741109, 0.9510901941886181, 0.950467966553423, 0.9499099319633297, 1.1914550930596255, 0.9492336804782965, 0.9483290193340208, 0.9476154278351288, 0.9475073801354524, 0.9473215539813766, 0.9471757690336515, 0.9469894661985478, 1.4807524117089221, 1.4998528616065647, 1.5025156018288834, 1.478935303630247, 1.5027820665235265, 1.5027145367112287, 1.1247988781925116, 1.4936803189752001, 1.4654153585272132, 1.4953018289387257, 1.4876468083103307, 1.680569630637041, 1.4506589028375885, 8.000585772821692, 8.28930066670163, 6.601707458904596, 19.48897544303543, 1.8974725276511903, 14.167832160178188, 14.38073570336755, 4.0192527154052335, 10.218383025574171, 7.746293604909238, 6.946566479835194, 7.2824588128420595, 11.508400739768504, 6.523866082609514, 6.84617364189354, 3.857929237317258, 10.235513034995803, 13.022837975213593, 12.011067875099371, 8.24108787638192, 6.457390053170978, 7.771644137552131, 6.754163398722661, 6.652890289815998, 7.088183328651606, 5.380237747683768, 6.9419668257025, 7.349498597043024, 6.84827103841667, 10.347165714393142, 5.823561908478852, 6.747897267716136, 7.715267390159815, 6.177160081589155, 6.302330163790712, 6.357895282286047, 1.744789639911883, 1.7233446479878654, 1.7186397975281484, 1.7221607571029798, 1.7131382225444947, 2.5910383242351034, 1.6782578468045535, 1.6476505228552603, 1.6613473460895969, 1.644267847787622, 1.6534056698674213, 1.6494017735891324, 1.6229463133667439, 1.6218233947536294, 1.626862609284349, 1.6214242760118622, 1.6179140584501717, 1.6107241718518934, 1.5997075565441699, 1.5909537236101647, 1.5922342926133175, 1.5893834228441295, 1.5941106651058863, 1.5939699598633377, 1.5867009454781205, 1.5955594752162585, 1.585543985274067, 1.586437539212231, 1.585255615174822, 1.2648109994110985, 1.5829625736091575, 2.7217940418800444, 1.8359510535995824, 6.561775369621808, 5.736698588015293, 1.8182224956303668, 5.510484500130367, 2.224686202354514, 8.71237784103908, 11.20572436407667, 21.873997064486062, 7.035212502359736, 10.730341565296616, 2.143531503443342, 7.522646932108024, 12.85255667838171, 9.94755321480225, 12.993244975782911, 7.8057743237564186, 10.572604028785387, 6.966560447672753, 7.4166768211779335, 6.297953947618772, 8.152314088414434, 6.751939866590001, 8.19472234592669, 6.517942509352737, 11.347333751280704, 10.047467856240116, 6.116764932165588, 10.886711386331887, 3.919368133363493, 5.08603699915294, 8.132286739633084, 5.459586723725755, 8.246905532805167, 6.700750996758868, 7.817462239237463, 6.314115382037106, 6.4642360747517, 6.780463391285935], \"Total\": [14.0, 12.0, 11.0, 9.0, 7.0, 12.0, 11.0, 220.0, 7.0, 136.0, 87.0, 34.0, 60.0, 6.0, 16.0, 80.0, 4.0, 85.0, 6.0, 114.0, 24.0, 6.0, 5.0, 76.0, 5.0, 148.0, 5.0, 60.0, 4.0, 52.0, 2.6276845785898932, 3.025936647177482, 2.084980675222241, 2.0793198142971345, 2.071116664759217, 2.0677581936931935, 2.065357324242093, 3.0399440668171787, 6.44028726642054, 4.003942394796293, 3.022081649896414, 2.579616483989482, 2.0617789738435452, 2.595586563694998, 2.0786933799506113, 2.0795463579403575, 2.0620876118162106, 1.6421981092738887, 3.0550637743972304, 1.6374472129490858, 1.6372342384476681, 1.636349288000933, 1.6357983615839011, 1.6365197124997097, 1.6356702586332177, 1.6355160493513003, 1.6349472874448898, 1.6345472021839222, 1.6345651912817822, 1.634302220047583, 3.4373719361493205, 2.0583097513882667, 6.591918594595494, 2.0637994463671654, 4.585185153629346, 2.561379401380685, 2.545970647523382, 3.6059205205803284, 2.5893022848410956, 3.0545093412440574, 3.5635076291317596, 2.6126868548299775, 3.573727750868547, 3.0411441311867167, 8.714172242979075, 3.5846926308504043, 3.5675468856062165, 220.0572067208173, 191.71963681986028, 20.501509108583363, 114.1849297809711, 48.455642624432265, 204.75804463213612, 51.913104274373744, 136.6168706890806, 15.927693394359885, 10.958968149280386, 41.195110019017235, 51.141494637011576, 44.324694262529405, 34.9529839149205, 89.00975790182936, 17.823059849136524, 58.70416870548257, 162.00684722825184, 26.531462313164923, 148.33396724109267, 42.84561738716066, 43.88094664691074, 44.61750113230441, 77.23567075193391, 72.07810422676988, 136.5997885739354, 84.11319636216764, 117.73055224034101, 60.124757732792276, 87.17617274573279, 68.14164535773718, 41.85251718817438, 135.2793787579383, 80.76499625985757, 112.37228862509716, 75.99131556010465, 2.589312929778105, 2.5823298513778536, 2.578768245283609, 2.5773827592764613, 2.5753437745904963, 2.56697962096399, 2.5650367538285073, 2.5640037146715575, 2.5628275041427417, 2.5594405762514083, 2.558995640958991, 2.555846380899261, 2.555703898046507, 2.552597421503347, 2.550987134572965, 2.549956581518375, 2.548622764531697, 2.546950548305609, 2.5358448026741556, 2.5756486136363765, 3.538346519609877, 2.9972944335052807, 2.5628114087410787, 2.569367228650545, 2.565160612128432, 2.0201570456006697, 2.5508156188596915, 2.576068487969484, 2.580860910917766, 2.566944711949062, 2.975500166487056, 4.833733542170945, 3.4157685089273326, 3.8753311801228367, 45.57716018238927, 7.216999944955101, 63.03117748597081, 21.778006126259072, 73.58557906404177, 112.37228862509716, 191.71963681986028, 135.2793787579383, 204.75804463213612, 136.6168706890806, 56.7329963588687, 35.76166727862558, 85.9314404360174, 10.366188264911935, 148.33396724109267, 136.5997885739354, 40.98069433024696, 22.03367988756784, 220.0572067208173, 52.07625904084241, 28.58078149423732, 29.222558731529062, 53.86304804085774, 42.84561738716066, 37.52995495554652, 70.06149810404993, 37.526805170385465, 72.07810422676988, 162.00684722825184, 45.09357394536349, 75.99131556010465, 37.49929872867937, 51.913104274373744, 84.11319636216764, 80.76499625985757, 69.5567023591312, 71.31976569934925, 114.1849297809711, 89.00975790182936, 70.76713547665548, 117.73055224034101, 77.23567075193391, 3.622795266553379, 3.0522449575455437, 2.63500265164359, 2.6178293292089294, 4.562220553658188, 2.6144782169544074, 2.607062458296364, 2.591981339567122, 2.590588922112521, 2.6197064164085164, 2.6364178999624635, 2.6199339645440856, 5.619549328090665, 2.6295454378557066, 2.0550464210872414, 2.626273236169984, 2.616620361663162, 2.618759357941343, 5.585651721187259, 2.9921164170025984, 3.0636478604169395, 3.052140074819521, 2.574536543928598, 2.053205890682829, 3.6205642130637044, 2.63010418183945, 2.6332229642474148, 2.605710223325034, 2.5590040046896707, 2.6118240086170186, 12.436995906532445, 3.564553106321026, 3.546369050016453, 5.959813342480015, 3.5714992479989762, 16.626301057093727, 24.876880785164282, 136.6168706890806, 6.238438573332256, 114.1849297809711, 135.2793787579383, 24.098741401864658, 10.082242871821123, 53.40990907858436, 5.689098806123839, 68.14164535773718, 44.03846145575248, 162.00684722825184, 112.37228862509716, 204.75804463213612, 20.171735020762878, 49.900557146631265, 41.195110019017235, 59.0439437798714, 136.5997885739354, 220.0572067208173, 72.07810422676988, 52.66867391724761, 53.37674873284077, 84.11319636216764, 191.71963681986028, 89.00975790182936, 77.23567075193391, 73.58557906404177, 63.67896531167048, 148.33396724109267, 52.29025351769896, 53.068084423334966, 117.73055224034101, 75.99131556010465, 85.9314404360174, 2.5851224262194314, 2.5806839628004012, 2.5755822000315387, 2.5754175660885337, 2.57307839873843, 2.5703518589544405, 2.566523567224467, 2.566477626915908, 2.565840882096965, 2.558179584557661, 2.5543252458772465, 2.548700620154032, 2.5462084969612455, 2.536658624496858, 2.554126625192497, 2.5541043891005017, 2.0545951953338006, 2.0404037810465656, 2.030164665380856, 2.555143898749467, 2.034259268863226, 2.543187617235477, 2.5600175268287657, 2.0093340151602797, 2.9834881161602516, 2.9494139038862905, 2.0231509277457387, 2.037769327912148, 2.0374141880180514, 1.9038730440791565, 3.0013035515407287, 4.488497542829122, 5.7534287124234105, 5.821816445637758, 3.8769778681034825, 148.33396724109267, 204.75804463213612, 14.49488893992876, 6.38853284258686, 16.781887175066906, 162.00684722825184, 38.10884654338682, 220.0572067208173, 114.1849297809711, 46.73416178074731, 71.31976569934925, 35.51584084173591, 117.73055224034101, 191.71963681986028, 69.5567023591312, 32.89683743237549, 70.06149810404993, 14.269354824093789, 112.37228862509716, 135.2793787579383, 43.49507365296332, 136.5997885739354, 49.67503146744371, 17.62179288825191, 60.124757732792276, 37.49929872867937, 13.242382444594831, 28.965793393297314, 47.06949706191442, 87.17617274573279, 76.80309865556511, 63.67896531167048, 62.39658752460307, 59.72596338813356, 72.07810422676988, 136.6168706890806, 60.375991597982406, 75.99131556010465, 2.591418337555441, 2.5895640659444052, 2.5830122755793545, 2.5827541164320498, 2.581613699746108, 2.57716028525863, 2.5719717257964327, 2.568390271679518, 2.563684653712302, 2.562669724002516, 2.561322789732714, 2.557267464937002, 2.5571537577244228, 2.553983718447032, 2.550980549361606, 2.5969063486969493, 2.567688668698898, 2.0427595648833936, 2.0246447917131825, 2.0320368401451083, 2.025745454211002, 3.441878595719309, 5.355435867063777, 1.6210106024157616, 1.615259089136293, 1.615073461789473, 1.6150291022389276, 1.6142401176876566, 1.6141390367224968, 1.614119637623823, 3.500294032940098, 3.527248144781773, 2.544715173233088, 2.530889967500403, 2.039950491581648, 2.5730033871809086, 2.52181152056591, 2.5340587208006427, 6.0383305277152965, 2.9474029744137638, 6.489226784859376, 87.17617274573279, 191.71963681986028, 37.57338539519119, 7.230794153118463, 204.75804463213612, 220.0572067208173, 52.07625904084241, 59.72596338813356, 136.5997885739354, 148.33396724109267, 69.5567023591312, 117.73055224034101, 135.2793787579383, 72.07810422676988, 114.1849297809711, 53.861522164786926, 62.39658752460307, 112.37228862509716, 58.70416870548257, 73.58557906404177, 84.11319636216764, 70.76713547665548, 162.00684722825184, 45.46306066846319, 89.00975790182936, 24.03205790589301, 136.6168706890806, 42.26094400167928, 49.900557146631265, 53.86304804085774, 77.23567075193391, 48.455642624432265, 59.0439437798714, 63.03117748597081, 60.375991597982406, 76.80309865556511, 2.519527915748628, 7.354770823824625, 2.0013260062026017, 1.9961329889065358, 4.4707652891916485, 4.477814947687131, 4.482929293926412, 4.4652278892507455, 4.4571010494703955, 4.418534423660523, 4.4680423505143505, 4.442416759546638, 2.0241313658211, 2.0026592008625292, 5.442227751398674, 4.3682605228760085, 4.408256052211278, 9.17769116528467, 4.384635409541957, 3.4955821372952136, 4.440027792829617, 1.9019078461817638, 14.207612009965393, 1.5951139576373514, 1.597948135791213, 1.5923987740738816, 1.5912648109169065, 1.590872617925625, 1.5908192093336535, 1.5907603140629174, 4.887598315443886, 4.915166565957082, 6.4339226833141225, 3.523725519903169, 2.488621600619988, 2.47549007000415, 5.4828538070166815, 5.677386645000839, 3.500397880776125, 5.319967639781572, 4.587924344733577, 10.993907232429645, 136.6168706890806, 53.33001719360043, 162.00684722825184, 204.75804463213612, 53.37674873284077, 135.2793787579383, 117.73055224034101, 85.9314404360174, 46.06140781299334, 112.37228862509716, 136.5997885739354, 220.0572067208173, 191.71963681986028, 89.00975790182936, 48.80534326765489, 114.1849297809711, 148.33396724109267, 60.310799233761706, 84.11319636216764, 53.861522164786926, 70.76713547665548, 38.69340301855666, 75.99131556010465, 37.66863474977422, 27.31741626384151, 77.23567075193391, 71.31976569934925, 58.70416870548257, 70.06149810404993, 73.58557906404177, 72.07810422676988, 44.03846145575248, 4.338462141742629, 2.488998840485658, 2.488593341098373, 2.4832523148050227, 2.482952163513068, 2.4788369502883527, 2.469791198196807, 2.4634072171678025, 2.44689159213908, 2.438462914617797, 2.420993088933485, 2.458235596209297, 2.4788770460365104, 2.4751151694373212, 2.4902682813640045, 2.4745110716084753, 2.466335355374903, 2.4495634042117618, 2.4646909638611505, 2.477415489491266, 2.4690282623121975, 2.4590255696727596, 2.457625414326228, 2.4532479983172455, 2.4600249973839645, 1.948923252583392, 2.4593472544401234, 2.452028686580168, 2.4415196300142297, 2.4430207803042014, 4.284142693857665, 2.8981847343928124, 3.274229571475851, 2.9207359144535205, 117.73055224034101, 162.00684722825184, 3.4186040285338612, 80.76499625985757, 191.71963681986028, 204.75804463213612, 136.6168706890806, 76.80309865556511, 20.49620160136885, 220.0572067208173, 9.251408350637371, 136.5997885739354, 30.083912096236087, 4.598827562708483, 75.99131556010465, 51.141494637011576, 37.57338539519119, 42.00012790895935, 21.360215441521515, 68.14164535773718, 135.2793787579383, 23.738428538606506, 85.9314404360174, 53.894515522735155, 42.341245352638595, 71.31976569934925, 148.33396724109267, 12.80483755063288, 62.39658752460307, 58.70416870548257, 89.00975790182936, 33.97328739824761, 77.23567075193391, 84.11319636216764, 112.37228862509716, 59.72596338813356, 73.58557906404177, 53.37674873284077, 87.17617274573279, 3.356719175795051, 2.446648243243225, 2.4341403523037326, 2.4488560341594874, 2.4282763937190666, 2.465899386807804, 2.452629527686366, 2.435030235572249, 2.445090960764306, 2.451887036161189, 2.4416394857951085, 2.4558494261749937, 2.424514704427511, 2.4450200586454787, 2.4294771272879485, 2.429912110548003, 2.4387222174404184, 2.416122192315779, 2.445191320911944, 2.417703559314528, 2.4331109219212754, 2.4101642481340027, 2.4127703167714842, 3.3933454577566544, 2.398008314571754, 2.407610010828526, 2.4455704033056103, 2.4466824080459486, 1.9298756430550603, 1.9234203935199872, 2.409921951099483, 2.4600583651413404, 7.282887911392672, 3.8019724987946617, 7.230794153118463, 85.9314404360174, 60.310799233761706, 35.55607965914317, 204.75804463213612, 40.4235333502238, 80.76499625985757, 87.17617274573279, 191.71963681986028, 220.0572067208173, 135.2793787579383, 40.662661301763706, 148.33396724109267, 53.068084423334966, 14.882031265992845, 162.00684722825184, 24.311543451172895, 84.11319636216764, 112.37228862509716, 59.0439437798714, 117.73055224034101, 47.06949706191442, 23.779596809876583, 76.80309865556511, 63.03117748597081, 44.43117139172096, 68.14164535773718, 136.5997885739354, 89.00975790182936, 114.1849297809711, 70.06149810404993, 35.33614350204419, 63.67896531167048, 53.861522164786926, 71.31976569934925, 77.23567075193391, 70.76713547665548, 2.3697411370276162, 2.3647899863150186, 2.3827111377692938, 2.38406003223794, 1.8960742548613512, 1.8874191746097841, 1.8940401261713005, 2.4080991075833222, 2.4144766902578727, 2.4063684427774845, 2.4090076627259402, 2.808130180584275, 2.4122245344558473, 1.9137400003176062, 2.419303164103646, 2.4137759225222606, 2.365057663663686, 2.364534465319166, 2.3736804825508395, 1.5134687001149172, 1.5128448007246549, 1.5122869165771595, 1.8972168942942154, 1.5116093864635998, 1.5107062123698847, 1.5099936413152937, 1.5098851946765703, 1.5097064114805336, 1.5095597967799212, 1.5093686069446361, 2.3607111942794563, 2.39479493910353, 2.400854633941099, 2.3659074103631466, 2.404874593916242, 2.4080051594296483, 1.7953999054344743, 2.4061477951255643, 2.360568086481074, 2.415309977413028, 2.410620230024575, 2.7578030106329425, 2.3652877312879785, 40.518761406292725, 45.99051042517133, 32.344055244181526, 220.0572067208173, 3.7210042776590626, 136.5997885739354, 148.33396724109267, 14.96775019230239, 89.00975790182936, 53.894515522735155, 45.04982570128045, 53.86304804085774, 135.2793787579383, 44.95276601710325, 49.67503146744371, 15.780002129480586, 112.37228862509716, 191.71963681986028, 162.00684722825184, 76.80309865556511, 46.65176310628848, 70.06149810404993, 52.66867391724761, 52.29025351769896, 63.67896531167048, 35.59821111279673, 68.14164535773718, 80.76499625985757, 70.76713547665548, 204.75804463213612, 48.80534326765489, 75.99131556010465, 117.73055224034101, 60.310799233761706, 85.9314404360174, 136.6168706890806, 2.310023856554737, 2.2886277273022766, 2.2838862990632163, 2.2888212076687413, 2.2783876047739646, 3.481232801451804, 2.2742327871010457, 2.2838124675213836, 2.3263875575519037, 2.3108617819580317, 2.329590726491151, 2.3252360368666967, 2.2979805875941524, 2.306442397934201, 2.3162732577867016, 2.313316733693676, 2.323630065956689, 2.313306240833829, 2.297892511830099, 2.2941336659216933, 2.296312470429148, 2.2926799223617085, 2.30081052065258, 2.3015312375168433, 2.2927181960666823, 2.305598108944652, 2.29195516874926, 2.294096637767127, 2.292711098934601, 1.8300481403797493, 2.2906458083358703, 4.035080067101173, 2.717924619711132, 12.628220887244918, 11.287834720805488, 2.72337467629254, 11.366682623618225, 3.599758555178809, 34.322453006153076, 60.375991597982406, 220.0572067208173, 34.260729144665305, 76.80309865556511, 4.024782386152841, 47.216195522482735, 136.5997885739354, 87.17617274573279, 162.00684722825184, 60.310799233761706, 114.1849297809711, 52.07625904084241, 60.124757732792276, 44.43117139172096, 80.76499625985757, 53.894515522735155, 84.11319636216764, 52.66867391724761, 191.71963681986028, 148.33396724109267, 48.86501975863699, 204.75804463213612, 17.257932048125376, 35.009821909331734, 117.73055224034101, 42.26094400167928, 136.6168706890806, 77.23567075193391, 135.2793787579383, 69.5567023591312, 75.99131556010465, 112.37228862509716], \"Category\": [\"Default\", \"Default\", \"Default\", \"Default\", \"Default\", \"Default\", \"Default\", \"Default\", \"Default\", \"Default\", \"Default\", \"Default\", \"Default\", \"Default\", \"Default\", \"Default\", \"Default\", \"Default\", \"Default\", \"Default\", \"Default\", \"Default\", \"Default\", \"Default\", \"Default\", \"Default\", \"Default\", \"Default\", \"Default\", \"Default\", \"Topic1\", \"Topic1\", \"Topic1\", \"Topic1\", \"Topic1\", \"Topic1\", \"Topic1\", \"Topic1\", \"Topic1\", \"Topic1\", \"Topic1\", \"Topic1\", \"Topic1\", \"Topic1\", \"Topic1\", \"Topic1\", \"Topic1\", \"Topic1\", \"Topic1\", \"Topic1\", \"Topic1\", \"Topic1\", \"Topic1\", \"Topic1\", \"Topic1\", \"Topic1\", \"Topic1\", \"Topic1\", \"Topic1\", \"Topic1\", \"Topic1\", \"Topic1\", \"Topic1\", \"Topic1\", \"Topic1\", \"Topic1\", \"Topic1\", \"Topic1\", \"Topic1\", \"Topic1\", \"Topic1\", \"Topic1\", \"Topic1\", \"Topic1\", \"Topic1\", \"Topic1\", \"Topic1\", \"Topic1\", \"Topic1\", \"Topic1\", \"Topic1\", \"Topic1\", \"Topic1\", \"Topic1\", \"Topic1\", \"Topic1\", \"Topic1\", \"Topic1\", \"Topic1\", \"Topic1\", \"Topic1\", \"Topic1\", \"Topic1\", \"Topic1\", \"Topic1\", \"Topic1\", \"Topic1\", \"Topic1\", \"Topic1\", \"Topic1\", \"Topic1\", \"Topic1\", \"Topic1\", \"Topic1\", \"Topic1\", \"Topic1\", \"Topic1\", \"Topic1\", \"Topic1\", \"Topic1\", \"Topic1\", \"Topic1\", \"Topic1\", \"Topic2\", \"Topic2\", \"Topic2\", \"Topic2\", \"Topic2\", \"Topic2\", \"Topic2\", \"Topic2\", \"Topic2\", \"Topic2\", \"Topic2\", \"Topic2\", \"Topic2\", \"Topic2\", \"Topic2\", \"Topic2\", \"Topic2\", \"Topic2\", \"Topic2\", \"Topic2\", \"Topic2\", \"Topic2\", \"Topic2\", \"Topic2\", \"Topic2\", \"Topic2\", \"Topic2\", \"Topic2\", \"Topic2\", \"Topic2\", \"Topic2\", \"Topic2\", \"Topic2\", \"Topic2\", \"Topic2\", \"Topic2\", \"Topic2\", \"Topic2\", \"Topic2\", \"Topic2\", \"Topic2\", \"Topic2\", \"Topic2\", \"Topic2\", \"Topic2\", \"Topic2\", \"Topic2\", \"Topic2\", \"Topic2\", \"Topic2\", \"Topic2\", \"Topic2\", \"Topic2\", \"Topic2\", \"Topic2\", \"Topic2\", \"Topic2\", \"Topic2\", \"Topic2\", \"Topic2\", \"Topic2\", \"Topic2\", \"Topic2\", \"Topic2\", \"Topic2\", \"Topic2\", \"Topic2\", \"Topic2\", \"Topic2\", \"Topic2\", \"Topic2\", \"Topic2\", \"Topic2\", \"Topic2\", \"Topic2\", \"Topic2\", \"Topic3\", \"Topic3\", \"Topic3\", \"Topic3\", \"Topic3\", \"Topic3\", \"Topic3\", \"Topic3\", \"Topic3\", \"Topic3\", \"Topic3\", \"Topic3\", \"Topic3\", \"Topic3\", \"Topic3\", \"Topic3\", \"Topic3\", \"Topic3\", \"Topic3\", \"Topic3\", \"Topic3\", \"Topic3\", \"Topic3\", \"Topic3\", \"Topic3\", \"Topic3\", \"Topic3\", \"Topic3\", \"Topic3\", \"Topic3\", \"Topic3\", \"Topic3\", \"Topic3\", \"Topic3\", \"Topic3\", \"Topic3\", \"Topic3\", \"Topic3\", \"Topic3\", \"Topic3\", \"Topic3\", \"Topic3\", \"Topic3\", \"Topic3\", \"Topic3\", \"Topic3\", \"Topic3\", \"Topic3\", \"Topic3\", \"Topic3\", \"Topic3\", \"Topic3\", \"Topic3\", \"Topic3\", \"Topic3\", \"Topic3\", \"Topic3\", \"Topic3\", \"Topic3\", \"Topic3\", \"Topic3\", \"Topic3\", \"Topic3\", \"Topic3\", \"Topic3\", \"Topic3\", \"Topic3\", \"Topic3\", \"Topic3\", \"Topic3\", \"Topic3\", \"Topic4\", \"Topic4\", \"Topic4\", \"Topic4\", \"Topic4\", \"Topic4\", \"Topic4\", \"Topic4\", \"Topic4\", \"Topic4\", \"Topic4\", \"Topic4\", \"Topic4\", \"Topic4\", \"Topic4\", \"Topic4\", \"Topic4\", \"Topic4\", \"Topic4\", \"Topic4\", \"Topic4\", \"Topic4\", \"Topic4\", \"Topic4\", \"Topic4\", \"Topic4\", \"Topic4\", \"Topic4\", \"Topic4\", \"Topic4\", \"Topic4\", \"Topic4\", \"Topic4\", \"Topic4\", \"Topic4\", \"Topic4\", \"Topic4\", \"Topic4\", \"Topic4\", \"Topic4\", \"Topic4\", \"Topic4\", \"Topic4\", \"Topic4\", \"Topic4\", \"Topic4\", \"Topic4\", \"Topic4\", \"Topic4\", \"Topic4\", \"Topic4\", \"Topic4\", \"Topic4\", \"Topic4\", \"Topic4\", \"Topic4\", \"Topic4\", \"Topic4\", \"Topic4\", \"Topic4\", \"Topic4\", \"Topic4\", \"Topic4\", \"Topic4\", \"Topic4\", \"Topic4\", \"Topic4\", \"Topic4\", \"Topic4\", \"Topic4\", \"Topic4\", \"Topic4\", \"Topic4\", \"Topic5\", \"Topic5\", \"Topic5\", \"Topic5\", \"Topic5\", \"Topic5\", \"Topic5\", \"Topic5\", \"Topic5\", \"Topic5\", \"Topic5\", \"Topic5\", \"Topic5\", \"Topic5\", \"Topic5\", \"Topic5\", \"Topic5\", \"Topic5\", \"Topic5\", \"Topic5\", \"Topic5\", \"Topic5\", \"Topic5\", \"Topic5\", \"Topic5\", \"Topic5\", \"Topic5\", \"Topic5\", \"Topic5\", \"Topic5\", \"Topic5\", \"Topic5\", \"Topic5\", \"Topic5\", \"Topic5\", \"Topic5\", \"Topic5\", \"Topic5\", \"Topic5\", \"Topic5\", \"Topic5\", \"Topic5\", \"Topic5\", \"Topic5\", \"Topic5\", \"Topic5\", \"Topic5\", \"Topic5\", \"Topic5\", \"Topic5\", \"Topic5\", \"Topic5\", \"Topic5\", \"Topic5\", \"Topic5\", \"Topic5\", \"Topic5\", \"Topic5\", \"Topic5\", \"Topic5\", \"Topic5\", \"Topic5\", \"Topic5\", \"Topic5\", \"Topic5\", \"Topic5\", \"Topic5\", \"Topic5\", \"Topic5\", \"Topic5\", \"Topic5\", \"Topic5\", \"Topic5\", \"Topic5\", \"Topic5\", \"Topic5\", \"Topic5\", \"Topic6\", \"Topic6\", \"Topic6\", \"Topic6\", \"Topic6\", \"Topic6\", \"Topic6\", \"Topic6\", \"Topic6\", \"Topic6\", \"Topic6\", \"Topic6\", \"Topic6\", \"Topic6\", \"Topic6\", \"Topic6\", \"Topic6\", \"Topic6\", \"Topic6\", \"Topic6\", \"Topic6\", \"Topic6\", \"Topic6\", \"Topic6\", \"Topic6\", \"Topic6\", \"Topic6\", \"Topic6\", \"Topic6\", \"Topic6\", \"Topic6\", \"Topic6\", \"Topic6\", \"Topic6\", \"Topic6\", \"Topic6\", \"Topic6\", \"Topic6\", \"Topic6\", \"Topic6\", \"Topic6\", \"Topic6\", \"Topic6\", \"Topic6\", \"Topic6\", \"Topic6\", \"Topic6\", \"Topic6\", \"Topic6\", \"Topic6\", \"Topic6\", \"Topic6\", \"Topic6\", \"Topic6\", \"Topic6\", \"Topic6\", \"Topic6\", \"Topic6\", \"Topic6\", \"Topic6\", \"Topic6\", \"Topic6\", \"Topic6\", \"Topic6\", \"Topic6\", \"Topic6\", \"Topic6\", \"Topic6\", \"Topic6\", \"Topic6\", \"Topic6\", \"Topic6\", \"Topic6\", \"Topic6\", \"Topic7\", \"Topic7\", \"Topic7\", \"Topic7\", \"Topic7\", \"Topic7\", \"Topic7\", \"Topic7\", \"Topic7\", \"Topic7\", \"Topic7\", \"Topic7\", \"Topic7\", \"Topic7\", \"Topic7\", \"Topic7\", \"Topic7\", \"Topic7\", \"Topic7\", \"Topic7\", \"Topic7\", \"Topic7\", \"Topic7\", \"Topic7\", \"Topic7\", \"Topic7\", \"Topic7\", \"Topic7\", \"Topic7\", \"Topic7\", \"Topic7\", \"Topic7\", \"Topic7\", \"Topic7\", \"Topic7\", \"Topic7\", \"Topic7\", \"Topic7\", \"Topic7\", \"Topic7\", \"Topic7\", \"Topic7\", \"Topic7\", \"Topic7\", \"Topic7\", \"Topic7\", \"Topic7\", \"Topic7\", \"Topic7\", \"Topic7\", \"Topic7\", \"Topic7\", \"Topic7\", \"Topic7\", \"Topic7\", \"Topic7\", \"Topic7\", \"Topic7\", \"Topic7\", \"Topic7\", \"Topic7\", \"Topic7\", \"Topic7\", \"Topic7\", \"Topic7\", \"Topic7\", \"Topic7\", \"Topic7\", \"Topic7\", \"Topic7\", \"Topic7\", \"Topic7\", \"Topic7\", \"Topic8\", \"Topic8\", \"Topic8\", \"Topic8\", \"Topic8\", \"Topic8\", \"Topic8\", \"Topic8\", \"Topic8\", \"Topic8\", \"Topic8\", \"Topic8\", \"Topic8\", \"Topic8\", \"Topic8\", \"Topic8\", \"Topic8\", \"Topic8\", \"Topic8\", \"Topic8\", \"Topic8\", \"Topic8\", \"Topic8\", \"Topic8\", \"Topic8\", \"Topic8\", \"Topic8\", \"Topic8\", \"Topic8\", \"Topic8\", \"Topic8\", \"Topic8\", \"Topic8\", \"Topic8\", \"Topic8\", \"Topic8\", \"Topic8\", \"Topic8\", \"Topic8\", \"Topic8\", \"Topic8\", \"Topic8\", \"Topic8\", \"Topic8\", \"Topic8\", \"Topic8\", \"Topic8\", \"Topic8\", \"Topic8\", \"Topic8\", \"Topic8\", \"Topic8\", \"Topic8\", \"Topic8\", \"Topic8\", \"Topic8\", \"Topic8\", \"Topic8\", \"Topic8\", \"Topic8\", \"Topic8\", \"Topic8\", \"Topic8\", \"Topic8\", \"Topic8\", \"Topic8\", \"Topic8\", \"Topic8\", \"Topic8\", \"Topic8\", \"Topic8\", \"Topic9\", \"Topic9\", \"Topic9\", \"Topic9\", \"Topic9\", \"Topic9\", \"Topic9\", \"Topic9\", \"Topic9\", \"Topic9\", \"Topic9\", \"Topic9\", \"Topic9\", \"Topic9\", \"Topic9\", \"Topic9\", \"Topic9\", \"Topic9\", \"Topic9\", \"Topic9\", \"Topic9\", \"Topic9\", \"Topic9\", \"Topic9\", \"Topic9\", \"Topic9\", \"Topic9\", \"Topic9\", \"Topic9\", \"Topic9\", \"Topic9\", \"Topic9\", \"Topic9\", \"Topic9\", \"Topic9\", \"Topic9\", \"Topic9\", \"Topic9\", \"Topic9\", \"Topic9\", \"Topic9\", \"Topic9\", \"Topic9\", \"Topic9\", \"Topic9\", \"Topic9\", \"Topic9\", \"Topic9\", \"Topic9\", \"Topic9\", \"Topic9\", \"Topic9\", \"Topic9\", \"Topic9\", \"Topic9\", \"Topic9\", \"Topic9\", \"Topic9\", \"Topic9\", \"Topic9\", \"Topic9\", \"Topic9\", \"Topic9\", \"Topic9\", \"Topic9\", \"Topic9\", \"Topic9\", \"Topic9\", \"Topic9\", \"Topic9\", \"Topic9\", \"Topic9\", \"Topic9\", \"Topic9\", \"Topic9\", \"Topic9\", \"Topic9\", \"Topic9\", \"Topic9\", \"Topic10\", \"Topic10\", \"Topic10\", \"Topic10\", \"Topic10\", \"Topic10\", \"Topic10\", \"Topic10\", \"Topic10\", \"Topic10\", \"Topic10\", \"Topic10\", \"Topic10\", \"Topic10\", \"Topic10\", \"Topic10\", \"Topic10\", \"Topic10\", \"Topic10\", \"Topic10\", \"Topic10\", \"Topic10\", \"Topic10\", \"Topic10\", \"Topic10\", \"Topic10\", \"Topic10\", \"Topic10\", \"Topic10\", \"Topic10\", \"Topic10\", \"Topic10\", \"Topic10\", \"Topic10\", \"Topic10\", \"Topic10\", \"Topic10\", \"Topic10\", \"Topic10\", \"Topic10\", \"Topic10\", \"Topic10\", \"Topic10\", \"Topic10\", \"Topic10\", \"Topic10\", \"Topic10\", \"Topic10\", \"Topic10\", \"Topic10\", \"Topic10\", \"Topic10\", \"Topic10\", \"Topic10\", \"Topic10\", \"Topic10\", \"Topic10\", \"Topic10\", \"Topic10\", \"Topic10\", \"Topic10\", \"Topic10\", \"Topic10\", \"Topic10\", \"Topic10\", \"Topic10\", \"Topic10\", \"Topic10\", \"Topic10\", \"Topic10\", \"Topic10\"], \"logprob\": [30.0, 29.0, 28.0, 27.0, 26.0, 25.0, 24.0, 23.0, 22.0, 21.0, 20.0, 19.0, 18.0, 17.0, 16.0, 15.0, 14.0, 13.0, 12.0, 11.0, 10.0, 9.0, 8.0, 7.0, 6.0, 5.0, 4.0, 3.0, 2.0, 1.0, -10.1925, -10.0706, -10.4539, -10.4576, -10.463, -10.4655, -10.4668, -10.0904, -9.3663, -9.8518, -10.1418, -10.3102, -10.5448, -10.3218, -10.5478, -10.5576, -10.5669, -10.7954, -10.1756, -10.7998, -10.8, -10.8008, -10.8013, -10.8008, -10.8014, -10.8015, -10.8021, -10.8024, -10.8024, -10.8027, -10.0638, -10.5734, -9.4253, -10.5734, -9.7971, -10.3633, -10.3758, -10.049, -10.3665, -10.2155, -10.0853, -10.371, -10.0997, -10.2455, -9.3763, -10.1121, -10.1438, -7.1102, -7.4131, -8.9987, -7.8917, -8.4935, -7.6124, -8.5095, -7.9599, -9.2493, -9.478, -8.7106, -8.5906, -8.6791, -8.815, -8.3131, -9.2276, -8.6033, -8.0753, -9.0377, -8.1548, -8.7925, -8.8013, -8.8045, -8.5394, -8.5754, -8.2816, -8.5462, -8.4605, -8.7422, -8.6297, -8.7427, -8.8943, -8.5993, -8.7527, -8.7196, -8.7937, -10.1556, -10.1591, -10.1608, -10.1615, -10.1625, -10.1667, -10.1676, -10.1682, -10.1687, -10.1704, -10.1707, -10.1722, -10.1723, -10.1739, -10.1747, -10.1752, -10.1758, -10.1767, -10.1823, -10.1951, -9.8914, -10.0578, -10.2519, -10.28, -10.2886, -10.5295, -10.2992, -10.2922, -10.2944, -10.3008, -10.1626, -9.7406, -10.047, -9.9846, -8.3363, -9.599, -8.1844, -8.9801, -8.2621, -8.0345, -7.742, -7.9988, -7.7774, -8.0593, -8.5476, -8.7942, -8.3701, -9.4497, -8.1055, -8.1622, -8.7654, -9.0798, -8.0099, -8.72, -9.0308, -9.0261, -8.7478, -8.8585, -8.9225, -8.6535, -8.9489, -8.6574, -8.3106, -8.8752, -8.6762, -8.9541, -8.84, -8.6775, -8.6924, -8.7481, -8.7453, -8.6335, -8.7812, -8.815, -8.7684, -8.8194, -9.7922, -9.9716, -10.1244, -10.1327, -9.5776, -10.1344, -10.1379, -10.1453, -10.146, -10.1773, -10.1723, -10.2136, -9.4539, -10.2169, -10.4709, -10.2276, -10.236, -10.2386, -9.4844, -10.1304, -10.1079, -10.1142, -10.2868, -10.5148, -9.9494, -10.2694, -10.2853, -10.2965, -10.3157, -10.3085, -8.8615, -10.0392, -10.0459, -9.6593, -10.0691, -9.0128, -8.7525, -7.6507, -9.7166, -8.0245, -7.9485, -8.9704, -9.4715, -8.574, -9.7932, -8.5165, -8.7438, -8.0965, -8.2801, -8.0295, -9.1747, -8.7552, -8.846, -8.6863, -8.3059, -8.0943, -8.6294, -8.7708, -8.7658, -8.5691, -8.2227, -8.5561, -8.6319, -8.6786, -8.7834, -8.542, -8.8646, -8.8881, -8.7261, -8.8271, -8.8174, -10.1448, -10.147, -10.1495, -10.1496, -10.1507, -10.1521, -10.154, -10.154, -10.1543, -10.1581, -10.1601, -10.1629, -10.1641, -10.169, -10.1795, -10.1861, -10.4479, -10.4574, -10.4643, -10.2462, -10.4799, -10.2689, -10.2672, -10.5302, -10.1448, -10.1648, -10.5433, -10.5363, -10.5391, -10.6089, -10.1714, -9.8254, -9.6457, -9.7271, -10.0562, -7.4952, -7.3895, -9.1656, -9.7225, -9.1262, -7.7752, -8.6487, -7.6592, -8.0793, -8.597, -8.412, -8.7937, -8.1531, -7.9558, -8.4861, -8.8674, -8.503, -9.3061, -8.3397, -8.2603, -8.8047, -8.277, -8.7683, -9.2527, -8.7149, -8.935, -9.4223, -9.0858, -8.9269, -8.6956, -8.7534, -8.8462, -8.8535, -8.8882, -8.8481, -8.7283, -8.9322, -8.9192, -10.1339, -10.1348, -10.138, -10.1382, -10.1387, -10.1409, -10.1435, -10.1453, -10.1476, -10.1481, -10.1488, -10.1508, -10.1509, -10.1525, -10.154, -10.1846, -10.2134, -10.4479, -10.4725, -10.5246, -10.5282, -9.9983, -9.5773, -10.7814, -10.7868, -10.787, -10.7871, -10.7878, -10.7879, -10.7879, -10.0305, -10.0286, -10.3513, -10.3601, -10.565, -10.3446, -10.3731, -10.3688, -9.724, -10.2562, -9.6864, -7.9753, -7.5343, -8.6674, -9.7012, -7.6435, -7.6797, -8.5588, -8.495, -8.0441, -8.0013, -8.444, -8.1814, -8.2404, -8.5463, -8.3465, -8.7008, -8.6347, -8.3693, -8.6781, -8.5828, -8.5317, -8.6266, -8.255, -8.8378, -8.5356, -9.1364, -8.3728, -8.9149, -8.8747, -8.8568, -8.7428, -8.907, -8.8487, -8.84, -8.8573, -8.8552, -10.1387, -9.1091, -10.4454, -10.449, -9.6492, -9.6503, -9.6516, -9.6588, -9.6621, -9.6744, -9.6654, -9.6732, -10.4608, -10.4727, -9.4755, -9.6982, -9.6957, -8.9741, -9.7153, -9.942, -9.7143, -10.5636, -8.5809, -10.7757, -10.774, -10.7783, -10.7794, -10.7798, -10.7798, -10.7799, -9.6586, -9.6689, -9.4215, -10.0114, -10.3475, -10.3527, -9.6075, -9.6674, -10.0964, -9.8178, -9.9241, -9.3494, -7.8091, -8.4283, -7.8228, -7.6992, -8.4935, -7.9975, -8.1554, -8.3521, -8.6698, -8.2735, -8.1899, -8.0359, -8.1015, -8.4419, -8.765, -8.448, -8.403, -8.7291, -8.6134, -8.8171, -8.7271, -8.9361, -8.7136, -8.9489, -9.0555, -8.7442, -8.7792, -8.8442, -8.7993, -8.845, -8.8743, -8.9359, -9.4186, -10.0907, -10.0909, -10.0937, -10.094, -10.096, -10.1007, -10.1041, -10.1128, -10.1172, -10.1266, -10.1292, -10.151, -10.1599, -10.1567, -10.166, -10.1707, -10.1796, -10.1755, -10.1712, -10.1748, -10.1812, -10.1849, -10.1887, -10.186, -10.419, -10.1874, -10.1961, -10.2061, -10.2266, -9.6968, -10.0676, -9.9732, -10.0675, -7.7911, -7.6378, -9.9885, -8.1032, -7.7574, -7.7734, -8.026, -8.3448, -9.0523, -7.8284, -9.4766, -8.1017, -8.8818, -9.8438, -8.4798, -8.6787, -8.8599, -8.8155, -9.1297, -8.5981, -8.2951, -9.0818, -8.5093, -8.7184, -8.8383, -8.61, -8.3194, -9.3741, -8.7243, -8.7501, -8.6015, -8.9901, -8.7037, -8.6843, -8.6447, -8.8451, -8.8055, -8.8744, -8.839, -9.7317, -10.0959, -10.1025, -10.097, -10.1057, -10.1031, -10.1157, -10.1231, -10.119, -10.1167, -10.1232, -10.1192, -10.1321, -10.1238, -10.1302, -10.1314, -10.1302, -10.1396, -10.1307, -10.1435, -10.1383, -10.15, -10.1516, -9.8108, -10.1588, -10.1552, -10.1446, -10.173, -10.416, -10.4207, -10.1995, -10.1874, -9.3376, -9.8599, -9.4505, -7.9984, -8.3206, -8.6498, -7.7401, -8.6272, -8.2549, -8.2238, -7.8286, -7.7625, -8.0182, -8.6629, -8.0653, -8.5809, -9.2227, -8.0581, -9.0136, -8.4209, -8.2901, -8.6194, -8.2996, -8.7389, -9.0598, -8.5339, -8.6415, -8.7965, -8.6198, -8.3394, -8.5324, -8.5023, -8.6733, -8.9204, -8.7393, -8.7922, -8.7399, -8.7416, -8.7698, -10.0928, -10.0954, -10.1222, -10.1263, -10.4214, -10.4364, -10.4377, -10.2293, -10.2271, -10.237, -10.236, -10.0843, -10.2369, -10.479, -10.247, -10.2495, -10.2804, -10.286, -10.2838, -10.7347, -10.7354, -10.736, -10.5094, -10.7367, -10.7376, -10.7384, -10.7385, -10.7387, -10.7388, -10.739, -10.292, -10.2792, -10.2774, -10.2932, -10.2772, -10.2773, -10.567, -10.2833, -10.3024, -10.2822, -10.2874, -10.1654, -10.3125, -8.605, -8.5696, -8.7972, -7.7147, -10.044, -8.0336, -8.0187, -9.2935, -8.3604, -8.6373, -8.7463, -8.6991, -8.2415, -8.8091, -8.7609, -9.3344, -8.3587, -8.1179, -8.1987, -8.5754, -8.8193, -8.6341, -8.7744, -8.7895, -8.7261, -9.0018, -8.747, -8.6899, -8.7606, -8.3478, -8.9227, -8.7753, -8.6414, -8.8637, -8.8436, -8.8349, -10.0789, -10.0913, -10.094, -10.092, -10.0972, -9.6835, -10.1178, -10.1362, -10.1279, -10.1383, -10.1327, -10.1352, -10.1513, -10.152, -10.1489, -10.1523, -10.1544, -10.1589, -10.1657, -10.1712, -10.1704, -10.1722, -10.1692, -10.1693, -10.1739, -10.1683, -10.1746, -10.1741, -10.1748, -10.4006, -10.1763, -9.6343, -10.028, -8.7543, -8.8887, -10.0377, -8.9289, -9.8359, -8.4708, -8.2191, -7.5503, -8.6846, -8.2625, -9.8731, -8.6176, -8.082, -8.3382, -8.0711, -8.5807, -8.2773, -8.6944, -8.6318, -8.7953, -8.5373, -8.7257, -8.5321, -8.761, -8.2066, -8.3282, -8.8245, -8.248, -9.2696, -9.0091, -8.5397, -8.9382, -8.5257, -8.7333, -8.5792, -8.7928, -8.7693, -8.7215], \"loglift\": [30.0, 29.0, 28.0, 27.0, 26.0, 25.0, 24.0, 23.0, 22.0, 21.0, 20.0, 19.0, 18.0, 17.0, 16.0, 15.0, 14.0, 13.0, 12.0, 11.0, 10.0, 9.0, 8.0, 7.0, 6.0, 5.0, 4.0, 3.0, 2.0, 1.0, 1.9383, 1.9191, 1.9082, 1.9072, 1.9058, 1.9049, 1.9048, 1.8947, 1.868, 1.8578, 1.8492, 1.839, 1.8285, 1.8213, 1.8174, 1.8071, 1.8063, 1.8055, 1.8044, 1.804, 1.8039, 1.8036, 1.8035, 1.8035, 1.8034, 1.8034, 1.8032, 1.8031, 1.8031, 1.803, 1.7984, 1.8016, 1.7857, 1.7989, 1.7769, 1.7931, 1.7865, 1.7653, 1.779, 1.7647, 1.7409, 1.7655, 1.7235, 1.7392, 1.5556, 1.7082, 1.6812, 0.5928, 0.4278, 1.0777, 0.4674, 0.7227, 0.1627, 0.6378, 0.2198, 1.0795, 1.2247, 0.668, 0.5716, 0.6263, 0.7279, 0.295, 0.9888, 0.4211, -0.066, 0.7808, -0.0574, 0.5468, 0.5141, 0.4942, 0.2107, 0.2437, -0.1018, 0.1185, -0.132, 0.2582, -0.0008, 0.1327, 0.4684, -0.4098, -0.0474, -0.3445, -0.0274, 1.9899, 1.9891, 1.9887, 1.9886, 1.9884, 1.9875, 1.9873, 1.9872, 1.987, 1.9867, 1.9866, 1.9863, 1.9863, 1.9859, 1.9857, 1.9856, 1.9855, 1.9853, 1.9841, 1.9557, 1.9418, 1.9414, 1.9039, 1.8732, 1.8663, 1.8642, 1.8613, 1.8584, 1.8544, 1.8533, 1.8439, 1.7807, 1.8215, 1.7577, 0.9412, 1.5215, 0.7689, 1.0358, 0.5363, 0.3406, 0.0988, 0.1908, -0.0024, 0.1204, 0.5109, 0.7258, 0.2733, 1.3087, -0.0081, 0.0176, 0.6184, 0.9245, -0.3069, 0.4242, 0.7133, 0.6959, 0.3627, 0.4807, 0.5492, 0.194, 0.5229, 0.1617, -0.3014, 0.4129, 0.0901, 0.5185, 0.3074, -0.0128, 0.013, 0.1067, 0.0844, -0.2744, -0.1731, 0.0225, -0.4399, -0.0694, 2.0175, 2.0094, 2.0036, 2.0018, 2.0015, 2.0015, 2.0007, 1.9991, 1.999, 1.9565, 1.9552, 1.9201, 1.9167, 1.9132, 1.9057, 1.9037, 1.899, 1.8956, 1.8923, 1.8706, 1.8694, 1.8669, 1.8645, 1.8627, 1.8609, 1.8605, 1.8433, 1.8427, 1.8416, 1.8283, 1.7147, 1.7866, 1.7851, 1.6525, 1.7548, 1.2731, 1.1305, 0.529, 1.5496, 0.3346, 0.2411, 0.9444, 1.3146, 0.5449, 1.5651, 0.3588, 0.568, -0.0873, 0.095, -0.2545, 0.9179, 0.4316, 0.5325, 0.3323, -0.1261, -0.3913, 0.1897, 0.3621, 0.3537, 0.0956, -0.3818, 0.0521, 0.1182, 0.1198, 0.1596, -0.4446, 0.2755, 0.2372, -0.3976, -0.0609, -0.1741, 2.0023, 2.0019, 2.0013, 2.0013, 2.0011, 2.0008, 2.0003, 2.0003, 2.0003, 1.9995, 1.999, 1.9984, 1.9981, 1.9971, 1.9796, 1.9731, 1.9289, 1.9264, 1.9245, 1.9126, 1.9069, 1.8946, 1.8897, 1.8689, 1.859, 1.8505, 1.8489, 1.8488, 1.8461, 1.8441, 1.8264, 1.77, 1.7014, 1.6082, 1.6856, 0.6022, 0.3855, 1.2575, 1.5199, 1.1504, 0.234, 0.8078, 0.0438, 0.2798, 0.6554, 0.4178, 0.7332, 0.1754, -0.115, 0.3687, 0.7362, 0.3446, 1.1327, 0.0354, -0.0708, 0.5195, -0.0971, 0.4231, 0.975, 0.2856, 0.5375, 1.0912, 0.6449, 0.3184, -0.0667, 0.0022, 0.0968, 0.1098, 0.1189, -0.029, -0.5486, 0.0641, -0.153, 2.0108, 2.0106, 2.0099, 2.0099, 2.0097, 2.0093, 2.0087, 2.0083, 2.0078, 2.0077, 2.0076, 2.0071, 2.0071, 2.0068, 2.0064, 1.958, 1.9405, 1.9347, 1.919, 1.8633, 1.8628, 1.8626, 1.8415, 1.8324, 1.8305, 1.8305, 1.8305, 1.8302, 1.8302, 1.8302, 1.8136, 1.8078, 1.8115, 1.8083, 1.819, 1.8072, 1.7988, 1.7983, 1.5748, 1.7597, 1.5404, 0.6536, 0.3066, 0.8032, 1.4174, 0.1315, 0.0233, 0.5853, 0.5121, 0.1357, 0.0961, 0.4107, 0.1471, -0.0508, 0.2728, 0.0126, 0.4097, 0.3287, 0.0057, 0.3462, 0.2157, 0.133, 0.2109, -0.2458, 0.4422, 0.0725, 0.7811, -0.1931, 0.4381, 0.3121, 0.2536, 0.0072, 0.3092, 0.1699, 0.1133, 0.139, -0.0995, 2.0341, 1.9925, 1.9577, 1.9567, 1.9502, 1.9475, 1.945, 1.9417, 1.9403, 1.9366, 1.9346, 1.9325, 1.9309, 1.9297, 1.9272, 1.9243, 1.9177, 1.906, 1.9035, 1.9033, 1.8919, 1.8904, 1.8622, 1.8543, 1.8542, 1.8534, 1.853, 1.8528, 1.8528, 1.8528, 1.8516, 1.8356, 1.8138, 1.826, 1.8377, 1.8377, 1.7878, 1.693, 1.7476, 1.6076, 1.6494, 1.3502, 0.3706, 0.6921, 0.1864, 0.0759, 0.626, 0.1921, 0.1731, 0.2912, 0.5971, 0.1016, -0.0101, -0.3329, -0.2607, 0.1662, 0.4441, -0.0889, -0.3056, 0.2682, 0.0513, 0.2934, 0.1104, 0.5051, 0.0527, 0.5192, 0.7339, 0.0058, 0.0505, 0.1802, 0.0482, -0.0466, -0.0552, 0.3759, 2.2108, 2.0943, 2.0942, 2.0936, 2.0934, 2.0931, 2.092, 2.0913, 2.0893, 2.0883, 2.0861, 2.0683, 2.0381, 2.0307, 2.0278, 2.0248, 2.0235, 2.0214, 2.0193, 2.0185, 2.0182, 2.016, 2.0128, 2.0107, 2.0107, 2.0106, 2.0096, 2.0039, 1.9982, 1.9771, 1.9452, 1.9652, 1.9376, 1.9575, 0.5374, 0.3714, 1.8792, 0.6022, 0.0834, 0.0017, 0.1537, 0.4109, 1.0244, -0.1254, 1.3955, 0.0781, 0.8111, 1.7273, 0.2865, 0.4836, 0.6107, 0.5437, 0.9057, 0.2772, -0.1056, 0.848, 0.1341, 0.3915, 0.5129, 0.2197, -0.2219, 1.1729, 0.2391, 0.2743, 0.0066, 0.5812, 0.0464, -0.0196, -0.2697, 0.1621, -0.007, 0.2451, -0.2101, 2.1543, 2.1063, 2.1048, 2.1043, 2.104, 2.0912, 2.084, 2.0838, 2.0838, 2.0833, 2.081, 2.0792, 2.0792, 2.0791, 2.079, 2.0776, 2.0753, 2.0751, 2.0721, 2.0706, 2.0695, 2.0672, 2.0645, 2.0642, 2.0635, 2.0631, 2.058, 2.0292, 2.0234, 2.0221, 2.0178, 2.0093, 1.7738, 1.9015, 1.6681, 0.645, 0.6768, 0.876, 0.0349, 0.7702, 0.4504, 0.4051, 0.0123, -0.0595, 0.1714, 0.7287, 0.0321, 0.5445, 1.1741, -0.0488, 0.8924, 0.2438, 0.085, 0.3992, 0.0289, 0.5063, 0.8683, 0.2217, 0.3117, 0.5065, 0.2555, -0.1596, 0.0757, -0.1432, 0.1742, 0.6116, 0.2037, 0.3182, 0.0898, 0.0084, 0.0677, 2.1413, 2.1408, 2.1064, 2.1018, 2.0357, 2.0253, 2.0204, 1.9887, 1.9883, 1.9818, 1.9817, 1.9801, 1.9794, 1.9689, 1.9664, 1.9662, 1.9557, 1.9503, 1.9486, 1.9478, 1.9475, 1.9473, 1.9471, 1.9471, 1.9467, 1.9464, 1.9464, 1.9463, 1.9462, 1.9462, 1.9459, 1.9444, 1.9436, 1.9425, 1.9421, 1.9408, 1.9447, 1.9355, 1.9356, 1.9328, 1.9296, 1.917, 1.9234, 0.7901, 0.6989, 0.8232, -0.0117, 1.7389, 0.1462, 0.0788, 1.0975, 0.2478, 0.4725, 0.5428, 0.4114, -0.0519, 0.4822, 0.4305, 1.0037, 0.0164, -0.277, -0.1895, 0.1802, 0.4348, 0.2134, 0.3585, 0.3506, 0.2169, 0.5228, 0.1283, 0.0154, 0.0769, -0.5728, 0.2864, -0.0091, -0.3129, 0.1337, -0.2003, -0.6552, 2.1807, 2.1776, 2.177, 2.1769, 2.1762, 2.166, 2.1574, 2.1348, 2.1246, 2.121, 2.1185, 2.1179, 2.1135, 2.1092, 2.108, 2.1059, 2.0993, 2.0993, 2.0992, 2.0953, 2.0952, 2.095, 2.0944, 2.094, 2.0932, 2.0932, 2.0928, 2.0925, 2.0923, 2.0919, 2.0918, 2.0676, 2.069, 1.8067, 1.7845, 2.0573, 1.7373, 1.9801, 1.0903, 0.7772, 0.1527, 0.8783, 0.4932, 1.8313, 0.6245, 0.0978, 0.2907, -0.0619, 0.4167, 0.0818, 0.4497, 0.3686, 0.5076, 0.1681, 0.3841, 0.1327, 0.3719, -0.3657, -0.2308, 0.3833, -0.473, 0.979, 0.5322, -0.2112, 0.4148, -0.346, 0.0167, -0.3897, 0.062, -0.003, -0.3464]}, \"token.table\": {\"Topic\": [9, 2, 1, 9, 10, 9, 2, 5, 10, 8, 3, 2, 6, 2, 1, 2, 3, 4, 5, 6, 7, 8, 9, 10, 7, 7, 2, 2, 8, 9, 1, 2, 3, 4, 5, 6, 7, 8, 9, 10, 2, 4, 5, 6, 7, 8, 2, 1, 2, 3, 4, 5, 6, 7, 8, 9, 10, 1, 3, 4, 5, 6, 7, 8, 9, 10, 4, 8, 7, 4, 5, 2, 1, 2, 3, 4, 5, 6, 7, 8, 9, 10, 2, 8, 3, 8, 1, 3, 5, 6, 7, 8, 7, 5, 8, 8, 7, 3, 2, 1, 2, 3, 4, 5, 6, 7, 8, 9, 10, 1, 2, 3, 4, 5, 6, 7, 8, 9, 10, 1, 1, 10, 1, 2, 3, 4, 5, 6, 7, 8, 9, 10, 1, 2, 3, 4, 5, 6, 7, 8, 9, 10, 8, 8, 3, 4, 6, 7, 9, 3, 8, 4, 9, 3, 1, 4, 1, 1, 5, 3, 10, 3, 10, 4, 4, 9, 1, 1, 2, 3, 4, 5, 6, 7, 8, 9, 10, 8, 10, 10, 4, 3, 5, 7, 1, 2, 3, 4, 5, 6, 7, 8, 9, 10, 10, 1, 1, 2, 5, 6, 7, 3, 2, 10, 10, 6, 8, 4, 5, 5, 5, 10, 1, 2, 3, 4, 5, 6, 7, 8, 9, 10, 1, 2, 3, 4, 5, 6, 7, 8, 9, 10, 6, 2, 2, 5, 4, 1, 3, 4, 8, 8, 4, 6, 10, 1, 2, 3, 4, 5, 6, 7, 8, 10, 8, 7, 10, 1, 2, 3, 4, 5, 6, 8, 9, 8, 7, 1, 2, 3, 4, 5, 6, 7, 8, 9, 10, 1, 2, 3, 4, 5, 6, 7, 8, 9, 10, 1, 2, 3, 4, 5, 6, 7, 8, 9, 10, 1, 2, 3, 4, 5, 6, 7, 8, 9, 1, 2, 3, 4, 5, 6, 7, 8, 9, 10, 2, 6, 8, 1, 2, 3, 4, 5, 6, 7, 8, 9, 10, 8, 1, 5, 1, 3, 10, 1, 2, 3, 5, 6, 7, 8, 9, 10, 1, 2, 3, 4, 5, 6, 7, 8, 9, 10, 1, 2, 3, 4, 5, 6, 7, 8, 9, 10, 6, 10, 2, 10, 1, 2, 3, 4, 5, 6, 7, 8, 9, 10, 2, 6, 1, 2, 3, 4, 5, 6, 7, 8, 9, 10, 1, 2, 3, 4, 5, 6, 7, 8, 9, 10, 1, 2, 3, 4, 5, 6, 8, 1, 2, 3, 4, 5, 6, 7, 8, 9, 10, 5, 10, 1, 2, 3, 4, 5, 6, 7, 8, 9, 10, 5, 1, 2, 3, 4, 5, 6, 7, 8, 9, 10, 7, 8, 7, 8, 5, 5, 3, 1, 2, 3, 4, 5, 6, 7, 8, 9, 10, 8, 4, 10, 1, 2, 3, 4, 5, 6, 7, 8, 9, 10, 1, 2, 3, 4, 5, 6, 7, 8, 9, 10, 1, 2, 3, 4, 5, 6, 7, 8, 9, 10, 10, 1, 2, 3, 4, 5, 6, 7, 8, 9, 10, 2, 3, 3, 4, 7, 10, 2, 1, 2, 3, 4, 5, 6, 7, 8, 9, 10, 2, 1, 2, 3, 4, 5, 6, 7, 8, 9, 10, 1, 2, 3, 4, 5, 6, 7, 8, 9, 10, 3, 1, 2, 3, 4, 5, 6, 7, 8, 9, 10, 5, 5, 3, 6, 1, 2, 3, 4, 5, 6, 7, 8, 9, 10, 3, 4, 7, 10, 1, 2, 3, 4, 5, 6, 7, 8, 9, 10, 2, 6, 2, 6, 6, 7, 7, 1, 2, 3, 5, 6, 8, 9, 10, 1, 1, 2, 3, 4, 5, 6, 7, 8, 9, 10, 1, 5, 1, 2, 3, 4, 5, 6, 7, 8, 9, 10, 8, 6, 3, 9, 1, 6, 10, 5, 4, 3, 9, 1, 2, 8, 2, 7, 1, 2, 3, 4, 5, 6, 7, 8, 9, 10, 5, 6, 5, 6, 1, 2, 3, 4, 5, 6, 7, 8, 9, 10, 1, 2, 3, 4, 5, 6, 7, 8, 9, 10, 4, 9, 9, 4, 10, 9, 2, 2, 9, 7, 1, 2, 3, 4, 5, 6, 7, 8, 9, 10, 1, 4, 5, 10, 1, 2, 3, 4, 5, 6, 7, 8, 9, 10, 9, 1, 8, 1, 9, 9, 1, 2, 3, 4, 5, 6, 7, 8, 9, 10, 1, 2, 3, 4, 5, 6, 7, 8, 9, 10, 1, 2, 3, 4, 5, 6, 7, 8, 9, 10, 1, 2, 3, 4, 5, 6, 7, 8, 9, 10, 1, 2, 3, 4, 5, 6, 7, 8, 9, 10, 1, 2, 3, 4, 5, 6, 7, 8, 9, 10, 1, 2, 4, 5, 7, 8, 9, 10, 1, 2, 3, 4, 5, 6, 7, 8, 9, 10, 1, 2, 3, 4, 5, 6, 7, 8, 9, 10, 2, 7, 5, 7, 4, 10, 3, 5, 10, 10, 1, 2, 6, 1, 2, 3, 1, 5, 1, 2, 3, 4, 5, 6, 7, 8, 9, 10, 1, 2, 3, 4, 5, 6, 7, 8, 9, 10, 1, 1, 2, 3, 4, 5, 6, 7, 8, 9, 10, 5, 1, 1, 6, 8, 2, 6, 1, 2, 3, 4, 5, 6, 7, 8, 9, 10, 9, 1, 2, 3, 4, 5, 6, 7, 8, 9, 10, 1, 2, 3, 4, 5, 6, 7, 8, 9, 10, 2, 6, 8, 1, 2, 3, 4, 5, 6, 7, 8, 9, 10, 1, 2, 3, 5, 6, 7, 8, 10, 1, 2, 3, 4, 5, 6, 7, 8, 9, 10, 9, 4, 8, 1, 6, 9, 4, 1, 2, 3, 4, 5, 6, 7, 8, 9, 10, 9, 4, 9, 9, 7, 4, 8, 7, 6, 1, 2, 3, 4, 5, 6, 7, 8, 9, 10, 1, 2, 3, 4, 5, 6, 7, 8, 9, 10, 4, 3, 7, 6, 2, 1, 2, 3, 4, 5, 6, 7, 8, 9, 10, 1, 2, 3, 4, 5, 6, 7, 8, 9, 10, 1, 2, 3, 4, 5, 6, 7, 8, 9, 10, 4, 1, 2, 3, 4, 5, 6, 7, 8, 9, 10, 1, 3, 5, 6, 8, 3, 3, 2, 6, 4, 10, 4, 1, 2, 3, 4, 5, 6, 7, 8, 9, 10, 6, 9, 5, 1, 2, 3, 4, 5, 6, 7, 8, 9, 10, 7, 4, 2, 6, 8, 1, 2, 3, 4, 5, 6, 7, 8, 9, 10, 3, 1, 2, 3, 4, 5, 6, 7, 8, 9, 10, 9, 7, 6, 3, 2, 1, 2, 3, 4, 5, 6, 7, 8, 9, 10, 6, 2, 6, 1, 2, 3, 4, 5, 6, 7, 8, 9, 10, 7, 1, 2, 3, 4, 5, 6, 7, 8, 9, 10, 1, 9, 5, 1, 2, 3, 4, 5, 6, 7, 8, 9, 10, 1, 2, 3, 4, 5, 6, 7, 8, 9, 10, 3, 5, 5, 1, 2, 3, 4, 5, 6, 7, 8, 9, 10, 1, 2, 3, 4, 5, 6, 7, 8, 9, 10, 1, 2, 3, 4, 5, 6, 7, 8, 9, 10, 5, 7, 1, 2, 3, 4, 5, 6, 7, 8, 9, 1, 2, 3, 6, 7, 8, 9, 10, 9, 2, 10, 8, 1, 7, 2, 5, 3, 3, 3, 9, 2, 10, 10, 10, 4, 7, 7, 10, 9, 2, 8, 5, 2, 6, 5, 1, 2, 3, 4, 5, 6, 7, 8, 9, 10, 9, 3, 6, 8, 2, 6, 2, 9, 4, 3, 4, 2, 1, 2, 3, 4, 5, 6, 7, 8, 9, 10, 7, 7, 2, 6, 3, 4, 6, 7, 9, 10, 10, 7, 1, 5, 5, 1, 2, 3, 4, 5, 6, 7, 8, 9, 10, 2, 1, 3, 6, 10, 10, 10, 2, 6, 4, 1, 2, 3, 4, 5, 6, 7, 8, 9, 10, 2, 1, 1, 2, 3, 4, 5, 6, 7, 8, 9, 10, 1, 10, 1, 4, 7, 9, 2, 6, 1, 2, 3, 4, 5, 6, 7, 8, 9, 10, 1, 2, 3, 4, 5, 6, 7, 8, 9, 10, 1, 3, 1, 9, 1, 2, 3, 4, 5, 6, 7, 8, 9, 10, 1, 2, 3, 4, 5, 6, 7, 8, 9, 10, 1, 2, 3, 4, 5, 6, 7, 8, 9, 10, 1, 2, 3, 4, 5, 6, 7, 8, 9, 10, 1, 2, 3, 4, 5, 6, 7, 8, 9, 10, 3, 1, 2, 3, 4, 5, 6, 7, 8, 9, 10, 10, 1, 2, 3, 4, 5, 6, 7, 8, 9, 10, 8, 7, 6, 7, 1, 2, 3, 4, 5, 6, 7, 8, 9, 10, 5, 3, 10, 1, 3, 2, 6, 1, 5, 5, 8, 7, 9, 3, 9, 7, 1, 2, 3, 4, 5, 6, 7, 8, 9, 10, 1, 2, 3, 4, 5, 6, 7, 8, 9, 10, 1, 2, 3, 4, 5, 6, 7, 8, 9, 10, 5, 5, 6, 1, 2, 3, 4, 5, 6, 7, 8, 9, 10, 4, 9, 1, 2, 3, 4, 5, 6, 7, 8, 9, 10, 5, 5, 1, 2, 3, 4, 5, 6, 7, 8, 9, 10, 9, 5, 1, 2, 3, 4, 5, 6, 7, 8, 9, 10, 8, 7, 7, 1, 2, 3, 4, 5, 6, 7, 8, 9, 5, 4, 1, 3, 4, 5, 7, 1, 2, 3, 4, 5, 6, 7, 8, 9, 10, 1, 5, 8, 1, 2, 3, 4, 5, 6, 7, 8, 9, 10, 1, 2, 3, 4, 5, 6, 7, 8, 9, 10, 6, 3, 4, 6, 7, 10, 9, 3, 5, 1, 2, 3, 4, 5, 6, 7, 8, 9, 10, 1, 9, 1, 1, 2, 3, 4, 5, 6, 7, 8, 9, 10, 1, 2, 3, 4, 5, 6, 7, 8, 9, 10, 9, 9, 2, 1, 2, 3, 4, 5, 6, 7, 8, 9, 10, 5, 6, 5, 4, 2, 6, 1, 2, 3, 4, 5, 6, 7, 8, 9, 10, 1, 2, 1, 9, 3, 1, 1, 2, 3, 4, 5, 6, 7, 8, 9, 10, 1, 2, 3, 4, 5, 6, 7, 8, 9, 10, 5, 1, 2, 3, 4, 5, 6, 7, 8, 9, 10, 1, 1, 9, 3, 1, 2, 1, 2, 6, 10, 1, 2, 1, 2, 3, 4, 5, 6, 7, 8, 9, 10, 1, 1, 2, 3, 4, 5, 6, 7, 8, 9, 10, 1, 2, 3, 4, 5, 6, 7, 8, 9, 10, 1, 1, 2, 3, 4, 5, 6, 7, 8, 9, 10, 1, 2, 3, 4, 5, 6, 7, 8, 9, 10, 1, 2, 3, 4, 5, 6, 7, 8, 9, 10, 9, 9, 2, 6, 1, 2, 3, 4, 5, 6, 7, 8, 9, 10, 1, 2, 3, 4, 5, 6, 7, 8, 9, 10, 1, 2, 3, 4, 5, 6, 7, 8, 9, 10, 1, 2, 3, 4, 5, 6, 7, 8, 9, 10, 4, 6, 1], \"Freq\": [0.4140255326859008, 0.7749352131063858, 0.4845432058625005, 0.7252149599840275, 0.8671363316037416, 0.5569789755324772, 0.7886917992342889, 0.7789106305529798, 0.8617636828967279, 0.8232224035105947, 0.7633780190898953, 0.22510269840195116, 0.6753080952058534, 0.772405674493501, 0.11740250705718594, 0.1027271936750377, 0.14675313382148242, 0.05870125352859297, 0.07337656691074121, 0.07337656691074121, 0.13207782043933416, 0.11740250705718594, 0.1027271936750377, 0.05870125352859297, 0.8053954034699183, 0.8261072735573383, 0.7759809802411545, 0.516084924627424, 0.8937298126196211, 0.6615465668280173, 0.08009092019142115, 0.15128284925046218, 0.11568688472094167, 0.10678789358856154, 0.10678789358856154, 0.11568688472094167, 0.07119192905904104, 0.09788890245618141, 0.08898991132380128, 0.0622929379266609, 0.10809165070863026, 0.10809165070863026, 0.10809165070863026, 0.10809165070863026, 0.43236660283452105, 0.21618330141726053, 0.6672684463838399, 0.0768104328857969, 0.17282347399304304, 0.11521564932869535, 0.0768104328857969, 0.19202608221449224, 0.019202608221449226, 0.0768104328857969, 0.09601304110724612, 0.057607824664347676, 0.13441825755014458, 0.06337134759518033, 0.12674269519036066, 0.19011404278554098, 0.12674269519036066, 0.06337134759518033, 0.06337134759518033, 0.06337134759518033, 0.2534853903807213, 0.06337134759518033, 0.4908182174645483, 0.8154513257803986, 0.8100352800850641, 0.4915794241698674, 0.619486524366936, 0.7840629425399526, 0.10659047531060883, 0.18653333179356546, 0.10659047531060883, 0.10659047531060883, 0.10659047531060883, 0.07994285648295663, 0.10659047531060883, 0.13323809413826104, 0.05329523765530442, 0.05329523765530442, 0.7825632701537654, 0.8289226645809328, 0.7639917460182064, 0.8174334328897664, 0.09095947226571247, 0.09095947226571247, 0.18191894453142493, 0.36383788906284986, 0.09095947226571247, 0.09095947226571247, 0.8137936677987647, 0.41489218700910935, 0.5531895826788125, 0.8219929399769104, 0.8132239139426877, 0.763444326231753, 0.6721559025692296, 0.06898983525464078, 0.13797967050928156, 0.06898983525464078, 0.34494917627320393, 0.06898983525464078, 0.06898983525464078, 0.06898983525464078, 0.06898983525464078, 0.06898983525464078, 0.06898983525464078, 0.11105615156178905, 0.23797746763240513, 0.09519098705296204, 0.07932582254413503, 0.11105615156178905, 0.07932582254413503, 0.06346065803530804, 0.12692131607061607, 0.06346065803530804, 0.03173032901765402, 0.4808741080388459, 0.7492615288119373, 0.8726174173343091, 0.11904725649498353, 0.09523780519598682, 0.11904725649498353, 0.04761890259799341, 0.04761890259799341, 0.09523780519598682, 0.16666615909297694, 0.09523780519598682, 0.11904725649498353, 0.09523780519598682, 0.34143827963714685, 0.14633069127306295, 0.04877689709102098, 0.04877689709102098, 0.14633069127306295, 0.04877689709102098, 0.04877689709102098, 0.04877689709102098, 0.09755379418204196, 0.04877689709102098, 0.5181681024881817, 0.8236294703408401, 0.6552779200732666, 0.7884387677102972, 0.7937995000963264, 0.8082404734200543, 0.6607338492854661, 0.4866070127364523, 0.811063099613757, 0.7827347809956362, 0.5274055050513431, 0.7671469448825323, 0.7705387398649732, 0.6663771143619557, 0.6089399289603117, 0.9618529993550095, 0.5670142609498028, 0.6552554030946113, 0.8738861179303735, 0.7716104932815655, 0.8689866847767967, 0.6703562816848084, 0.4925708820828095, 0.8393799685984639, 0.6113701675028376, 0.08870443502319202, 0.15523276129058602, 0.13305665253478802, 0.06652832626739401, 0.13305665253478802, 0.11088054377899002, 0.11088054377899002, 0.06652832626739401, 0.06652832626739401, 0.06652832626739401, 0.8249073500555446, 0.8723297064900061, 0.8709616072529661, 0.7736577500992347, 0.5599889181330645, 0.23341892916726076, 0.7002567875017823, 0.14642673235882012, 0.07321336617941006, 0.03660668308970503, 0.03660668308970503, 0.14642673235882012, 0.21964009853823016, 0.10982004926911508, 0.10982004926911508, 0.03660668308970503, 0.10982004926911508, 0.5555928180579475, 0.6547696459770619, 0.13856173030720748, 0.5542469212288299, 0.13856173030720748, 0.13856173030720748, 0.6900871349800317, 0.7605877317073186, 0.7825196439608826, 0.8794174507304465, 0.860722207593125, 0.6286069429717724, 0.821345037438513, 0.4976773360999577, 0.5810780201508023, 0.7804361136620805, 0.7786978568066928, 0.8738122459277116, 0.2184725321972743, 0.09709890319878858, 0.16992308059788, 0.12137362899848572, 0.07282417739909143, 0.09709890319878858, 0.09709890319878858, 0.04854945159939429, 0.07282417739909143, 0.024274725799697146, 0.06719512828098373, 0.06719512828098373, 0.06719512828098373, 0.13439025656196746, 0.13439025656196746, 0.06719512828098373, 0.06719512828098373, 0.3359756414049187, 0.13439025656196746, 0.06719512828098373, 0.6279834023243248, 0.7744943965748063, 0.780388066214778, 0.4939137986539533, 0.6683751013282465, 0.7724088499472896, 0.5033714694748529, 0.16779048982495098, 0.16779048982495098, 0.8178051211679104, 0.4695913872433397, 0.31306092482889314, 0.15653046241444657, 0.05958805404708682, 0.05958805404708682, 0.11917610809417364, 0.35752832428252096, 0.11917610809417364, 0.11917610809417364, 0.05958805404708682, 0.05958805404708682, 0.11917610809417364, 0.8167078717987819, 0.8164720278565618, 0.8718028556750884, 0.6114278122777413, 0.3858698971867439, 0.09646747429668598, 0.09646747429668598, 0.09646747429668598, 0.09646747429668598, 0.09646747429668598, 0.09646747429668598, 0.8340254651523876, 0.8201888115708657, 0.09972107319032292, 0.09972107319032292, 0.03324035773010764, 0.06648071546021528, 0.13296143092043056, 0.13296143092043056, 0.19944214638064584, 0.06648071546021528, 0.09972107319032292, 0.03324035773010764, 0.09516852211644293, 0.10980983321128031, 0.09516852211644293, 0.09516852211644293, 0.117130488758699, 0.10248917766386162, 0.10248917766386162, 0.08052721102160557, 0.10248917766386162, 0.09516852211644293, 0.07392109641406223, 0.133057973545312, 0.133057973545312, 0.0960974253382809, 0.10348953497968713, 0.1256658639039058, 0.08870531569687468, 0.11088164462109336, 0.08870531569687468, 0.059136877131249786, 0.06681030797228829, 0.06681030797228829, 0.20043092391686487, 0.06681030797228829, 0.06681030797228829, 0.06681030797228829, 0.06681030797228829, 0.06681030797228829, 0.26724123188915316, 0.1052751875794606, 0.11843458602689318, 0.1052751875794606, 0.09211578913202802, 0.09211578913202802, 0.1052751875794606, 0.13159398447432574, 0.09211578913202802, 0.09211578913202802, 0.07895639068459545, 0.22332320823497123, 0.6699696247049137, 0.8277727038643942, 0.06844027651288942, 0.20532082953866826, 0.06844027651288942, 0.10266041476933413, 0.13688055302577884, 0.10266041476933413, 0.06844027651288942, 0.06844027651288942, 0.10266041476933413, 0.10266041476933413, 0.884083285166994, 0.6118819320767275, 0.7820847945794632, 0.7753090478422275, 0.7720252267461565, 0.8585199010524981, 0.31391864949952747, 0.0627837298999055, 0.18835118969971648, 0.0627837298999055, 0.125567459799811, 0.0627837298999055, 0.0627837298999055, 0.0627837298999055, 0.0627837298999055, 0.0919644379019802, 0.16093776632846535, 0.06897332842648514, 0.1839288758039604, 0.0919644379019802, 0.0919644379019802, 0.0919644379019802, 0.0919644379019802, 0.06897332842648514, 0.06897332842648514, 0.12947385453695448, 0.10357908362956357, 0.11652646908325902, 0.07768431272217269, 0.10357908362956357, 0.10357908362956357, 0.10357908362956357, 0.09063169817586814, 0.07768431272217269, 0.09063169817586814, 0.24846063813051703, 0.49692127626103405, 0.7800300711561937, 0.8703293712737059, 0.14101141334745335, 0.1762642666843167, 0.08813213334215834, 0.10575856001059002, 0.08813213334215834, 0.10575856001059002, 0.08813213334215834, 0.12338498667902169, 0.05287928000529501, 0.05287928000529501, 0.21791973209614585, 0.6537591962884375, 0.11888740925909921, 0.1069986683331893, 0.11888740925909921, 0.07133244555545953, 0.11888740925909921, 0.1069986683331893, 0.09510992740727937, 0.11888740925909921, 0.03566622277772977, 0.09510992740727937, 0.10493383638315397, 0.08024352194005892, 0.0987612577723802, 0.13579672943702278, 0.08024352194005892, 0.12345157221547526, 0.13579672943702278, 0.08641610055083268, 0.07407094332928515, 0.08024352194005892, 0.09918427999735076, 0.09918427999735076, 0.39673711998940303, 0.09918427999735076, 0.09918427999735076, 0.09918427999735076, 0.09918427999735076, 0.08879057660563398, 0.06659293245422548, 0.08879057660563398, 0.13318586490845097, 0.08879057660563398, 0.11098822075704247, 0.11098822075704247, 0.08879057660563398, 0.15538350905985945, 0.06659293245422548, 0.7701471410409316, 0.8757286460436025, 0.0803959313577903, 0.04019796567889515, 0.3215837254311612, 0.04019796567889515, 0.04019796567889515, 0.04019796567889515, 0.0803959313577903, 0.12059389703668545, 0.0803959313577903, 0.1607918627155806, 0.6191838887693677, 0.16725397826197852, 0.04778685093199386, 0.0716802763979908, 0.11946712732998466, 0.1433605527959816, 0.0716802763979908, 0.09557370186398773, 0.09557370186398773, 0.09557370186398773, 0.0716802763979908, 0.8068169428563674, 0.8179654794416418, 0.8129998687520804, 0.8230750368781661, 0.7930806817597486, 0.7773017361595022, 0.7643447361728741, 0.17034565381838151, 0.1022073922910289, 0.08517282690919076, 0.1022073922910289, 0.15331108843654337, 0.11924195767286706, 0.11924195767286706, 0.05110369614551445, 0.05110369614551445, 0.05110369614551445, 0.8174448474656261, 0.5214282039372597, 0.17380940131241993, 0.14078225044088846, 0.11262580035271078, 0.08446935026453309, 0.22525160070542155, 0.08446935026453309, 0.05631290017635539, 0.08446935026453309, 0.05631290017635539, 0.05631290017635539, 0.08446935026453309, 0.07872187883158595, 0.1574437576631719, 0.10496250510878126, 0.23616563649475783, 0.10496250510878126, 0.07872187883158595, 0.05248125255439063, 0.05248125255439063, 0.07872187883158595, 0.07872187883158595, 0.040979119622860515, 0.10244779905715129, 0.10244779905715129, 0.10244779905715129, 0.10244779905715129, 0.16391647849144206, 0.08195823924572103, 0.08195823924572103, 0.12293735886858155, 0.061468679434290775, 0.7343829761693663, 0.08498072530366041, 0.08498072530366041, 0.12747108795549061, 0.14871626928140572, 0.08498072530366041, 0.06373554397774531, 0.06373554397774531, 0.14871626928140572, 0.06373554397774531, 0.10622590662957551, 0.6206382651892368, 0.7586050754808163, 0.17718189975918447, 0.17718189975918447, 0.08859094987959223, 0.5315456992775534, 0.7784017705598347, 0.1823114725480337, 0.1595225384795295, 0.09115573627401685, 0.09115573627401685, 0.045577868137008426, 0.09115573627401685, 0.11394467034252106, 0.11394467034252106, 0.06836680220551264, 0.045577868137008426, 0.7814207598948155, 0.09512733458152008, 0.19025466916304015, 0.12230657303338295, 0.0679480961296572, 0.1358961922593144, 0.09512733458152008, 0.09512733458152008, 0.08153771535558864, 0.05435847690372576, 0.08153771535558864, 0.09343369066632808, 0.06795177503005678, 0.06795177503005678, 0.12740957818135648, 0.11891560630259937, 0.11891560630259937, 0.16138546569638487, 0.09343369066632808, 0.06795177503005678, 0.06795177503005678, 0.6684231898983171, 0.22614660018278743, 0.15076440012185827, 0.03769110003046457, 0.07538220006092913, 0.11307330009139371, 0.03769110003046457, 0.07538220006092913, 0.03769110003046457, 0.07538220006092913, 0.11307330009139371, 0.7743671715691246, 0.571380570083161, 0.1823867706850491, 0.5471603120551474, 0.0889822886199731, 0.13347343292995964, 0.13347343292995964, 0.0889822886199731, 0.11122786077496637, 0.06673671646497982, 0.13347343292995964, 0.04449114430998655, 0.15571900508495293, 0.04449114430998655, 0.15837543687726366, 0.15837543687726366, 0.07918771843863183, 0.5543140290704228, 0.12278722140370132, 0.10232268450308443, 0.10232268450308443, 0.10232268450308443, 0.08185814760246755, 0.10232268450308443, 0.08185814760246755, 0.08185814760246755, 0.08185814760246755, 0.12278722140370132, 0.20345190474847719, 0.6103557142454316, 0.22806913382667443, 0.6842074014800232, 0.8079208332258215, 0.8109197298094054, 0.8156511426419687, 0.09077013055492691, 0.2723103916647807, 0.09077013055492691, 0.18154026110985383, 0.09077013055492691, 0.04538506527746346, 0.13615519583239036, 0.04538506527746346, 0.6546508183432614, 0.09422263648025035, 0.09422263648025035, 0.12563018197366713, 0.10992640922695875, 0.10992640922695875, 0.06281509098683356, 0.09422263648025035, 0.10992640922695875, 0.10992640922695875, 0.09422263648025035, 0.9592415046181745, 0.7821195710107685, 0.049185172243343844, 0.12296293060835961, 0.049185172243343844, 0.09837034448668769, 0.09837034448668769, 0.09837034448668769, 0.049185172243343844, 0.19674068897337538, 0.09837034448668769, 0.12296293060835961, 0.8191217465295493, 0.4996687180902831, 0.7604261511044913, 0.8316441967741363, 0.9683554397706574, 0.43592697911328376, 0.21796348955664188, 0.776047966996857, 0.7847135847124834, 0.876766029382912, 0.8439740395056883, 0.13730816843078048, 0.13730816843078048, 0.5492326737231219, 0.21744672666331702, 0.43489345332663404, 0.09375582951433957, 0.1312581613200754, 0.11250699541720748, 0.037502331805735825, 0.1312581613200754, 0.20626282493154705, 0.037502331805735825, 0.09375582951433957, 0.09375582951433957, 0.05625349770860374, 0.4902079752066255, 0.6284309142887333, 0.1554261761014664, 0.6217047044058656, 0.08437375629595194, 0.08437375629595194, 0.08437375629595194, 0.05624917086396796, 0.11249834172793592, 0.02812458543198398, 0.1406229271599199, 0.22499668345587184, 0.08437375629595194, 0.08437375629595194, 0.05886978132422837, 0.11773956264845674, 0.11773956264845674, 0.11773956264845674, 0.08830467198634255, 0.11773956264845674, 0.1766093439726851, 0.08830467198634255, 0.05886978132422837, 0.05886978132422837, 0.7830465335089899, 0.8305306013784145, 0.5225370216612701, 0.7818059420350755, 0.8723415686999969, 0.41560206817961287, 0.7791257802229574, 0.5855197724239422, 0.4148309997339587, 0.8097850544856581, 0.08425157532004872, 0.04212578766002436, 0.08425157532004872, 0.04212578766002436, 0.12637736298007307, 0.08425157532004872, 0.21062893830012178, 0.08425157532004872, 0.08425157532004872, 0.16850315064009744, 0.25793286266273535, 0.5158657253254707, 0.7747092449178947, 0.8645595178860775, 0.1244878290518472, 0.0414959430172824, 0.2904716011209768, 0.0829918860345648, 0.0829918860345648, 0.0829918860345648, 0.0414959430172824, 0.0829918860345648, 0.1244878290518472, 0.0414959430172824, 0.5374893041666238, 0.6617954879109744, 0.829818964225546, 0.6116405144552451, 0.5270878638111699, 0.4229162292481195, 0.09119417652736259, 0.09119417652736259, 0.12159223536981678, 0.21278641189717937, 0.12159223536981678, 0.09119417652736259, 0.030398058842454195, 0.09119417652736259, 0.09119417652736259, 0.030398058842454195, 0.08478511896216666, 0.11304682528288888, 0.08478511896216666, 0.09891597212252777, 0.12717767844325, 0.11304682528288888, 0.08478511896216666, 0.09891597212252777, 0.09891597212252777, 0.08478511896216666, 0.1330566691936418, 0.09979250189523137, 0.11642458554443659, 0.1330566691936418, 0.09979250189523137, 0.09979250189523137, 0.04989625094761568, 0.04989625094761568, 0.08316041824602614, 0.11642458554443659, 0.09493309073731267, 0.09493309073731267, 0.15189294517970026, 0.07594647258985013, 0.09493309073731267, 0.056959854442387596, 0.11391970888477519, 0.07594647258985013, 0.13290632703223773, 0.13290632703223773, 0.10645833368296746, 0.07984375026222561, 0.05322916684148373, 0.10645833368296746, 0.2395312507866768, 0.05322916684148373, 0.18630208394519307, 0.07984375026222561, 0.07984375026222561, 0.05322916684148373, 0.21189254916951697, 0.15410367212328507, 0.0577888770462319, 0.1155777540924638, 0.09631479507705316, 0.09631479507705316, 0.07705183606164254, 0.1155777540924638, 0.0577888770462319, 0.03852591803082127, 0.3649978670904941, 0.09124946677262352, 0.09124946677262352, 0.18249893354524704, 0.09124946677262352, 0.09124946677262352, 0.09124946677262352, 0.09124946677262352, 0.10323921911839774, 0.08029717042542046, 0.05735512173244319, 0.10323921911839774, 0.2064784382367955, 0.06882614607893182, 0.08029717042542046, 0.13765229215786365, 0.05735512173244319, 0.11471024346488638, 0.11353711811716528, 0.11353711811716528, 0.18165938898746445, 0.06812227087029916, 0.11353711811716528, 0.1589519653640314, 0.09082969449373222, 0.06812227087029916, 0.09082969449373222, 0.04541484724686611, 0.49501102014703113, 0.8068299933028464, 0.7902358560357609, 0.8135916683836505, 0.7792781745007322, 0.8757003362296721, 0.716120553099895, 0.17903013827497374, 0.8654779855787682, 0.8692588903117233, 0.967231084417965, 0.22631938650181493, 0.6789581595054448, 0.6068036099959537, 0.15170090249898843, 0.15170090249898843, 0.7808292668090954, 0.6168991112764586, 0.08281437484775134, 0.11594012478685187, 0.11594012478685187, 0.11594012478685187, 0.11594012478685187, 0.0993772498173016, 0.06625149987820107, 0.06625149987820107, 0.033125749939100536, 0.18219162466505293, 0.09991222268190926, 0.12845857201959762, 0.08563904801306507, 0.1427317466884418, 0.05709269867537672, 0.09991222268190926, 0.08563904801306507, 0.11418539735075343, 0.11418539735075343, 0.08563904801306507, 0.5596397206009681, 0.061835165222820544, 0.061835165222820544, 0.09275274783423082, 0.09275274783423082, 0.061835165222820544, 0.18550549566846164, 0.09275274783423082, 0.09275274783423082, 0.21642307827987192, 0.061835165222820544, 0.4936454370025899, 0.5818398582262467, 0.7763628846293621, 0.15527257692587243, 0.8156982644401561, 0.22367535205159658, 0.6710260561547897, 0.18671687999522962, 0.1633772699958259, 0.09335843999761481, 0.0700188299982111, 0.046679219998807406, 0.0700188299982111, 0.09335843999761481, 0.09335843999761481, 0.09335843999761481, 0.0700188299982111, 0.6612501827783803, 0.10496563925674612, 0.20993127851349225, 0.06997709283783074, 0.13995418567566148, 0.13995418567566148, 0.06997709283783074, 0.06997709283783074, 0.03498854641891537, 0.10496563925674612, 0.06997709283783074, 0.0677461521695242, 0.0677461521695242, 0.15242884238142945, 0.08468269021190526, 0.11855576629666736, 0.1016192282542863, 0.08468269021190526, 0.1354923043390484, 0.0677461521695242, 0.1016192282542863, 0.22436107884940654, 0.6730832365482196, 0.8179319069618208, 0.07753259641084694, 0.07753259641084694, 0.10337679521446258, 0.07753259641084694, 0.12922099401807824, 0.18090939162530953, 0.12922099401807824, 0.07753259641084694, 0.10337679521446258, 0.025844198803615645, 0.48583552564211036, 0.06014566899553061, 0.3608740139731837, 0.06014566899553061, 0.06014566899553061, 0.12029133799106122, 0.06014566899553061, 0.18043700698659185, 0.11425365174262184, 0.08569023880696638, 0.11425365174262184, 0.11425365174262184, 0.02856341293565546, 0.17138047761393277, 0.11425365174262184, 0.02856341293565546, 0.02856341293565546, 0.1428170646782773, 0.5279719189589958, 0.7794715619175401, 0.8216453082120548, 0.5612447644702518, 0.2806223822351259, 0.6619420717356247, 0.49073267827844735, 0.16691039337857286, 0.11996684524084923, 0.07302329710312562, 0.09388709627544722, 0.14083064441317084, 0.07823924689620602, 0.10431899586160803, 0.09388709627544722, 0.06780734731004522, 0.05737544772388442, 0.4236268403893876, 0.7854816297985361, 0.42128669269141283, 0.8285773262292351, 0.6847589301390867, 0.48671388031623164, 0.830699320489926, 0.8114607589045678, 0.5721507667239499, 0.09914863535245674, 0.09914863535245674, 0.24787158838114184, 0.09914863535245674, 0.04957431767622837, 0.04957431767622837, 0.04957431767622837, 0.09914863535245674, 0.04957431767622837, 0.1982972707049135, 0.14044802161350795, 0.14044802161350795, 0.14044802161350795, 0.04681600720450265, 0.04681600720450265, 0.0936320144090053, 0.23408003602251326, 0.0936320144090053, 0.04681600720450265, 0.04681600720450265, 0.7765234594242457, 0.5273242919899284, 0.17577476399664277, 0.49933608252932304, 0.7765034366144926, 0.08776325650814847, 0.2852305836514825, 0.06582244238111135, 0.10970407063518557, 0.06582244238111135, 0.08776325650814847, 0.08776325650814847, 0.08776325650814847, 0.08776325650814847, 0.021940814127037116, 0.09114215601368558, 0.06510154000977542, 0.0781218480117305, 0.10416246401564065, 0.09114215601368558, 0.052081232007820326, 0.14322338802150592, 0.11718277201759573, 0.10416246401564065, 0.14322338802150592, 0.1377536576400682, 0.3214252011601591, 0.09183577176004547, 0.045917885880022734, 0.1377536576400682, 0.045917885880022734, 0.09183577176004547, 0.045917885880022734, 0.045917885880022734, 0.045917885880022734, 0.7749883475967052, 0.22701174526274034, 0.14446201971265293, 0.10318715693760924, 0.061912294162565544, 0.14446201971265293, 0.061912294162565544, 0.061912294162565544, 0.061912294162565544, 0.061912294162565544, 0.061912294162565544, 0.07038480494108283, 0.07038480494108283, 0.2111544148232485, 0.6334632444697454, 0.8299023954230287, 0.5610801523628299, 0.4870432159472486, 0.22395273540401486, 0.6718582062120446, 0.7864146500422416, 0.8634559818348401, 0.7772790759040191, 0.09367374594181084, 0.09367374594181084, 0.14987799350689734, 0.09367374594181084, 0.056204247565086504, 0.18734749188362168, 0.1311432443185352, 0.09367374594181084, 0.037469498376724336, 0.056204247565086504, 0.5257878303660096, 0.4228226716683561, 0.67856347345846, 0.2030470858229539, 0.06768236194098463, 0.09024314925464617, 0.13536472388196927, 0.09024314925464617, 0.09024314925464617, 0.09024314925464617, 0.11280393656830771, 0.09024314925464617, 0.04512157462732309, 0.8031263197491847, 0.7830533507302554, 0.22892407510109136, 0.6867722253032741, 0.8201016030842238, 0.1167517475506745, 0.05837587377533725, 0.1167517475506745, 0.1167517475506745, 0.1167517475506745, 0.05837587377533725, 0.05837587377533725, 0.05837587377533725, 0.08756381066300588, 0.2043155582136804, 0.7815540719493869, 0.13907506374700337, 0.12443558335258195, 0.1829935049302676, 0.05855792157768563, 0.08783688236652844, 0.14639480394421406, 0.10979610295816056, 0.05123818138047492, 0.04391844118326422, 0.05855792157768563, 0.6623804419160699, 0.8191619577469232, 0.4940390811020037, 0.7595255043553092, 0.7763768740389528, 0.0990528121150452, 0.11143441362942585, 0.06190800757190325, 0.0742896090862839, 0.08667121060066454, 0.06190800757190325, 0.1733424212013291, 0.1485792181725678, 0.08667121060066454, 0.0990528121150452, 0.8036577354716128, 0.22306843013447164, 0.6692052904034149, 0.04113272372066347, 0.12339817116199041, 0.08226544744132694, 0.04113272372066347, 0.04113272372066347, 0.12339817116199041, 0.08226544744132694, 0.24679634232398082, 0.08226544744132694, 0.16453089488265388, 0.6108307179873477, 0.11319854414131528, 0.08489890810598646, 0.05659927207065764, 0.11319854414131528, 0.05659927207065764, 0.1414981801766441, 0.08489890810598646, 0.16979781621197293, 0.11319854414131528, 0.11319854414131528, 0.7611263605593291, 0.8305630044720141, 0.7469046589840088, 0.1955359355642083, 0.07821437422568332, 0.07821437422568332, 0.11732156133852498, 0.05866078066926249, 0.11732156133852498, 0.15642874845136664, 0.05866078066926249, 0.03910718711284166, 0.09776796778210416, 0.11808816576738722, 0.04723526630695489, 0.07085289946043233, 0.09447053261390978, 0.11808816576738722, 0.14170579892086466, 0.1653234320743421, 0.07085289946043233, 0.07085289946043233, 0.11808816576738722, 0.16560868859531722, 0.4968260657859516, 0.777613525040087, 0.13046169621801165, 0.10871808018167638, 0.0869744641453411, 0.0869744641453411, 0.0869744641453411, 0.0869744641453411, 0.06523084810900583, 0.06523084810900583, 0.1739489282906822, 0.0869744641453411, 0.10357044114987715, 0.06904696076658477, 0.10357044114987715, 0.2071408822997543, 0.2071408822997543, 0.10357044114987715, 0.10357044114987715, 0.034523480383292386, 0.034523480383292386, 0.06904696076658477, 0.11349582943591166, 0.05674791471795583, 0.11349582943591166, 0.28373957358977914, 0.11349582943591166, 0.11349582943591166, 0.05674791471795583, 0.05674791471795583, 0.05674791471795583, 0.05674791471795583, 0.6191668822865912, 0.5131038375546352, 0.0780954850888034, 0.0780954850888034, 0.0780954850888034, 0.0780954850888034, 0.0780954850888034, 0.1561909701776068, 0.3123819403552136, 0.0780954850888034, 0.0780954850888034, 0.28053544353901927, 0.05610708870780385, 0.05610708870780385, 0.16832126612341156, 0.1122141774156077, 0.1122141774156077, 0.05610708870780385, 0.1122141774156077, 0.8311279205820847, 0.7835156390709288, 0.8778137643521884, 0.8143821761560589, 0.611116469651576, 0.815245748237381, 0.7847375562336292, 0.7801271490641146, 0.7615353849916594, 0.7649709938412835, 0.5639570985965833, 0.28197854929829164, 0.7815566263530227, 0.8703627300683225, 0.8601277325355069, 0.7358555809441709, 0.7812446512729582, 0.9219856873968989, 0.5850341201574437, 0.8597019845242954, 0.8330366910706792, 0.7843270801140846, 0.8129888413786036, 0.7859425766141751, 0.1837482820786021, 0.7349931283144084, 0.4921170621732378, 0.09871970073050614, 0.12339962591313268, 0.09871970073050614, 0.0740397755478796, 0.12339962591313268, 0.09871970073050614, 0.0740397755478796, 0.04935985036525307, 0.19743940146101227, 0.0740397755478796, 0.6622544444153692, 0.7118008520727882, 0.17795021301819705, 0.8179891992820639, 0.847853646717102, 0.6286302161046043, 0.7765953500006105, 0.6623020104612709, 0.5252451066051353, 0.7768388468660509, 0.7781035864924554, 0.7797159229842816, 0.0841057153319489, 0.0841057153319489, 0.0841057153319489, 0.0841057153319489, 0.0841057153319489, 0.0841057153319489, 0.0841057153319489, 0.21026428832987223, 0.04205285766597445, 0.12615857299792335, 0.8173635507291085, 0.8133302982555625, 0.22684707697466397, 0.6805412309239919, 0.5524000907879519, 0.776573098799485, 0.6258025386442576, 0.8054927635698986, 0.8457410643541079, 0.8717887844588507, 0.8674538690159951, 0.818658611553424, 0.5579278911635823, 0.27896394558179116, 0.7742897774465325, 0.11306230600179144, 0.0942185883348262, 0.13190602366875667, 0.07537487066786096, 0.11306230600179144, 0.07537487066786096, 0.07537487066786096, 0.16959345900268716, 0.0942185883348262, 0.03768743533393048, 0.7791363758985737, 0.611322289766647, 0.2856818093428497, 0.5713636186856994, 0.8723270061846847, 0.864563439416954, 0.5464337128270802, 0.7840102260393406, 0.6269144566205028, 0.6781008244942167, 0.17930183889674986, 0.044825459724187465, 0.11206364931046867, 0.0672381895862812, 0.11206364931046867, 0.11206364931046867, 0.08965091944837493, 0.044825459724187465, 0.08965091944837493, 0.11206364931046867, 0.7796782745469134, 0.481071431527703, 0.06011956923015091, 0.10019928205025151, 0.16031885128040244, 0.12023913846030182, 0.14027899487035211, 0.06011956923015091, 0.08015942564020122, 0.10019928205025151, 0.10019928205025151, 0.04007971282010061, 0.6579068417183083, 0.7434796708148641, 0.1717676964462341, 0.5153030893387023, 0.1717676964462341, 0.661006336883333, 0.22381166550153275, 0.6714349965045983, 0.1113967774925348, 0.0556983887462674, 0.0556983887462674, 0.1113967774925348, 0.1670951662388022, 0.12996290707462393, 0.07426451832835652, 0.12996290707462393, 0.09283064791044567, 0.09283064791044567, 0.09361558718707569, 0.13106182206190597, 0.18723117437415138, 0.07489246974966056, 0.09361558718707569, 0.07489246974966056, 0.056169352312245416, 0.11233870462449083, 0.09361558718707569, 0.07489246974966056, 0.6542811030488894, 0.2180937010162965, 0.9656626466440582, 0.7122176934061757, 0.10065418888112687, 0.0805233511049015, 0.12078502665735225, 0.161046702209803, 0.0805233511049015, 0.06039251332867612, 0.0805233511049015, 0.10065418888112687, 0.14091586443357762, 0.10065418888112687, 0.1113285821721308, 0.0556642910860654, 0.07421905478142053, 0.12988334586748593, 0.07421905478142053, 0.09277381847677567, 0.14843810956284106, 0.07421905478142053, 0.14843810956284106, 0.12988334586748593, 0.1270750413836923, 0.148254214947641, 0.08471669425579485, 0.06353752069184615, 0.08471669425579485, 0.08471669425579485, 0.1270750413836923, 0.042358347127897426, 0.06353752069184615, 0.1694333885115897, 0.13873838813155118, 0.12486454931839606, 0.12486454931839606, 0.09711687169208583, 0.13873838813155118, 0.09711687169208583, 0.08324303287893071, 0.04162151643946536, 0.08324303287893071, 0.06936919406577559, 0.09948467067637909, 0.08290389223031591, 0.11606544912244228, 0.06632311378425274, 0.06632311378425274, 0.13264622756850547, 0.03316155689212637, 0.182388562906695, 0.09948467067637909, 0.13264622756850547, 0.759012518925738, 0.17515446248785974, 0.07881950811953688, 0.14888129311468076, 0.14012356999028777, 0.10509267749271584, 0.09633495436832284, 0.043788615621964934, 0.07881950811953688, 0.03503089249757194, 0.09633495436832284, 0.8731162158382656, 0.10112316335219396, 0.10786470757567355, 0.06741544223479597, 0.1955047824809083, 0.11460625179915314, 0.07415698645827556, 0.07415698645827556, 0.09438161912871436, 0.09438161912871436, 0.06741544223479597, 0.8272312758504785, 0.8118836325808182, 0.5639132045779087, 0.18797106819263626, 0.14045649609068742, 0.08427389765441246, 0.11236519687254994, 0.14045649609068742, 0.05618259843627497, 0.08427389765441246, 0.08427389765441246, 0.05618259843627497, 0.14045649609068742, 0.11236519687254994, 0.7808465250913218, 0.6528165413004793, 0.8657919243236218, 0.16029652103568778, 0.4808895631070633, 0.17613737843282862, 0.5284121352984859, 0.7654954884098237, 0.6195327636755101, 0.2630213659664897, 0.5260427319329793, 0.8036668615038864, 0.83890504977032, 0.7637204212502512, 0.662444775048411, 0.8035359307800064, 0.19540373451414997, 0.0772526392265244, 0.0727083663308465, 0.10906254949626974, 0.10906254949626974, 0.0727083663308465, 0.08634118501788021, 0.08634118501788021, 0.08634118501788021, 0.09997400370491392, 0.07964185641259487, 0.10618914188345983, 0.07964185641259487, 0.07964185641259487, 0.13273642735432478, 0.15928371282518974, 0.05309457094172992, 0.05309457094172992, 0.10618914188345983, 0.13273642735432478, 0.08146028932462783, 0.13964621027079055, 0.09309747351386037, 0.046548736756930185, 0.08146028932462783, 0.13964621027079055, 0.10473465770309293, 0.1745577628384882, 0.06982310513539527, 0.046548736756930185, 0.48953387231212536, 0.13596616726120916, 0.6798308363060458, 0.08322216964655245, 0.1664443392931049, 0.041611084823276225, 0.08322216964655245, 0.24966650893965736, 0.041611084823276225, 0.08322216964655245, 0.08322216964655245, 0.08322216964655245, 0.041611084823276225, 0.7829856449283649, 0.42278154440663607, 0.08740634008478887, 0.05827089338985925, 0.1165417867797185, 0.14567723347464812, 0.1165417867797185, 0.08740634008478887, 0.029135446694929627, 0.05827089338985925, 0.029135446694929627, 0.2622190202543666, 0.784012249917197, 0.7717781305378341, 0.11588873999635708, 0.05794436999817854, 0.11588873999635708, 0.05794436999817854, 0.11588873999635708, 0.05794436999817854, 0.11588873999635708, 0.11588873999635708, 0.05794436999817854, 0.23177747999271417, 0.42267080935619056, 0.6190957269491159, 0.07426241450290384, 0.14852482900580768, 0.07426241450290384, 0.07426241450290384, 0.12995922538008173, 0.0928280181286298, 0.11139362175435576, 0.05569681087717788, 0.12995922538008173, 0.07426241450290384, 0.5199071421770326, 0.8080432073205986, 0.8072929262304311, 0.07551511249459283, 0.07551511249459283, 0.07551511249459283, 0.30206044997837134, 0.07551511249459283, 0.15103022498918567, 0.07551511249459283, 0.07551511249459283, 0.15103022498918567, 0.7892476932689605, 0.7792642255620795, 0.16081053777218934, 0.5628368822026627, 0.08040526888609467, 0.08040526888609467, 0.08040526888609467, 0.11185160828311724, 0.2237032165662345, 0.08388870621233793, 0.08388870621233793, 0.08388870621233793, 0.11185160828311724, 0.11185160828311724, 0.05592580414155862, 0.08388870621233793, 0.05592580414155862, 0.15410156450891713, 0.46230469352675135, 0.15410156450891713, 0.0764960911624974, 0.0764960911624974, 0.13386815953437045, 0.09562011395312175, 0.0764960911624974, 0.09562011395312175, 0.1147441367437461, 0.1147441367437461, 0.13386815953437045, 0.09562011395312175, 0.070080253264955, 0.070080253264955, 0.070080253264955, 0.350401266324775, 0.070080253264955, 0.070080253264955, 0.070080253264955, 0.070080253264955, 0.070080253264955, 0.070080253264955, 0.500968625616368, 0.17595283216972263, 0.17595283216972263, 0.08797641608486131, 0.08797641608486131, 0.5278584965091679, 0.830217367485198, 0.765748378681539, 0.7723307665186522, 0.08626055860183168, 0.11501407813577556, 0.08626055860183168, 0.15814435743669142, 0.15814435743669142, 0.07188379883485974, 0.08626055860183168, 0.10063731836880363, 0.07188379883485974, 0.08626055860183168, 0.660952370521554, 0.8291102140088144, 0.5546433951012666, 0.15004791960491687, 0.06430625125925009, 0.04287083417283339, 0.12861250251850018, 0.12861250251850018, 0.08574166834566678, 0.06430625125925009, 0.08574166834566678, 0.12861250251850018, 0.08574166834566678, 0.1319752764503618, 0.08798351763357454, 0.08798351763357454, 0.10997939704196816, 0.15397115585875543, 0.1319752764503618, 0.0659876382251809, 0.1319752764503618, 0.04399175881678727, 0.04399175881678727, 0.8283368433705585, 0.4175722871597269, 0.7755640715903274, 0.07993614710045455, 0.18651767656772728, 0.07993614710045455, 0.1598722942009091, 0.1332269118340909, 0.07993614710045455, 0.10658152946727273, 0.053290764733636364, 0.053290764733636364, 0.053290764733636364, 0.22522381540380018, 0.6756714462114005, 0.7830903484443957, 0.4900990721978956, 0.20459946490287248, 0.6137983947086174, 0.12838574120894516, 0.12838574120894516, 0.08559049413929679, 0.21397623534824195, 0.06419287060447258, 0.10698811767412097, 0.08559049413929679, 0.12838574120894516, 0.06419287060447258, 0.06419287060447258, 0.610706709866374, 0.7803929673399, 0.48501804154875594, 0.4236011598637008, 0.8280898530747259, 0.6117834916182369, 0.11720196046918467, 0.08371568604941762, 0.10045882325930114, 0.11720196046918467, 0.16743137209883524, 0.10045882325930114, 0.11720196046918467, 0.0669725488395341, 0.05022941162965057, 0.0669725488395341, 0.04878952790614698, 0.04878952790614698, 0.09757905581229397, 0.09757905581229397, 0.14636858371844097, 0.09757905581229397, 0.24394763953073492, 0.09757905581229397, 0.04878952790614698, 0.09757905581229397, 0.6195253179865449, 0.09615910481697722, 0.09615910481697722, 0.04807955240848861, 0.11218562228647343, 0.14423865722546583, 0.09615910481697722, 0.12821213975596962, 0.11218562228647343, 0.08013258734748102, 0.09615910481697722, 0.785555010991788, 0.6107861517409646, 0.8266843236825187, 0.7675450562756309, 0.6576472254274772, 0.3288236127137386, 0.4590223705094608, 0.1147555926273652, 0.1147555926273652, 0.1147555926273652, 0.6117902246346253, 0.7852527805577243, 0.0742141953304384, 0.0742141953304384, 0.12369032555073066, 0.0742141953304384, 0.1484283906608768, 0.09895226044058453, 0.12369032555073066, 0.19790452088116905, 0.049476130220292264, 0.0742141953304384, 0.4849454476472205, 0.05608543383137471, 0.11217086766274942, 0.09814950920490574, 0.15423494303628046, 0.09814950920490574, 0.11217086766274942, 0.11217086766274942, 0.09814950920490574, 0.08412815074706206, 0.05608543383137471, 0.13333582678910239, 0.18667015750474333, 0.10666866143128191, 0.18667015750474333, 0.10666866143128191, 0.08000149607346144, 0.026667165357820478, 0.026667165357820478, 0.08000149607346144, 0.08000149607346144, 0.560609310579572, 0.09002688596108759, 0.09002688596108759, 0.06752016447081569, 0.11253360745135949, 0.13504032894163137, 0.06752016447081569, 0.06752016447081569, 0.15754705043190328, 0.06752016447081569, 0.13504032894163137, 0.08684059367529037, 0.06513044525646779, 0.08684059367529037, 0.13026089051293557, 0.08684059367529037, 0.19539133576940335, 0.08684059367529037, 0.10855074209411297, 0.08684059367529037, 0.06513044525646779, 0.0976069357870222, 0.1952138715740444, 0.12200866973377775, 0.0488034678935111, 0.0976069357870222, 0.07320520184026665, 0.0488034678935111, 0.0976069357870222, 0.12200866973377775, 0.07320520184026665, 0.6625286861002536, 0.5298240123086307, 0.2837905490514709, 0.5675810981029418, 0.22887888540425907, 0.14304930337766192, 0.08582958202659716, 0.08582958202659716, 0.08582958202659716, 0.11443944270212954, 0.05721972135106477, 0.05721972135106477, 0.11443944270212954, 0.05721972135106477, 0.14605140274999917, 0.08987778630769179, 0.11234723288461473, 0.06740833973076885, 0.11234723288461473, 0.12358195617307621, 0.10111250959615327, 0.10111250959615327, 0.11234723288461473, 0.044938893153845895, 0.12697913797092095, 0.10744388597539464, 0.08302482098098676, 0.15628201596421037, 0.12209532497203937, 0.11232769897427622, 0.09767625997763149, 0.09767625997763149, 0.048838129988815746, 0.05372194298769732, 0.0946500390488451, 0.11831254881105638, 0.0946500390488451, 0.0946500390488451, 0.16563756833547894, 0.07098752928663384, 0.07098752928663384, 0.07098752928663384, 0.0946500390488451, 0.11831254881105638, 0.4942784971135262, 0.6285858394520126, 0.6110528289772601], \"Term\": [\"absolutely_unbearable\", \"abused_get\", \"abusive_would\", \"afraid_walk\", \"aging_locate\", \"ago_seems\", \"aguardian_ad\", \"always_always\", \"alz_association\", \"anger_channeled\", \"anguish_must\", \"annoying_nose\", \"annoying_nose\", \"anyone_debt\", \"anyone_else\", \"anyone_else\", \"anyone_else\", \"anyone_else\", \"anyone_else\", \"anyone_else\", \"anyone_else\", \"anyone_else\", \"anyone_else\", \"anyone_else\", \"anyone_quit\", \"anything_anyone\", \"appoint_aguardian\", \"appreciate_sharing\", \"asks_god\", \"asleep_mid\", \"assisted_living\", \"assisted_living\", \"assisted_living\", \"assisted_living\", \"assisted_living\", \"assisted_living\", \"assisted_living\", \"assisted_living\", \"assisted_living\", \"assisted_living\", \"awful_things\", \"awful_things\", \"awful_things\", \"awful_things\", \"awful_things\", \"awful_things\", \"back_case\", \"back_home\", \"back_home\", \"back_home\", \"back_home\", \"back_home\", \"back_home\", \"back_home\", \"back_home\", \"back_home\", \"back_home\", \"bad_things\", \"bad_things\", \"bad_things\", \"bad_things\", \"bad_things\", \"bad_things\", \"bad_things\", \"bad_things\", \"bad_things\", \"balance_also\", \"beaten_emotionally\", \"beating_brother\", \"behave_differently\", \"bell_doubt\", \"blamed_getting\", \"blood_pressure\", \"blood_pressure\", \"blood_pressure\", \"blood_pressure\", \"blood_pressure\", \"blood_pressure\", \"blood_pressure\", \"blood_pressure\", \"blood_pressure\", \"blood_pressure\", \"bother_mom\", \"bout_brutal\", \"bowel_regularity\", \"brain_center\", \"brother_law\", \"brother_law\", \"brother_law\", \"brother_law\", \"brother_law\", \"brother_law\", \"brother_sorry\", \"brown_paper\", \"brown_paper\", \"brutal_spankings\", \"bullies_certain\", \"buried_military\", \"capacity_make\", \"care_facilities\", \"care_facilities\", \"care_facilities\", \"care_facilities\", \"care_facilities\", \"care_facilities\", \"care_facilities\", \"care_facilities\", \"care_facilities\", \"care_facilities\", \"care_facility\", \"care_facility\", \"care_facility\", \"care_facility\", \"care_facility\", \"care_facility\", \"care_facility\", \"care_facility\", \"care_facility\", \"care_facility\", \"care_horrible\", \"care_hugs\", \"care_insurancehope\", \"care_mom\", \"care_mom\", \"care_mom\", \"care_mom\", \"care_mom\", \"care_mom\", \"care_mom\", \"care_mom\", \"care_mom\", \"care_mom\", \"care_unit\", \"care_unit\", \"care_unit\", \"care_unit\", \"care_unit\", \"care_unit\", \"care_unit\", \"care_unit\", \"care_unit\", \"care_unit\", \"caregiver_gotten\", \"caregiver_resource\", \"caregiving_stages\", \"caretakeri_agree\", \"cause_sleepiness\", \"certain_officials\", \"chance_court\", \"change_cognition\", \"channeled_reform\", \"charge_per\", \"check_doc\", \"christian_scientist\", \"christmasknock_knockwho\", \"cleaning_mess\", \"clear_paint\", \"close_behind\", \"come_tell\", \"come_vent\", \"comfort_days\", \"comfort_difficult\", \"confer_alz\", \"confused_sister\", \"connect_caregivers\", \"control_response\", \"could_contacti\", \"could_get\", \"could_get\", \"could_get\", \"could_get\", \"could_get\", \"could_get\", \"could_get\", \"could_get\", \"could_get\", \"could_get\", \"could_guess\", \"county_king\", \"county_san\", \"cried_listenedthank\", \"crouched_behind\", \"cry_cry\", \"cry_cry\", \"dad_died\", \"dad_died\", \"dad_died\", \"dad_died\", \"dad_died\", \"dad_died\", \"dad_died\", \"dad_died\", \"dad_died\", \"dad_died\", \"daughter_rn\", \"day_home\", \"deal_anger\", \"deal_anger\", \"deal_anger\", \"deal_anger\", \"deal_wanting\", \"debi_advice\", \"decisions_issues\", \"deeper_disease\", \"delusions_hallucination\", \"depends_daily\", \"deserves_forgiveness\", \"dh_go\", \"diagnosed_eo\", \"die_die\", \"die_god\", \"different_results\", \"difficult_time\", \"difficult_time\", \"difficult_time\", \"difficult_time\", \"difficult_time\", \"difficult_time\", \"difficult_time\", \"difficult_time\", \"difficult_time\", \"difficult_time\", \"dirty_clothes\", \"dirty_clothes\", \"dirty_clothes\", \"dirty_clothes\", \"dirty_clothes\", \"dirty_clothes\", \"dirty_clothes\", \"dirty_clothes\", \"dirty_clothes\", \"dirty_clothes\", \"discuss_frustration\", \"divorce_father\", \"divorce_probable\", \"doctor_idiot\", \"doctors_said\", \"double_negative\", \"easter_bunny\", \"easter_bunny\", \"easter_bunny\", \"eating_lot\", \"eh_eh\", \"eh_eh\", \"eh_eh\", \"either_way\", \"either_way\", \"either_way\", \"either_way\", \"either_way\", \"either_way\", \"either_way\", \"either_way\", \"either_way\", \"either_would\", \"elm_tree\", \"elsewhere_services\", \"email_later\", \"emergency_room\", \"emergency_room\", \"emergency_room\", \"emergency_room\", \"emergency_room\", \"emergency_room\", \"emergency_room\", \"emotionally_etc\", \"english_home\", \"even_know\", \"even_know\", \"even_know\", \"even_know\", \"even_know\", \"even_know\", \"even_know\", \"even_know\", \"even_know\", \"even_know\", \"even_though\", \"even_though\", \"even_though\", \"even_though\", \"even_though\", \"even_though\", \"even_though\", \"even_though\", \"even_though\", \"even_though\", \"every_day\", \"every_day\", \"every_day\", \"every_day\", \"every_day\", \"every_day\", \"every_day\", \"every_day\", \"every_day\", \"every_day\", \"every_hours\", \"every_hours\", \"every_hours\", \"every_hours\", \"every_hours\", \"every_hours\", \"every_hours\", \"every_hours\", \"every_hours\", \"every_time\", \"every_time\", \"every_time\", \"every_time\", \"every_time\", \"every_time\", \"every_time\", \"every_time\", \"every_time\", \"every_time\", \"everyday_makes\", \"everyday_makes\", \"everyone_deserves\", \"everyone_else\", \"everyone_else\", \"everyone_else\", \"everyone_else\", \"everyone_else\", \"everyone_else\", \"everyone_else\", \"everyone_else\", \"everyone_else\", \"everyone_else\", \"except_stupid\", \"face_terrifying\", \"fail_die\", \"failed_remember\", \"faith_maybe\", \"family_experience\", \"family_friends\", \"family_friends\", \"family_friends\", \"family_friends\", \"family_friends\", \"family_friends\", \"family_friends\", \"family_friends\", \"family_friends\", \"family_member\", \"family_member\", \"family_member\", \"family_member\", \"family_member\", \"family_member\", \"family_member\", \"family_member\", \"family_member\", \"family_member\", \"family_members\", \"family_members\", \"family_members\", \"family_members\", \"family_members\", \"family_members\", \"family_members\", \"family_members\", \"family_members\", \"family_members\", \"family_needs\", \"family_needs\", \"father_capacity\", \"feasible_covered\", \"feel_bad\", \"feel_bad\", \"feel_bad\", \"feel_bad\", \"feel_bad\", \"feel_bad\", \"feel_bad\", \"feel_bad\", \"feel_bad\", \"feel_bad\", \"feel_grief\", \"feel_grief\", \"feel_guilty\", \"feel_guilty\", \"feel_guilty\", \"feel_guilty\", \"feel_guilty\", \"feel_guilty\", \"feel_guilty\", \"feel_guilty\", \"feel_guilty\", \"feel_guilty\", \"feel_like\", \"feel_like\", \"feel_like\", \"feel_like\", \"feel_like\", \"feel_like\", \"feel_like\", \"feel_like\", \"feel_like\", \"feel_like\", \"feel_mom\", \"feel_mom\", \"feel_mom\", \"feel_mom\", \"feel_mom\", \"feel_mom\", \"feel_mom\", \"feels_like\", \"feels_like\", \"feels_like\", \"feels_like\", \"feels_like\", \"feels_like\", \"feels_like\", \"feels_like\", \"feels_like\", \"feels_like\", \"female_staff\", \"fight_going\", \"find_peace\", \"find_peace\", \"find_peace\", \"find_peace\", \"find_peace\", \"find_peace\", \"find_peace\", \"find_peace\", \"find_peace\", \"find_peace\", \"firmer_front\", \"first_time\", \"first_time\", \"first_time\", \"first_time\", \"first_time\", \"first_time\", \"first_time\", \"first_time\", \"first_time\", \"first_time\", \"forgive_abusers\", \"forgive_lost\", \"forgive_step\", \"forgiveness_healthy\", \"forgot_mad\", \"found_facility\", \"frustration_anguish\", \"full_time\", \"full_time\", \"full_time\", \"full_time\", \"full_time\", \"full_time\", \"full_time\", \"full_time\", \"full_time\", \"full_time\", \"geez_sorry\", \"general_anesthesia\", \"general_anesthesia\", \"geri_psych\", \"geri_psych\", \"geri_psych\", \"geri_psych\", \"geri_psych\", \"geri_psych\", \"geri_psych\", \"geri_psych\", \"geri_psych\", \"geri_psych\", \"geriatric_psychiatrist\", \"geriatric_psychiatrist\", \"geriatric_psychiatrist\", \"geriatric_psychiatrist\", \"geriatric_psychiatrist\", \"geriatric_psychiatrist\", \"geriatric_psychiatrist\", \"geriatric_psychiatrist\", \"geriatric_psychiatrist\", \"geriatric_psychiatrist\", \"get_back\", \"get_back\", \"get_back\", \"get_back\", \"get_back\", \"get_back\", \"get_back\", \"get_back\", \"get_back\", \"get_back\", \"get_board\", \"get_help\", \"get_help\", \"get_help\", \"get_help\", \"get_help\", \"get_help\", \"get_help\", \"get_help\", \"get_help\", \"get_help\", \"get_work\", \"gets_attention\", \"gets_tough\", \"gets_tough\", \"gets_tough\", \"gets_tough\", \"getting_abused\", \"getting_worse\", \"getting_worse\", \"getting_worse\", \"getting_worse\", \"getting_worse\", \"getting_worse\", \"getting_worse\", \"getting_worse\", \"getting_worse\", \"getting_worse\", \"gives_power\", \"go_back\", \"go_back\", \"go_back\", \"go_back\", \"go_back\", \"go_back\", \"go_back\", \"go_back\", \"go_back\", \"go_back\", \"go_home\", \"go_home\", \"go_home\", \"go_home\", \"go_home\", \"go_home\", \"go_home\", \"go_home\", \"go_home\", \"go_home\", \"go_medicaid\", \"god_bless\", \"god_bless\", \"god_bless\", \"god_bless\", \"god_bless\", \"god_bless\", \"god_bless\", \"god_bless\", \"god_bless\", \"god_bless\", \"god_pray\", \"god_well\", \"going_cold\", \"going_cold\", \"going_get\", \"going_get\", \"going_get\", \"going_get\", \"going_get\", \"going_get\", \"going_get\", \"going_get\", \"going_get\", \"going_get\", \"going_gets\", \"going_gets\", \"going_gets\", \"going_gets\", \"good_luck\", \"good_luck\", \"good_luck\", \"good_luck\", \"good_luck\", \"good_luck\", \"good_luck\", \"good_luck\", \"good_luck\", \"good_luck\", \"grief_lo\", \"grief_lo\", \"grief_realize\", \"grief_realize\", \"grief_turns\", \"guess_nobledo\", \"hard_forgive\", \"hard_know\", \"hard_know\", \"hard_know\", \"hard_know\", \"hard_know\", \"hard_know\", \"hard_know\", \"hard_know\", \"hard_remember\", \"hard_time\", \"hard_time\", \"hard_time\", \"hard_time\", \"hard_time\", \"hard_time\", \"hard_time\", \"hard_time\", \"hard_time\", \"hard_time\", \"hate_wish\", \"healing_fail\", \"health_care\", \"health_care\", \"health_care\", \"health_care\", \"health_care\", \"health_care\", \"health_care\", \"health_care\", \"health_care\", \"health_care\", \"healthy_anger\", \"hear_hope\", \"hear_horrible\", \"heater_closing\", \"helpful_patient\", \"helps_little\", \"helps_little\", \"hey_pass\", \"hi_nc\", \"highest_number\", \"hii_sorry\", \"hire_caregivers\", \"hire_caregivers\", \"hire_caregivers\", \"home_cannot\", \"home_cannot\", \"home_care\", \"home_care\", \"home_care\", \"home_care\", \"home_care\", \"home_care\", \"home_care\", \"home_care\", \"home_care\", \"home_care\", \"home_goal\", \"home_loathe\", \"home_motor\", \"home_motor\", \"hospice_care\", \"hospice_care\", \"hospice_care\", \"hospice_care\", \"hospice_care\", \"hospice_care\", \"hospice_care\", \"hospice_care\", \"hospice_care\", \"hospice_care\", \"hours_away\", \"hours_away\", \"hours_away\", \"hours_away\", \"hours_away\", \"hours_away\", \"hours_away\", \"hours_away\", \"hours_away\", \"hours_away\", \"hours_etc\", \"hours_scheduled\", \"hundred_dollars\", \"hurt_dogs\", \"inand_provide\", \"insidecan_take\", \"interests_divorce\", \"issues_related\", \"july_degrees\", \"justify_anything\", \"keep_us\", \"keep_us\", \"keep_us\", \"keep_us\", \"keep_us\", \"keep_us\", \"keep_us\", \"keep_us\", \"keep_us\", \"keep_us\", \"kind_words\", \"kind_words\", \"kinder_thing\", \"king_county\", \"know_alone\", \"know_alone\", \"know_alone\", \"know_alone\", \"know_alone\", \"know_alone\", \"know_alone\", \"know_alone\", \"know_alone\", \"know_alone\", \"know_came\", \"know_dealing\", \"know_molestation\", \"know_toc\", \"know_wish\", \"lane_never\", \"last_months\", \"last_months\", \"last_months\", \"last_months\", \"last_months\", \"last_months\", \"last_months\", \"last_months\", \"last_months\", \"last_months\", \"last_night\", \"last_night\", \"last_night\", \"last_night\", \"last_night\", \"last_night\", \"last_night\", \"last_night\", \"last_night\", \"last_night\", \"last_week\", \"last_week\", \"last_week\", \"last_week\", \"last_week\", \"last_week\", \"last_week\", \"last_week\", \"last_week\", \"last_week\", \"last_year\", \"last_year\", \"last_year\", \"last_year\", \"last_year\", \"last_year\", \"last_year\", \"last_year\", \"last_year\", \"last_year\", \"last_years\", \"last_years\", \"last_years\", \"last_years\", \"last_years\", \"last_years\", \"last_years\", \"last_years\", \"last_years\", \"last_years\", \"late_stage\", \"late_stage\", \"late_stage\", \"late_stage\", \"late_stage\", \"late_stage\", \"late_stage\", \"late_stage\", \"late_stage\", \"late_stage\", \"later_stages\", \"later_stages\", \"later_stages\", \"later_stages\", \"later_stages\", \"later_stages\", \"later_stages\", \"later_stages\", \"let_go\", \"let_go\", \"let_go\", \"let_go\", \"let_go\", \"let_go\", \"let_go\", \"let_go\", \"let_go\", \"let_go\", \"let_know\", \"let_know\", \"let_know\", \"let_know\", \"let_know\", \"let_know\", \"let_know\", \"let_know\", \"let_know\", \"let_know\", \"like_body\", \"like_justify\", \"lining_think\", \"liquid_patch\", \"listenedthank_replying\", \"little_johnny\", \"little_red\", \"little_red\", \"live_inand\", \"live_person\", \"living_siblings\", \"lo_everyday\", \"lo_everyday\", \"loading_dishwasher\", \"loading_dishwasher\", \"loading_dishwasher\", \"local_church\", \"lohang_therewendy\", \"long_term\", \"long_term\", \"long_term\", \"long_term\", \"long_term\", \"long_term\", \"long_term\", \"long_term\", \"long_term\", \"long_term\", \"long_time\", \"long_time\", \"long_time\", \"long_time\", \"long_time\", \"long_time\", \"long_time\", \"long_time\", \"long_time\", \"long_time\", \"looking_web\", \"looks_like\", \"looks_like\", \"looks_like\", \"looks_like\", \"looks_like\", \"looks_like\", \"looks_like\", \"looks_like\", \"looks_like\", \"looks_like\", \"loses_interest\", \"loss_take\", \"loss_wishing\", \"loss_wishing\", \"lost_beaten\", \"loud_annoying\", \"loud_annoying\", \"loved_one\", \"loved_one\", \"loved_one\", \"loved_one\", \"loved_one\", \"loved_one\", \"loved_one\", \"loved_one\", \"loved_one\", \"loved_one\", \"majority_pelvic\", \"make_decisions\", \"make_decisions\", \"make_decisions\", \"make_decisions\", \"make_decisions\", \"make_decisions\", \"make_decisions\", \"make_decisions\", \"make_decisions\", \"make_decisions\", \"make_sure\", \"make_sure\", \"make_sure\", \"make_sure\", \"make_sure\", \"make_sure\", \"make_sure\", \"make_sure\", \"make_sure\", \"make_sure\", \"makes_one\", \"makes_one\", \"man_asks\", \"many_times\", \"many_times\", \"many_times\", \"many_times\", \"many_times\", \"many_times\", \"many_times\", \"many_times\", \"many_times\", \"many_times\", \"marriage_put\", \"may_find\", \"may_find\", \"may_find\", \"may_find\", \"may_find\", \"may_find\", \"may_find\", \"may_need\", \"may_need\", \"may_need\", \"may_need\", \"may_need\", \"may_need\", \"may_need\", \"may_need\", \"may_need\", \"may_need\", \"maybe_bit\", \"mc_nh\", \"means_geez\", \"mechanical_soft\", \"mechanical_soft\", \"medicating_sleepy\", \"medicine_mom\", \"memory_care\", \"memory_care\", \"memory_care\", \"memory_care\", \"memory_care\", \"memory_care\", \"memory_care\", \"memory_care\", \"memory_care\", \"memory_care\", \"memory_lane\", \"message_mom\", \"message_right\", \"mg_po\", \"mil_live\", \"missing_hanging\", \"molestation_nothing\", \"molesting_beating\", \"mom_card\", \"mom_get\", \"mom_get\", \"mom_get\", \"mom_get\", \"mom_get\", \"mom_get\", \"mom_get\", \"mom_get\", \"mom_get\", \"mom_get\", \"mom_go\", \"mom_go\", \"mom_go\", \"mom_go\", \"mom_go\", \"mom_go\", \"mom_go\", \"mom_go\", \"mom_go\", \"mom_go\", \"mom_shoes\", \"mom_sorry\", \"mom_sorry\", \"mom_surgery\", \"mom_worse\", \"mom_would\", \"mom_would\", \"mom_would\", \"mom_would\", \"mom_would\", \"mom_would\", \"mom_would\", \"mom_would\", \"mom_would\", \"mom_would\", \"months_ago\", \"months_ago\", \"months_ago\", \"months_ago\", \"months_ago\", \"months_ago\", \"months_ago\", \"months_ago\", \"months_ago\", \"months_ago\", \"mother_dementia\", \"mother_dementia\", \"mother_dementia\", \"mother_dementia\", \"mother_dementia\", \"mother_dementia\", \"mother_dementia\", \"mother_dementia\", \"mother_dementia\", \"mother_dementia\", \"mother_dizzy\", \"mother_law\", \"mother_law\", \"mother_law\", \"mother_law\", \"mother_law\", \"mother_law\", \"mother_law\", \"mother_law\", \"mother_law\", \"mother_law\", \"motor_home\", \"motor_home\", \"motor_home\", \"motor_home\", \"mpsunshine_wrote\", \"mr_wolf\", \"much_else\", \"mucusthen_feel\", \"mucusthen_feel\", \"multiple_pair\", \"navigator_else\", \"nc_caretakeri\", \"need_help\", \"need_help\", \"need_help\", \"need_help\", \"need_help\", \"need_help\", \"need_help\", \"need_help\", \"need_help\", \"need_help\", \"need_separate\", \"never_closer\", \"new_little\", \"next_day\", \"next_day\", \"next_day\", \"next_day\", \"next_day\", \"next_day\", \"next_day\", \"next_day\", \"next_day\", \"next_day\", \"nobledo_forgive\", \"non_drivers\", \"nose_snorts\", \"nose_snorts\", \"nothing_bout\", \"nothing_wrong\", \"nothing_wrong\", \"nothing_wrong\", \"nothing_wrong\", \"nothing_wrong\", \"nothing_wrong\", \"nothing_wrong\", \"nothing_wrong\", \"nothing_wrong\", \"nothing_wrong\", \"number_click\", \"nursing_home\", \"nursing_home\", \"nursing_home\", \"nursing_home\", \"nursing_home\", \"nursing_home\", \"nursing_home\", \"nursing_home\", \"nursing_home\", \"nursing_home\", \"objects_told\", \"officials_awful\", \"often_sign\", \"oh_misssy\", \"okay_missy\", \"one_day\", \"one_day\", \"one_day\", \"one_day\", \"one_day\", \"one_day\", \"one_day\", \"one_day\", \"one_day\", \"one_day\", \"one_look\", \"one_loud\", \"one_loud\", \"one_person\", \"one_person\", \"one_person\", \"one_person\", \"one_person\", \"one_person\", \"one_person\", \"one_person\", \"one_person\", \"one_person\", \"one_post\", \"one_thing\", \"one_thing\", \"one_thing\", \"one_thing\", \"one_thing\", \"one_thing\", \"one_thing\", \"one_thing\", \"one_thing\", \"one_thing\", \"one_third\", \"outside_absolutely\", \"pass_test\", \"passed_away\", \"passed_away\", \"passed_away\", \"passed_away\", \"passed_away\", \"passed_away\", \"passed_away\", \"passed_away\", \"passed_away\", \"passed_away\", \"past_years\", \"past_years\", \"past_years\", \"past_years\", \"past_years\", \"past_years\", \"past_years\", \"past_years\", \"past_years\", \"past_years\", \"peace_always\", \"peace_always\", \"people_testing\", \"person_dementia\", \"person_dementia\", \"person_dementia\", \"person_dementia\", \"person_dementia\", \"person_dementia\", \"person_dementia\", \"person_dementia\", \"person_dementia\", \"person_dementia\", \"phone_call\", \"phone_call\", \"phone_call\", \"phone_call\", \"phone_call\", \"phone_call\", \"phone_call\", \"phone_call\", \"phone_call\", \"phone_call\", \"physical_therapy\", \"physical_therapy\", \"physical_therapy\", \"physical_therapy\", \"physical_therapy\", \"physical_therapy\", \"physical_therapy\", \"physical_therapy\", \"physical_therapy\", \"physical_therapy\", \"picture_still\", \"place_going\", \"place_mom\", \"place_mom\", \"place_mom\", \"place_mom\", \"place_mom\", \"place_mom\", \"place_mom\", \"place_mom\", \"place_mom\", \"please_take\", \"please_take\", \"please_take\", \"please_take\", \"please_take\", \"please_take\", \"please_take\", \"please_take\", \"po_every\", \"poa_highly\", \"pocket_found\", \"point_everyone\", \"point_mentioned\", \"polite_answer\", \"power_represent\", \"pray_hey\", \"prayers_feel\", \"prayers_may\", \"priority_group\", \"priority_group\", \"probable_court\", \"provide_live\", \"provide_safety\", \"psychiatrist_soon\", \"put_multiple\", \"quit_feeling\", \"quit_thinking\", \"quote_function\", \"read_dear\", \"read_poa\", \"reads_aloud\", \"real_angry\", \"realize_still\", \"realize_still\", \"really_gotten\", \"really_hard\", \"really_hard\", \"really_hard\", \"really_hard\", \"really_hard\", \"really_hard\", \"really_hard\", \"really_hard\", \"really_hard\", \"really_hard\", \"recipe_cardscreate\", \"red_riding\", \"red_riding\", \"reform_helping\", \"regular_coffee\", \"regulation_well\", \"related_divorce\", \"related_physical\", \"relative_left\", \"replies_header\", \"replying_kind\", \"represent_interests\", \"respite_care\", \"respite_care\", \"respite_care\", \"respite_care\", \"respite_care\", \"respite_care\", \"respite_care\", \"respite_care\", \"respite_care\", \"respite_care\", \"respond_wanting\", \"rest_guess\", \"rid_mucusthen\", \"rid_mucusthen\", \"riding_hood\", \"river_blonde\", \"rosy_tints\", \"rules_irving\", \"sad_well\", \"safety_assistance\", \"safety_precaution\", \"salary_rest\", \"say_neither\", \"say_neither\", \"say_unto\", \"seems_like\", \"seems_like\", \"seems_like\", \"seems_like\", \"seems_like\", \"seems_like\", \"seems_like\", \"seems_like\", \"seems_like\", \"seems_like\", \"selfish_plain\", \"sent_bloodwork\", \"service_asked\", \"service_asked\", \"service_provide\", \"services_exist\", \"set_free\", \"shady_pines\", \"shocking_much\", \"shoes_room\", \"short_term\", \"short_term\", \"short_term\", \"short_term\", \"short_term\", \"short_term\", \"short_term\", \"short_term\", \"short_term\", \"short_term\", \"showed_check\", \"sick_mother\", \"side_effects\", \"side_effects\", \"side_effects\", \"side_effects\", \"side_effects\", \"side_effects\", \"side_effects\", \"side_effects\", \"side_effects\", \"side_effects\", \"sister_passed\", \"sister_susan\", \"sister_thought\", \"sister_thought\", \"sister_thought\", \"sleepy_seemed\", \"snorts_get\", \"snorts_get\", \"social_worker\", \"social_worker\", \"social_worker\", \"social_worker\", \"social_worker\", \"social_worker\", \"social_worker\", \"social_worker\", \"social_worker\", \"social_worker\", \"someone_else\", \"someone_else\", \"someone_else\", \"someone_else\", \"someone_else\", \"someone_else\", \"someone_else\", \"someone_else\", \"someone_else\", \"someone_else\", \"someone_loading\", \"someone_loading\", \"someone_suggestions\", \"something_drink\", \"something_else\", \"something_else\", \"something_else\", \"something_else\", \"something_else\", \"something_else\", \"something_else\", \"something_else\", \"something_else\", \"something_else\", \"something_like\", \"something_like\", \"something_like\", \"something_like\", \"something_like\", \"something_like\", \"something_like\", \"something_like\", \"something_like\", \"something_like\", \"something_wrong\", \"something_wrong\", \"something_wrong\", \"something_wrong\", \"something_wrong\", \"something_wrong\", \"something_wrong\", \"something_wrong\", \"something_wrong\", \"something_wrong\", \"sorry_going\", \"sorry_going\", \"sorry_going\", \"sorry_going\", \"sorry_going\", \"sorry_going\", \"sorry_going\", \"sorry_going\", \"sorry_going\", \"sorry_going\", \"sorry_hear\", \"sorry_hear\", \"sorry_hear\", \"sorry_hear\", \"sorry_hear\", \"sorry_hear\", \"sorry_hear\", \"sorry_hear\", \"sorry_hear\", \"sorry_hear\", \"sorry_hospice\", \"sorry_loss\", \"sorry_loss\", \"sorry_loss\", \"sorry_loss\", \"sorry_loss\", \"sorry_loss\", \"sorry_loss\", \"sorry_loss\", \"sorry_loss\", \"sorry_loss\", \"sounds_feasible\", \"sounds_like\", \"sounds_like\", \"sounds_like\", \"sounds_like\", \"sounds_like\", \"sounds_like\", \"sounds_like\", \"sounds_like\", \"sounds_like\", \"sounds_like\", \"spankings_forgive\", \"speaking_french\", \"st_woman\", \"st_woman\", \"stage_dementia\", \"stage_dementia\", \"stage_dementia\", \"stage_dementia\", \"stage_dementia\", \"stage_dementia\", \"stage_dementia\", \"stage_dementia\", \"stage_dementia\", \"stage_dementia\", \"stage_system\", \"stages_behaviors\", \"steak_knife\", \"still_home\", \"still_home\", \"still_much\", \"still_much\", \"storage_bin\", \"straw_put\", \"stupid_disease\", \"stupid_disease\", \"suggestions_deal\", \"super_woman\", \"support_feel\", \"support_hugs\", \"sure_respond\", \"take_care\", \"take_care\", \"take_care\", \"take_care\", \"take_care\", \"take_care\", \"take_care\", \"take_care\", \"take_care\", \"take_care\", \"take_time\", \"take_time\", \"take_time\", \"take_time\", \"take_time\", \"take_time\", \"take_time\", \"take_time\", \"take_time\", \"take_time\", \"taking_care\", \"taking_care\", \"taking_care\", \"taking_care\", \"taking_care\", \"taking_care\", \"taking_care\", \"taking_care\", \"taking_care\", \"taking_care\", \"talk_understand\", \"teaching_us\", \"teaching_us\", \"teepa_snow\", \"teepa_snow\", \"teepa_snow\", \"teepa_snow\", \"teepa_snow\", \"teepa_snow\", \"teepa_snow\", \"teepa_snow\", \"teepa_snow\", \"teepa_snow\", \"tell_cried\", \"tells_afraid\", \"term_care\", \"term_care\", \"term_care\", \"term_care\", \"term_care\", \"term_care\", \"term_care\", \"term_care\", \"term_care\", \"term_care\", \"test_healing\", \"testing_god\", \"thank_god\", \"thank_god\", \"thank_god\", \"thank_god\", \"thank_god\", \"thank_god\", \"thank_god\", \"thank_god\", \"thank_god\", \"thank_god\", \"thank_message\", \"thank_veronica\", \"things_like\", \"things_like\", \"things_like\", \"things_like\", \"things_like\", \"things_like\", \"things_like\", \"things_like\", \"things_like\", \"things_like\", \"things_new\", \"things_person\", \"things_salary\", \"things_worse\", \"things_worse\", \"things_worse\", \"things_worse\", \"things_worse\", \"things_worse\", \"things_worse\", \"things_worse\", \"things_worse\", \"think_politics\", \"thought_message\", \"thoughts_prayers\", \"thoughts_prayers\", \"thoughts_prayers\", \"thoughts_prayers\", \"thoughts_prayers\", \"time_mom\", \"time_mom\", \"time_mom\", \"time_mom\", \"time_mom\", \"time_mom\", \"time_mom\", \"time_mom\", \"time_mom\", \"time_mom\", \"time_sorry\", \"time_sorry\", \"time_sorry\", \"times_day\", \"times_day\", \"times_day\", \"times_day\", \"times_day\", \"times_day\", \"times_day\", \"times_day\", \"times_day\", \"times_day\", \"told_going\", \"told_going\", \"told_going\", \"told_going\", \"told_going\", \"told_going\", \"told_going\", \"told_going\", \"told_going\", \"told_going\", \"took_break\", \"tough_may\", \"tough_may\", \"tough_may\", \"tough_may\", \"tough_may\", \"tramadol_mg\", \"truly_wish\", \"try_pass\", \"trying_get\", \"trying_get\", \"trying_get\", \"trying_get\", \"trying_get\", \"trying_get\", \"trying_get\", \"trying_get\", \"trying_get\", \"trying_get\", \"trying_helpful\", \"turning_heater\", \"two_mentioned\", \"two_weeks\", \"two_weeks\", \"two_weeks\", \"two_weeks\", \"two_weeks\", \"two_weeks\", \"two_weeks\", \"two_weeks\", \"two_weeks\", \"two_weeks\", \"two_years\", \"two_years\", \"two_years\", \"two_years\", \"two_years\", \"two_years\", \"two_years\", \"two_years\", \"two_years\", \"two_years\", \"tylenol_mg\", \"unbearable_insidecan\", \"unlikely_gives\", \"us_know\", \"us_know\", \"us_know\", \"us_know\", \"us_know\", \"us_know\", \"us_know\", \"us_know\", \"us_know\", \"us_know\", \"us_teaching\", \"us_teaching\", \"use_stage\", \"used_bath\", \"usually_feel\", \"usually_feel\", \"vascular_dementia\", \"vascular_dementia\", \"vascular_dementia\", \"vascular_dementia\", \"vascular_dementia\", \"vascular_dementia\", \"vascular_dementia\", \"vascular_dementia\", \"vascular_dementia\", \"vascular_dementia\", \"verbal_visited\", \"vet_said\", \"village_idiot\", \"walk_memory\", \"walked_fell\", \"walker_proceeded\", \"want_go\", \"want_go\", \"want_go\", \"want_go\", \"want_go\", \"want_go\", \"want_go\", \"want_go\", \"want_go\", \"want_go\", \"wanting_go\", \"wanting_go\", \"wanting_go\", \"wanting_go\", \"wanting_go\", \"wanting_go\", \"wanting_go\", \"wanting_go\", \"wanting_go\", \"wanting_go\", \"week_trouble\", \"weeks_ago\", \"weeks_ago\", \"weeks_ago\", \"weeks_ago\", \"weeks_ago\", \"weeks_ago\", \"weeks_ago\", \"weeks_ago\", \"weeks_ago\", \"weeks_ago\", \"well_sort\", \"went_eventually\", \"windows_turning\", \"winter_coat\", \"wish_easier\", \"wish_easier\", \"wishing_peace\", \"wishing_peace\", \"wishing_peace\", \"wishing_peace\", \"woman_mother\", \"would_appoint\", \"would_get\", \"would_get\", \"would_get\", \"would_get\", \"would_get\", \"would_get\", \"would_get\", \"would_get\", \"would_get\", \"would_get\", \"would_impact\", \"would_like\", \"would_like\", \"would_like\", \"would_like\", \"would_like\", \"would_like\", \"would_like\", \"would_like\", \"would_like\", \"would_like\", \"would_make\", \"would_make\", \"would_make\", \"would_make\", \"would_make\", \"would_make\", \"would_make\", \"would_make\", \"would_make\", \"would_make\", \"would_quite\", \"would_say\", \"would_say\", \"would_say\", \"would_say\", \"would_say\", \"would_say\", \"would_say\", \"would_say\", \"would_say\", \"would_say\", \"would_take\", \"would_take\", \"would_take\", \"would_take\", \"would_take\", \"would_take\", \"would_take\", \"would_take\", \"would_take\", \"would_take\", \"would_want\", \"would_want\", \"would_want\", \"would_want\", \"would_want\", \"would_want\", \"would_want\", \"would_want\", \"would_want\", \"would_want\", \"wow_zolly\", \"wrote_feel\", \"wrote_usually\", \"wrote_usually\", \"year_ago\", \"year_ago\", \"year_ago\", \"year_ago\", \"year_ago\", \"year_ago\", \"year_ago\", \"year_ago\", \"year_ago\", \"year_ago\", \"year_old\", \"year_old\", \"year_old\", \"year_old\", \"year_old\", \"year_old\", \"year_old\", \"year_old\", \"year_old\", \"year_old\", \"years_ago\", \"years_ago\", \"years_ago\", \"years_ago\", \"years_ago\", \"years_ago\", \"years_ago\", \"years_ago\", \"years_ago\", \"years_ago\", \"years_old\", \"years_old\", \"years_old\", \"years_old\", \"years_old\", \"years_old\", \"years_old\", \"years_old\", \"years_old\", \"years_old\", \"yes_brain\", \"youit_fun\", \"yourfairy_talecomparisons\"]}, \"R\": 30, \"lambda.step\": 0.01, \"plot.opts\": {\"xlab\": \"PC1\", \"ylab\": \"PC2\"}, \"topic.order\": [4, 10, 9, 8, 1, 7, 5, 6, 2, 3]};\n",
       "\n",
       "function LDAvis_load_lib(url, callback){\n",
       "  var s = document.createElement('script');\n",
       "  s.src = url;\n",
       "  s.async = true;\n",
       "  s.onreadystatechange = s.onload = callback;\n",
       "  s.onerror = function(){console.warn(\"failed to load library \" + url);};\n",
       "  document.getElementsByTagName(\"head\")[0].appendChild(s);\n",
       "}\n",
       "\n",
       "if(typeof(LDAvis) !== \"undefined\"){\n",
       "   // already loaded: just create the visualization\n",
       "   !function(LDAvis){\n",
       "       new LDAvis(\"#\" + \"ldavis_el192111405193155469602746743705\", ldavis_el192111405193155469602746743705_data);\n",
       "   }(LDAvis);\n",
       "}else if(typeof define === \"function\" && define.amd){\n",
       "   // require.js is available: use it to load d3/LDAvis\n",
       "   require.config({paths: {d3: \"https://d3js.org/d3.v5\"}});\n",
       "   require([\"d3\"], function(d3){\n",
       "      window.d3 = d3;\n",
       "      LDAvis_load_lib(\"https://cdn.jsdelivr.net/gh/bmabey/pyLDAvis@3.3.1/pyLDAvis/js/ldavis.v3.0.0.js\", function(){\n",
       "        new LDAvis(\"#\" + \"ldavis_el192111405193155469602746743705\", ldavis_el192111405193155469602746743705_data);\n",
       "      });\n",
       "    });\n",
       "}else{\n",
       "    // require.js not available: dynamically load d3 & LDAvis\n",
       "    LDAvis_load_lib(\"https://d3js.org/d3.v5.js\", function(){\n",
       "         LDAvis_load_lib(\"https://cdn.jsdelivr.net/gh/bmabey/pyLDAvis@3.3.1/pyLDAvis/js/ldavis.v3.0.0.js\", function(){\n",
       "                 new LDAvis(\"#\" + \"ldavis_el192111405193155469602746743705\", ldavis_el192111405193155469602746743705_data);\n",
       "            })\n",
       "         });\n",
       "}\n",
       "</script>"
      ],
      "text/plain": [
       "PreparedData(topic_coordinates=              x         y  topics  cluster       Freq\n",
       "topic                                                \n",
       "3      0.016978  0.050567       1        1  10.890869\n",
       "9     -0.017915 -0.041096       2        1  10.735334\n",
       "8     -0.038694 -0.015620       3        1  10.648295\n",
       "7      0.066871 -0.041380       4        1  10.597461\n",
       "0      0.009647  0.036689       5        1  10.517789\n",
       "6     -0.035131 -0.001874       6        1  10.186781\n",
       "4      0.009923  0.011021       7        1   9.548666\n",
       "5     -0.019259 -0.009739       8        1   9.382005\n",
       "1      0.010740 -0.008100       9        1   8.960632\n",
       "2     -0.003160  0.019533      10        1   8.532167, topic_info=                   Term       Freq       Total Category  logprob  loglift\n",
       "303687       motor_home  14.000000   14.000000  Default  30.0000  30.0000\n",
       "13371        going_gets  12.000000   12.000000  Default  29.0000  29.0000\n",
       "307080       gets_tough  11.000000   11.000000  Default  28.0000  28.0000\n",
       "148078       feel_grief   9.000000    9.000000  Default  27.0000  27.0000\n",
       "253736      teaching_us   7.000000    7.000000  Default  26.0000  26.0000\n",
       "...                 ...        ...         ...      ...      ...      ...\n",
       "4284     family_members   6.700751   77.235671  Topic10  -8.7333   0.0167\n",
       "7180          every_day   7.817462  135.279379  Topic10  -8.5792  -0.3897\n",
       "1870         trying_get   6.314115   69.556702  Topic10  -8.7928   0.0620\n",
       "838          every_time   6.464236   75.991316  Topic10  -8.7693  -0.0030\n",
       "3197    assisted_living   6.780463  112.372289  Topic10  -8.7215  -0.3464\n",
       "\n",
       "[778 rows x 6 columns], token_table=        Topic      Freq                       Term\n",
       "term                                              \n",
       "268087      9  0.414026      absolutely_unbearable\n",
       "278088      2  0.774935                 abused_get\n",
       "113041      1  0.484543              abusive_would\n",
       "172325      9  0.725215                afraid_walk\n",
       "262392     10  0.867136               aging_locate\n",
       "...       ...       ...                        ...\n",
       "7037        9  0.094650                  years_old\n",
       "7037       10  0.118313                  years_old\n",
       "143870      4  0.494278                  yes_brain\n",
       "276519      6  0.628586                  youit_fun\n",
       "269261      1  0.611053  yourfairy_talecomparisons\n",
       "\n",
       "[1789 rows x 3 columns], R=30, lambda_step=0.01, plot_opts={'xlab': 'PC1', 'ylab': 'PC2'}, topic_order=[4, 10, 9, 8, 1, 7, 5, 6, 2, 3])"
      ]
     },
     "execution_count": 48,
     "metadata": {},
     "output_type": "execute_result"
    }
   ],
   "source": [
    "num_topics = 10\n",
    "\n",
    "lda_model5 = gensim.models.LdaMulticore(corpus=corpus,\n",
    "                                       id2word=id2word,\n",
    "                                       num_topics=num_topics)\n",
    "\n",
    "pprint(lda_model5.print_topics())\n",
    "doc_lda = lda_model5[corpus]\n",
    "\n",
    "pyLDAvis.enable_notebook()\n",
    "LDAvis_prepared = pyLDAvis.gensim_models.prepare(lda_model5, corpus, id2word)\n",
    "LDAvis_prepared"
   ]
  },
  {
   "cell_type": "code",
   "execution_count": 49,
   "id": "c6f92b9e",
   "metadata": {},
   "outputs": [
    {
     "name": "stdout",
     "output_type": "stream",
     "text": [
      "[(0,\n",
      "  '0.000*\"sounds_like\" + 0.000*\"take_care\" + 0.000*\"go_home\" + '\n",
      "  '0.000*\"memory_care\" + 0.000*\"good_luck\" + 0.000*\"make_sure\" + '\n",
      "  '0.000*\"years_ago\" + 0.000*\"assisted_living\" + 0.000*\"long_term\" + '\n",
      "  '0.000*\"every_day\"'),\n",
      " (1,\n",
      "  '0.001*\"take_care\" + 0.001*\"years_ago\" + 0.001*\"good_luck\" + '\n",
      "  '0.001*\"make_sure\" + 0.001*\"loved_one\" + 0.001*\"even_though\" + '\n",
      "  '0.000*\"feel_like\" + 0.000*\"sounds_like\" + 0.000*\"long_term\" + '\n",
      "  '0.000*\"would_like\"'),\n",
      " (2,\n",
      "  '0.001*\"memory_care\" + 0.000*\"sounds_like\" + 0.000*\"assisted_living\" + '\n",
      "  '0.000*\"feel_like\" + 0.000*\"even_though\" + 0.000*\"take_care\" + '\n",
      "  '0.000*\"make_sure\" + 0.000*\"nursing_home\" + 0.000*\"long_term\" + '\n",
      "  '0.000*\"care_facility\"'),\n",
      " (3,\n",
      "  '0.001*\"memory_care\" + 0.001*\"sounds_like\" + 0.000*\"care_facility\" + '\n",
      "  '0.000*\"loved_one\" + 0.000*\"good_luck\" + 0.000*\"years_ago\" + '\n",
      "  '0.000*\"even_though\" + 0.000*\"assisted_living\" + 0.000*\"feel_like\" + '\n",
      "  '0.000*\"every_day\"'),\n",
      " (4,\n",
      "  '0.001*\"sounds_like\" + 0.001*\"nursing_home\" + 0.001*\"memory_care\" + '\n",
      "  '0.001*\"years_ago\" + 0.000*\"make_sure\" + 0.000*\"assisted_living\" + '\n",
      "  '0.000*\"go_home\" + 0.000*\"take_care\" + 0.000*\"year_old\" + 0.000*\"long_term\"'),\n",
      " (5,\n",
      "  '0.001*\"take_care\" + 0.001*\"memory_care\" + 0.001*\"years_ago\" + '\n",
      "  '0.001*\"sounds_like\" + 0.001*\"long_term\" + 0.001*\"nursing_home\" + '\n",
      "  '0.001*\"social_worker\" + 0.001*\"health_care\" + 0.000*\"make_sure\" + '\n",
      "  '0.000*\"elder_law\"'),\n",
      " (6,\n",
      "  '0.001*\"memory_care\" + 0.001*\"good_luck\" + 0.001*\"make_sure\" + '\n",
      "  '0.001*\"sounds_like\" + 0.001*\"assisted_living\" + 0.000*\"feel_like\" + '\n",
      "  '0.000*\"nursing_home\" + 0.000*\"taking_care\" + 0.000*\"every_day\" + '\n",
      "  '0.000*\"social_worker\"'),\n",
      " (7,\n",
      "  '0.001*\"take_care\" + 0.001*\"memory_care\" + 0.001*\"make_sure\" + '\n",
      "  '0.001*\"nursing_home\" + 0.001*\"assisted_living\" + 0.001*\"sounds_like\" + '\n",
      "  '0.001*\"years_ago\" + 0.001*\"even_though\" + 0.001*\"feel_like\" + '\n",
      "  '0.001*\"loved_one\"'),\n",
      " (8,\n",
      "  '0.002*\"memory_care\" + 0.001*\"assisted_living\" + 0.001*\"loved_one\" + '\n",
      "  '0.001*\"sounds_like\" + 0.001*\"even_though\" + 0.001*\"every_day\" + '\n",
      "  '0.001*\"years_ago\" + 0.001*\"good_luck\" + 0.001*\"take_care\" + '\n",
      "  '0.001*\"feel_like\"'),\n",
      " (9,\n",
      "  '0.001*\"nursing_home\" + 0.001*\"memory_care\" + 0.001*\"make_sure\" + '\n",
      "  '0.001*\"years_ago\" + 0.001*\"take_care\" + 0.000*\"elder_law\" + '\n",
      "  '0.000*\"assisted_living\" + 0.000*\"us_know\" + 0.000*\"loved_one\" + '\n",
      "  '0.000*\"good_luck\"')]\n"
     ]
    },
    {
     "name": "stderr",
     "output_type": "stream",
     "text": [
      "/opt/anaconda3/lib/python3.8/site-packages/pyLDAvis/_prepare.py:246: FutureWarning: In a future version of pandas all arguments of DataFrame.drop except for the argument 'labels' will be keyword-only\n",
      "  default_term_info = default_term_info.sort_values(\n",
      "/opt/anaconda3/lib/python3.8/site-packages/past/builtins/misc.py:45: DeprecationWarning: the imp module is deprecated in favour of importlib; see the module's documentation for alternative uses\n",
      "  from imp import reload\n",
      "/opt/anaconda3/lib/python3.8/site-packages/scipy/fft/__init__.py:97: DeprecationWarning: The module numpy.dual is deprecated.  Instead of using dual, use the functions directly from numpy or scipy.\n",
      "  from numpy.dual import register_func\n",
      "/opt/anaconda3/lib/python3.8/site-packages/scipy/sparse/sputils.py:17: DeprecationWarning: `np.typeDict` is a deprecated alias for `np.sctypeDict`.\n",
      "  supported_dtypes = [np.typeDict[x] for x in supported_dtypes]\n",
      "/opt/anaconda3/lib/python3.8/site-packages/scipy/sparse/sputils.py:17: DeprecationWarning: `np.typeDict` is a deprecated alias for `np.sctypeDict`.\n",
      "  supported_dtypes = [np.typeDict[x] for x in supported_dtypes]\n",
      "/opt/anaconda3/lib/python3.8/site-packages/scipy/sparse/sputils.py:17: DeprecationWarning: `np.typeDict` is a deprecated alias for `np.sctypeDict`.\n",
      "  supported_dtypes = [np.typeDict[x] for x in supported_dtypes]\n",
      "/opt/anaconda3/lib/python3.8/site-packages/scipy/sparse/sputils.py:17: DeprecationWarning: `np.typeDict` is a deprecated alias for `np.sctypeDict`.\n",
      "  supported_dtypes = [np.typeDict[x] for x in supported_dtypes]\n",
      "/opt/anaconda3/lib/python3.8/site-packages/scipy/sparse/sputils.py:17: DeprecationWarning: `np.typeDict` is a deprecated alias for `np.sctypeDict`.\n",
      "  supported_dtypes = [np.typeDict[x] for x in supported_dtypes]\n",
      "/opt/anaconda3/lib/python3.8/site-packages/scipy/sparse/sputils.py:17: DeprecationWarning: `np.typeDict` is a deprecated alias for `np.sctypeDict`.\n",
      "  supported_dtypes = [np.typeDict[x] for x in supported_dtypes]\n",
      "/opt/anaconda3/lib/python3.8/site-packages/scipy/sparse/sputils.py:17: DeprecationWarning: `np.typeDict` is a deprecated alias for `np.sctypeDict`.\n",
      "  supported_dtypes = [np.typeDict[x] for x in supported_dtypes]\n",
      "/opt/anaconda3/lib/python3.8/site-packages/scipy/sparse/sputils.py:17: DeprecationWarning: `np.typeDict` is a deprecated alias for `np.sctypeDict`.\n",
      "  supported_dtypes = [np.typeDict[x] for x in supported_dtypes]\n",
      "/opt/anaconda3/lib/python3.8/site-packages/scipy/sparse/sputils.py:17: DeprecationWarning: `np.typeDict` is a deprecated alias for `np.sctypeDict`.\n",
      "  supported_dtypes = [np.typeDict[x] for x in supported_dtypes]\n",
      "/opt/anaconda3/lib/python3.8/site-packages/scipy/sparse/sputils.py:17: DeprecationWarning: `np.typeDict` is a deprecated alias for `np.sctypeDict`.\n",
      "  supported_dtypes = [np.typeDict[x] for x in supported_dtypes]\n",
      "/opt/anaconda3/lib/python3.8/site-packages/scipy/sparse/sputils.py:17: DeprecationWarning: `np.typeDict` is a deprecated alias for `np.sctypeDict`.\n",
      "  supported_dtypes = [np.typeDict[x] for x in supported_dtypes]\n",
      "/opt/anaconda3/lib/python3.8/site-packages/scipy/sparse/sputils.py:17: DeprecationWarning: `np.typeDict` is a deprecated alias for `np.sctypeDict`.\n",
      "  supported_dtypes = [np.typeDict[x] for x in supported_dtypes]\n",
      "/opt/anaconda3/lib/python3.8/site-packages/scipy/sparse/sputils.py:17: DeprecationWarning: `np.typeDict` is a deprecated alias for `np.sctypeDict`.\n",
      "  supported_dtypes = [np.typeDict[x] for x in supported_dtypes]\n",
      "/opt/anaconda3/lib/python3.8/site-packages/scipy/sparse/sputils.py:17: DeprecationWarning: `np.typeDict` is a deprecated alias for `np.sctypeDict`.\n",
      "  supported_dtypes = [np.typeDict[x] for x in supported_dtypes]\n",
      "/opt/anaconda3/lib/python3.8/site-packages/scipy/sparse/sputils.py:17: DeprecationWarning: `np.typeDict` is a deprecated alias for `np.sctypeDict`.\n",
      "  supported_dtypes = [np.typeDict[x] for x in supported_dtypes]\n",
      "/opt/anaconda3/lib/python3.8/site-packages/scipy/special/orthogonal.py:81: DeprecationWarning: `np.int` is a deprecated alias for the builtin `int`. To silence this warning, use `int` by itself. Doing this will not modify any behavior and is safe. When replacing `np.int`, you may wish to use e.g. `np.int64` or `np.int32` to specify the precision. If you wish to review your current use, check the release note link for additional information.\n",
      "Deprecated in NumPy 1.20; for more details and guidance: https://numpy.org/devdocs/release/1.20.0-notes.html#deprecations\n",
      "  from numpy import (exp, inf, pi, sqrt, floor, sin, cos, around, int,\n",
      "/opt/anaconda3/lib/python3.8/site-packages/scipy/special/orthogonal.py:81: DeprecationWarning: `np.int` is a deprecated alias for the builtin `int`. To silence this warning, use `int` by itself. Doing this will not modify any behavior and is safe. When replacing `np.int`, you may wish to use e.g. `np.int64` or `np.int32` to specify the precision. If you wish to review your current use, check the release note link for additional information.\n",
      "Deprecated in NumPy 1.20; for more details and guidance: https://numpy.org/devdocs/release/1.20.0-notes.html#deprecations\n",
      "  from numpy import (exp, inf, pi, sqrt, floor, sin, cos, around, int,\n",
      "/opt/anaconda3/lib/python3.8/site-packages/joblib/backports.py:36: DeprecationWarning: distutils Version classes are deprecated. Use packaging.version instead.\n",
      "  if LooseVersion(np.__version__) < '1.13':\n",
      "/opt/anaconda3/lib/python3.8/site-packages/setuptools/_distutils/version.py:351: DeprecationWarning: distutils Version classes are deprecated. Use packaging.version instead.\n",
      "  other = LooseVersion(other)\n",
      "/opt/anaconda3/lib/python3.8/site-packages/joblib/backports.py:36: DeprecationWarning: distutils Version classes are deprecated. Use packaging.version instead.\n",
      "  if LooseVersion(np.__version__) < '1.13':\n",
      "/opt/anaconda3/lib/python3.8/site-packages/setuptools/_distutils/version.py:351: DeprecationWarning: distutils Version classes are deprecated. Use packaging.version instead.\n",
      "  other = LooseVersion(other)\n",
      "/opt/anaconda3/lib/python3.8/site-packages/joblib/backports.py:36: DeprecationWarning: distutils Version classes are deprecated. Use packaging.version instead.\n",
      "  if LooseVersion(np.__version__) < '1.13':\n",
      "/opt/anaconda3/lib/python3.8/site-packages/setuptools/_distutils/version.py:351: DeprecationWarning: distutils Version classes are deprecated. Use packaging.version instead.\n",
      "  other = LooseVersion(other)\n",
      "/opt/anaconda3/lib/python3.8/site-packages/joblib/backports.py:36: DeprecationWarning: distutils Version classes are deprecated. Use packaging.version instead.\n",
      "  if LooseVersion(np.__version__) < '1.13':\n",
      "/opt/anaconda3/lib/python3.8/site-packages/setuptools/_distutils/version.py:351: DeprecationWarning: distutils Version classes are deprecated. Use packaging.version instead.\n",
      "  other = LooseVersion(other)\n",
      "/opt/anaconda3/lib/python3.8/site-packages/joblib/backports.py:36: DeprecationWarning: distutils Version classes are deprecated. Use packaging.version instead.\n",
      "  if LooseVersion(np.__version__) < '1.13':\n",
      "/opt/anaconda3/lib/python3.8/site-packages/setuptools/_distutils/version.py:351: DeprecationWarning: distutils Version classes are deprecated. Use packaging.version instead.\n",
      "  other = LooseVersion(other)\n",
      "/opt/anaconda3/lib/python3.8/site-packages/joblib/backports.py:36: DeprecationWarning: distutils Version classes are deprecated. Use packaging.version instead.\n",
      "  if LooseVersion(np.__version__) < '1.13':\n",
      "/opt/anaconda3/lib/python3.8/site-packages/setuptools/_distutils/version.py:351: DeprecationWarning: distutils Version classes are deprecated. Use packaging.version instead.\n",
      "  other = LooseVersion(other)\n",
      "/opt/anaconda3/lib/python3.8/site-packages/joblib/backports.py:36: DeprecationWarning: distutils Version classes are deprecated. Use packaging.version instead.\n",
      "  if LooseVersion(np.__version__) < '1.13':\n",
      "/opt/anaconda3/lib/python3.8/site-packages/setuptools/_distutils/version.py:351: DeprecationWarning: distutils Version classes are deprecated. Use packaging.version instead.\n",
      "  other = LooseVersion(other)\n",
      "/opt/anaconda3/lib/python3.8/site-packages/joblib/backports.py:36: DeprecationWarning: distutils Version classes are deprecated. Use packaging.version instead.\n",
      "  if LooseVersion(np.__version__) < '1.13':\n",
      "/opt/anaconda3/lib/python3.8/site-packages/setuptools/_distutils/version.py:351: DeprecationWarning: distutils Version classes are deprecated. Use packaging.version instead.\n",
      "  other = LooseVersion(other)\n",
      "/opt/anaconda3/lib/python3.8/site-packages/joblib/backports.py:36: DeprecationWarning: distutils Version classes are deprecated. Use packaging.version instead.\n",
      "  if LooseVersion(np.__version__) < '1.13':\n",
      "/opt/anaconda3/lib/python3.8/site-packages/setuptools/_distutils/version.py:351: DeprecationWarning: distutils Version classes are deprecated. Use packaging.version instead.\n",
      "  other = LooseVersion(other)\n",
      "/opt/anaconda3/lib/python3.8/site-packages/joblib/backports.py:36: DeprecationWarning: distutils Version classes are deprecated. Use packaging.version instead.\n",
      "  if LooseVersion(np.__version__) < '1.13':\n",
      "/opt/anaconda3/lib/python3.8/site-packages/setuptools/_distutils/version.py:351: DeprecationWarning: distutils Version classes are deprecated. Use packaging.version instead.\n",
      "  other = LooseVersion(other)\n",
      "/opt/anaconda3/lib/python3.8/site-packages/joblib/backports.py:36: DeprecationWarning: distutils Version classes are deprecated. Use packaging.version instead.\n",
      "  if LooseVersion(np.__version__) < '1.13':\n",
      "/opt/anaconda3/lib/python3.8/site-packages/setuptools/_distutils/version.py:351: DeprecationWarning: distutils Version classes are deprecated. Use packaging.version instead.\n",
      "  other = LooseVersion(other)\n",
      "/opt/anaconda3/lib/python3.8/site-packages/joblib/backports.py:36: DeprecationWarning: distutils Version classes are deprecated. Use packaging.version instead.\n",
      "  if LooseVersion(np.__version__) < '1.13':\n",
      "/opt/anaconda3/lib/python3.8/site-packages/setuptools/_distutils/version.py:351: DeprecationWarning: distutils Version classes are deprecated. Use packaging.version instead.\n",
      "  other = LooseVersion(other)\n",
      "/opt/anaconda3/lib/python3.8/site-packages/joblib/backports.py:36: DeprecationWarning: distutils Version classes are deprecated. Use packaging.version instead.\n",
      "  if LooseVersion(np.__version__) < '1.13':\n",
      "/opt/anaconda3/lib/python3.8/site-packages/setuptools/_distutils/version.py:351: DeprecationWarning: distutils Version classes are deprecated. Use packaging.version instead.\n",
      "  other = LooseVersion(other)\n",
      "/opt/anaconda3/lib/python3.8/site-packages/joblib/backports.py:36: DeprecationWarning: distutils Version classes are deprecated. Use packaging.version instead.\n",
      "  if LooseVersion(np.__version__) < '1.13':\n",
      "/opt/anaconda3/lib/python3.8/site-packages/setuptools/_distutils/version.py:351: DeprecationWarning: distutils Version classes are deprecated. Use packaging.version instead.\n",
      "  other = LooseVersion(other)\n",
      "/opt/anaconda3/lib/python3.8/site-packages/joblib/backports.py:36: DeprecationWarning: distutils Version classes are deprecated. Use packaging.version instead.\n",
      "  if LooseVersion(np.__version__) < '1.13':\n",
      "/opt/anaconda3/lib/python3.8/site-packages/setuptools/_distutils/version.py:351: DeprecationWarning: distutils Version classes are deprecated. Use packaging.version instead.\n",
      "  other = LooseVersion(other)\n",
      "/opt/anaconda3/lib/python3.8/site-packages/joblib/backports.py:36: DeprecationWarning: distutils Version classes are deprecated. Use packaging.version instead.\n",
      "  if LooseVersion(np.__version__) < '1.13':\n",
      "/opt/anaconda3/lib/python3.8/site-packages/setuptools/_distutils/version.py:351: DeprecationWarning: distutils Version classes are deprecated. Use packaging.version instead.\n",
      "  other = LooseVersion(other)\n",
      "/opt/anaconda3/lib/python3.8/site-packages/joblib/backports.py:36: DeprecationWarning: distutils Version classes are deprecated. Use packaging.version instead.\n",
      "  if LooseVersion(np.__version__) < '1.13':\n",
      "/opt/anaconda3/lib/python3.8/site-packages/setuptools/_distutils/version.py:351: DeprecationWarning: distutils Version classes are deprecated. Use packaging.version instead.\n",
      "  other = LooseVersion(other)\n",
      "/opt/anaconda3/lib/python3.8/site-packages/joblib/backports.py:36: DeprecationWarning: distutils Version classes are deprecated. Use packaging.version instead.\n",
      "  if LooseVersion(np.__version__) < '1.13':\n",
      "/opt/anaconda3/lib/python3.8/site-packages/setuptools/_distutils/version.py:351: DeprecationWarning: distutils Version classes are deprecated. Use packaging.version instead.\n",
      "  other = LooseVersion(other)\n",
      "/opt/anaconda3/lib/python3.8/site-packages/joblib/backports.py:36: DeprecationWarning: distutils Version classes are deprecated. Use packaging.version instead.\n",
      "  if LooseVersion(np.__version__) < '1.13':\n",
      "/opt/anaconda3/lib/python3.8/site-packages/setuptools/_distutils/version.py:351: DeprecationWarning: distutils Version classes are deprecated. Use packaging.version instead.\n",
      "  other = LooseVersion(other)\n",
      "/opt/anaconda3/lib/python3.8/site-packages/joblib/backports.py:36: DeprecationWarning: distutils Version classes are deprecated. Use packaging.version instead.\n",
      "  if LooseVersion(np.__version__) < '1.13':\n",
      "/opt/anaconda3/lib/python3.8/site-packages/setuptools/_distutils/version.py:351: DeprecationWarning: distutils Version classes are deprecated. Use packaging.version instead.\n",
      "  other = LooseVersion(other)\n",
      "/opt/anaconda3/lib/python3.8/site-packages/joblib/backports.py:36: DeprecationWarning: distutils Version classes are deprecated. Use packaging.version instead.\n",
      "  if LooseVersion(np.__version__) < '1.13':\n",
      "/opt/anaconda3/lib/python3.8/site-packages/setuptools/_distutils/version.py:351: DeprecationWarning: distutils Version classes are deprecated. Use packaging.version instead.\n",
      "  other = LooseVersion(other)\n",
      "/opt/anaconda3/lib/python3.8/site-packages/joblib/backports.py:36: DeprecationWarning: distutils Version classes are deprecated. Use packaging.version instead.\n",
      "  if LooseVersion(np.__version__) < '1.13':\n",
      "/opt/anaconda3/lib/python3.8/site-packages/setuptools/_distutils/version.py:351: DeprecationWarning: distutils Version classes are deprecated. Use packaging.version instead.\n",
      "  other = LooseVersion(other)\n",
      "/opt/anaconda3/lib/python3.8/site-packages/joblib/backports.py:36: DeprecationWarning: distutils Version classes are deprecated. Use packaging.version instead.\n",
      "  if LooseVersion(np.__version__) < '1.13':\n",
      "/opt/anaconda3/lib/python3.8/site-packages/setuptools/_distutils/version.py:351: DeprecationWarning: distutils Version classes are deprecated. Use packaging.version instead.\n",
      "  other = LooseVersion(other)\n",
      "/opt/anaconda3/lib/python3.8/site-packages/joblib/backports.py:36: DeprecationWarning: distutils Version classes are deprecated. Use packaging.version instead.\n",
      "  if LooseVersion(np.__version__) < '1.13':\n",
      "/opt/anaconda3/lib/python3.8/site-packages/setuptools/_distutils/version.py:351: DeprecationWarning: distutils Version classes are deprecated. Use packaging.version instead.\n",
      "  other = LooseVersion(other)\n",
      "/opt/anaconda3/lib/python3.8/site-packages/joblib/backports.py:36: DeprecationWarning: distutils Version classes are deprecated. Use packaging.version instead.\n",
      "  if LooseVersion(np.__version__) < '1.13':\n",
      "/opt/anaconda3/lib/python3.8/site-packages/setuptools/_distutils/version.py:351: DeprecationWarning: distutils Version classes are deprecated. Use packaging.version instead.\n",
      "  other = LooseVersion(other)\n",
      "/opt/anaconda3/lib/python3.8/site-packages/joblib/backports.py:36: DeprecationWarning: distutils Version classes are deprecated. Use packaging.version instead.\n",
      "  if LooseVersion(np.__version__) < '1.13':\n",
      "/opt/anaconda3/lib/python3.8/site-packages/setuptools/_distutils/version.py:351: DeprecationWarning: distutils Version classes are deprecated. Use packaging.version instead.\n",
      "  other = LooseVersion(other)\n",
      "/opt/anaconda3/lib/python3.8/site-packages/joblib/backports.py:36: DeprecationWarning: distutils Version classes are deprecated. Use packaging.version instead.\n",
      "  if LooseVersion(np.__version__) < '1.13':\n",
      "/opt/anaconda3/lib/python3.8/site-packages/setuptools/_distutils/version.py:351: DeprecationWarning: distutils Version classes are deprecated. Use packaging.version instead.\n",
      "  other = LooseVersion(other)\n",
      "/opt/anaconda3/lib/python3.8/site-packages/joblib/backports.py:36: DeprecationWarning: distutils Version classes are deprecated. Use packaging.version instead.\n",
      "  if LooseVersion(np.__version__) < '1.13':\n",
      "/opt/anaconda3/lib/python3.8/site-packages/setuptools/_distutils/version.py:351: DeprecationWarning: distutils Version classes are deprecated. Use packaging.version instead.\n",
      "  other = LooseVersion(other)\n"
     ]
    },
    {
     "name": "stderr",
     "output_type": "stream",
     "text": [
      "/opt/anaconda3/lib/python3.8/site-packages/past/builtins/misc.py:45: DeprecationWarning: the imp module is deprecated in favour of importlib; see the module's documentation for alternative uses\n",
      "  from imp import reload\n",
      "/opt/anaconda3/lib/python3.8/site-packages/scipy/fft/__init__.py:97: DeprecationWarning: The module numpy.dual is deprecated.  Instead of using dual, use the functions directly from numpy or scipy.\n",
      "  from numpy.dual import register_func\n",
      "/opt/anaconda3/lib/python3.8/site-packages/scipy/sparse/sputils.py:17: DeprecationWarning: `np.typeDict` is a deprecated alias for `np.sctypeDict`.\n",
      "  supported_dtypes = [np.typeDict[x] for x in supported_dtypes]\n",
      "/opt/anaconda3/lib/python3.8/site-packages/scipy/sparse/sputils.py:17: DeprecationWarning: `np.typeDict` is a deprecated alias for `np.sctypeDict`.\n",
      "  supported_dtypes = [np.typeDict[x] for x in supported_dtypes]\n",
      "/opt/anaconda3/lib/python3.8/site-packages/scipy/sparse/sputils.py:17: DeprecationWarning: `np.typeDict` is a deprecated alias for `np.sctypeDict`.\n",
      "  supported_dtypes = [np.typeDict[x] for x in supported_dtypes]\n",
      "/opt/anaconda3/lib/python3.8/site-packages/scipy/sparse/sputils.py:17: DeprecationWarning: `np.typeDict` is a deprecated alias for `np.sctypeDict`.\n",
      "  supported_dtypes = [np.typeDict[x] for x in supported_dtypes]\n",
      "/opt/anaconda3/lib/python3.8/site-packages/scipy/sparse/sputils.py:17: DeprecationWarning: `np.typeDict` is a deprecated alias for `np.sctypeDict`.\n",
      "  supported_dtypes = [np.typeDict[x] for x in supported_dtypes]\n",
      "/opt/anaconda3/lib/python3.8/site-packages/scipy/sparse/sputils.py:17: DeprecationWarning: `np.typeDict` is a deprecated alias for `np.sctypeDict`.\n",
      "  supported_dtypes = [np.typeDict[x] for x in supported_dtypes]\n",
      "/opt/anaconda3/lib/python3.8/site-packages/scipy/sparse/sputils.py:17: DeprecationWarning: `np.typeDict` is a deprecated alias for `np.sctypeDict`.\n",
      "  supported_dtypes = [np.typeDict[x] for x in supported_dtypes]\n",
      "/opt/anaconda3/lib/python3.8/site-packages/scipy/sparse/sputils.py:17: DeprecationWarning: `np.typeDict` is a deprecated alias for `np.sctypeDict`.\n",
      "  supported_dtypes = [np.typeDict[x] for x in supported_dtypes]\n",
      "/opt/anaconda3/lib/python3.8/site-packages/scipy/sparse/sputils.py:17: DeprecationWarning: `np.typeDict` is a deprecated alias for `np.sctypeDict`.\n",
      "  supported_dtypes = [np.typeDict[x] for x in supported_dtypes]\n",
      "/opt/anaconda3/lib/python3.8/site-packages/scipy/sparse/sputils.py:17: DeprecationWarning: `np.typeDict` is a deprecated alias for `np.sctypeDict`.\n",
      "  supported_dtypes = [np.typeDict[x] for x in supported_dtypes]\n",
      "/opt/anaconda3/lib/python3.8/site-packages/scipy/sparse/sputils.py:17: DeprecationWarning: `np.typeDict` is a deprecated alias for `np.sctypeDict`.\n",
      "  supported_dtypes = [np.typeDict[x] for x in supported_dtypes]\n",
      "/opt/anaconda3/lib/python3.8/site-packages/scipy/sparse/sputils.py:17: DeprecationWarning: `np.typeDict` is a deprecated alias for `np.sctypeDict`.\n",
      "  supported_dtypes = [np.typeDict[x] for x in supported_dtypes]\n",
      "/opt/anaconda3/lib/python3.8/site-packages/scipy/sparse/sputils.py:17: DeprecationWarning: `np.typeDict` is a deprecated alias for `np.sctypeDict`.\n",
      "  supported_dtypes = [np.typeDict[x] for x in supported_dtypes]\n",
      "/opt/anaconda3/lib/python3.8/site-packages/scipy/sparse/sputils.py:17: DeprecationWarning: `np.typeDict` is a deprecated alias for `np.sctypeDict`.\n",
      "  supported_dtypes = [np.typeDict[x] for x in supported_dtypes]\n",
      "/opt/anaconda3/lib/python3.8/site-packages/scipy/sparse/sputils.py:17: DeprecationWarning: `np.typeDict` is a deprecated alias for `np.sctypeDict`.\n",
      "  supported_dtypes = [np.typeDict[x] for x in supported_dtypes]\n",
      "/opt/anaconda3/lib/python3.8/site-packages/scipy/special/orthogonal.py:81: DeprecationWarning: `np.int` is a deprecated alias for the builtin `int`. To silence this warning, use `int` by itself. Doing this will not modify any behavior and is safe. When replacing `np.int`, you may wish to use e.g. `np.int64` or `np.int32` to specify the precision. If you wish to review your current use, check the release note link for additional information.\n",
      "Deprecated in NumPy 1.20; for more details and guidance: https://numpy.org/devdocs/release/1.20.0-notes.html#deprecations\n",
      "  from numpy import (exp, inf, pi, sqrt, floor, sin, cos, around, int,\n",
      "/opt/anaconda3/lib/python3.8/site-packages/scipy/special/orthogonal.py:81: DeprecationWarning: `np.int` is a deprecated alias for the builtin `int`. To silence this warning, use `int` by itself. Doing this will not modify any behavior and is safe. When replacing `np.int`, you may wish to use e.g. `np.int64` or `np.int32` to specify the precision. If you wish to review your current use, check the release note link for additional information.\n",
      "Deprecated in NumPy 1.20; for more details and guidance: https://numpy.org/devdocs/release/1.20.0-notes.html#deprecations\n",
      "  from numpy import (exp, inf, pi, sqrt, floor, sin, cos, around, int,\n",
      "/opt/anaconda3/lib/python3.8/site-packages/joblib/backports.py:36: DeprecationWarning: distutils Version classes are deprecated. Use packaging.version instead.\n",
      "  if LooseVersion(np.__version__) < '1.13':\n",
      "/opt/anaconda3/lib/python3.8/site-packages/setuptools/_distutils/version.py:351: DeprecationWarning: distutils Version classes are deprecated. Use packaging.version instead.\n",
      "  other = LooseVersion(other)\n",
      "/opt/anaconda3/lib/python3.8/site-packages/joblib/backports.py:36: DeprecationWarning: distutils Version classes are deprecated. Use packaging.version instead.\n",
      "  if LooseVersion(np.__version__) < '1.13':\n",
      "/opt/anaconda3/lib/python3.8/site-packages/setuptools/_distutils/version.py:351: DeprecationWarning: distutils Version classes are deprecated. Use packaging.version instead.\n",
      "  other = LooseVersion(other)\n",
      "/opt/anaconda3/lib/python3.8/site-packages/joblib/backports.py:36: DeprecationWarning: distutils Version classes are deprecated. Use packaging.version instead.\n",
      "  if LooseVersion(np.__version__) < '1.13':\n",
      "/opt/anaconda3/lib/python3.8/site-packages/setuptools/_distutils/version.py:351: DeprecationWarning: distutils Version classes are deprecated. Use packaging.version instead.\n",
      "  other = LooseVersion(other)\n",
      "/opt/anaconda3/lib/python3.8/site-packages/joblib/backports.py:36: DeprecationWarning: distutils Version classes are deprecated. Use packaging.version instead.\n",
      "  if LooseVersion(np.__version__) < '1.13':\n",
      "/opt/anaconda3/lib/python3.8/site-packages/setuptools/_distutils/version.py:351: DeprecationWarning: distutils Version classes are deprecated. Use packaging.version instead.\n",
      "  other = LooseVersion(other)\n",
      "/opt/anaconda3/lib/python3.8/site-packages/joblib/backports.py:36: DeprecationWarning: distutils Version classes are deprecated. Use packaging.version instead.\n",
      "  if LooseVersion(np.__version__) < '1.13':\n",
      "/opt/anaconda3/lib/python3.8/site-packages/setuptools/_distutils/version.py:351: DeprecationWarning: distutils Version classes are deprecated. Use packaging.version instead.\n",
      "  other = LooseVersion(other)\n",
      "/opt/anaconda3/lib/python3.8/site-packages/joblib/backports.py:36: DeprecationWarning: distutils Version classes are deprecated. Use packaging.version instead.\n",
      "  if LooseVersion(np.__version__) < '1.13':\n",
      "/opt/anaconda3/lib/python3.8/site-packages/setuptools/_distutils/version.py:351: DeprecationWarning: distutils Version classes are deprecated. Use packaging.version instead.\n",
      "  other = LooseVersion(other)\n",
      "/opt/anaconda3/lib/python3.8/site-packages/joblib/backports.py:36: DeprecationWarning: distutils Version classes are deprecated. Use packaging.version instead.\n",
      "  if LooseVersion(np.__version__) < '1.13':\n",
      "/opt/anaconda3/lib/python3.8/site-packages/setuptools/_distutils/version.py:351: DeprecationWarning: distutils Version classes are deprecated. Use packaging.version instead.\n",
      "  other = LooseVersion(other)\n",
      "/opt/anaconda3/lib/python3.8/site-packages/joblib/backports.py:36: DeprecationWarning: distutils Version classes are deprecated. Use packaging.version instead.\n",
      "  if LooseVersion(np.__version__) < '1.13':\n",
      "/opt/anaconda3/lib/python3.8/site-packages/setuptools/_distutils/version.py:351: DeprecationWarning: distutils Version classes are deprecated. Use packaging.version instead.\n",
      "  other = LooseVersion(other)\n",
      "/opt/anaconda3/lib/python3.8/site-packages/joblib/backports.py:36: DeprecationWarning: distutils Version classes are deprecated. Use packaging.version instead.\n",
      "  if LooseVersion(np.__version__) < '1.13':\n",
      "/opt/anaconda3/lib/python3.8/site-packages/setuptools/_distutils/version.py:351: DeprecationWarning: distutils Version classes are deprecated. Use packaging.version instead.\n",
      "  other = LooseVersion(other)\n",
      "/opt/anaconda3/lib/python3.8/site-packages/joblib/backports.py:36: DeprecationWarning: distutils Version classes are deprecated. Use packaging.version instead.\n",
      "  if LooseVersion(np.__version__) < '1.13':\n",
      "/opt/anaconda3/lib/python3.8/site-packages/setuptools/_distutils/version.py:351: DeprecationWarning: distutils Version classes are deprecated. Use packaging.version instead.\n",
      "  other = LooseVersion(other)\n",
      "/opt/anaconda3/lib/python3.8/site-packages/joblib/backports.py:36: DeprecationWarning: distutils Version classes are deprecated. Use packaging.version instead.\n",
      "  if LooseVersion(np.__version__) < '1.13':\n",
      "/opt/anaconda3/lib/python3.8/site-packages/setuptools/_distutils/version.py:351: DeprecationWarning: distutils Version classes are deprecated. Use packaging.version instead.\n",
      "  other = LooseVersion(other)\n",
      "/opt/anaconda3/lib/python3.8/site-packages/joblib/backports.py:36: DeprecationWarning: distutils Version classes are deprecated. Use packaging.version instead.\n",
      "  if LooseVersion(np.__version__) < '1.13':\n",
      "/opt/anaconda3/lib/python3.8/site-packages/setuptools/_distutils/version.py:351: DeprecationWarning: distutils Version classes are deprecated. Use packaging.version instead.\n",
      "  other = LooseVersion(other)\n",
      "/opt/anaconda3/lib/python3.8/site-packages/joblib/backports.py:36: DeprecationWarning: distutils Version classes are deprecated. Use packaging.version instead.\n",
      "  if LooseVersion(np.__version__) < '1.13':\n",
      "/opt/anaconda3/lib/python3.8/site-packages/setuptools/_distutils/version.py:351: DeprecationWarning: distutils Version classes are deprecated. Use packaging.version instead.\n",
      "  other = LooseVersion(other)\n",
      "/opt/anaconda3/lib/python3.8/site-packages/joblib/backports.py:36: DeprecationWarning: distutils Version classes are deprecated. Use packaging.version instead.\n",
      "  if LooseVersion(np.__version__) < '1.13':\n",
      "/opt/anaconda3/lib/python3.8/site-packages/setuptools/_distutils/version.py:351: DeprecationWarning: distutils Version classes are deprecated. Use packaging.version instead.\n",
      "  other = LooseVersion(other)\n",
      "/opt/anaconda3/lib/python3.8/site-packages/joblib/backports.py:36: DeprecationWarning: distutils Version classes are deprecated. Use packaging.version instead.\n",
      "  if LooseVersion(np.__version__) < '1.13':\n",
      "/opt/anaconda3/lib/python3.8/site-packages/setuptools/_distutils/version.py:351: DeprecationWarning: distutils Version classes are deprecated. Use packaging.version instead.\n",
      "  other = LooseVersion(other)\n",
      "/opt/anaconda3/lib/python3.8/site-packages/joblib/backports.py:36: DeprecationWarning: distutils Version classes are deprecated. Use packaging.version instead.\n",
      "  if LooseVersion(np.__version__) < '1.13':\n",
      "/opt/anaconda3/lib/python3.8/site-packages/setuptools/_distutils/version.py:351: DeprecationWarning: distutils Version classes are deprecated. Use packaging.version instead.\n",
      "  other = LooseVersion(other)\n",
      "/opt/anaconda3/lib/python3.8/site-packages/joblib/backports.py:36: DeprecationWarning: distutils Version classes are deprecated. Use packaging.version instead.\n",
      "  if LooseVersion(np.__version__) < '1.13':\n",
      "/opt/anaconda3/lib/python3.8/site-packages/setuptools/_distutils/version.py:351: DeprecationWarning: distutils Version classes are deprecated. Use packaging.version instead.\n",
      "  other = LooseVersion(other)\n",
      "/opt/anaconda3/lib/python3.8/site-packages/joblib/backports.py:36: DeprecationWarning: distutils Version classes are deprecated. Use packaging.version instead.\n",
      "  if LooseVersion(np.__version__) < '1.13':\n",
      "/opt/anaconda3/lib/python3.8/site-packages/setuptools/_distutils/version.py:351: DeprecationWarning: distutils Version classes are deprecated. Use packaging.version instead.\n",
      "  other = LooseVersion(other)\n",
      "/opt/anaconda3/lib/python3.8/site-packages/joblib/backports.py:36: DeprecationWarning: distutils Version classes are deprecated. Use packaging.version instead.\n",
      "  if LooseVersion(np.__version__) < '1.13':\n",
      "/opt/anaconda3/lib/python3.8/site-packages/setuptools/_distutils/version.py:351: DeprecationWarning: distutils Version classes are deprecated. Use packaging.version instead.\n",
      "  other = LooseVersion(other)\n",
      "/opt/anaconda3/lib/python3.8/site-packages/joblib/backports.py:36: DeprecationWarning: distutils Version classes are deprecated. Use packaging.version instead.\n",
      "  if LooseVersion(np.__version__) < '1.13':\n",
      "/opt/anaconda3/lib/python3.8/site-packages/setuptools/_distutils/version.py:351: DeprecationWarning: distutils Version classes are deprecated. Use packaging.version instead.\n",
      "  other = LooseVersion(other)\n",
      "/opt/anaconda3/lib/python3.8/site-packages/joblib/backports.py:36: DeprecationWarning: distutils Version classes are deprecated. Use packaging.version instead.\n",
      "  if LooseVersion(np.__version__) < '1.13':\n",
      "/opt/anaconda3/lib/python3.8/site-packages/setuptools/_distutils/version.py:351: DeprecationWarning: distutils Version classes are deprecated. Use packaging.version instead.\n",
      "  other = LooseVersion(other)\n",
      "/opt/anaconda3/lib/python3.8/site-packages/joblib/backports.py:36: DeprecationWarning: distutils Version classes are deprecated. Use packaging.version instead.\n",
      "  if LooseVersion(np.__version__) < '1.13':\n",
      "/opt/anaconda3/lib/python3.8/site-packages/setuptools/_distutils/version.py:351: DeprecationWarning: distutils Version classes are deprecated. Use packaging.version instead.\n",
      "  other = LooseVersion(other)\n",
      "/opt/anaconda3/lib/python3.8/site-packages/joblib/backports.py:36: DeprecationWarning: distutils Version classes are deprecated. Use packaging.version instead.\n",
      "  if LooseVersion(np.__version__) < '1.13':\n",
      "/opt/anaconda3/lib/python3.8/site-packages/setuptools/_distutils/version.py:351: DeprecationWarning: distutils Version classes are deprecated. Use packaging.version instead.\n",
      "  other = LooseVersion(other)\n",
      "/opt/anaconda3/lib/python3.8/site-packages/joblib/backports.py:36: DeprecationWarning: distutils Version classes are deprecated. Use packaging.version instead.\n",
      "  if LooseVersion(np.__version__) < '1.13':\n",
      "/opt/anaconda3/lib/python3.8/site-packages/setuptools/_distutils/version.py:351: DeprecationWarning: distutils Version classes are deprecated. Use packaging.version instead.\n",
      "  other = LooseVersion(other)\n",
      "/opt/anaconda3/lib/python3.8/site-packages/joblib/backports.py:36: DeprecationWarning: distutils Version classes are deprecated. Use packaging.version instead.\n",
      "  if LooseVersion(np.__version__) < '1.13':\n",
      "/opt/anaconda3/lib/python3.8/site-packages/setuptools/_distutils/version.py:351: DeprecationWarning: distutils Version classes are deprecated. Use packaging.version instead.\n",
      "  other = LooseVersion(other)\n",
      "/opt/anaconda3/lib/python3.8/site-packages/joblib/backports.py:36: DeprecationWarning: distutils Version classes are deprecated. Use packaging.version instead.\n",
      "  if LooseVersion(np.__version__) < '1.13':\n",
      "/opt/anaconda3/lib/python3.8/site-packages/setuptools/_distutils/version.py:351: DeprecationWarning: distutils Version classes are deprecated. Use packaging.version instead.\n",
      "  other = LooseVersion(other)\n",
      "/opt/anaconda3/lib/python3.8/site-packages/joblib/backports.py:36: DeprecationWarning: distutils Version classes are deprecated. Use packaging.version instead.\n",
      "  if LooseVersion(np.__version__) < '1.13':\n",
      "/opt/anaconda3/lib/python3.8/site-packages/setuptools/_distutils/version.py:351: DeprecationWarning: distutils Version classes are deprecated. Use packaging.version instead.\n",
      "  other = LooseVersion(other)\n",
      "/opt/anaconda3/lib/python3.8/site-packages/joblib/backports.py:36: DeprecationWarning: distutils Version classes are deprecated. Use packaging.version instead.\n",
      "  if LooseVersion(np.__version__) < '1.13':\n",
      "/opt/anaconda3/lib/python3.8/site-packages/setuptools/_distutils/version.py:351: DeprecationWarning: distutils Version classes are deprecated. Use packaging.version instead.\n",
      "  other = LooseVersion(other)\n"
     ]
    },
    {
     "name": "stderr",
     "output_type": "stream",
     "text": [
      "/opt/anaconda3/lib/python3.8/site-packages/past/builtins/misc.py:45: DeprecationWarning: the imp module is deprecated in favour of importlib; see the module's documentation for alternative uses\n",
      "  from imp import reload\n",
      "/opt/anaconda3/lib/python3.8/site-packages/scipy/fft/__init__.py:97: DeprecationWarning: The module numpy.dual is deprecated.  Instead of using dual, use the functions directly from numpy or scipy.\n",
      "  from numpy.dual import register_func\n",
      "/opt/anaconda3/lib/python3.8/site-packages/scipy/sparse/sputils.py:17: DeprecationWarning: `np.typeDict` is a deprecated alias for `np.sctypeDict`.\n",
      "  supported_dtypes = [np.typeDict[x] for x in supported_dtypes]\n",
      "/opt/anaconda3/lib/python3.8/site-packages/scipy/sparse/sputils.py:17: DeprecationWarning: `np.typeDict` is a deprecated alias for `np.sctypeDict`.\n",
      "  supported_dtypes = [np.typeDict[x] for x in supported_dtypes]\n",
      "/opt/anaconda3/lib/python3.8/site-packages/scipy/sparse/sputils.py:17: DeprecationWarning: `np.typeDict` is a deprecated alias for `np.sctypeDict`.\n",
      "  supported_dtypes = [np.typeDict[x] for x in supported_dtypes]\n",
      "/opt/anaconda3/lib/python3.8/site-packages/scipy/sparse/sputils.py:17: DeprecationWarning: `np.typeDict` is a deprecated alias for `np.sctypeDict`.\n",
      "  supported_dtypes = [np.typeDict[x] for x in supported_dtypes]\n",
      "/opt/anaconda3/lib/python3.8/site-packages/scipy/sparse/sputils.py:17: DeprecationWarning: `np.typeDict` is a deprecated alias for `np.sctypeDict`.\n",
      "  supported_dtypes = [np.typeDict[x] for x in supported_dtypes]\n",
      "/opt/anaconda3/lib/python3.8/site-packages/scipy/sparse/sputils.py:17: DeprecationWarning: `np.typeDict` is a deprecated alias for `np.sctypeDict`.\n",
      "  supported_dtypes = [np.typeDict[x] for x in supported_dtypes]\n",
      "/opt/anaconda3/lib/python3.8/site-packages/scipy/sparse/sputils.py:17: DeprecationWarning: `np.typeDict` is a deprecated alias for `np.sctypeDict`.\n",
      "  supported_dtypes = [np.typeDict[x] for x in supported_dtypes]\n",
      "/opt/anaconda3/lib/python3.8/site-packages/scipy/sparse/sputils.py:17: DeprecationWarning: `np.typeDict` is a deprecated alias for `np.sctypeDict`.\n",
      "  supported_dtypes = [np.typeDict[x] for x in supported_dtypes]\n",
      "/opt/anaconda3/lib/python3.8/site-packages/scipy/sparse/sputils.py:17: DeprecationWarning: `np.typeDict` is a deprecated alias for `np.sctypeDict`.\n",
      "  supported_dtypes = [np.typeDict[x] for x in supported_dtypes]\n",
      "/opt/anaconda3/lib/python3.8/site-packages/scipy/sparse/sputils.py:17: DeprecationWarning: `np.typeDict` is a deprecated alias for `np.sctypeDict`.\n",
      "  supported_dtypes = [np.typeDict[x] for x in supported_dtypes]\n",
      "/opt/anaconda3/lib/python3.8/site-packages/scipy/sparse/sputils.py:17: DeprecationWarning: `np.typeDict` is a deprecated alias for `np.sctypeDict`.\n",
      "  supported_dtypes = [np.typeDict[x] for x in supported_dtypes]\n",
      "/opt/anaconda3/lib/python3.8/site-packages/scipy/sparse/sputils.py:17: DeprecationWarning: `np.typeDict` is a deprecated alias for `np.sctypeDict`.\n",
      "  supported_dtypes = [np.typeDict[x] for x in supported_dtypes]\n",
      "/opt/anaconda3/lib/python3.8/site-packages/scipy/sparse/sputils.py:17: DeprecationWarning: `np.typeDict` is a deprecated alias for `np.sctypeDict`.\n",
      "  supported_dtypes = [np.typeDict[x] for x in supported_dtypes]\n",
      "/opt/anaconda3/lib/python3.8/site-packages/scipy/sparse/sputils.py:17: DeprecationWarning: `np.typeDict` is a deprecated alias for `np.sctypeDict`.\n",
      "  supported_dtypes = [np.typeDict[x] for x in supported_dtypes]\n",
      "/opt/anaconda3/lib/python3.8/site-packages/scipy/sparse/sputils.py:17: DeprecationWarning: `np.typeDict` is a deprecated alias for `np.sctypeDict`.\n",
      "  supported_dtypes = [np.typeDict[x] for x in supported_dtypes]\n",
      "/opt/anaconda3/lib/python3.8/site-packages/scipy/special/orthogonal.py:81: DeprecationWarning: `np.int` is a deprecated alias for the builtin `int`. To silence this warning, use `int` by itself. Doing this will not modify any behavior and is safe. When replacing `np.int`, you may wish to use e.g. `np.int64` or `np.int32` to specify the precision. If you wish to review your current use, check the release note link for additional information.\n",
      "Deprecated in NumPy 1.20; for more details and guidance: https://numpy.org/devdocs/release/1.20.0-notes.html#deprecations\n",
      "  from numpy import (exp, inf, pi, sqrt, floor, sin, cos, around, int,\n",
      "/opt/anaconda3/lib/python3.8/site-packages/scipy/special/orthogonal.py:81: DeprecationWarning: `np.int` is a deprecated alias for the builtin `int`. To silence this warning, use `int` by itself. Doing this will not modify any behavior and is safe. When replacing `np.int`, you may wish to use e.g. `np.int64` or `np.int32` to specify the precision. If you wish to review your current use, check the release note link for additional information.\n",
      "Deprecated in NumPy 1.20; for more details and guidance: https://numpy.org/devdocs/release/1.20.0-notes.html#deprecations\n",
      "  from numpy import (exp, inf, pi, sqrt, floor, sin, cos, around, int,\n",
      "/opt/anaconda3/lib/python3.8/site-packages/joblib/backports.py:36: DeprecationWarning: distutils Version classes are deprecated. Use packaging.version instead.\n",
      "  if LooseVersion(np.__version__) < '1.13':\n",
      "/opt/anaconda3/lib/python3.8/site-packages/setuptools/_distutils/version.py:351: DeprecationWarning: distutils Version classes are deprecated. Use packaging.version instead.\n",
      "  other = LooseVersion(other)\n",
      "/opt/anaconda3/lib/python3.8/site-packages/joblib/backports.py:36: DeprecationWarning: distutils Version classes are deprecated. Use packaging.version instead.\n",
      "  if LooseVersion(np.__version__) < '1.13':\n",
      "/opt/anaconda3/lib/python3.8/site-packages/setuptools/_distutils/version.py:351: DeprecationWarning: distutils Version classes are deprecated. Use packaging.version instead.\n",
      "  other = LooseVersion(other)\n",
      "/opt/anaconda3/lib/python3.8/site-packages/joblib/backports.py:36: DeprecationWarning: distutils Version classes are deprecated. Use packaging.version instead.\n",
      "  if LooseVersion(np.__version__) < '1.13':\n",
      "/opt/anaconda3/lib/python3.8/site-packages/setuptools/_distutils/version.py:351: DeprecationWarning: distutils Version classes are deprecated. Use packaging.version instead.\n",
      "  other = LooseVersion(other)\n",
      "/opt/anaconda3/lib/python3.8/site-packages/joblib/backports.py:36: DeprecationWarning: distutils Version classes are deprecated. Use packaging.version instead.\n",
      "  if LooseVersion(np.__version__) < '1.13':\n",
      "/opt/anaconda3/lib/python3.8/site-packages/setuptools/_distutils/version.py:351: DeprecationWarning: distutils Version classes are deprecated. Use packaging.version instead.\n",
      "  other = LooseVersion(other)\n",
      "/opt/anaconda3/lib/python3.8/site-packages/joblib/backports.py:36: DeprecationWarning: distutils Version classes are deprecated. Use packaging.version instead.\n",
      "  if LooseVersion(np.__version__) < '1.13':\n",
      "/opt/anaconda3/lib/python3.8/site-packages/setuptools/_distutils/version.py:351: DeprecationWarning: distutils Version classes are deprecated. Use packaging.version instead.\n",
      "  other = LooseVersion(other)\n",
      "/opt/anaconda3/lib/python3.8/site-packages/joblib/backports.py:36: DeprecationWarning: distutils Version classes are deprecated. Use packaging.version instead.\n",
      "  if LooseVersion(np.__version__) < '1.13':\n",
      "/opt/anaconda3/lib/python3.8/site-packages/setuptools/_distutils/version.py:351: DeprecationWarning: distutils Version classes are deprecated. Use packaging.version instead.\n",
      "  other = LooseVersion(other)\n",
      "/opt/anaconda3/lib/python3.8/site-packages/joblib/backports.py:36: DeprecationWarning: distutils Version classes are deprecated. Use packaging.version instead.\n",
      "  if LooseVersion(np.__version__) < '1.13':\n",
      "/opt/anaconda3/lib/python3.8/site-packages/setuptools/_distutils/version.py:351: DeprecationWarning: distutils Version classes are deprecated. Use packaging.version instead.\n",
      "  other = LooseVersion(other)\n",
      "/opt/anaconda3/lib/python3.8/site-packages/joblib/backports.py:36: DeprecationWarning: distutils Version classes are deprecated. Use packaging.version instead.\n",
      "  if LooseVersion(np.__version__) < '1.13':\n",
      "/opt/anaconda3/lib/python3.8/site-packages/setuptools/_distutils/version.py:351: DeprecationWarning: distutils Version classes are deprecated. Use packaging.version instead.\n",
      "  other = LooseVersion(other)\n",
      "/opt/anaconda3/lib/python3.8/site-packages/joblib/backports.py:36: DeprecationWarning: distutils Version classes are deprecated. Use packaging.version instead.\n",
      "  if LooseVersion(np.__version__) < '1.13':\n",
      "/opt/anaconda3/lib/python3.8/site-packages/setuptools/_distutils/version.py:351: DeprecationWarning: distutils Version classes are deprecated. Use packaging.version instead.\n",
      "  other = LooseVersion(other)\n",
      "/opt/anaconda3/lib/python3.8/site-packages/joblib/backports.py:36: DeprecationWarning: distutils Version classes are deprecated. Use packaging.version instead.\n",
      "  if LooseVersion(np.__version__) < '1.13':\n",
      "/opt/anaconda3/lib/python3.8/site-packages/setuptools/_distutils/version.py:351: DeprecationWarning: distutils Version classes are deprecated. Use packaging.version instead.\n",
      "  other = LooseVersion(other)\n",
      "/opt/anaconda3/lib/python3.8/site-packages/joblib/backports.py:36: DeprecationWarning: distutils Version classes are deprecated. Use packaging.version instead.\n",
      "  if LooseVersion(np.__version__) < '1.13':\n",
      "/opt/anaconda3/lib/python3.8/site-packages/setuptools/_distutils/version.py:351: DeprecationWarning: distutils Version classes are deprecated. Use packaging.version instead.\n",
      "  other = LooseVersion(other)\n",
      "/opt/anaconda3/lib/python3.8/site-packages/joblib/backports.py:36: DeprecationWarning: distutils Version classes are deprecated. Use packaging.version instead.\n",
      "  if LooseVersion(np.__version__) < '1.13':\n",
      "/opt/anaconda3/lib/python3.8/site-packages/setuptools/_distutils/version.py:351: DeprecationWarning: distutils Version classes are deprecated. Use packaging.version instead.\n",
      "  other = LooseVersion(other)\n",
      "/opt/anaconda3/lib/python3.8/site-packages/joblib/backports.py:36: DeprecationWarning: distutils Version classes are deprecated. Use packaging.version instead.\n",
      "  if LooseVersion(np.__version__) < '1.13':\n",
      "/opt/anaconda3/lib/python3.8/site-packages/setuptools/_distutils/version.py:351: DeprecationWarning: distutils Version classes are deprecated. Use packaging.version instead.\n",
      "  other = LooseVersion(other)\n",
      "/opt/anaconda3/lib/python3.8/site-packages/joblib/backports.py:36: DeprecationWarning: distutils Version classes are deprecated. Use packaging.version instead.\n",
      "  if LooseVersion(np.__version__) < '1.13':\n",
      "/opt/anaconda3/lib/python3.8/site-packages/setuptools/_distutils/version.py:351: DeprecationWarning: distutils Version classes are deprecated. Use packaging.version instead.\n",
      "  other = LooseVersion(other)\n",
      "/opt/anaconda3/lib/python3.8/site-packages/joblib/backports.py:36: DeprecationWarning: distutils Version classes are deprecated. Use packaging.version instead.\n",
      "  if LooseVersion(np.__version__) < '1.13':\n",
      "/opt/anaconda3/lib/python3.8/site-packages/setuptools/_distutils/version.py:351: DeprecationWarning: distutils Version classes are deprecated. Use packaging.version instead.\n",
      "  other = LooseVersion(other)\n",
      "/opt/anaconda3/lib/python3.8/site-packages/joblib/backports.py:36: DeprecationWarning: distutils Version classes are deprecated. Use packaging.version instead.\n",
      "  if LooseVersion(np.__version__) < '1.13':\n",
      "/opt/anaconda3/lib/python3.8/site-packages/setuptools/_distutils/version.py:351: DeprecationWarning: distutils Version classes are deprecated. Use packaging.version instead.\n",
      "  other = LooseVersion(other)\n",
      "/opt/anaconda3/lib/python3.8/site-packages/joblib/backports.py:36: DeprecationWarning: distutils Version classes are deprecated. Use packaging.version instead.\n",
      "  if LooseVersion(np.__version__) < '1.13':\n",
      "/opt/anaconda3/lib/python3.8/site-packages/setuptools/_distutils/version.py:351: DeprecationWarning: distutils Version classes are deprecated. Use packaging.version instead.\n",
      "  other = LooseVersion(other)\n",
      "/opt/anaconda3/lib/python3.8/site-packages/joblib/backports.py:36: DeprecationWarning: distutils Version classes are deprecated. Use packaging.version instead.\n",
      "  if LooseVersion(np.__version__) < '1.13':\n",
      "/opt/anaconda3/lib/python3.8/site-packages/setuptools/_distutils/version.py:351: DeprecationWarning: distutils Version classes are deprecated. Use packaging.version instead.\n",
      "  other = LooseVersion(other)\n",
      "/opt/anaconda3/lib/python3.8/site-packages/joblib/backports.py:36: DeprecationWarning: distutils Version classes are deprecated. Use packaging.version instead.\n",
      "  if LooseVersion(np.__version__) < '1.13':\n",
      "/opt/anaconda3/lib/python3.8/site-packages/setuptools/_distutils/version.py:351: DeprecationWarning: distutils Version classes are deprecated. Use packaging.version instead.\n",
      "  other = LooseVersion(other)\n",
      "/opt/anaconda3/lib/python3.8/site-packages/joblib/backports.py:36: DeprecationWarning: distutils Version classes are deprecated. Use packaging.version instead.\n",
      "  if LooseVersion(np.__version__) < '1.13':\n",
      "/opt/anaconda3/lib/python3.8/site-packages/setuptools/_distutils/version.py:351: DeprecationWarning: distutils Version classes are deprecated. Use packaging.version instead.\n",
      "  other = LooseVersion(other)\n",
      "/opt/anaconda3/lib/python3.8/site-packages/joblib/backports.py:36: DeprecationWarning: distutils Version classes are deprecated. Use packaging.version instead.\n",
      "  if LooseVersion(np.__version__) < '1.13':\n",
      "/opt/anaconda3/lib/python3.8/site-packages/setuptools/_distutils/version.py:351: DeprecationWarning: distutils Version classes are deprecated. Use packaging.version instead.\n",
      "  other = LooseVersion(other)\n",
      "/opt/anaconda3/lib/python3.8/site-packages/joblib/backports.py:36: DeprecationWarning: distutils Version classes are deprecated. Use packaging.version instead.\n",
      "  if LooseVersion(np.__version__) < '1.13':\n",
      "/opt/anaconda3/lib/python3.8/site-packages/setuptools/_distutils/version.py:351: DeprecationWarning: distutils Version classes are deprecated. Use packaging.version instead.\n",
      "  other = LooseVersion(other)\n",
      "/opt/anaconda3/lib/python3.8/site-packages/joblib/backports.py:36: DeprecationWarning: distutils Version classes are deprecated. Use packaging.version instead.\n",
      "  if LooseVersion(np.__version__) < '1.13':\n",
      "/opt/anaconda3/lib/python3.8/site-packages/setuptools/_distutils/version.py:351: DeprecationWarning: distutils Version classes are deprecated. Use packaging.version instead.\n",
      "  other = LooseVersion(other)\n",
      "/opt/anaconda3/lib/python3.8/site-packages/joblib/backports.py:36: DeprecationWarning: distutils Version classes are deprecated. Use packaging.version instead.\n",
      "  if LooseVersion(np.__version__) < '1.13':\n",
      "/opt/anaconda3/lib/python3.8/site-packages/setuptools/_distutils/version.py:351: DeprecationWarning: distutils Version classes are deprecated. Use packaging.version instead.\n",
      "  other = LooseVersion(other)\n",
      "/opt/anaconda3/lib/python3.8/site-packages/joblib/backports.py:36: DeprecationWarning: distutils Version classes are deprecated. Use packaging.version instead.\n",
      "  if LooseVersion(np.__version__) < '1.13':\n",
      "/opt/anaconda3/lib/python3.8/site-packages/setuptools/_distutils/version.py:351: DeprecationWarning: distutils Version classes are deprecated. Use packaging.version instead.\n",
      "  other = LooseVersion(other)\n",
      "/opt/anaconda3/lib/python3.8/site-packages/joblib/backports.py:36: DeprecationWarning: distutils Version classes are deprecated. Use packaging.version instead.\n",
      "  if LooseVersion(np.__version__) < '1.13':\n",
      "/opt/anaconda3/lib/python3.8/site-packages/setuptools/_distutils/version.py:351: DeprecationWarning: distutils Version classes are deprecated. Use packaging.version instead.\n",
      "  other = LooseVersion(other)\n",
      "/opt/anaconda3/lib/python3.8/site-packages/joblib/backports.py:36: DeprecationWarning: distutils Version classes are deprecated. Use packaging.version instead.\n",
      "  if LooseVersion(np.__version__) < '1.13':\n",
      "/opt/anaconda3/lib/python3.8/site-packages/setuptools/_distutils/version.py:351: DeprecationWarning: distutils Version classes are deprecated. Use packaging.version instead.\n",
      "  other = LooseVersion(other)\n",
      "/opt/anaconda3/lib/python3.8/site-packages/joblib/backports.py:36: DeprecationWarning: distutils Version classes are deprecated. Use packaging.version instead.\n",
      "  if LooseVersion(np.__version__) < '1.13':\n",
      "/opt/anaconda3/lib/python3.8/site-packages/setuptools/_distutils/version.py:351: DeprecationWarning: distutils Version classes are deprecated. Use packaging.version instead.\n",
      "  other = LooseVersion(other)\n"
     ]
    },
    {
     "name": "stderr",
     "output_type": "stream",
     "text": [
      "/opt/anaconda3/lib/python3.8/site-packages/past/builtins/misc.py:45: DeprecationWarning: the imp module is deprecated in favour of importlib; see the module's documentation for alternative uses\n",
      "  from imp import reload\n",
      "/opt/anaconda3/lib/python3.8/site-packages/scipy/fft/__init__.py:97: DeprecationWarning: The module numpy.dual is deprecated.  Instead of using dual, use the functions directly from numpy or scipy.\n",
      "  from numpy.dual import register_func\n",
      "/opt/anaconda3/lib/python3.8/site-packages/scipy/sparse/sputils.py:17: DeprecationWarning: `np.typeDict` is a deprecated alias for `np.sctypeDict`.\n",
      "  supported_dtypes = [np.typeDict[x] for x in supported_dtypes]\n",
      "/opt/anaconda3/lib/python3.8/site-packages/scipy/sparse/sputils.py:17: DeprecationWarning: `np.typeDict` is a deprecated alias for `np.sctypeDict`.\n",
      "  supported_dtypes = [np.typeDict[x] for x in supported_dtypes]\n",
      "/opt/anaconda3/lib/python3.8/site-packages/scipy/sparse/sputils.py:17: DeprecationWarning: `np.typeDict` is a deprecated alias for `np.sctypeDict`.\n",
      "  supported_dtypes = [np.typeDict[x] for x in supported_dtypes]\n",
      "/opt/anaconda3/lib/python3.8/site-packages/scipy/sparse/sputils.py:17: DeprecationWarning: `np.typeDict` is a deprecated alias for `np.sctypeDict`.\n",
      "  supported_dtypes = [np.typeDict[x] for x in supported_dtypes]\n",
      "/opt/anaconda3/lib/python3.8/site-packages/scipy/sparse/sputils.py:17: DeprecationWarning: `np.typeDict` is a deprecated alias for `np.sctypeDict`.\n",
      "  supported_dtypes = [np.typeDict[x] for x in supported_dtypes]\n",
      "/opt/anaconda3/lib/python3.8/site-packages/scipy/sparse/sputils.py:17: DeprecationWarning: `np.typeDict` is a deprecated alias for `np.sctypeDict`.\n",
      "  supported_dtypes = [np.typeDict[x] for x in supported_dtypes]\n",
      "/opt/anaconda3/lib/python3.8/site-packages/scipy/sparse/sputils.py:17: DeprecationWarning: `np.typeDict` is a deprecated alias for `np.sctypeDict`.\n",
      "  supported_dtypes = [np.typeDict[x] for x in supported_dtypes]\n",
      "/opt/anaconda3/lib/python3.8/site-packages/scipy/sparse/sputils.py:17: DeprecationWarning: `np.typeDict` is a deprecated alias for `np.sctypeDict`.\n",
      "  supported_dtypes = [np.typeDict[x] for x in supported_dtypes]\n",
      "/opt/anaconda3/lib/python3.8/site-packages/scipy/sparse/sputils.py:17: DeprecationWarning: `np.typeDict` is a deprecated alias for `np.sctypeDict`.\n",
      "  supported_dtypes = [np.typeDict[x] for x in supported_dtypes]\n",
      "/opt/anaconda3/lib/python3.8/site-packages/scipy/sparse/sputils.py:17: DeprecationWarning: `np.typeDict` is a deprecated alias for `np.sctypeDict`.\n",
      "  supported_dtypes = [np.typeDict[x] for x in supported_dtypes]\n",
      "/opt/anaconda3/lib/python3.8/site-packages/scipy/sparse/sputils.py:17: DeprecationWarning: `np.typeDict` is a deprecated alias for `np.sctypeDict`.\n",
      "  supported_dtypes = [np.typeDict[x] for x in supported_dtypes]\n",
      "/opt/anaconda3/lib/python3.8/site-packages/scipy/sparse/sputils.py:17: DeprecationWarning: `np.typeDict` is a deprecated alias for `np.sctypeDict`.\n",
      "  supported_dtypes = [np.typeDict[x] for x in supported_dtypes]\n",
      "/opt/anaconda3/lib/python3.8/site-packages/scipy/sparse/sputils.py:17: DeprecationWarning: `np.typeDict` is a deprecated alias for `np.sctypeDict`.\n",
      "  supported_dtypes = [np.typeDict[x] for x in supported_dtypes]\n",
      "/opt/anaconda3/lib/python3.8/site-packages/scipy/sparse/sputils.py:17: DeprecationWarning: `np.typeDict` is a deprecated alias for `np.sctypeDict`.\n",
      "  supported_dtypes = [np.typeDict[x] for x in supported_dtypes]\n",
      "/opt/anaconda3/lib/python3.8/site-packages/scipy/sparse/sputils.py:17: DeprecationWarning: `np.typeDict` is a deprecated alias for `np.sctypeDict`.\n",
      "  supported_dtypes = [np.typeDict[x] for x in supported_dtypes]\n",
      "/opt/anaconda3/lib/python3.8/site-packages/scipy/special/orthogonal.py:81: DeprecationWarning: `np.int` is a deprecated alias for the builtin `int`. To silence this warning, use `int` by itself. Doing this will not modify any behavior and is safe. When replacing `np.int`, you may wish to use e.g. `np.int64` or `np.int32` to specify the precision. If you wish to review your current use, check the release note link for additional information.\n",
      "Deprecated in NumPy 1.20; for more details and guidance: https://numpy.org/devdocs/release/1.20.0-notes.html#deprecations\n",
      "  from numpy import (exp, inf, pi, sqrt, floor, sin, cos, around, int,\n",
      "/opt/anaconda3/lib/python3.8/site-packages/scipy/special/orthogonal.py:81: DeprecationWarning: `np.int` is a deprecated alias for the builtin `int`. To silence this warning, use `int` by itself. Doing this will not modify any behavior and is safe. When replacing `np.int`, you may wish to use e.g. `np.int64` or `np.int32` to specify the precision. If you wish to review your current use, check the release note link for additional information.\n",
      "Deprecated in NumPy 1.20; for more details and guidance: https://numpy.org/devdocs/release/1.20.0-notes.html#deprecations\n",
      "  from numpy import (exp, inf, pi, sqrt, floor, sin, cos, around, int,\n",
      "/opt/anaconda3/lib/python3.8/site-packages/joblib/backports.py:36: DeprecationWarning: distutils Version classes are deprecated. Use packaging.version instead.\n",
      "  if LooseVersion(np.__version__) < '1.13':\n",
      "/opt/anaconda3/lib/python3.8/site-packages/setuptools/_distutils/version.py:351: DeprecationWarning: distutils Version classes are deprecated. Use packaging.version instead.\n",
      "  other = LooseVersion(other)\n",
      "/opt/anaconda3/lib/python3.8/site-packages/joblib/backports.py:36: DeprecationWarning: distutils Version classes are deprecated. Use packaging.version instead.\n",
      "  if LooseVersion(np.__version__) < '1.13':\n",
      "/opt/anaconda3/lib/python3.8/site-packages/setuptools/_distutils/version.py:351: DeprecationWarning: distutils Version classes are deprecated. Use packaging.version instead.\n",
      "  other = LooseVersion(other)\n",
      "/opt/anaconda3/lib/python3.8/site-packages/joblib/backports.py:36: DeprecationWarning: distutils Version classes are deprecated. Use packaging.version instead.\n",
      "  if LooseVersion(np.__version__) < '1.13':\n",
      "/opt/anaconda3/lib/python3.8/site-packages/setuptools/_distutils/version.py:351: DeprecationWarning: distutils Version classes are deprecated. Use packaging.version instead.\n",
      "  other = LooseVersion(other)\n",
      "/opt/anaconda3/lib/python3.8/site-packages/joblib/backports.py:36: DeprecationWarning: distutils Version classes are deprecated. Use packaging.version instead.\n",
      "  if LooseVersion(np.__version__) < '1.13':\n",
      "/opt/anaconda3/lib/python3.8/site-packages/setuptools/_distutils/version.py:351: DeprecationWarning: distutils Version classes are deprecated. Use packaging.version instead.\n",
      "  other = LooseVersion(other)\n",
      "/opt/anaconda3/lib/python3.8/site-packages/joblib/backports.py:36: DeprecationWarning: distutils Version classes are deprecated. Use packaging.version instead.\n",
      "  if LooseVersion(np.__version__) < '1.13':\n",
      "/opt/anaconda3/lib/python3.8/site-packages/setuptools/_distutils/version.py:351: DeprecationWarning: distutils Version classes are deprecated. Use packaging.version instead.\n",
      "  other = LooseVersion(other)\n",
      "/opt/anaconda3/lib/python3.8/site-packages/joblib/backports.py:36: DeprecationWarning: distutils Version classes are deprecated. Use packaging.version instead.\n",
      "  if LooseVersion(np.__version__) < '1.13':\n",
      "/opt/anaconda3/lib/python3.8/site-packages/setuptools/_distutils/version.py:351: DeprecationWarning: distutils Version classes are deprecated. Use packaging.version instead.\n",
      "  other = LooseVersion(other)\n",
      "/opt/anaconda3/lib/python3.8/site-packages/joblib/backports.py:36: DeprecationWarning: distutils Version classes are deprecated. Use packaging.version instead.\n",
      "  if LooseVersion(np.__version__) < '1.13':\n",
      "/opt/anaconda3/lib/python3.8/site-packages/setuptools/_distutils/version.py:351: DeprecationWarning: distutils Version classes are deprecated. Use packaging.version instead.\n",
      "  other = LooseVersion(other)\n",
      "/opt/anaconda3/lib/python3.8/site-packages/joblib/backports.py:36: DeprecationWarning: distutils Version classes are deprecated. Use packaging.version instead.\n",
      "  if LooseVersion(np.__version__) < '1.13':\n",
      "/opt/anaconda3/lib/python3.8/site-packages/setuptools/_distutils/version.py:351: DeprecationWarning: distutils Version classes are deprecated. Use packaging.version instead.\n",
      "  other = LooseVersion(other)\n",
      "/opt/anaconda3/lib/python3.8/site-packages/joblib/backports.py:36: DeprecationWarning: distutils Version classes are deprecated. Use packaging.version instead.\n",
      "  if LooseVersion(np.__version__) < '1.13':\n",
      "/opt/anaconda3/lib/python3.8/site-packages/setuptools/_distutils/version.py:351: DeprecationWarning: distutils Version classes are deprecated. Use packaging.version instead.\n",
      "  other = LooseVersion(other)\n",
      "/opt/anaconda3/lib/python3.8/site-packages/joblib/backports.py:36: DeprecationWarning: distutils Version classes are deprecated. Use packaging.version instead.\n",
      "  if LooseVersion(np.__version__) < '1.13':\n",
      "/opt/anaconda3/lib/python3.8/site-packages/setuptools/_distutils/version.py:351: DeprecationWarning: distutils Version classes are deprecated. Use packaging.version instead.\n",
      "  other = LooseVersion(other)\n",
      "/opt/anaconda3/lib/python3.8/site-packages/joblib/backports.py:36: DeprecationWarning: distutils Version classes are deprecated. Use packaging.version instead.\n",
      "  if LooseVersion(np.__version__) < '1.13':\n",
      "/opt/anaconda3/lib/python3.8/site-packages/setuptools/_distutils/version.py:351: DeprecationWarning: distutils Version classes are deprecated. Use packaging.version instead.\n",
      "  other = LooseVersion(other)\n",
      "/opt/anaconda3/lib/python3.8/site-packages/joblib/backports.py:36: DeprecationWarning: distutils Version classes are deprecated. Use packaging.version instead.\n",
      "  if LooseVersion(np.__version__) < '1.13':\n",
      "/opt/anaconda3/lib/python3.8/site-packages/setuptools/_distutils/version.py:351: DeprecationWarning: distutils Version classes are deprecated. Use packaging.version instead.\n",
      "  other = LooseVersion(other)\n",
      "/opt/anaconda3/lib/python3.8/site-packages/joblib/backports.py:36: DeprecationWarning: distutils Version classes are deprecated. Use packaging.version instead.\n",
      "  if LooseVersion(np.__version__) < '1.13':\n",
      "/opt/anaconda3/lib/python3.8/site-packages/setuptools/_distutils/version.py:351: DeprecationWarning: distutils Version classes are deprecated. Use packaging.version instead.\n",
      "  other = LooseVersion(other)\n",
      "/opt/anaconda3/lib/python3.8/site-packages/joblib/backports.py:36: DeprecationWarning: distutils Version classes are deprecated. Use packaging.version instead.\n",
      "  if LooseVersion(np.__version__) < '1.13':\n",
      "/opt/anaconda3/lib/python3.8/site-packages/setuptools/_distutils/version.py:351: DeprecationWarning: distutils Version classes are deprecated. Use packaging.version instead.\n",
      "  other = LooseVersion(other)\n",
      "/opt/anaconda3/lib/python3.8/site-packages/joblib/backports.py:36: DeprecationWarning: distutils Version classes are deprecated. Use packaging.version instead.\n",
      "  if LooseVersion(np.__version__) < '1.13':\n",
      "/opt/anaconda3/lib/python3.8/site-packages/setuptools/_distutils/version.py:351: DeprecationWarning: distutils Version classes are deprecated. Use packaging.version instead.\n",
      "  other = LooseVersion(other)\n",
      "/opt/anaconda3/lib/python3.8/site-packages/joblib/backports.py:36: DeprecationWarning: distutils Version classes are deprecated. Use packaging.version instead.\n",
      "  if LooseVersion(np.__version__) < '1.13':\n",
      "/opt/anaconda3/lib/python3.8/site-packages/setuptools/_distutils/version.py:351: DeprecationWarning: distutils Version classes are deprecated. Use packaging.version instead.\n",
      "  other = LooseVersion(other)\n",
      "/opt/anaconda3/lib/python3.8/site-packages/joblib/backports.py:36: DeprecationWarning: distutils Version classes are deprecated. Use packaging.version instead.\n",
      "  if LooseVersion(np.__version__) < '1.13':\n",
      "/opt/anaconda3/lib/python3.8/site-packages/setuptools/_distutils/version.py:351: DeprecationWarning: distutils Version classes are deprecated. Use packaging.version instead.\n",
      "  other = LooseVersion(other)\n",
      "/opt/anaconda3/lib/python3.8/site-packages/joblib/backports.py:36: DeprecationWarning: distutils Version classes are deprecated. Use packaging.version instead.\n",
      "  if LooseVersion(np.__version__) < '1.13':\n",
      "/opt/anaconda3/lib/python3.8/site-packages/setuptools/_distutils/version.py:351: DeprecationWarning: distutils Version classes are deprecated. Use packaging.version instead.\n",
      "  other = LooseVersion(other)\n",
      "/opt/anaconda3/lib/python3.8/site-packages/joblib/backports.py:36: DeprecationWarning: distutils Version classes are deprecated. Use packaging.version instead.\n",
      "  if LooseVersion(np.__version__) < '1.13':\n",
      "/opt/anaconda3/lib/python3.8/site-packages/setuptools/_distutils/version.py:351: DeprecationWarning: distutils Version classes are deprecated. Use packaging.version instead.\n",
      "  other = LooseVersion(other)\n",
      "/opt/anaconda3/lib/python3.8/site-packages/joblib/backports.py:36: DeprecationWarning: distutils Version classes are deprecated. Use packaging.version instead.\n",
      "  if LooseVersion(np.__version__) < '1.13':\n",
      "/opt/anaconda3/lib/python3.8/site-packages/setuptools/_distutils/version.py:351: DeprecationWarning: distutils Version classes are deprecated. Use packaging.version instead.\n",
      "  other = LooseVersion(other)\n",
      "/opt/anaconda3/lib/python3.8/site-packages/joblib/backports.py:36: DeprecationWarning: distutils Version classes are deprecated. Use packaging.version instead.\n",
      "  if LooseVersion(np.__version__) < '1.13':\n",
      "/opt/anaconda3/lib/python3.8/site-packages/setuptools/_distutils/version.py:351: DeprecationWarning: distutils Version classes are deprecated. Use packaging.version instead.\n",
      "  other = LooseVersion(other)\n",
      "/opt/anaconda3/lib/python3.8/site-packages/joblib/backports.py:36: DeprecationWarning: distutils Version classes are deprecated. Use packaging.version instead.\n",
      "  if LooseVersion(np.__version__) < '1.13':\n",
      "/opt/anaconda3/lib/python3.8/site-packages/setuptools/_distutils/version.py:351: DeprecationWarning: distutils Version classes are deprecated. Use packaging.version instead.\n",
      "  other = LooseVersion(other)\n",
      "/opt/anaconda3/lib/python3.8/site-packages/joblib/backports.py:36: DeprecationWarning: distutils Version classes are deprecated. Use packaging.version instead.\n",
      "  if LooseVersion(np.__version__) < '1.13':\n",
      "/opt/anaconda3/lib/python3.8/site-packages/setuptools/_distutils/version.py:351: DeprecationWarning: distutils Version classes are deprecated. Use packaging.version instead.\n",
      "  other = LooseVersion(other)\n",
      "/opt/anaconda3/lib/python3.8/site-packages/joblib/backports.py:36: DeprecationWarning: distutils Version classes are deprecated. Use packaging.version instead.\n",
      "  if LooseVersion(np.__version__) < '1.13':\n",
      "/opt/anaconda3/lib/python3.8/site-packages/setuptools/_distutils/version.py:351: DeprecationWarning: distutils Version classes are deprecated. Use packaging.version instead.\n",
      "  other = LooseVersion(other)\n",
      "/opt/anaconda3/lib/python3.8/site-packages/joblib/backports.py:36: DeprecationWarning: distutils Version classes are deprecated. Use packaging.version instead.\n",
      "  if LooseVersion(np.__version__) < '1.13':\n",
      "/opt/anaconda3/lib/python3.8/site-packages/setuptools/_distutils/version.py:351: DeprecationWarning: distutils Version classes are deprecated. Use packaging.version instead.\n",
      "  other = LooseVersion(other)\n",
      "/opt/anaconda3/lib/python3.8/site-packages/joblib/backports.py:36: DeprecationWarning: distutils Version classes are deprecated. Use packaging.version instead.\n",
      "  if LooseVersion(np.__version__) < '1.13':\n",
      "/opt/anaconda3/lib/python3.8/site-packages/setuptools/_distutils/version.py:351: DeprecationWarning: distutils Version classes are deprecated. Use packaging.version instead.\n",
      "  other = LooseVersion(other)\n",
      "/opt/anaconda3/lib/python3.8/site-packages/joblib/backports.py:36: DeprecationWarning: distutils Version classes are deprecated. Use packaging.version instead.\n",
      "  if LooseVersion(np.__version__) < '1.13':\n",
      "/opt/anaconda3/lib/python3.8/site-packages/setuptools/_distutils/version.py:351: DeprecationWarning: distutils Version classes are deprecated. Use packaging.version instead.\n",
      "  other = LooseVersion(other)\n",
      "/opt/anaconda3/lib/python3.8/site-packages/joblib/backports.py:36: DeprecationWarning: distutils Version classes are deprecated. Use packaging.version instead.\n",
      "  if LooseVersion(np.__version__) < '1.13':\n",
      "/opt/anaconda3/lib/python3.8/site-packages/setuptools/_distutils/version.py:351: DeprecationWarning: distutils Version classes are deprecated. Use packaging.version instead.\n",
      "  other = LooseVersion(other)\n"
     ]
    },
    {
     "data": {
      "text/html": [
       "\n",
       "<link rel=\"stylesheet\" type=\"text/css\" href=\"https://cdn.jsdelivr.net/gh/bmabey/pyLDAvis@3.3.1/pyLDAvis/js/ldavis.v1.0.0.css\">\n",
       "\n",
       "\n",
       "<div id=\"ldavis_el192111405193155477449546446445\"></div>\n",
       "<script type=\"text/javascript\">\n",
       "\n",
       "var ldavis_el192111405193155477449546446445_data = {\"mdsDat\": {\"x\": [-0.061570625039627014, -0.04665702477484453, -0.011598970609705049, 6.251558383501662e-05, 0.010620116231150391, 0.015136760415113353, 0.016041143770782258, 0.026281015756633642, 0.02623594578028023, 0.025449122886381462], \"y\": [-0.051138189621275434, 0.06414329210266122, 0.000545920563034895, -0.006521202528233242, -0.0028794340008017573, 0.0012665984655838385, -0.00039863382687831014, -0.0032830776303507062, -0.0011301951155058127, -0.0006050784082347684], \"topics\": [1, 2, 3, 4, 5, 6, 7, 8, 9, 10], \"cluster\": [1, 1, 1, 1, 1, 1, 1, 1, 1, 1], \"Freq\": [18.780121324113075, 17.353409480290093, 11.561359159960514, 10.758349253172195, 8.79180108357254, 8.452967769316233, 6.873645901647482, 6.059113192112749, 5.6920969000237385, 5.6771359357914]}, \"tinfo\": {\"Term\": [\"take_care\", \"nursing_home\", \"wishes_greg\", \"away_thought\", \"years_ago\", \"make_sure\", \"hearing_aid\", \"memory_care\", \"health_care\", \"sounds_like\", \"social_worker\", \"luck_greg\", \"eye_see\", \"younger_brother\", \"missher_wrote\", \"elder_law\", \"welcome_world\", \"glad_found\", \"hearing_aids\", \"let_us\", \"us_know\", \"skilled_nursing\", \"go_home\", \"early_onset\", \"long_term\", \"international_version\", \"world_may\", \"https_youtube\", \"new_international\", \"good_luck\", \"mc_nh\", \"road_map\", \"gets_care\", \"name_amen\", \"hearing_test\", \"mental_test\", \"heart_smile\", \"sometimes_possible\", \"used_living\", \"like_although\", \"mostly_continent\", \"vacation_time\", \"got_easier\", \"like_needed\", \"feel_something\", \"three_working\", \"recently_placed\", \"grief_frustration\", \"highest_level\", \"st_peter\", \"said_post\", \"wife_stage\", \"weeks_told\", \"ran_much\", \"kind_work\", \"passed_good\", \"facilities_specialize\", \"every_visit\", \"dressed_day\", \"one_predict\", \"nose_dive\", \"run_problems\", \"person_first\", \"knew_know\", \"san_diego\", \"walk_unassisted\", \"someone_wants\", \"job_keep\", \"job_help\", \"approved_medicaid\", \"vent_people\", \"transport_chair\", \"still_miss\", \"things_things\", \"find_different\", \"hearing_loss\", \"appointment_elder\", \"want_good\", \"memory_care\", \"taking_home\", \"assisted_living\", \"loved_one\", \"people_talking\", \"every_day\", \"good_advice\", \"even_though\", \"skilled_nursing\", \"take_dad\", \"care_needs\", \"right_front\", \"visit_mom\", \"family_members\", \"want_go\", \"loved_ones\", \"sounds_like\", \"geri_psych\", \"living_facility\", \"would_make\", \"would_like\", \"good_luck\", \"last_week\", \"care_facility\", \"feel_like\", \"one_day\", \"years_ago\", \"mom_memory\", \"health_care\", \"go_home\", \"long_time\", \"level_care\", \"elder_law\", \"take_care\", \"nursing_home\", \"long_term\", \"year_old\", \"full_time\", \"taking_care\", \"make_sure\", \"posts_get\", \"expenses_paid\", \"easter_bunny\", \"mom_side\", \"experience_area\", \"library_ask\", \"may_point\", \"information_forum\", \"great_post\", \"refuse_accept\", \"day_prior\", \"advice_vent\", \"stop_get\", \"much_caregiving\", \"say_received\", \"thisi_would\", \"brother_seen\", \"good_listener\", \"visit_wife\", \"board_may\", \"title_easy\", \"help_pack\", \"neurologist_psychiatrist\", \"ask_uti\", \"care_trying\", \"santa_claus\", \"care_easy\", \"see_car\", \"support_try\", \"follow_lead\", \"person_hard\", \"long_life\", \"make_appt\", \"everyone_going\", \"husband_stayed\", \"friends_staff\", \"validation_title\", \"important_take\", \"feil_word\", \"word_validation\", \"great_sense\", \"first_take\", \"get_copy\", \"person_mother\", \"dpoa_medical\", \"older_brother\", \"make_happy\", \"days_feel\", \"take_care\", \"make_list\", \"make_sure\", \"brother_take\", \"going_say\", \"nursing_home\", \"memory_care\", \"looks_like\", \"memory_loss\", \"couple_weeks\", \"sorry_hear\", \"assisted_living\", \"let_go\", \"things_like\", \"would_say\", \"full_time\", \"quality_life\", \"power_attorney\", \"come_back\", \"feel_like\", \"sounds_like\", \"ice_cream\", \"even_though\", \"years_ago\", \"mom_would\", \"loved_one\", \"go_home\", \"make_decisions\", \"glad_found\", \"someone_else\", \"good_luck\", \"year_old\", \"one_day\", \"elder_law\", \"go_back\", \"every_day\", \"short_term\", \"long_term\", \"one_thing\", \"care_facility\", \"loved_ones\", \"cocktail_hour\", \"finding_someone\", \"resist_become\", \"question_mom\", \"stage_non\", \"personally_feel\", \"enjoy_vacation\", \"mind_pretty\", \"anosognosia_characteristic\", \"protective_underwear\", \"dementia_knows\", \"excellent_article\", \"thanks_responding\", \"know_alz\", \"go_hour\", \"term_mom\", \"patients_tend\", \"would_argue\", \"mother_adjust\", \"much_eating\", \"see_tried\", \"fine_sees\", \"adjust_time\", \"mom_worry\", \"wwwnelforg_find\", \"snf_mc\", \"room_memory\", \"knowledgeable_willing\", \"family_problem\", \"tried_seroquel\", \"take_personal\", \"really_cause\", \"every_pwd\", \"learning_let\", \"dementia_training\", \"mom_none\", \"caregiving_daughter\", \"things_thought\", \"hugs_prayers\", \"go_vacation\", \"yes_want\", \"drive_work\", \"dad_handle\", \"younger_brother\", \"day_feel\", \"mom_continue\", \"also_happy\", \"second_facility\", \"work_arounds\", \"people_use\", \"think_ok\", \"get_mom\", \"memory_care\", \"right_thing\", \"good_luck\", \"level_care\", \"make_sure\", \"skilled_nursing\", \"social_worker\", \"taking_care\", \"psych_unit\", \"home_care\", \"sounds_like\", \"assisted_living\", \"feel_like\", \"every_day\", \"try_best\", \"nursing_home\", \"care_facility\", \"care_mom\", \"us_know\", \"even_though\", \"let_go\", \"need_help\", \"geri_psych\", \"years_ago\", \"family_members\", \"would_get\", \"loved_one\", \"long_term\", \"seems_like\", \"take_care\", \"things_like\", \"let_know\", \"last_year\", \"go_home\", \"take_places\", \"old_brain\", \"based_person\", \"time_nothing\", \"free_could\", \"helpful_article\", \"seemed_bit\", \"need_bit\", \"open_arms\", \"live_mil\", \"never_happens\", \"opinion_whether\", \"depends_upon\", \"person_poa\", \"next_doctor\", \"found_help\", \"advice_especially\", \"mother_certainly\", \"week_fell\", \"wife_taking\", \"even_nice\", \"baking_soda\", \"hospice_see\", \"today_sister\", \"different_reactions\", \"yes_sad\", \"good_riddance\", \"getting_stuff\", \"placement_close\", \"ill_people\", \"difference_world\", \"great_getting\", \"control_disease\", \"posted_help\", \"easier_say\", \"move_soon\", \"rock_solid\", \"take_high\", \"veteran_benefits\", \"helpful_hear\", \"ok_good\", \"dad_making\", \"want_facility\", \"cover_skilled\", \"facility_asked\", \"unlikely_would\", \"eldercare_attorney\", \"lo_take\", \"still_help\", \"decided_would\", \"repeat_repeat\", \"understand_like\", \"cannot_walk\", \"health_care\", \"welcome_world\", \"course_mom\", \"know_look\", \"social_worker\", \"take_care\", \"years_ago\", \"long_term\", \"law_attorney\", \"elder_law\", \"power_attorney\", \"family_members\", \"taking_care\", \"sounds_like\", \"memory_care\", \"nursing_home\", \"last_time\", \"passed_away\", \"private_pay\", \"full_time\", \"geriatric_psychiatrist\", \"get_involved\", \"one_day\", \"loved_ones\", \"make_sure\", \"home_health\", \"home_care\", \"year_old\", \"would_able\", \"go_home\", \"feel_like\", \"short_term\", \"assisted_living\", \"good_luck\", \"loved_one\", \"quality_life\", \"even_though\", \"let_go\", \"https_youtube\", \"trust_one\", \"site_helpful\", \"financial_stress\", \"said_stop\", \"table_one\", \"eyes_see\", \"fall_alert\", \"may_dad\", \"away_thought\", \"translation_gnt\", \"look_solutions\", \"retirement_funds\", \"use_medication\", \"involved_one\", \"die_know\", \"resident_staff\", \"really_push\", \"sure_mean\", \"dad_moderate\", \"best_speak\", \"way_easier\", \"things_currently\", \"magically_appear\", \"longer_meet\", \"northern_ca\", \"living_good\", \"trust_assets\", \"mean_like\", \"age_old\", \"home_boyfriend\", \"list_current\", \"maybe_look\", \"lord_good\", \"tell_love\", \"give_give\", \"like_nobody\", \"walk_wheelchair\", \"luck_greg\", \"mom_involved\", \"version_niv\", \"news_translation\", \"foster_home\", \"missher_wrote\", \"thanks_suggestion\", \"see_doc\", \"made_comment\", \"fortunate_enough\", \"wife_want\", \"charge_nurse\", \"wear_hearing\", \"god_love\", \"trust_lord\", \"dad_tried\", \"clinical_stages\", \"thing_another\", \"understand_alzheimers\", \"wwwalzinfoorg_understand\", \"bible_amp\", \"holy_spirit\", \"lord_jesus\", \"memory_care\", \"sounds_like\", \"alzheimers_clinical\", \"care_facility\", \"international_version\", \"new_international\", \"hearing_aids\", \"two_years\", \"one_another\", \"loved_one\", \"every_day\", \"good_luck\", \"feel_like\", \"even_though\", \"loved_ones\", \"dementia_specialist\", \"one_day\", \"years_ago\", \"last_night\", \"assisted_living\", \"many_people\", \"make_sure\", \"family_member\", \"one_person\", \"taking_care\", \"short_term\", \"take_care\", \"one_thing\", \"full_time\", \"long_term\", \"go_home\", \"would_like\", \"geriatric_psychiatrist\", \"family_members\", \"nursing_home\", \"peaceful_passing\", \"morning_find\", \"mom_dearly\", \"sippy_cup\", \"god_please\", \"read_reply\", \"experience_much\", \"cares_us\", \"come_site\", \"let_attorney\", \"suffered_stroke\", \"thing_asked\", \"made_people\", \"additional_services\", \"work_father\", \"really_big\", \"used_toilet\", \"caring_great\", \"keeps_track\", \"needs_mil\", \"life_alert\", \"give_dh\", \"us_year\", \"definitely_come\", \"use_work\", \"level_supervision\", \"ago_recently\", \"anything_days\", \"mother_big\", \"board_helped\", \"staff_must\", \"two_daughters\", \"life_outside\", \"far_behind\", \"type_home\", \"home_unfortunately\", \"wishes_greg\", \"provide_support\", \"thick_skin\", \"believes_fine\", \"anyone_even\", \"working_day\", \"loved_loved\", \"pretty_healthy\", \"great_work\", \"room_checks\", \"medi_cal\", \"mom_anosognosia\", \"truly_believes\", \"right_hand\", \"read_thread\", \"precious_memories\", \"take_care\", \"see_clearly\", \"years_ago\", \"luck_best\", \"best_right\", \"good_luck\", \"may_able\", \"loved_one\", \"even_though\", \"make_sure\", \"would_also\", \"feel_like\", \"would_like\", \"may_need\", \"year_old\", \"seems_like\", \"glad_found\", \"long_term\", \"sounds_like\", \"geriatric_psychiatrist\", \"go_back\", \"loved_ones\", \"every_day\", \"one_day\", \"support_group\", \"go_home\", \"months_ago\", \"home_health\", \"someone_else\", \"nursing_home\", \"memory_care\", \"things_like\", \"full_time\", \"world_may\", \"dentist_appointment\", \"good_conversations\", \"visit_friend\", \"thoughtful_response\", \"evaluate_mom\", \"days_family\", \"start_right\", \"time_choices\", \"awake_would\", \"appointment_tell\", \"work_use\", \"sense_however\", \"get_might\", \"fact_might\", \"stigma_attached\", \"thanks_laugh\", \"post_thanks\", \"home_along\", \"friends_even\", \"everything_disease\", \"need_sort\", \"two_major\", \"fall_result\", \"someone_deleting\", \"validate_saying\", \"another_mom\", \"person_believe\", \"aware_need\", \"year_worth\", \"strongly_suggest\", \"bills_food\", \"erase_board\", \"distance_hard\", \"health_aid\", \"ago_husband\", \"big_fan\", \"thyroid_problems\", \"solo_full\", \"due_fact\", \"psychiatrist_neurologist\", \"sad_thing\", \"jjaz_wrote\", \"thanks_update\", \"thank_mom\", \"everyone_responded\", \"posted_anything\", \"would_strongly\", \"another_level\", \"nursing_home\", \"us_know\", \"let_us\", \"elder_law\", \"thank_much\", \"make_sure\", \"memory_care\", \"years_ago\", \"physical_therapy\", \"take_care\", \"let_go\", \"law_attorney\", \"assisted_living\", \"loved_one\", \"good_luck\", \"home_care\", \"first_time\", \"saw_mom\", \"geriatric_psychiatrist\", \"long_term\", \"care_facility\", \"loved_ones\", \"many_people\", \"things_going\", \"would_say\", \"months_ago\", \"sounds_like\", \"able_get\", \"certified_elder\", \"even_though\", \"full_time\", \"every_day\", \"feel_like\", \"would_like\", \"year_old\", \"point_contact\", \"mom_yesterday\", \"give_needy\", \"amazing_daughter\", \"given_mother\", \"hear_better\", \"supply_store\", \"love_brother\", \"way_end\", \"alz_could\", \"takes_several\", \"reality_would\", \"weeks_changed\", \"become_interested\", \"thing_absolutely\", \"one_grown\", \"times_loved\", \"count_blessings\", \"see_went\", \"fast_mom\", \"thank_valuable\", \"bring_every\", \"kind_relationship\", \"husband_willing\", \"shopping_mom\", \"morning_still\", \"care_god\", \"great_thread\", \"home_tonight\", \"wrote_always\", \"according_staff\", \"love_live\", \"still_well\", \"experience_first\", \"time_stage\", \"mean_well\", \"week_good\", \"others_posted\", \"pcp_would\", \"home_recently\", \"line_ask\", \"glad_read\", \"worse_better\", \"essential_oils\", \"set_schedule\", \"thought_process\", \"love_god\", \"would_wait\", \"help_line\", \"go_home\", \"welcome_world\", \"thanks_replies\", \"sounds_like\", \"take_care\", \"good_luck\", \"glad_found\", \"long_term\", \"make_sure\", \"able_get\", \"one_day\", \"years_ago\", \"could_get\", \"memory_care\", \"assisted_living\", \"every_day\", \"mom_would\", \"feel_like\", \"year_old\", \"term_memory\", \"short_term\", \"would_want\", \"passed_away\", \"even_though\", \"many_times\", \"first_time\", \"need_help\", \"family_members\", \"loved_ones\", \"would_say\", \"nursing_home\", \"let_go\", \"everything_except\", \"eye_see\", \"says_word\", \"brother_let\", \"call_morning\", \"happy_moments\", \"thoughts_family\", \"anyone_says\", \"one_wonderful\", \"along_fine\", \"ability_things\", \"bother_others\", \"dad_happens\", \"told_worry\", \"money_living\", \"chair_sits\", \"agitated_state\", \"one_credit\", \"call_watch\", \"pretty_sharp\", \"door_hands\", \"sheriff_office\", \"tells_wants\", \"ask_visit\", \"best_truly\", \"sure_new\", \"behaviors_toward\", \"far_disease\", \"right_far\", \"really_main\", \"let_sink\", \"since_probably\", \"still_long\", \"seemed_think\", \"close_eyes\", \"see_level\", \"times_said\", \"god_faithful\", \"anti_inflammatory\", \"whether_getting\", \"regarding_mother\", \"cover_bills\", \"far_beyond\", \"think_really\", \"several_us\", \"hearing_aid\", \"first_let\", \"living_hell\", \"memory_care\", \"sounds_like\", \"comforting_know\", \"assisted_living\", \"feel_like\", \"much_better\", \"even_though\", \"long_term\", \"care_facility\", \"taking_care\", \"someone_else\", \"make_sure\", \"every_day\", \"take_care\", \"nursing_home\", \"go_home\", \"social_worker\", \"let_us\", \"us_know\", \"level_care\", \"loved_ones\", \"good_luck\", \"every_time\", \"years_ago\", \"loved_one\", \"let_go\", \"go_back\", \"let_know\", \"family_members\", \"already_mom\", \"safe_facility\", \"psych_staff\", \"guess_want\", \"major_problems\", \"ghost_dog\", \"good_may\", \"laws_bought\", \"days_er\", \"happens_care\", \"store_knows\", \"al_sounds\", \"annual_physical\", \"situation_nothing\", \"response_exactly\", \"blunti_think\", \"reach_outi\", \"many_nursing\", \"dpoa_place\", \"yeah_really\", \"one_sometimes\", \"morning_take\", \"come_true\", \"give_want\", \"parents_kids\", \"care_baby\", \"drive_think\", \"many_blessings\", \"yoga_meditation\", \"rooms_locked\", \"go_hope\", \"prescription_coverage\", \"ad_would\", \"work_limit\", \"waste_energy\", \"make_dad\", \"definitely_put\", \"whether_go\", \"said_needs\", \"home_seems\", \"family_hard\", \"anyone_think\", \"like_thought\", \"husband_first\", \"like_thank\", \"mpsunshine_wrote\", \"working_time\", \"thanks_jo\", \"sisters_live\", \"yesterday_said\", \"thing_might\", \"early_onset\", \"never_put\", \"nursing_home\", \"sounds_like\", \"years_ago\", \"good_points\", \"younger_sister\", \"go_home\", \"make_sure\", \"memory_care\", \"year_old\", \"assisted_living\", \"one_thing\", \"married_years\", \"long_term\", \"take_care\", \"every_day\", \"full_time\", \"loved_one\", \"power_attorney\", \"one_day\", \"feel_better\", \"feel_like\", \"even_though\", \"person_dementia\", \"get_back\", \"mom_would\", \"would_say\", \"term_care\", \"family_members\", \"every_time\", \"months_ago\", \"last_year\", \"short_term\", \"pretty_much\", \"loved_ones\"], \"Freq\": [1877.0, 1332.0, 79.0, 54.0, 1480.0, 1515.0, 151.0, 2595.0, 477.0, 1663.0, 648.0, 51.0, 32.0, 99.0, 44.0, 756.0, 54.0, 363.0, 318.0, 503.0, 603.0, 470.0, 925.0, 231.0, 927.0, 56.0, 27.0, 31.0, 58.0, 1258.0, 34.528714227252024, 23.681744798188625, 26.136161518388185, 21.785039765831716, 29.48530401105961, 19.548537820811593, 18.04549192866391, 17.454780269772055, 18.262377021655738, 17.13380594749837, 26.752903542982843, 24.078165277412282, 15.199378732042291, 16.13985641792506, 32.92310482621178, 17.093583875122846, 24.094387696434136, 16.695383388778346, 15.908938995155637, 16.21253228210245, 16.944031043442614, 13.496872655644603, 13.406261518510663, 13.293151377889519, 13.276655869243992, 13.49221311990171, 15.385174585974793, 34.52287279543292, 19.92710629702952, 15.542988154927109, 24.392771686887453, 22.86266395609773, 19.950480978064103, 19.52652590176792, 27.853417120591537, 18.401188925055465, 30.401905605451226, 36.912587868466275, 22.168172867956116, 20.899196121447762, 21.58756462976426, 37.24814249051653, 23.870592092899717, 24.65723884145669, 22.707452349264717, 64.4466656230229, 30.950459389454846, 27.631351383132305, 781.0392748569014, 43.91695886702578, 485.7420961083803, 402.5524855653548, 35.66320910780351, 327.99246415228447, 134.3320301864313, 369.06388286321044, 185.31735077078542, 51.99609959775207, 189.60067108510307, 53.68758270248743, 82.47235004790043, 254.24484228697114, 166.54192161620324, 239.38488440974962, 400.51320626042224, 138.84558385639548, 108.7724387613079, 151.6870781256388, 202.30274459539226, 316.32581756083715, 158.67486318259543, 229.35965508894859, 288.69609576168875, 224.48382520110195, 326.2836573162744, 78.7466053243015, 156.41242757246056, 229.54351514036838, 164.7971278354241, 156.01479475438296, 196.7379194361584, 313.6229286796331, 252.89845492897402, 200.47493156901723, 180.42898562152436, 175.77012320124456, 168.20514307870403, 195.35998619743614, 26.55006146824552, 22.64500978173743, 22.02947602661236, 21.45487813133272, 21.20318522404028, 30.775254777772872, 18.23005272497159, 17.805055466450295, 17.046826177567606, 16.66110510520141, 24.560930140068866, 16.381550198310066, 16.03490012811333, 15.899056746650455, 29.042985669559226, 15.471718074099442, 19.241363222468937, 14.224134907714578, 14.230477409464347, 14.478994929108001, 20.981561698901967, 21.908506829399077, 13.74202783073761, 13.522190564571089, 34.97023143599511, 12.994903297723088, 12.82462541028248, 14.34165899962053, 14.676544084834006, 13.878622450341465, 17.914868611799, 21.38796829549823, 28.23804889388011, 28.117897123190275, 22.13696926915565, 21.446432493730107, 32.79231594864046, 25.546825953408977, 23.467564250119327, 30.43400733429489, 27.85005259586666, 51.90817606969721, 37.68794958596723, 37.165700082379644, 22.887828481650793, 97.26174309917731, 74.02650338093142, 29.578737603169795, 591.993234730373, 41.66022881254565, 487.418079117878, 32.11441784484673, 44.74997531326139, 358.8801609435898, 561.1921267704091, 117.51757896911589, 138.2932517761012, 130.7711803870606, 92.02569930141074, 349.30863247988384, 193.75354322048508, 176.451238160148, 152.7348419955683, 211.40168257920502, 181.21301572219542, 148.7563245139425, 116.45681747636891, 259.77703718770425, 319.4053566903895, 122.7696933061451, 260.3615865062876, 292.46962379106463, 151.3235997799894, 256.32970795071805, 203.70331181462902, 117.2340014632802, 115.96609680876882, 150.29871239053878, 219.86258322281438, 165.1853532937047, 163.3020422967045, 157.56012069175324, 141.78122067992132, 163.58285312815315, 136.18560187557202, 148.46873599212938, 130.20497848809674, 135.98703672817518, 131.54983375606264, 18.612512089911863, 16.573179765274446, 15.883764627885887, 21.05832756677495, 14.626998359799572, 17.200359060083958, 13.728740266127698, 20.264532291877757, 28.67564457084959, 12.121475984681599, 10.649468332736799, 10.542399400456311, 10.378442449884705, 11.609854232133424, 12.544206556893984, 10.806170277816983, 10.564702396368325, 9.993239250705825, 9.971937249321423, 12.054055475512946, 10.90960895130956, 15.318398949990147, 9.54485213043055, 9.394136309012184, 10.77029322285378, 15.645396742705557, 9.651881375703336, 8.968548272245208, 8.940235450708442, 11.920343332061409, 25.763894804222254, 18.71460471239319, 15.630658531428422, 14.543840849659937, 32.17701759641404, 13.100591946880115, 26.066777227673896, 23.211129456101787, 30.248021767691295, 15.409978925097793, 17.33821298375602, 14.582267794868034, 19.932204313544503, 65.0467586832754, 18.2983508393545, 19.73299317354725, 22.408453110814243, 19.74212118531886, 46.30403131625736, 22.781184667822565, 22.85570363928559, 92.90218745626663, 350.3317159781773, 124.64516147843928, 215.62062408475725, 111.55085661502939, 213.60873973561377, 107.16568920526693, 127.72089575606023, 134.75331886961567, 61.3969518392355, 110.73846356735598, 193.56440198663915, 166.67028073355675, 146.5154984518132, 131.62122904105692, 32.003012115975494, 141.2225304278601, 107.78029984522038, 86.33072452751006, 88.74592588759806, 118.10815569170364, 85.25949281559991, 76.65703403865723, 65.44653473119932, 118.83994883640048, 90.30806824612, 70.29060742069514, 102.62242639548717, 89.2061981642634, 70.26850175740476, 105.13889136056227, 75.03254780070193, 73.05522642559993, 71.1656971212037, 72.10575886298905, 12.972406946105158, 12.806109963472265, 13.782313167234843, 12.265269053444824, 10.349225845185511, 10.15479808561048, 17.944827985963137, 13.572193025817352, 9.30531878989397, 9.914054358995822, 10.031140434302799, 8.808412855976146, 10.733447613352874, 12.22999530371266, 8.639253760161552, 8.368360389672288, 12.145539370371095, 8.305220018605256, 9.337704780268972, 8.738133102583651, 8.248422459653797, 16.04764805268056, 7.943475071537402, 11.24265242717586, 9.22100032005289, 7.8375214880755175, 8.918143608160259, 7.770760902880092, 9.109573842747146, 7.624355606860011, 15.442832245036513, 16.236830656449847, 13.701794434750399, 10.449791680106076, 14.680768451310026, 11.406079089850905, 25.801267118907372, 17.93365651193134, 11.387134772959707, 13.590085849514558, 16.80058796302424, 10.142189399905723, 12.743824635895178, 13.048471450835144, 16.143007713982083, 13.418978670211775, 39.20900968672518, 12.663928592550981, 17.432366107856318, 23.0949000832551, 22.691358538187757, 15.71484584047001, 19.987712048828627, 141.47344620395964, 31.375984486131884, 17.361012292635422, 19.91643619798114, 143.26199817060302, 276.6906371603818, 224.8699175718899, 163.42721252904795, 116.182312290427, 130.20660943332192, 92.9474271747173, 124.45999498459035, 120.52661848515608, 178.8921763976622, 227.3566363990166, 155.71578097556105, 62.71131260322537, 70.29647059550734, 60.84780404663202, 111.56572988342771, 80.17462236054864, 38.35795468998821, 101.95058888038528, 99.71571139291973, 133.64858879732787, 72.05231035242383, 81.77573155996616, 91.36796745077885, 55.92298333428087, 99.23178242378631, 109.6936329355952, 79.48591791296428, 116.89859971264562, 101.49574472592123, 100.74113165909033, 77.38724828923111, 89.86564321585772, 76.7384123601749, 30.564046256025442, 17.778853792765386, 17.141698125470192, 14.847272089482729, 21.910469148923642, 9.958143757972705, 9.77206056873827, 11.617867079156989, 9.495284365339929, 50.149652973481416, 17.179463198559823, 8.72341248011693, 9.35172879981274, 8.67113508283411, 8.228172605596232, 11.37005013443402, 7.940304462887621, 7.878023278151894, 7.719630116535791, 7.814114057278268, 7.50178177936051, 7.429146385387301, 7.365918726501374, 7.391800477111752, 7.878895140965187, 8.368525751943825, 7.232760125022704, 7.722078039050037, 7.0902222916641096, 6.806497173977896, 9.275118885072395, 8.6318794596656, 12.656763717543498, 8.452190210505188, 21.77670359679418, 10.15482427203679, 9.966812086327945, 10.131149843337374, 37.097876718442265, 11.514827984559075, 21.66050943367108, 19.726788133476198, 13.317616448438068, 31.85377614913706, 11.327912334003871, 15.119229574178373, 18.94240501688245, 16.8873355030105, 11.921587196804595, 21.713694741941204, 14.215666164325995, 23.999353526677304, 13.923271879954916, 12.486568551422073, 28.440761860309607, 17.08913318112491, 23.07086993029806, 22.637404889417674, 16.837049138594576, 35.8066780718221, 29.800522457239722, 244.00113652103667, 189.3693273640163, 22.12469925542376, 109.95883501472346, 26.087305681884445, 25.90815799366383, 60.962606243450864, 65.77214356006279, 47.95649212659867, 108.71013968025133, 96.75633044585854, 101.03110735261875, 97.06307861012309, 98.11255999839481, 77.4408536545088, 46.50109153236883, 77.7765543708117, 99.47841357506245, 55.988685900029594, 97.8253080279629, 59.18303364196468, 88.23191310790905, 57.94667181298212, 54.13617191425592, 66.1721340988905, 58.902092616973604, 83.5764607769541, 56.33268607965133, 62.298186060586154, 63.989103627234506, 61.68696998864568, 56.279106756455974, 52.433883244531124, 51.91785782520967, 52.98942081588731, 15.439614330339362, 10.965720075587766, 9.804292663311829, 9.578829339737304, 9.31586832293898, 9.307750888854958, 9.294458802122795, 11.255557851350614, 8.957302777393947, 10.771066085786222, 8.645747580922142, 8.614541684983607, 9.934518197540717, 8.245239944224673, 12.725227715178752, 14.712991539937066, 7.912751585147753, 7.509973388246261, 8.614549745190223, 8.098852083687294, 7.178220926033477, 7.580505838290004, 14.279620022799934, 7.719305820318101, 8.409390888104689, 10.27484994367668, 8.34838640830295, 7.168259316675475, 6.869356226530442, 9.229436309322463, 15.167216423633807, 13.913394862906724, 21.737650215523335, 13.94722516211977, 8.681902443723544, 9.512125487836656, 58.309984970487825, 16.619578605793173, 12.109772100459349, 25.99870584832468, 14.64968022900153, 14.813315319658054, 15.402740497107722, 9.668359696777413, 12.10879842750001, 15.829659012827252, 35.15164757276877, 13.393023893607234, 28.443962970562943, 22.047273380469033, 13.473588882827208, 11.05490223170202, 229.88049734929086, 24.199956286797967, 152.77260167718418, 38.310790746913085, 14.285752227994179, 120.02540078851027, 61.76455083755993, 116.1149496351783, 113.00991301601287, 119.03182879107554, 59.29894008157231, 101.06486735818599, 71.84332335894649, 56.31548361901832, 71.21082282529403, 55.812513829784365, 51.841898070180164, 75.44262474419949, 95.55189882158449, 56.5568448941243, 59.30868325933099, 62.893882507086815, 66.61573772191059, 60.46471678133881, 46.22759339190657, 60.527057643397654, 51.01312505723745, 46.794883629944515, 50.45928569200203, 57.8705747465532, 61.23812262298774, 46.65109599206179, 46.70001499806194, 26.746890613739946, 9.177309307362336, 11.379727789154924, 9.049481441574878, 7.808106583029448, 13.58896926270697, 7.725416641976907, 13.75179822416577, 6.448335448650321, 6.416547254574067, 6.8760413396728755, 9.549396345578359, 6.412026776748419, 5.92390234332716, 5.892850848841457, 6.213258148609676, 5.784894864625091, 6.16261463974609, 5.76533365530126, 9.292906911263959, 7.89549265625841, 5.626918682319706, 5.617472672978944, 5.475161188372991, 5.574792598301471, 7.681967096374784, 5.41005765605146, 6.914055431801301, 5.329541437589721, 5.319281388309934, 16.989561464155337, 5.899916348473251, 8.516673294109317, 7.921393807877077, 8.194890253735613, 8.551921485639769, 10.413980168611161, 13.210209980868344, 10.455422142286366, 12.140988839186308, 12.142167296360517, 9.208441419329922, 9.302905445297634, 15.34388206884093, 8.16508734707909, 10.933384185003455, 8.707157984414458, 16.30888250296723, 11.69711553819924, 151.26795837964755, 75.24073366745992, 66.37115898496964, 81.10124969637235, 57.638149005937656, 107.32171470767591, 137.26046247659923, 99.67110256834059, 29.16511619569615, 98.65428934415003, 54.588590226826604, 52.893321248753246, 76.32532325398114, 70.67566585378333, 70.30730032826762, 47.759316858046745, 42.06951588443075, 15.304932682837313, 38.02057036574976, 48.46910725074188, 45.51677708734315, 44.19957394967888, 36.36908913344643, 32.97659276237393, 35.68024879921425, 37.851606610547584, 51.620912592242526, 37.037147198446235, 29.430026552020685, 44.81043161728853, 39.265642486208264, 40.78631103961438, 40.00109938776992, 36.393219322170374, 35.970799447338024, 15.25354358492301, 10.378248738222917, 9.941913125909329, 9.013566821709539, 7.00302821414352, 6.8238556118042695, 6.919951802134623, 6.22562063045414, 5.802263775638362, 5.875826823110269, 5.233077315009163, 7.493378429309248, 5.141104006334098, 6.547983639699671, 5.121296726094716, 5.667657120519163, 10.640637570026303, 5.061375124637804, 5.031583607026641, 4.93777938299765, 6.50331600705763, 6.287812243405394, 5.898996655372321, 4.748804537081661, 10.006786114107525, 8.92201932073906, 4.670292413900786, 4.985012839270737, 4.4814868511020896, 4.5821915287535475, 11.038388186758791, 7.462839870501296, 8.068388691379774, 7.5971709350165755, 7.112701719342044, 8.705166491971202, 9.967421145119104, 9.864973082462765, 8.576010406573973, 8.553822185288984, 8.4361166872693, 10.502630808609267, 11.855368154587133, 18.28512804726981, 11.591599636489908, 12.46580538657623, 14.65387345250341, 9.400000890938925, 19.75449395020718, 69.63485642321461, 17.4472216818021, 13.314452274741782, 77.30111913592587, 71.12825475122672, 59.40438318001686, 35.52969530510768, 49.46881152678809, 57.446508954671195, 37.275499960825634, 42.982330812408904, 52.885404729182156, 32.1782824582101, 60.2649330401362, 49.5813172020923, 43.347150374126244, 33.45663460696894, 42.797651597813974, 36.9451794895512, 28.736665397876873, 32.66418624719602, 30.39412853220748, 26.07876330618689, 37.190800626371434, 28.399298589064895, 27.759101038400924, 27.64391225457553, 29.987696522572474, 29.504501263463233, 26.091198971089977, 30.9817685858958, 26.489050117728297, 16.18710870281603, 30.279945081044218, 9.75097130002214, 16.348279638021985, 7.446552475083926, 7.383034151195804, 7.0640166965973314, 7.174064358352948, 6.58513907645649, 6.173194837232037, 6.163407214315517, 5.689287986572453, 5.654614736709643, 5.844769692952867, 5.291295981290887, 5.4119931716465715, 5.239845965257743, 5.109712861609555, 5.093572212228339, 5.084876625983922, 4.8300716875715946, 4.646553622196403, 4.5827861706579345, 4.578053288063133, 4.5974190278547065, 4.667007056565955, 5.193513107149345, 8.936634343121781, 4.322470029279137, 4.313893307861356, 5.326865330828469, 8.22134869460884, 11.165003560530959, 7.9272402057125735, 10.877346337978937, 6.261267703389519, 6.772150356554175, 9.226448500929738, 6.004090353300371, 7.67666935183259, 17.7639760061037, 8.04422002073663, 8.473217291870036, 22.134903805803006, 6.799807325074898, 36.413272438318, 10.307192471740874, 10.122561201984725, 90.74658877182681, 68.80736795084823, 12.06704539111182, 61.50402642415122, 55.37329346811633, 34.46896518952645, 51.04884995705798, 43.97653389030502, 41.33639737400693, 40.215190513580836, 35.07734033928813, 47.518453882583614, 40.977275795320466, 50.240260847253836, 44.00546092135692, 37.6279493878973, 31.51630210658301, 28.123083640710714, 28.308862308839043, 26.562205013509935, 29.93352412766949, 33.733601155023884, 24.39134900381584, 32.87110711772142, 30.773317696893404, 25.651978335505955, 25.32642765753665, 24.67397591032559, 25.26321328023719, 9.413722493747088, 8.917648344394387, 6.99530376945695, 6.763777959230677, 6.725453052202313, 6.694447538198094, 8.592505110101115, 7.124383520098821, 5.8391493153670595, 5.4817094826555035, 5.804079998135841, 5.923809807478025, 5.207070655697546, 5.004551749975813, 5.832496847289717, 4.862610416695032, 4.671959202214211, 5.185653270474017, 5.434927837381208, 5.512764258161474, 8.660476238486435, 4.375807715040324, 4.372318809778832, 4.340195438619459, 6.0335184198922445, 4.23526194386414, 4.211065073137875, 4.287006008771033, 4.793001208042641, 4.163243252307342, 7.811458586461269, 15.924467937222587, 7.328370526839819, 5.4906393478523325, 9.980670410742226, 7.800353095159562, 5.522850415311529, 6.7733682533521025, 7.951501457251428, 13.989027922846711, 6.45461548090707, 8.043605849478883, 8.33389305260347, 7.913220398372975, 9.613808639151499, 8.842506148825361, 7.244981631076293, 7.877100890884613, 7.6206503847770595, 8.10442215073602, 9.614290427465344, 36.91758279288819, 13.824804150718219, 86.8880907241974, 88.56641168351337, 80.2394206545071, 12.729946162193759, 13.087952772843062, 56.80867129952154, 65.94160215060825, 81.63628196354551, 47.0548160002336, 59.10858796266702, 38.46745573972212, 18.797794976790932, 44.22720146895096, 56.237021345117356, 41.693592572172456, 37.7398709375283, 42.65700463396537, 29.293978883346707, 35.156697391294074, 22.766847223848657, 36.50917787659965, 35.68105630401573, 26.637926463948155, 23.46351529100845, 26.83397857956069, 25.574265622083082, 25.079117155895183, 26.071120376771248, 22.57004156965986, 23.55968456913327, 23.12988392102857, 23.467709556014817, 22.86388913429024, 22.907962479638506], \"Total\": [1877.0, 1332.0, 79.0, 54.0, 1480.0, 1515.0, 151.0, 2595.0, 477.0, 1663.0, 648.0, 51.0, 32.0, 99.0, 44.0, 756.0, 54.0, 363.0, 318.0, 503.0, 603.0, 470.0, 925.0, 231.0, 927.0, 56.0, 27.0, 31.0, 58.0, 1258.0, 35.331077789095495, 24.48200264365954, 27.128581863888865, 22.653112720196475, 30.690625097504252, 20.359232578301384, 18.846186790624365, 18.260149236839023, 19.14862269137709, 17.98603313346436, 28.143545306661625, 25.338023507121704, 15.99939726483665, 16.993390534170054, 34.66600260476177, 18.0191316387471, 25.4308240148094, 17.631785768170456, 16.816889447573885, 17.139741489194456, 17.922231181647017, 14.297892936394467, 14.206432951763375, 14.09524425281337, 14.078416861449025, 14.307679451342118, 16.318174900088447, 36.64480567584016, 21.154805087909107, 16.53709148081288, 25.990362249061185, 24.41411373216914, 21.32227057273281, 20.88909893614539, 30.149398459960942, 19.668102714489233, 33.394467091856626, 40.98732237703439, 24.26154899014644, 22.73330799685454, 23.644552075814822, 44.64525077915577, 26.61901216458268, 27.97778122043742, 25.43782877934827, 93.38493549345311, 37.59731327533255, 32.79874129186253, 2595.067279400637, 60.2693236779898, 1501.971790082856, 1257.070910851282, 46.95809714858398, 1013.8802614849029, 295.00305066840656, 1217.2528797962007, 470.6244448658906, 79.5076526076626, 497.4489283588551, 83.66637905361908, 154.6413114304459, 798.685211389846, 437.66289820352154, 770.676842334779, 1663.5921788832438, 344.1127630405619, 239.922641233239, 398.17557191428614, 626.7489983833162, 1258.5958948723917, 452.66304886323104, 804.990094221381, 1177.49143263541, 795.1648277840686, 1480.3811978376275, 153.53837878397303, 477.76526978285193, 925.9149215690852, 529.7686187153746, 489.8265278776381, 756.915544297029, 1877.1624763449433, 1332.7202014495233, 927.150460762678, 758.5553475442237, 780.0648459876235, 763.8609558489504, 1515.5274154427793, 27.35982247758992, 23.45495531482363, 22.839336789411878, 22.26370055943655, 22.01258401955556, 32.0114369917164, 19.048878263679182, 18.614059440487537, 17.856097327329437, 17.4698466976815, 25.771673071520702, 17.191064710614448, 16.843767080492274, 16.70786126832704, 30.578353390296222, 16.310074587647534, 20.29102375633312, 15.033602816030667, 15.04576473506584, 15.311013801899879, 22.208298498788867, 23.209978742470952, 14.55852934865872, 14.330895770807931, 37.13412253728036, 13.805117292334474, 13.633285286329377, 15.246430073675192, 15.608416883742413, 14.76189170811088, 19.074604793721846, 22.885179603154597, 30.40299117500967, 31.210038804365745, 24.35810700308391, 23.60456718349888, 37.600778903627706, 28.59067780095063, 26.14301880224085, 35.320557215684055, 32.14522763911742, 66.32273284531136, 46.1262163028438, 45.861063199697064, 25.71583124564404, 152.53616304758881, 109.54026370609601, 35.84584296445022, 1877.1624763449433, 56.828969235566966, 1515.5274154427793, 40.89034089596357, 65.9177537727757, 1332.7202014495233, 2595.067279400637, 273.33777572011354, 347.3610204599759, 327.65745827203676, 197.67613085575587, 1501.971790082856, 635.0855477814708, 561.1353966167962, 448.54551622283606, 780.0648459876235, 620.9480391148942, 455.1311220561089, 314.929558985791, 1177.49143263541, 1663.5921788832438, 345.496684512611, 1217.2528797962007, 1480.3811978376275, 494.459222948575, 1257.070910851282, 925.9149215690852, 347.8615551870899, 363.4111780283532, 597.8190789578962, 1258.5958948723917, 758.5553475442237, 795.1648277840686, 756.915544297029, 586.549642809171, 1013.8802614849029, 573.5677533275032, 927.150460762678, 546.8560465146688, 804.990094221381, 770.676842334779, 19.536550729005118, 17.421434956167097, 16.72977794033536, 22.18530843079127, 15.520929474098974, 18.25211385994206, 14.575147115049786, 21.659490011847414, 30.7189961422749, 13.078146736702086, 11.49561595352245, 11.3884896035429, 11.225059727976173, 12.557422258232794, 13.577558097418791, 11.70780994762534, 11.458801774103806, 10.841789525724169, 10.821069269144253, 13.082474744820823, 11.867951291724607, 16.670293267854678, 10.391133252997264, 10.267883418502116, 11.773905882371672, 17.10571175282842, 10.560759483562308, 9.814573115200256, 9.789120747302816, 13.070462813790986, 28.468337500206154, 20.63288364357923, 17.23587562331424, 16.044332448191017, 36.56844478863884, 14.512062573776596, 31.324625153649176, 27.675457342766304, 37.664056863908336, 17.56774506284992, 20.237742222233482, 16.671039801572864, 24.17494601602465, 99.36010335579974, 22.263558584202336, 24.56514662383819, 29.0859071040556, 25.44220144326968, 85.51113336936602, 31.532751245697316, 31.810003220805758, 302.01635232418715, 2595.067279400637, 490.1846814712767, 1258.5958948723917, 489.8265278776381, 1515.5274154427793, 470.6244448658906, 648.5189772519228, 763.8609558489504, 193.65437768642653, 576.569342023453, 1663.5921788832438, 1501.971790082856, 1177.49143263541, 1013.8802614849029, 62.88168735234119, 1332.7202014495233, 804.990094221381, 515.3040629526041, 603.9182039623247, 1217.2528797962007, 635.0855477814708, 496.65971812658586, 344.1127630405619, 1480.3811978376275, 798.685211389846, 416.94548199418523, 1257.070910851282, 927.150460762678, 430.7263730043481, 1877.1624763449433, 561.1353966167962, 522.1867037481782, 498.2664826673421, 925.9149215690852, 13.83292564474052, 13.657913181751804, 14.740972691396895, 13.160896524145246, 11.203854735793081, 11.008160336430285, 19.487121513971243, 14.792315010941373, 10.15931006440966, 10.826216460862309, 10.971161648955523, 9.660271599690228, 11.8162303472825, 13.468527732590559, 9.516555723508652, 9.220059526024805, 13.386114736444425, 9.157020870988447, 10.299820463702325, 9.639263810087696, 9.100011818164297, 17.744759306752353, 8.796292188417068, 12.452580364806064, 10.219887442128543, 8.689269023435399, 9.894749288978769, 8.623776524526512, 10.128335484402019, 8.480445328581844, 17.256137758583424, 18.200091227309102, 15.324273545940367, 11.643374166915669, 16.49951503797115, 12.737633199079614, 29.720779267419456, 20.46377029543529, 12.739099048272772, 15.43479277820911, 19.511861283111585, 11.320647189617317, 14.53074276670891, 14.93167215953929, 19.02055999735774, 15.556953460675276, 56.47242098290061, 14.776192862930122, 22.37173799242903, 33.329601042570474, 33.60044738576186, 20.123594370177464, 28.32499974100959, 477.76526978285193, 54.70942635804762, 23.248794246539315, 28.377785356855796, 648.5189772519228, 1877.1624763449433, 1480.3811978376275, 927.150460762678, 594.3423057486464, 756.915544297029, 455.1311220561089, 798.685211389846, 763.8609558489504, 1663.5921788832438, 2595.067279400637, 1332.7202014495233, 249.51864355310985, 310.3601913813935, 239.16426733569497, 780.0648459876235, 470.38495419606267, 106.9129238123176, 795.1648277840686, 770.676842334779, 1515.5274154427793, 419.0601717322968, 576.569342023453, 758.5553475442237, 249.67013602623416, 925.9149215690852, 1177.49143263541, 573.5677533275032, 1501.971790082856, 1258.5958948723917, 1257.070910851282, 620.9480391148942, 1217.2528797962007, 635.0855477814708, 31.992635401953727, 18.64613321151094, 18.02136175365168, 15.713710163716947, 23.41405084498946, 10.827895966426652, 10.648056749794124, 12.66947695776194, 10.362841642334981, 54.76296900203098, 18.803291047850664, 9.589419382149249, 10.301567728003185, 9.581302795563637, 9.094348306537794, 12.577779467324078, 8.806363199960282, 8.745028973124557, 8.586964368431996, 8.698639637404234, 8.36902221951209, 8.29554282930021, 8.232415742267742, 8.27007714964752, 8.815403770069729, 9.363280414030719, 8.099842752963863, 8.68584608921697, 7.985594536696355, 7.672445312215244, 10.457136490045762, 9.738565052810527, 14.470236639504602, 9.555428434418111, 26.288493343152464, 11.631220555807229, 11.440982127738591, 11.720167309842644, 51.04625946055133, 13.554350176358103, 27.834791953929972, 25.271160233302563, 16.10159831557282, 44.74653460523152, 13.400178994885595, 18.95562177957813, 25.349289730950403, 22.447981178123655, 14.48942029279336, 33.08113086899914, 18.836222656200704, 39.89741338902005, 18.37023175737073, 15.791739545213073, 54.47920838795883, 25.352116906257287, 40.572960729401785, 39.65908865004733, 25.150469138483814, 87.14700163529501, 68.08497581956331, 2595.067279400637, 1663.5921788832438, 41.348546219063316, 804.990094221381, 56.27991612175098, 58.01538774777449, 318.88498710271875, 381.89999117416954, 210.95720952549468, 1257.070910851282, 1013.8802614849029, 1258.5958948723917, 1177.49143263541, 1217.2528797962007, 770.676842334779, 226.104086668826, 795.1648277840686, 1480.3811978376275, 355.74406040541277, 1501.971790082856, 441.0205386079637, 1515.5274154427793, 472.0756905824418, 392.2644958079673, 763.8609558489504, 573.5677533275032, 1877.1624763449433, 546.8560465146688, 780.0648459876235, 927.150460762678, 925.9149215690852, 626.7489983833162, 470.38495419606267, 798.685211389846, 1332.7202014495233, 16.3083565450712, 11.836405258256738, 10.676079976707257, 10.447299570856318, 10.184464245188078, 10.178271572387304, 10.163817367829118, 12.313263383236764, 9.826308649455164, 11.838873258455536, 9.514474060162238, 9.483981692585076, 10.951813990488594, 9.11373773509192, 14.108349692294947, 16.330364090198675, 8.782909467668572, 8.380087806930373, 9.625316050841867, 9.053495959222646, 8.047505955001506, 8.509495679165026, 16.030530312418282, 8.675187200048908, 9.460728862117477, 11.561149257159299, 9.394717617050835, 8.067425978965426, 7.7377881934722, 10.402511821715102, 17.182457698230063, 15.798476799765949, 25.770821718056414, 16.357268111214974, 9.831452684866548, 10.863150552164827, 79.73564506547837, 20.07117240518846, 14.172269347663544, 33.33684609980511, 17.899322939628618, 18.22017864244671, 19.258495121690455, 11.077559248018545, 14.648692997295568, 20.73555666692328, 58.79897092842324, 16.84641149630187, 48.46338689926952, 34.99662475729806, 17.821183533853937, 13.267751619012744, 1877.1624763449433, 52.16708886927551, 1480.3811978376275, 123.77902000889218, 21.202354492060675, 1258.5958948723917, 360.8419950690852, 1257.070910851282, 1217.2528797962007, 1515.5274154427793, 367.874590812228, 1177.49143263541, 626.7489983833162, 415.0055529162521, 758.5553475442237, 430.7263730043481, 363.4111780283532, 927.150460762678, 1663.5921788832438, 470.38495419606267, 586.549642809171, 770.676842334779, 1013.8802614849029, 795.1648277840686, 388.96130828304285, 925.9149215690852, 547.6027071101605, 419.0601717322968, 597.8190789578962, 1332.7202014495233, 2595.067279400637, 561.1353966167962, 780.0648459876235, 27.633100292259297, 10.118588316193101, 12.572441887082944, 10.032400005331613, 8.68937460692351, 15.140103528865684, 8.608316720107718, 15.46375593879683, 7.329892171413755, 7.298445872151934, 7.832167676212937, 10.886125230569348, 7.335699749341846, 6.804981319645188, 6.777395624163478, 7.1546390053884465, 6.6658470060116235, 7.101202124272112, 6.648286399618345, 10.742138175793263, 9.131119009272751, 6.508315053138157, 6.4997727290043015, 6.356894605419093, 6.479784169386271, 8.934115144765402, 6.292317033096419, 8.050420883397043, 6.210616552943401, 6.201356288736969, 20.174445499715873, 6.894636165646487, 10.142971582034068, 9.476758850051763, 9.96673424604355, 10.459310290259705, 13.089440013566211, 17.51257453174952, 13.74842068337032, 16.632588062045954, 16.906783070303366, 12.220633844504325, 12.425849055083843, 25.143485202256155, 10.46156463635832, 16.438353397704752, 11.595536851338, 30.690688818024576, 18.734164061845792, 1332.7202014495233, 603.9182039623247, 503.50694576161686, 756.915544297029, 435.11440306191884, 1515.5274154427793, 2595.067279400637, 1480.3811978376275, 130.36244937002513, 1877.1624763449433, 635.0855477814708, 594.3423057486464, 1501.971790082856, 1257.070910851282, 1258.5958948723917, 576.569342023453, 473.4561888856033, 38.45684228881776, 470.38495419606267, 927.150460762678, 804.990094221381, 770.676842334779, 441.0205386079637, 337.28912920992474, 448.54551622283606, 547.6027071101605, 1663.5921788832438, 523.9386331482507, 238.64320136358504, 1217.2528797962007, 780.0648459876235, 1013.8802614849029, 1177.49143263541, 626.7489983833162, 758.5553475442237, 16.247942982118385, 11.294537786756463, 10.832328957789692, 9.901350137953973, 7.890577695423719, 7.712212418107132, 7.874684587275736, 7.114200562814528, 6.703119633137554, 6.86742160313942, 6.120628975432105, 8.775117545041395, 6.02937877555425, 7.682016412430045, 6.009271705495416, 6.657674601611194, 12.50672032163874, 5.950087656879784, 5.920376590189083, 5.827684286110238, 7.68544825489589, 7.451238739471765, 6.999961049820886, 5.636414925776411, 11.895746452940655, 10.618867146537895, 5.560999706679933, 5.967550696425724, 5.368851042627439, 5.491169990747042, 13.27573668661995, 8.943378404183715, 9.748229149539851, 9.193536110457783, 8.726861808415046, 10.987366407157362, 12.807856831201885, 12.739584871325437, 10.879446893709467, 10.889984516380812, 11.338996050767408, 15.167971188997555, 18.100819770111315, 33.429489551588524, 17.800355999787964, 22.51508407292442, 29.98345632533599, 14.256023923434798, 52.675121569054, 925.9149215690852, 54.70942635804762, 32.62416844316266, 1663.5921788832438, 1877.1624763449433, 1258.5958948723917, 363.4111780283532, 927.150460762678, 1515.5274154427793, 523.9386331482507, 795.1648277840686, 1480.3811978376275, 431.92602640678956, 2595.067279400637, 1501.971790082856, 1013.8802614849029, 494.459222948575, 1177.49143263541, 758.5553475442237, 371.6454879181361, 573.5677533275032, 472.1922438408129, 310.3601913813935, 1217.2528797962007, 470.31316292960423, 473.4561888856033, 496.65971812658586, 798.685211389846, 770.676842334779, 448.54551622283606, 1332.7202014495233, 635.0855477814708, 17.140945835281826, 32.4317766882165, 10.81193511400981, 18.288188970526384, 8.338455444782259, 8.27520553386588, 7.954672660669461, 8.141430720347547, 7.512559011382647, 7.06380280063922, 7.060887838034071, 6.580279896250597, 6.545677046513013, 6.7714146397502555, 6.183609209391882, 6.328221087548311, 6.130842171726481, 6.000686223278609, 5.984237733393487, 5.982194274520586, 5.723903004721659, 5.538210466224334, 5.473190951231673, 5.47210656709618, 5.5003886836333304, 5.593477936258195, 6.231637646340379, 10.7780822435237, 5.213935053554085, 5.206450557457255, 6.430176735146195, 10.234177464417844, 14.267896438960829, 9.989029165935712, 14.216341381965748, 7.852935921335712, 8.657130004396175, 12.572367349007612, 7.535223200342714, 10.530025096291002, 33.95199876293205, 11.3523866575569, 12.46145926521282, 52.64947925026965, 9.263005432162045, 151.18529054343134, 18.612914040276838, 19.52197755406254, 2595.067279400637, 1663.5921788832438, 34.31896528996982, 1501.971790082856, 1177.49143263541, 438.25534746305755, 1217.2528797962007, 927.150460762678, 804.990094221381, 763.8609558489504, 597.8190789578962, 1515.5274154427793, 1013.8802614849029, 1877.1624763449433, 1332.7202014495233, 925.9149215690852, 648.5189772519228, 503.50694576161686, 603.9182039623247, 489.8265278776381, 770.676842334779, 1258.5958948723917, 424.0244182380262, 1480.3811978376275, 1257.070910851282, 635.0855477814708, 586.549642809171, 522.1867037481782, 798.685211389846, 10.310010170210687, 9.80966027575665, 7.91708447054072, 7.655370823929834, 7.618496602887462, 7.591550886949653, 9.779586639091717, 8.119447357166836, 6.767777664002271, 6.37497672890026, 6.773168707680233, 6.93188675502229, 6.098935316310972, 5.898703442881367, 6.890163657099736, 5.754487265106375, 5.570626448882729, 6.184808721390363, 6.489007359019762, 6.5838637185758975, 10.343503826969194, 5.268061946476822, 5.26393693471187, 5.2317335103005576, 7.279690849745735, 5.128157954007208, 5.102572917388346, 5.195510243731388, 5.812203045235673, 5.056443250842185, 9.50599184459283, 19.778678390175386, 9.040882597982744, 6.711531931383881, 12.750372723823435, 9.9726395680953, 6.856728367991247, 8.729867022248445, 10.565433771860036, 21.198620296068107, 8.279414418436716, 11.102708639766652, 11.698773459467372, 11.077930687582082, 14.605367909265762, 12.996623890084365, 9.835572191700386, 11.230528067562364, 10.925776027253796, 12.505580521303294, 17.130693210233588, 231.93492993431155, 35.4719454601191, 1332.7202014495233, 1663.5921788832438, 1480.3811978376275, 33.21630441935725, 35.31925682576959, 925.9149215690852, 1515.5274154427793, 2595.067279400637, 758.5553475442237, 1501.971790082856, 546.8560465146688, 92.59007851353357, 927.150460762678, 1877.1624763449433, 1013.8802614849029, 780.0648459876235, 1257.070910851282, 455.1311220561089, 795.1648277840686, 240.670398522107, 1177.49143263541, 1217.2528797962007, 454.5421573541785, 305.43869125471866, 494.459222948575, 448.54551622283606, 417.430229108016, 798.685211389846, 424.0244182380262, 547.6027071101605, 498.2664826673421, 573.5677533275032, 487.6352258385435, 770.676842334779], \"Category\": [\"Default\", \"Default\", \"Default\", \"Default\", \"Default\", \"Default\", \"Default\", \"Default\", \"Default\", \"Default\", \"Default\", \"Default\", \"Default\", \"Default\", \"Default\", \"Default\", \"Default\", \"Default\", \"Default\", \"Default\", \"Default\", \"Default\", \"Default\", \"Default\", \"Default\", \"Default\", \"Default\", \"Default\", \"Default\", \"Default\", \"Topic1\", \"Topic1\", \"Topic1\", \"Topic1\", \"Topic1\", \"Topic1\", \"Topic1\", \"Topic1\", \"Topic1\", \"Topic1\", \"Topic1\", \"Topic1\", \"Topic1\", \"Topic1\", \"Topic1\", \"Topic1\", \"Topic1\", \"Topic1\", \"Topic1\", \"Topic1\", \"Topic1\", \"Topic1\", \"Topic1\", \"Topic1\", \"Topic1\", \"Topic1\", \"Topic1\", \"Topic1\", \"Topic1\", \"Topic1\", \"Topic1\", \"Topic1\", \"Topic1\", \"Topic1\", \"Topic1\", \"Topic1\", \"Topic1\", \"Topic1\", \"Topic1\", \"Topic1\", \"Topic1\", \"Topic1\", \"Topic1\", \"Topic1\", \"Topic1\", \"Topic1\", \"Topic1\", \"Topic1\", \"Topic1\", \"Topic1\", \"Topic1\", \"Topic1\", \"Topic1\", \"Topic1\", \"Topic1\", \"Topic1\", \"Topic1\", \"Topic1\", \"Topic1\", \"Topic1\", \"Topic1\", \"Topic1\", \"Topic1\", \"Topic1\", \"Topic1\", \"Topic1\", \"Topic1\", \"Topic1\", \"Topic1\", \"Topic1\", \"Topic1\", \"Topic1\", \"Topic1\", \"Topic1\", \"Topic1\", \"Topic1\", \"Topic1\", \"Topic1\", \"Topic1\", \"Topic1\", \"Topic1\", \"Topic1\", \"Topic1\", \"Topic1\", \"Topic1\", \"Topic1\", \"Topic1\", \"Topic1\", \"Topic2\", \"Topic2\", \"Topic2\", \"Topic2\", \"Topic2\", \"Topic2\", \"Topic2\", \"Topic2\", \"Topic2\", \"Topic2\", \"Topic2\", \"Topic2\", \"Topic2\", \"Topic2\", \"Topic2\", \"Topic2\", \"Topic2\", \"Topic2\", \"Topic2\", \"Topic2\", \"Topic2\", \"Topic2\", \"Topic2\", \"Topic2\", \"Topic2\", \"Topic2\", \"Topic2\", \"Topic2\", \"Topic2\", \"Topic2\", \"Topic2\", \"Topic2\", \"Topic2\", \"Topic2\", \"Topic2\", \"Topic2\", \"Topic2\", \"Topic2\", \"Topic2\", \"Topic2\", \"Topic2\", \"Topic2\", \"Topic2\", \"Topic2\", \"Topic2\", \"Topic2\", \"Topic2\", \"Topic2\", \"Topic2\", \"Topic2\", \"Topic2\", \"Topic2\", \"Topic2\", \"Topic2\", \"Topic2\", \"Topic2\", \"Topic2\", \"Topic2\", \"Topic2\", \"Topic2\", \"Topic2\", \"Topic2\", \"Topic2\", \"Topic2\", \"Topic2\", \"Topic2\", \"Topic2\", \"Topic2\", \"Topic2\", \"Topic2\", \"Topic2\", \"Topic2\", \"Topic2\", \"Topic2\", \"Topic2\", \"Topic2\", \"Topic2\", \"Topic2\", \"Topic2\", \"Topic2\", \"Topic2\", \"Topic2\", \"Topic2\", \"Topic2\", \"Topic2\", \"Topic2\", \"Topic2\", \"Topic2\", \"Topic2\", \"Topic3\", \"Topic3\", \"Topic3\", \"Topic3\", \"Topic3\", \"Topic3\", \"Topic3\", \"Topic3\", \"Topic3\", \"Topic3\", \"Topic3\", \"Topic3\", \"Topic3\", \"Topic3\", \"Topic3\", \"Topic3\", \"Topic3\", \"Topic3\", \"Topic3\", \"Topic3\", \"Topic3\", \"Topic3\", \"Topic3\", \"Topic3\", \"Topic3\", \"Topic3\", \"Topic3\", \"Topic3\", \"Topic3\", \"Topic3\", \"Topic3\", \"Topic3\", \"Topic3\", \"Topic3\", \"Topic3\", \"Topic3\", \"Topic3\", \"Topic3\", \"Topic3\", \"Topic3\", \"Topic3\", \"Topic3\", \"Topic3\", \"Topic3\", \"Topic3\", \"Topic3\", \"Topic3\", \"Topic3\", \"Topic3\", \"Topic3\", \"Topic3\", \"Topic3\", \"Topic3\", \"Topic3\", \"Topic3\", \"Topic3\", \"Topic3\", \"Topic3\", \"Topic3\", \"Topic3\", \"Topic3\", \"Topic3\", \"Topic3\", \"Topic3\", \"Topic3\", \"Topic3\", \"Topic3\", \"Topic3\", \"Topic3\", \"Topic3\", \"Topic3\", \"Topic3\", \"Topic3\", \"Topic3\", \"Topic3\", \"Topic3\", \"Topic3\", \"Topic3\", \"Topic3\", \"Topic3\", \"Topic3\", \"Topic3\", \"Topic3\", \"Topic3\", \"Topic3\", \"Topic3\", \"Topic4\", \"Topic4\", \"Topic4\", \"Topic4\", \"Topic4\", \"Topic4\", \"Topic4\", \"Topic4\", \"Topic4\", \"Topic4\", \"Topic4\", \"Topic4\", \"Topic4\", \"Topic4\", \"Topic4\", \"Topic4\", \"Topic4\", \"Topic4\", \"Topic4\", \"Topic4\", \"Topic4\", \"Topic4\", \"Topic4\", \"Topic4\", \"Topic4\", \"Topic4\", \"Topic4\", \"Topic4\", \"Topic4\", \"Topic4\", \"Topic4\", \"Topic4\", \"Topic4\", \"Topic4\", \"Topic4\", \"Topic4\", \"Topic4\", \"Topic4\", \"Topic4\", \"Topic4\", \"Topic4\", \"Topic4\", \"Topic4\", \"Topic4\", \"Topic4\", \"Topic4\", \"Topic4\", \"Topic4\", \"Topic4\", \"Topic4\", \"Topic4\", \"Topic4\", \"Topic4\", \"Topic4\", \"Topic4\", \"Topic4\", \"Topic4\", \"Topic4\", \"Topic4\", \"Topic4\", \"Topic4\", \"Topic4\", \"Topic4\", \"Topic4\", \"Topic4\", \"Topic4\", \"Topic4\", \"Topic4\", \"Topic4\", \"Topic4\", \"Topic4\", \"Topic4\", \"Topic4\", \"Topic4\", \"Topic4\", \"Topic4\", \"Topic4\", \"Topic4\", \"Topic4\", \"Topic4\", \"Topic4\", \"Topic4\", \"Topic4\", \"Topic4\", \"Topic4\", \"Topic4\", \"Topic4\", \"Topic4\", \"Topic4\", \"Topic4\", \"Topic4\", \"Topic5\", \"Topic5\", \"Topic5\", \"Topic5\", \"Topic5\", \"Topic5\", \"Topic5\", \"Topic5\", \"Topic5\", \"Topic5\", \"Topic5\", \"Topic5\", \"Topic5\", \"Topic5\", \"Topic5\", \"Topic5\", \"Topic5\", \"Topic5\", \"Topic5\", \"Topic5\", \"Topic5\", \"Topic5\", \"Topic5\", \"Topic5\", \"Topic5\", \"Topic5\", \"Topic5\", \"Topic5\", \"Topic5\", \"Topic5\", \"Topic5\", \"Topic5\", \"Topic5\", \"Topic5\", \"Topic5\", \"Topic5\", \"Topic5\", \"Topic5\", \"Topic5\", \"Topic5\", \"Topic5\", \"Topic5\", \"Topic5\", \"Topic5\", \"Topic5\", \"Topic5\", \"Topic5\", \"Topic5\", \"Topic5\", \"Topic5\", \"Topic5\", \"Topic5\", \"Topic5\", \"Topic5\", \"Topic5\", \"Topic5\", \"Topic5\", \"Topic5\", \"Topic5\", \"Topic5\", \"Topic5\", \"Topic5\", \"Topic5\", \"Topic5\", \"Topic5\", \"Topic5\", \"Topic5\", \"Topic5\", \"Topic5\", \"Topic5\", \"Topic5\", \"Topic5\", \"Topic5\", \"Topic5\", \"Topic5\", \"Topic5\", \"Topic5\", \"Topic5\", \"Topic5\", \"Topic5\", \"Topic5\", \"Topic5\", \"Topic5\", \"Topic5\", \"Topic5\", \"Topic5\", \"Topic5\", \"Topic5\", \"Topic5\", \"Topic5\", \"Topic5\", \"Topic5\", \"Topic5\", \"Topic5\", \"Topic5\", \"Topic5\", \"Topic6\", \"Topic6\", \"Topic6\", \"Topic6\", \"Topic6\", \"Topic6\", \"Topic6\", \"Topic6\", \"Topic6\", \"Topic6\", \"Topic6\", \"Topic6\", \"Topic6\", \"Topic6\", \"Topic6\", \"Topic6\", \"Topic6\", \"Topic6\", \"Topic6\", \"Topic6\", \"Topic6\", \"Topic6\", \"Topic6\", \"Topic6\", \"Topic6\", \"Topic6\", \"Topic6\", \"Topic6\", \"Topic6\", \"Topic6\", \"Topic6\", \"Topic6\", \"Topic6\", \"Topic6\", \"Topic6\", \"Topic6\", \"Topic6\", \"Topic6\", \"Topic6\", \"Topic6\", \"Topic6\", \"Topic6\", \"Topic6\", \"Topic6\", \"Topic6\", \"Topic6\", \"Topic6\", \"Topic6\", \"Topic6\", \"Topic6\", \"Topic6\", \"Topic6\", \"Topic6\", \"Topic6\", \"Topic6\", \"Topic6\", \"Topic6\", \"Topic6\", \"Topic6\", \"Topic6\", \"Topic6\", \"Topic6\", \"Topic6\", \"Topic6\", \"Topic6\", \"Topic6\", \"Topic6\", \"Topic6\", \"Topic6\", \"Topic6\", \"Topic6\", \"Topic6\", \"Topic6\", \"Topic6\", \"Topic6\", \"Topic6\", \"Topic6\", \"Topic6\", \"Topic6\", \"Topic6\", \"Topic6\", \"Topic6\", \"Topic6\", \"Topic6\", \"Topic6\", \"Topic7\", \"Topic7\", \"Topic7\", \"Topic7\", \"Topic7\", \"Topic7\", \"Topic7\", \"Topic7\", \"Topic7\", \"Topic7\", \"Topic7\", \"Topic7\", \"Topic7\", \"Topic7\", \"Topic7\", \"Topic7\", \"Topic7\", \"Topic7\", \"Topic7\", \"Topic7\", \"Topic7\", \"Topic7\", \"Topic7\", \"Topic7\", \"Topic7\", \"Topic7\", \"Topic7\", \"Topic7\", \"Topic7\", \"Topic7\", \"Topic7\", \"Topic7\", \"Topic7\", \"Topic7\", \"Topic7\", \"Topic7\", \"Topic7\", \"Topic7\", \"Topic7\", \"Topic7\", \"Topic7\", \"Topic7\", \"Topic7\", \"Topic7\", \"Topic7\", \"Topic7\", \"Topic7\", \"Topic7\", \"Topic7\", \"Topic7\", \"Topic7\", \"Topic7\", \"Topic7\", \"Topic7\", \"Topic7\", \"Topic7\", \"Topic7\", \"Topic7\", \"Topic7\", \"Topic7\", \"Topic7\", \"Topic7\", \"Topic7\", \"Topic7\", \"Topic7\", \"Topic7\", \"Topic7\", \"Topic7\", \"Topic7\", \"Topic7\", \"Topic7\", \"Topic7\", \"Topic7\", \"Topic7\", \"Topic7\", \"Topic7\", \"Topic7\", \"Topic7\", \"Topic7\", \"Topic7\", \"Topic7\", \"Topic7\", \"Topic7\", \"Topic7\", \"Topic8\", \"Topic8\", \"Topic8\", \"Topic8\", \"Topic8\", \"Topic8\", \"Topic8\", \"Topic8\", \"Topic8\", \"Topic8\", \"Topic8\", \"Topic8\", \"Topic8\", \"Topic8\", \"Topic8\", \"Topic8\", \"Topic8\", \"Topic8\", \"Topic8\", \"Topic8\", \"Topic8\", \"Topic8\", \"Topic8\", \"Topic8\", \"Topic8\", \"Topic8\", \"Topic8\", \"Topic8\", \"Topic8\", \"Topic8\", \"Topic8\", \"Topic8\", \"Topic8\", \"Topic8\", \"Topic8\", \"Topic8\", \"Topic8\", \"Topic8\", \"Topic8\", \"Topic8\", \"Topic8\", \"Topic8\", \"Topic8\", \"Topic8\", \"Topic8\", \"Topic8\", \"Topic8\", \"Topic8\", \"Topic8\", \"Topic8\", \"Topic8\", \"Topic8\", \"Topic8\", \"Topic8\", \"Topic8\", \"Topic8\", \"Topic8\", \"Topic8\", \"Topic8\", \"Topic8\", \"Topic8\", \"Topic8\", \"Topic8\", \"Topic8\", \"Topic8\", \"Topic8\", \"Topic8\", \"Topic8\", \"Topic8\", \"Topic8\", \"Topic8\", \"Topic8\", \"Topic8\", \"Topic8\", \"Topic8\", \"Topic8\", \"Topic8\", \"Topic8\", \"Topic8\", \"Topic8\", \"Topic8\", \"Topic9\", \"Topic9\", \"Topic9\", \"Topic9\", \"Topic9\", \"Topic9\", \"Topic9\", \"Topic9\", \"Topic9\", \"Topic9\", \"Topic9\", \"Topic9\", \"Topic9\", \"Topic9\", \"Topic9\", \"Topic9\", \"Topic9\", \"Topic9\", \"Topic9\", \"Topic9\", \"Topic9\", \"Topic9\", \"Topic9\", \"Topic9\", \"Topic9\", \"Topic9\", \"Topic9\", \"Topic9\", \"Topic9\", \"Topic9\", \"Topic9\", \"Topic9\", \"Topic9\", \"Topic9\", \"Topic9\", \"Topic9\", \"Topic9\", \"Topic9\", \"Topic9\", \"Topic9\", \"Topic9\", \"Topic9\", \"Topic9\", \"Topic9\", \"Topic9\", \"Topic9\", \"Topic9\", \"Topic9\", \"Topic9\", \"Topic9\", \"Topic9\", \"Topic9\", \"Topic9\", \"Topic9\", \"Topic9\", \"Topic9\", \"Topic9\", \"Topic9\", \"Topic9\", \"Topic9\", \"Topic9\", \"Topic9\", \"Topic9\", \"Topic9\", \"Topic9\", \"Topic9\", \"Topic9\", \"Topic9\", \"Topic9\", \"Topic9\", \"Topic9\", \"Topic9\", \"Topic9\", \"Topic9\", \"Topic9\", \"Topic9\", \"Topic9\", \"Topic10\", \"Topic10\", \"Topic10\", \"Topic10\", \"Topic10\", \"Topic10\", \"Topic10\", \"Topic10\", \"Topic10\", \"Topic10\", \"Topic10\", \"Topic10\", \"Topic10\", \"Topic10\", \"Topic10\", \"Topic10\", \"Topic10\", \"Topic10\", \"Topic10\", \"Topic10\", \"Topic10\", \"Topic10\", \"Topic10\", \"Topic10\", \"Topic10\", \"Topic10\", \"Topic10\", \"Topic10\", \"Topic10\", \"Topic10\", \"Topic10\", \"Topic10\", \"Topic10\", \"Topic10\", \"Topic10\", \"Topic10\", \"Topic10\", \"Topic10\", \"Topic10\", \"Topic10\", \"Topic10\", \"Topic10\", \"Topic10\", \"Topic10\", \"Topic10\", \"Topic10\", \"Topic10\", \"Topic10\", \"Topic10\", \"Topic10\", \"Topic10\", \"Topic10\", \"Topic10\", \"Topic10\", \"Topic10\", \"Topic10\", \"Topic10\", \"Topic10\", \"Topic10\", \"Topic10\", \"Topic10\", \"Topic10\", \"Topic10\", \"Topic10\", \"Topic10\", \"Topic10\", \"Topic10\", \"Topic10\", \"Topic10\", \"Topic10\", \"Topic10\", \"Topic10\", \"Topic10\", \"Topic10\", \"Topic10\", \"Topic10\", \"Topic10\", \"Topic10\", \"Topic10\", \"Topic10\", \"Topic10\", \"Topic10\", \"Topic10\", \"Topic10\", \"Topic10\", \"Topic10\", \"Topic10\"], \"logprob\": [30.0, 29.0, 28.0, 27.0, 26.0, 25.0, 24.0, 23.0, 22.0, 21.0, 20.0, 19.0, 18.0, 17.0, 16.0, 15.0, 14.0, 13.0, 12.0, 11.0, 10.0, 9.0, 8.0, 7.0, 6.0, 5.0, 4.0, 3.0, 2.0, 1.0, -9.5649, -9.942, -9.8434, -10.0255, -9.7228, -10.1338, -10.2138, -10.2471, -10.2019, -10.2657, -9.8201, -9.9254, -10.3855, -10.3254, -9.6125, -10.268, -9.9247, -10.2916, -10.3398, -10.3209, -10.2768, -10.5043, -10.511, -10.5195, -10.5207, -10.5046, -10.3733, -9.5651, -10.1146, -10.3631, -9.9124, -9.9772, -10.1135, -10.1349, -9.7798, -10.1943, -9.6922, -9.4982, -10.0081, -10.067, -10.0346, -9.4891, -9.9341, -9.9016, -9.984, -8.9409, -9.6743, -9.7878, -6.4461, -9.3244, -6.921, -7.1089, -9.5326, -7.3137, -8.2064, -7.1957, -7.8846, -9.1555, -7.8618, -9.1235, -8.6943, -7.5684, -7.9915, -7.6286, -7.114, -8.1734, -8.4175, -8.0849, -7.797, -7.3499, -8.0399, -7.6714, -7.4413, -7.6929, -7.319, -8.7405, -8.0542, -7.6706, -8.002, -8.0568, -7.8248, -7.3585, -7.5737, -7.806, -7.9114, -7.9375, -7.9815, -7.8319, -9.7487, -9.9078, -9.9353, -9.9618, -9.9736, -9.601, -10.1246, -10.1482, -10.1917, -10.2146, -9.8266, -10.2316, -10.2529, -10.2614, -9.6589, -10.2887, -10.0706, -10.3728, -10.3723, -10.355, -9.9841, -9.9408, -10.4072, -10.4234, -9.4732, -10.4632, -10.4763, -10.3645, -10.3415, -10.3974, -10.1421, -9.9649, -9.687, -9.6913, -9.9305, -9.9621, -9.5375, -9.7872, -9.8721, -9.6121, -9.7009, -9.0782, -9.3984, -9.4123, -9.8971, -8.4503, -8.7233, -9.6407, -6.6442, -9.2982, -6.8386, -9.5584, -9.2266, -7.1447, -6.6976, -8.2611, -8.0983, -8.1543, -8.5056, -7.1718, -7.7611, -7.8547, -7.999, -7.6739, -7.828, -8.0254, -8.2702, -7.4679, -7.2612, -8.2174, -7.4656, -7.3493, -8.0083, -7.4812, -7.711, -8.2635, -8.2744, -8.0151, -7.6347, -7.9206, -7.9321, -7.9679, -8.0734, -7.9304, -8.1137, -8.0273, -8.1586, -8.1151, -8.1483, -9.6978, -9.8138, -9.8563, -9.5743, -9.9387, -9.7767, -10.0021, -9.6127, -9.2655, -10.1266, -10.2561, -10.2662, -10.2819, -10.1697, -10.0923, -10.2415, -10.2641, -10.3197, -10.3218, -10.1322, -10.2319, -9.8925, -10.3656, -10.3815, -10.2448, -9.8714, -10.3544, -10.4279, -10.431, -10.1433, -9.3726, -9.6923, -9.8724, -9.9444, -9.1503, -10.0489, -9.3609, -9.477, -9.2122, -9.8866, -9.7687, -9.9418, -9.6293, -8.4465, -9.7148, -9.6393, -9.5121, -9.6388, -8.7864, -9.4957, -9.4924, -8.09, -6.7627, -7.7961, -7.2481, -7.9071, -7.2574, -7.9472, -7.7717, -7.7181, -8.5042, -7.9144, -7.356, -7.5056, -7.6345, -7.7417, -9.1558, -7.6713, -7.9415, -8.1634, -8.1358, -7.85, -8.1759, -8.2822, -8.4404, -7.8438, -8.1184, -8.3689, -7.9905, -8.1306, -8.3693, -7.9663, -8.3037, -8.3304, -8.3566, -8.3435, -9.9868, -9.9997, -9.9262, -10.0428, -10.2127, -10.2317, -9.6623, -9.9416, -10.319, -10.2556, -10.2439, -10.3739, -10.1762, -10.0457, -10.3933, -10.4251, -10.0526, -10.4327, -10.3155, -10.3819, -10.4396, -9.774, -10.4773, -10.1299, -10.3281, -10.4907, -10.3615, -10.4992, -10.3403, -10.5183, -9.8125, -9.7623, -9.9321, -10.203, -9.8631, -10.1155, -9.2992, -9.6629, -10.1171, -9.9403, -9.7282, -10.2329, -10.0046, -9.9809, -9.7681, -9.9529, -8.8807, -10.0108, -9.6913, -9.41, -9.4276, -9.795, -9.5545, -7.5975, -9.1036, -9.6954, -9.5581, -7.5849, -6.9267, -7.1341, -7.4532, -7.7944, -7.6805, -8.0176, -7.7256, -7.7577, -7.3628, -7.1231, -7.5016, -8.4111, -8.2969, -8.4412, -7.835, -8.1654, -8.9026, -7.9251, -7.9473, -7.6544, -8.2722, -8.1456, -8.0347, -8.5256, -7.9521, -7.8519, -8.174, -7.7883, -7.9296, -7.937, -8.2008, -8.0513, -8.2092, -8.9279, -9.4697, -9.5062, -9.6499, -9.2608, -10.0493, -10.0682, -9.8952, -10.0969, -8.4327, -9.504, -10.1817, -10.1122, -10.1877, -10.2402, -9.9168, -10.2758, -10.2837, -10.304, -10.2918, -10.3326, -10.3423, -10.3509, -10.3474, -10.2836, -10.2233, -10.3691, -10.3037, -10.389, -10.4299, -10.1204, -10.1923, -9.8095, -10.2133, -9.2669, -10.0298, -10.0485, -10.0321, -8.7342, -9.9041, -9.2722, -9.3658, -9.7587, -8.8866, -9.9205, -9.6318, -9.4063, -9.5212, -9.8694, -9.2698, -9.6934, -9.1697, -9.7142, -9.8231, -8.9999, -9.5093, -9.2092, -9.2281, -9.5242, -8.7696, -8.9532, -6.8506, -7.104, -9.251, -7.6476, -9.0863, -9.0932, -8.2375, -8.1615, -8.4774, -7.6591, -7.7755, -7.7323, -7.7724, -7.7616, -7.9982, -8.5083, -7.9939, -7.7478, -8.3226, -7.7646, -8.2671, -7.8678, -8.2882, -8.3562, -8.1555, -8.2719, -7.922, -8.3165, -8.2158, -8.189, -8.2257, -8.3174, -8.3882, -8.3981, -8.3776, -9.5715, -9.9137, -10.0256, -10.0489, -10.0767, -10.0776, -10.079, -9.8876, -10.116, -9.9316, -10.1514, -10.155, -10.0124, -10.1988, -9.7648, -9.6197, -10.24, -10.2922, -10.155, -10.2167, -10.3374, -10.2829, -9.6496, -10.2647, -10.1791, -9.9787, -10.1864, -10.3388, -10.3814, -10.086, -9.5893, -9.6756, -9.2294, -9.6732, -10.1472, -10.0559, -8.2427, -9.4979, -9.8144, -9.0504, -9.624, -9.6129, -9.5739, -10.0396, -9.8145, -9.5466, -8.7488, -9.7137, -8.9605, -9.2152, -9.7077, -9.9056, -6.8709, -9.1221, -7.2795, -8.6627, -9.6492, -7.5207, -8.1851, -7.5539, -7.581, -7.529, -8.2258, -7.6927, -8.0339, -8.2775, -8.0428, -8.2864, -8.3602, -7.9851, -7.7488, -8.2732, -8.2257, -8.167, -8.1095, -8.2064, -8.4749, -8.2053, -8.3764, -8.4627, -8.3873, -8.2502, -8.1937, -8.4657, -8.4647, -8.8152, -9.8849, -9.6698, -9.8989, -10.0465, -9.4924, -10.0571, -9.4804, -10.2378, -10.2427, -10.1736, -9.8451, -10.2434, -10.3226, -10.3279, -10.2749, -10.3464, -10.2831, -10.3498, -9.8724, -10.0353, -10.3741, -10.3757, -10.4014, -10.3834, -10.0627, -10.4134, -10.1681, -10.4283, -10.4303, -9.269, -10.3267, -9.9596, -10.032, -9.9981, -9.9555, -9.7585, -9.5206, -9.7545, -9.605, -9.6049, -9.8815, -9.8713, -9.3709, -10.0017, -9.7098, -9.9375, -9.3099, -9.6423, -7.0826, -7.7809, -7.9064, -7.7059, -8.0474, -7.4258, -7.1797, -7.4997, -8.7286, -7.51, -8.1018, -8.1333, -7.7666, -7.8435, -7.8487, -8.2354, -8.3623, -9.3734, -8.4635, -8.2207, -8.2835, -8.3129, -8.5079, -8.6058, -8.527, -8.4679, -8.1577, -8.4897, -8.7196, -8.2992, -8.4313, -8.3933, -8.4127, -8.5072, -8.5189, -9.2507, -9.6358, -9.6787, -9.7768, -10.0291, -10.0551, -10.0411, -10.1468, -10.2172, -10.2046, -10.3205, -9.9615, -10.3382, -10.0963, -10.3421, -10.2407, -9.6108, -10.3538, -10.3597, -10.3786, -10.1032, -10.1369, -10.2007, -10.4176, -9.6722, -9.787, -10.4343, -10.369, -10.4755, -10.4533, -9.5741, -9.9655, -9.8875, -9.9477, -10.0136, -9.8116, -9.6762, -9.6865, -9.8265, -9.8291, -9.843, -9.6239, -9.5027, -9.0694, -9.5252, -9.4525, -9.2908, -9.7348, -8.9921, -7.7322, -9.1163, -9.3866, -7.6278, -7.711, -7.8911, -8.4051, -8.0741, -7.9246, -8.3571, -8.2147, -8.0074, -8.5042, -7.8767, -8.0719, -8.2062, -8.4652, -8.219, -8.366, -8.6173, -8.4892, -8.5612, -8.7144, -8.3594, -8.6291, -8.6519, -8.6561, -8.5747, -8.5909, -8.7139, -8.5421, -8.6988, -9.1288, -8.5025, -9.6356, -9.1189, -9.9052, -9.9138, -9.958, -9.9425, -10.0282, -10.0928, -10.0944, -10.1744, -10.1805, -10.1475, -10.2469, -10.2244, -10.2567, -10.2819, -10.285, -10.2867, -10.3381, -10.3769, -10.3907, -10.3917, -10.3875, -10.3725, -10.2656, -9.7228, -10.4492, -10.4512, -10.2402, -9.8063, -9.5002, -9.8427, -9.5263, -10.0786, -10.0002, -9.6909, -10.1206, -9.8748, -9.0358, -9.828, -9.7761, -8.8158, -9.9961, -8.3181, -9.5802, -9.5982, -7.4049, -7.6817, -9.4225, -7.7939, -7.8989, -8.3729, -7.9802, -8.1293, -8.1913, -8.2188, -8.3554, -8.0519, -8.2, -7.9962, -8.1287, -8.2853, -8.4625, -8.5764, -8.5698, -8.6335, -8.514, -8.3945, -8.7188, -8.4204, -8.4863, -8.6684, -8.6811, -8.7072, -8.6836, -9.6682, -9.7223, -9.9651, -9.9988, -10.0045, -10.0091, -9.7595, -9.9468, -10.1458, -10.2089, -10.1518, -10.1314, -10.2603, -10.3, -10.1469, -10.3288, -10.3688, -10.2645, -10.2175, -10.2033, -9.7516, -10.4343, -10.4351, -10.4424, -10.113, -10.4669, -10.4727, -10.4548, -10.3432, -10.4841, -9.8548, -9.1425, -9.9186, -10.2073, -9.6097, -9.8562, -10.2015, -9.9974, -9.837, -9.2721, -10.0456, -9.8255, -9.79, -9.8418, -9.6472, -9.7308, -9.9301, -9.8464, -9.8795, -9.818, -9.6471, -8.3017, -9.2839, -7.4457, -7.4266, -7.5254, -9.3664, -9.3387, -7.8707, -7.7216, -7.5081, -8.0591, -7.831, -8.2606, -8.9766, -8.121, -7.8808, -8.18, -8.2796, -8.1572, -8.533, -8.3506, -8.7851, -8.3128, -8.3357, -8.628, -8.7549, -8.6207, -8.6688, -8.6883, -8.6495, -8.7937, -8.7508, -8.7692, -8.7547, -8.7808, -8.7789], \"loglift\": [30.0, 29.0, 28.0, 27.0, 26.0, 25.0, 24.0, 23.0, 22.0, 21.0, 20.0, 19.0, 18.0, 17.0, 16.0, 15.0, 14.0, 13.0, 12.0, 11.0, 10.0, 9.0, 8.0, 7.0, 6.0, 5.0, 4.0, 3.0, 2.0, 1.0, 1.6494, 1.6391, 1.6351, 1.6333, 1.6323, 1.6317, 1.629, 1.6273, 1.625, 1.6238, 1.6217, 1.6214, 1.6211, 1.6208, 1.6208, 1.6196, 1.6184, 1.6178, 1.6169, 1.6168, 1.6162, 1.6147, 1.6144, 1.6138, 1.6137, 1.6137, 1.6135, 1.6127, 1.6126, 1.6104, 1.6089, 1.6067, 1.6059, 1.6049, 1.5932, 1.6058, 1.5785, 1.5677, 1.5821, 1.5883, 1.5814, 1.4912, 1.5634, 1.546, 1.5588, 1.3015, 1.4778, 1.5009, 0.4716, 1.3558, 0.5435, 0.5337, 1.3972, 0.5438, 0.8857, 0.479, 0.7404, 1.2477, 0.7078, 1.2287, 1.0437, 0.5277, 0.7062, 0.5032, 0.2484, 0.7648, 0.8813, 0.7073, 0.5416, 0.2914, 0.6241, 0.4168, 0.2666, 0.4076, 0.1601, 1.0047, 0.5557, 0.2777, 0.5046, 0.5283, 0.325, -0.117, 0.0104, 0.1409, 0.2363, 0.1822, 0.1592, -0.3763, 1.7213, 1.7162, 1.7153, 1.7144, 1.7139, 1.712, 1.7074, 1.7069, 1.705, 1.704, 1.7033, 1.7031, 1.7022, 1.7018, 1.6999, 1.6986, 1.6983, 1.696, 1.6957, 1.6955, 1.6946, 1.6937, 1.6937, 1.6933, 1.6913, 1.6909, 1.6902, 1.6902, 1.6898, 1.6897, 1.6887, 1.6837, 1.6775, 1.647, 1.6558, 1.6555, 1.6146, 1.6388, 1.6434, 1.6025, 1.608, 1.5063, 1.5493, 1.5412, 1.6349, 1.3014, 1.3595, 1.5592, 0.5974, 1.4409, 0.617, 1.5098, 1.3641, 0.4394, 0.2201, 0.9073, 0.8304, 0.8329, 0.9868, 0.2928, 0.5642, 0.5945, 0.6741, 0.4458, 0.5198, 0.6331, 0.7566, 0.2401, 0.1011, 0.7167, 0.2091, 0.1297, 0.5673, 0.1613, 0.2373, 0.6637, 0.6091, 0.3707, 0.0066, 0.227, 0.1684, 0.1819, 0.3314, -0.0728, 0.3135, -0.0804, 0.3163, -0.0269, -0.0165, 2.109, 2.1076, 2.1056, 2.1054, 2.0982, 2.0982, 2.0977, 2.0909, 2.0887, 2.0815, 2.081, 2.0803, 2.0791, 2.079, 2.0783, 2.0774, 2.0763, 2.076, 2.0758, 2.0756, 2.0733, 2.0729, 2.0726, 2.0686, 2.0684, 2.0683, 2.0675, 2.0674, 2.0668, 2.0654, 2.0577, 2.0599, 2.0597, 2.0593, 2.0296, 2.0552, 1.9738, 1.9816, 1.9382, 2.0265, 2.0029, 2.0236, 1.9645, 1.7339, 1.9614, 1.9385, 1.8967, 1.9038, 1.5441, 1.8324, 1.8269, 0.9786, 0.155, 0.7882, 0.3933, 0.6779, 0.1981, 0.6778, 0.5327, 0.4226, 1.0088, 0.5076, 0.0064, -0.041, 0.0735, 0.1159, 1.4821, -0.0871, 0.1468, 0.3709, 0.2398, -0.1752, 0.1494, 0.2889, 0.4978, -0.3648, -0.0222, 0.3772, -0.348, -0.1837, 0.3444, -0.7247, 0.1455, 0.1907, 0.2114, -0.3951, 2.1653, 2.1651, 2.1622, 2.159, 2.1501, 2.1488, 2.147, 2.1434, 2.1417, 2.1415, 2.1399, 2.1372, 2.1334, 2.133, 2.1328, 2.1326, 2.1322, 2.1319, 2.1314, 2.1313, 2.1312, 2.129, 2.1275, 2.1273, 2.1266, 2.1263, 2.1256, 2.1253, 2.1235, 2.1231, 2.1185, 2.1153, 2.1176, 2.1213, 2.1127, 2.1191, 2.0881, 2.0975, 2.1173, 2.1022, 2.0799, 2.1196, 2.0983, 2.0947, 2.0655, 2.0817, 1.8646, 2.0752, 1.98, 1.8627, 1.8369, 1.9822, 1.8809, 1.0125, 1.6735, 1.9375, 1.8754, 0.7195, 0.3149, 0.345, 0.4937, 0.5972, 0.4694, 0.6409, 0.3705, 0.383, -0.0005, -0.2054, 0.0825, 0.8485, 0.7445, 0.8607, 0.2847, 0.4601, 1.2044, 0.1754, 0.1845, -0.1988, 0.4689, 0.2764, 0.113, 0.7333, -0.0038, -0.144, 0.2532, -0.3237, -0.2882, -0.2945, 0.1471, -0.3765, 0.1161, 2.3857, 2.3837, 2.3813, 2.3746, 2.365, 2.3476, 2.3455, 2.3447, 2.3439, 2.3433, 2.341, 2.3367, 2.3346, 2.3315, 2.3313, 2.3304, 2.3278, 2.3269, 2.3249, 2.3241, 2.322, 2.321, 2.3201, 2.3191, 2.319, 2.319, 2.3181, 2.3137, 2.3124, 2.3116, 2.3114, 2.3107, 2.2974, 2.3087, 2.2431, 2.2956, 2.2934, 2.2857, 2.1122, 2.2683, 2.1806, 2.1837, 2.2415, 2.0915, 2.2634, 2.2052, 2.14, 2.1467, 2.2363, 2.0103, 2.1499, 1.9231, 2.1542, 2.1965, 1.7814, 2.0369, 1.8668, 1.8706, 2.0301, 1.5419, 1.6051, 0.0672, 0.2583, 1.806, 0.4406, 1.6625, 1.6252, 0.7768, 0.6724, 0.95, -0.0165, 0.082, -0.091, -0.0644, -0.0869, 0.1336, 0.8498, 0.1066, -0.2688, 0.5823, -0.3, 0.4229, -0.4122, 0.3337, 0.4509, -0.0148, 0.1554, -0.6804, 0.1584, -0.0961, -0.2421, -0.2774, 0.0211, 0.2374, -0.302, -0.7935, 2.4159, 2.3942, 2.3855, 2.3839, 2.3815, 2.3812, 2.3812, 2.3808, 2.3781, 2.3761, 2.3749, 2.3745, 2.3732, 2.3705, 2.3675, 2.3664, 2.3663, 2.361, 2.3597, 2.3592, 2.3563, 2.355, 2.355, 2.3539, 2.3529, 2.3527, 2.3526, 2.3525, 2.3516, 2.351, 2.3459, 2.3436, 2.3005, 2.3113, 2.3463, 2.3378, 2.1577, 2.2819, 2.3134, 2.222, 2.2703, 2.2636, 2.2472, 2.3346, 2.2802, 2.2007, 1.9562, 2.2412, 1.9378, 2.0086, 2.191, 2.2882, 0.3707, 1.7026, 0.1995, 1.2979, 2.0758, 0.1206, 0.7055, 0.0887, 0.0938, -0.0735, 0.6455, 0.0153, 0.3046, 0.4733, 0.1049, 0.4272, 0.5233, -0.0381, -0.3864, 0.3523, 0.1792, -0.0352, -0.2519, -0.1058, 0.3407, -0.257, 0.0972, 0.2784, -0.0015, -0.6661, -1.2759, -0.0166, -0.345, 2.6449, 2.5798, 2.5778, 2.5744, 2.5705, 2.5694, 2.5693, 2.5601, 2.5493, 2.5487, 2.5473, 2.5465, 2.5429, 2.5388, 2.5376, 2.5364, 2.5357, 2.5357, 2.535, 2.5326, 2.5321, 2.532, 2.5316, 2.5282, 2.527, 2.5265, 2.5264, 2.5253, 2.5245, 2.524, 2.5057, 2.5217, 2.5027, 2.4982, 2.4817, 2.4761, 2.4488, 2.3955, 2.4037, 2.3627, 2.3464, 2.3945, 2.388, 2.1836, 2.4296, 2.2697, 2.391, 2.0452, 2.2065, 0.5016, 0.5947, 0.6511, 0.4439, 0.6561, 0.0298, -0.262, -0.0207, 1.1801, -0.2684, 0.2235, 0.2583, -0.3021, -0.201, -0.2074, 0.1866, 0.2567, 1.7561, 0.1621, -0.2737, -0.1953, -0.1811, 0.1821, 0.3523, 0.1461, 0.0056, -0.7953, 0.028, 0.5845, -0.6244, -0.3116, -0.5357, -0.7048, -0.1687, -0.3712, 2.7405, 2.719, 2.7178, 2.7097, 2.6843, 2.6812, 2.6744, 2.6702, 2.6593, 2.6477, 2.6469, 2.6457, 2.6442, 2.6439, 2.6437, 2.6426, 2.642, 2.6418, 2.6409, 2.6379, 2.6366, 2.6338, 2.6325, 2.6323, 2.6307, 2.6295, 2.6291, 2.6237, 2.6229, 2.6226, 2.619, 2.6226, 2.6145, 2.6129, 2.5991, 2.5708, 2.5529, 2.5479, 2.5657, 2.5621, 2.5079, 2.436, 2.3804, 2.2003, 2.3747, 2.2124, 2.0877, 2.3871, 1.8228, 0.2161, 1.6608, 1.9074, -0.2654, -0.4694, -0.2498, 0.4784, -0.1272, -0.4691, 0.1606, -0.1142, -0.5283, 0.2066, -0.959, -0.6073, -0.3487, 0.1104, -0.5111, -0.2184, 0.2438, -0.062, 0.0605, 0.327, -0.6847, -0.0034, -0.0329, -0.0849, -0.4786, -0.4591, -0.0408, -0.958, -0.3734, 2.8088, 2.7974, 2.7628, 2.754, 2.753, 2.752, 2.7473, 2.7396, 2.7343, 2.7313, 2.7302, 2.7206, 2.7198, 2.7189, 2.7103, 2.7097, 2.7091, 2.7054, 2.7049, 2.7036, 2.6963, 2.6905, 2.6885, 2.6877, 2.6868, 2.685, 2.6839, 2.6787, 2.6786, 2.678, 2.6779, 2.6471, 2.6209, 2.6349, 2.5984, 2.6396, 2.6205, 2.5567, 2.6389, 2.55, 2.2183, 2.5216, 2.4804, 1.9996, 2.557, 1.4425, 2.2751, 2.2093, -0.4872, -0.3193, 1.8209, -0.3293, -0.191, 0.3233, -0.3055, -0.1824, -0.103, -0.078, 0.0304, -0.5963, -0.3424, -0.7546, -0.5446, -0.3369, -0.1581, -0.0189, -0.1942, -0.0485, -0.3822, -0.7532, 0.0105, -0.9414, -0.8438, -0.343, -0.2763, -0.1862, -0.5875, 2.7778, 2.7734, 2.7449, 2.7449, 2.744, 2.743, 2.7393, 2.738, 2.7211, 2.7178, 2.7143, 2.7116, 2.7106, 2.7043, 2.7021, 2.7003, 2.6928, 2.6925, 2.6915, 2.6912, 2.6911, 2.6832, 2.6831, 2.6819, 2.681, 2.6774, 2.6767, 2.6765, 2.6759, 2.6744, 2.6724, 2.652, 2.6587, 2.6679, 2.6238, 2.623, 2.6524, 2.615, 2.5845, 2.4531, 2.6197, 2.5464, 2.5296, 2.5323, 2.4505, 2.4836, 2.563, 2.514, 2.5085, 2.435, 2.2911, 1.031, 1.9264, 0.1384, -0.0643, -0.0463, 1.9096, 1.876, 0.0776, -0.266, -0.5904, 0.0886, -0.3664, 0.2144, 1.2743, -0.1741, -0.6392, -0.3225, -0.1599, -0.5146, 0.1255, -0.25, 0.5106, -0.6049, -0.661, 0.0318, 0.3024, -0.0451, 0.0043, 0.0566, -0.5534, -0.0644, -0.2773, -0.2013, -0.3275, -0.1913, -0.6471]}, \"token.table\": {\"Topic\": [9, 1, 2, 3, 4, 5, 6, 7, 8, 9, 10, 3, 8, 10, 6, 3, 2, 4, 2, 5, 9, 1, 7, 6, 10, 9, 10, 1, 2, 3, 6, 8, 8, 1, 2, 3, 4, 5, 6, 7, 8, 9, 10, 8, 10, 1, 3, 7, 1, 2, 4, 7, 7, 9, 2, 6, 7, 9, 9, 10, 6, 1, 3, 6, 7, 7, 1, 8, 2, 9, 1, 2, 3, 4, 5, 6, 7, 8, 9, 10, 7, 7, 3, 5, 8, 9, 4, 8, 4, 8, 9, 1, 3, 6, 7, 9, 1, 3, 6, 8, 10, 5, 9, 1, 2, 5, 6, 8, 9, 10, 5, 6, 7, 7, 10, 6, 2, 9, 8, 6, 9, 2, 1, 2, 3, 4, 5, 6, 7, 9, 9, 1, 2, 4, 8, 10, 2, 1, 2, 3, 4, 5, 6, 7, 8, 9, 10, 8, 1, 2, 3, 4, 5, 6, 7, 8, 9, 10, 1, 2, 3, 4, 5, 6, 7, 8, 9, 10, 2, 5, 3, 4, 9, 6, 6, 1, 2, 3, 4, 5, 6, 7, 8, 9, 10, 9, 1, 2, 3, 4, 5, 7, 9, 1, 2, 3, 4, 5, 6, 8, 9, 10, 1, 3, 7, 9, 3, 1, 2, 3, 4, 5, 6, 7, 8, 9, 10, 6, 10, 1, 2, 3, 4, 5, 7, 8, 9, 10, 3, 4, 1, 2, 3, 4, 5, 6, 7, 8, 9, 10, 8, 1, 2, 3, 4, 5, 6, 7, 8, 9, 10, 1, 4, 5, 1, 9, 10, 4, 7, 1, 2, 3, 9, 9, 4, 5, 2, 5, 9, 2, 3, 4, 2, 10, 7, 1, 2, 3, 4, 8, 10, 1, 2, 3, 4, 6, 9, 10, 6, 10, 3, 1, 2, 3, 4, 5, 6, 7, 8, 9, 10, 3, 4, 5, 7, 4, 5, 4, 7, 4, 3, 7, 9, 1, 2, 10, 1, 10, 1, 3, 1, 2, 7, 1, 2, 3, 4, 5, 6, 7, 8, 9, 10, 1, 4, 2, 1, 2, 3, 4, 5, 6, 7, 8, 9, 10, 1, 2, 3, 4, 7, 8, 10, 3, 6, 7, 1, 2, 3, 4, 5, 6, 7, 8, 9, 10, 3, 7, 4, 1, 2, 3, 4, 5, 6, 7, 8, 9, 10, 1, 2, 3, 4, 5, 6, 7, 8, 9, 10, 3, 1, 2, 3, 4, 5, 6, 7, 8, 9, 10, 1, 5, 8, 2, 3, 1, 2, 7, 7, 9, 3, 2, 2, 8, 6, 5, 9, 5, 1, 3, 4, 7, 7, 5, 7, 5, 10, 1, 2, 3, 4, 5, 6, 7, 8, 9, 10, 1, 2, 3, 4, 5, 6, 7, 8, 9, 10, 3, 3, 6, 1, 2, 9, 3, 9, 8, 1, 2, 3, 4, 5, 6, 7, 8, 9, 10, 1, 2, 3, 4, 5, 6, 7, 8, 9, 10, 1, 8, 1, 2, 5, 6, 5, 1, 3, 3, 3, 2, 5, 6, 9, 10, 1, 2, 3, 4, 5, 6, 1, 2, 3, 4, 5, 6, 7, 8, 9, 10, 2, 1, 5, 1, 5, 4, 4, 7, 2, 7, 1, 2, 3, 4, 5, 6, 7, 8, 9, 10, 1, 2, 3, 4, 5, 6, 7, 8, 9, 10, 1, 2, 3, 4, 5, 6, 7, 8, 9, 10, 1, 2, 3, 4, 5, 6, 7, 8, 9, 10, 1, 2, 3, 4, 5, 6, 9, 10, 1, 2, 3, 4, 5, 6, 7, 8, 9, 10, 7, 1, 2, 3, 4, 5, 6, 7, 8, 9, 10, 1, 4, 10, 6, 5, 8, 10, 8, 1, 2, 3, 4, 5, 6, 7, 8, 9, 10, 7, 8, 10, 1, 2, 3, 4, 5, 6, 7, 8, 9, 10, 1, 2, 3, 4, 5, 6, 7, 8, 9, 10, 5, 10, 3, 2, 3, 10, 2, 9, 1, 2, 3, 4, 5, 6, 7, 8, 10, 6, 1, 2, 4, 5, 6, 7, 8, 9, 10, 1, 2, 3, 4, 5, 6, 7, 8, 9, 10, 7, 2, 1, 2, 3, 4, 5, 6, 7, 8, 9, 10, 10, 1, 2, 4, 5, 6, 8, 10, 4, 1, 4, 7, 10, 2, 2, 3, 8, 8, 6, 8, 1, 10, 10, 9, 7, 8, 1, 2, 3, 4, 5, 6, 7, 8, 9, 10, 8, 1, 2, 3, 4, 5, 6, 7, 8, 9, 10, 1, 2, 3, 4, 5, 6, 7, 8, 9, 10, 1, 2, 3, 5, 6, 1, 1, 1, 2, 3, 4, 5, 6, 7, 8, 9, 10, 2, 4, 4, 1, 1, 2, 3, 4, 5, 6, 7, 8, 9, 10, 7, 5, 1, 2, 3, 4, 5, 6, 7, 8, 9, 10, 1, 2, 3, 4, 5, 6, 7, 8, 9, 10, 1, 8, 2, 5, 8, 10, 8, 6, 4, 5, 2, 3, 8, 10, 1, 2, 8, 1, 2, 3, 4, 5, 6, 7, 8, 9, 10, 4, 1, 2, 2, 1, 2, 4, 5, 6, 7, 9, 5, 3, 7, 1, 3, 1, 2, 3, 4, 6, 8, 1, 1, 3, 1, 2, 4, 9, 3, 1, 2, 3, 4, 5, 6, 7, 8, 9, 10, 1, 2, 3, 4, 5, 6, 7, 8, 9, 10, 1, 2, 3, 4, 5, 6, 7, 8, 9, 10, 1, 2, 3, 4, 5, 6, 7, 8, 9, 10, 1, 2, 3, 4, 5, 6, 7, 8, 9, 10, 10, 3, 6, 1, 2, 3, 4, 5, 6, 7, 8, 9, 10, 1, 2, 3, 4, 5, 6, 7, 8, 9, 10, 9, 1, 2, 3, 4, 5, 6, 7, 8, 9, 10, 1, 2, 3, 4, 5, 6, 7, 8, 9, 10, 6, 1, 2, 6, 1, 6, 1, 1, 5, 1, 6, 7, 9, 10, 1, 2, 10, 1, 2, 4, 8, 5, 4, 1, 2, 3, 4, 5, 6, 7, 8, 9, 10, 5, 1, 3, 9, 10, 1, 4, 2, 6, 1, 2, 3, 4, 5, 6, 7, 8, 9, 10, 1, 2, 3, 4, 5, 6, 7, 8, 9, 10, 5, 5, 1, 2, 3, 4, 5, 6, 7, 8, 9, 10, 5, 1, 2, 3, 4, 5, 6, 7, 8, 9, 8, 1, 5, 6, 7, 8, 9, 8, 5, 6, 1, 2, 3, 4, 5, 6, 7, 8, 9, 10, 1, 2, 3, 4, 5, 6, 7, 8, 9, 10, 1, 2, 3, 4, 5, 6, 7, 8, 9, 10, 5, 6, 1, 2, 5, 6, 7, 6, 5, 10, 1, 2, 3, 5, 10, 1, 2, 3, 4, 5, 6, 7, 8, 9, 10, 1, 2, 3, 4, 5, 6, 7, 8, 9, 10, 1, 2, 3, 4, 7, 8, 9, 10, 1, 2, 3, 4, 5, 6, 7, 8, 9, 10, 10, 10, 1, 2, 3, 4, 5, 6, 7, 8, 9, 10, 1, 2, 3, 4, 5, 6, 7, 8, 9, 10, 1, 2, 3, 4, 5, 6, 7, 8, 9, 10, 1, 2, 3, 4, 5, 6, 7, 8, 9, 10, 5, 1, 2, 3, 4, 5, 6, 7, 8, 9, 10, 2, 1, 5, 1, 5, 3, 8, 1, 2, 3, 4, 6, 7, 8, 9, 10, 1, 2, 3, 4, 5, 6, 7, 8, 9, 10, 1, 2, 3, 4, 5, 6, 7, 8, 9, 10, 1, 3, 5, 10, 2, 6, 7, 3, 4, 7, 6, 2, 5, 1, 2, 3, 4, 5, 6, 7, 8, 9, 10, 3, 2, 3, 1, 2, 3, 4, 5, 6, 7, 8, 9, 10, 8, 9, 1, 2, 3, 4, 5, 6, 7, 8, 9, 10, 6, 8, 10, 1, 3, 6, 4, 4, 6, 2, 5, 10, 1, 2, 3, 4, 5, 6, 7, 8, 9, 10, 2, 3, 1, 4, 1, 2, 3, 4, 5, 6, 7, 8, 9, 10, 7, 6, 2, 4, 1, 2, 3, 4, 5, 6, 9, 10, 1, 2, 3, 4, 5, 6, 7, 9, 3, 4, 5, 7, 4, 5, 1, 4, 1, 2, 3, 4, 5, 6, 7, 8, 9, 10, 4, 8, 4, 1, 2, 3, 4, 5, 6, 7, 9, 10, 1, 2, 3, 4, 5, 6, 7, 8, 9, 10, 9, 1, 2, 3, 4, 5, 6, 7, 8, 9, 10, 8, 1, 2, 3, 4, 5, 6, 7, 8, 9, 10, 1, 8, 10, 1, 2, 3, 4, 5, 6, 7, 8, 9, 10, 9, 4, 4, 8, 9, 10, 10, 1, 2, 3, 4, 5, 6, 7, 8, 9, 10, 1, 3, 4, 8, 6, 1, 2, 3, 5, 6, 7, 3, 5, 6, 7, 7, 1, 2, 3, 4, 5, 6, 7, 8, 9, 10, 1, 8, 2, 2, 3, 4, 6, 7, 9, 4, 3, 1, 2, 3, 4, 5, 6, 7, 8, 9, 10, 4, 8, 7, 1, 7, 4, 2, 1, 2, 3, 4, 5, 6, 7, 8, 9, 10, 2, 6, 4, 5, 10, 6, 7, 1, 2, 3, 4, 5, 6, 7, 8, 9, 10, 9, 1, 2, 3, 4, 5, 6, 7, 8, 9, 10, 3, 1, 5, 6, 10, 1, 2, 3, 4, 5, 6, 7, 8, 9, 10, 5, 6, 7, 9, 1, 2, 3, 4, 5, 6, 7, 8, 9, 10, 3, 1, 10, 6, 2, 6, 7, 8, 8, 6, 3, 9, 9, 5, 1, 2, 1, 2, 3, 9, 10, 1, 2, 4, 5, 6, 8, 5, 3, 10, 5, 9, 1, 2, 3, 4, 5, 6, 7, 8, 9, 10, 1, 2, 3, 4, 5, 6, 8, 9, 1, 2, 3, 4, 5, 6, 7, 8, 9, 10, 1, 1, 2, 4, 3, 5, 6, 9, 3, 10, 1, 1, 2, 4, 7, 10, 2, 5, 10, 1, 5, 1, 4, 2, 1, 2, 3, 4, 5, 6, 7, 8, 9, 10, 2, 9, 9, 1, 3, 7, 9, 2, 1, 2, 6, 10, 5, 6, 8, 9, 10, 2, 9, 3, 8, 4, 8, 9, 1, 2, 3, 4, 5, 6, 7, 8, 9, 10, 7, 1, 3, 4, 5, 8, 2, 9, 9, 2, 8, 1, 2, 3, 4, 5, 6, 7, 8, 9, 10, 8, 9, 6, 1, 2, 10, 5, 10, 1, 2, 3, 4, 5, 6, 7, 8, 9, 10, 3, 5, 1, 2, 3, 4, 5, 6, 7, 8, 9, 10, 1, 7, 7, 1, 2, 3, 4, 5, 6, 7, 8, 9, 10, 1, 4, 6, 1, 1, 2, 3, 4, 5, 6, 7, 8, 9, 10, 1, 2, 3, 4, 5, 6, 7, 8, 9, 10, 1, 2, 6, 3, 7, 7, 1, 4, 7, 8, 9, 3, 4, 7, 9, 1, 8, 2, 8, 2, 10, 5, 7, 8, 6, 8, 1, 2, 3, 4, 5, 6, 7, 8, 9, 10, 2, 5, 9, 5, 1, 2, 3, 4, 5, 6, 7, 8, 9, 10, 1, 2, 3, 4, 5, 6, 7, 8, 9, 10, 3, 4, 3, 7, 4, 8, 1, 2, 3, 4, 5, 6, 7, 8, 9, 10, 1, 3, 4, 5, 7, 9, 10, 4, 5, 6, 9, 1, 2, 3, 4, 5, 6, 7, 8, 9, 10, 1, 2, 3, 4, 5, 6, 7, 8, 9, 10, 3, 2, 3, 7, 1, 2, 3, 4, 5, 6, 7, 8, 9, 10, 8, 5, 8, 10, 7, 1, 5, 6, 8, 10, 3, 5, 8, 1, 7, 9, 10, 6, 10, 8, 1, 2, 3, 4, 5, 7, 10, 6, 1, 2, 3, 4, 7, 8, 10, 5, 1, 2, 3, 4, 5, 6, 7, 8, 9, 10, 1, 2, 3, 4, 5, 6, 7, 8, 9, 10, 1, 10, 2, 3, 6, 2, 3, 8, 1, 2, 3, 4, 5, 6, 7, 8, 9, 10, 2, 1, 2, 3, 4, 6, 8, 7, 9, 1, 2, 6, 7, 7, 4, 2, 8, 3, 8, 3, 9, 2, 4, 9, 4, 5, 1, 3, 6, 3, 1, 2, 3, 6, 7, 8, 9, 5, 5, 9, 10, 5, 1, 2, 3, 4, 5, 6, 7, 9, 10, 6, 7, 1, 2, 3, 4, 5, 6, 7, 8, 9, 10, 6, 1, 2, 3, 4, 5, 6, 8, 9, 10, 4, 5, 7, 8, 9, 1, 4, 1, 2, 3, 4, 5, 6, 7, 8, 9, 10, 1, 6, 5, 6, 1, 6, 1, 7, 1, 2, 4, 6, 1, 8, 5, 7, 10, 4, 7, 1, 2, 3, 4, 5, 6, 7, 8, 9, 10, 2, 1, 5, 1, 4, 1, 2, 3, 4, 5, 6, 7, 8, 9, 10, 1, 3, 9, 1, 3, 10, 5, 8, 2, 5, 4, 5, 8, 8, 1, 3, 4, 8, 2, 9, 2, 10, 1, 4, 4, 5, 7, 4, 5, 6, 1, 2, 4, 6, 1, 2, 3, 4, 5, 6, 7, 8, 9, 6, 10, 7, 6, 9, 2, 4, 8, 10, 7, 1, 8, 1, 2, 3, 4, 5, 6, 7, 8, 9, 10, 1, 2, 3, 4, 5, 6, 7, 8, 9, 10, 3, 1, 2, 3, 4, 5, 6, 7, 8, 9, 10, 1, 2, 3, 4, 5, 6, 7, 8, 9, 10, 1, 2, 3, 4, 5, 6, 7, 8, 9, 10, 1, 2, 3, 4, 5, 6, 7, 8, 9, 10, 1, 2, 3, 6, 7, 1, 2, 3, 7, 8, 1, 2, 3, 4, 5, 6, 7, 8, 9, 10, 8, 1, 2, 3, 4, 5, 6, 8, 9, 10, 3, 10, 1, 2, 3, 4, 5, 6, 7, 8, 9, 10, 7, 1, 2, 3, 4, 5, 6, 7, 8, 9, 10, 4, 3, 5, 1, 2, 10, 10, 1, 2, 3, 4, 5, 6, 7, 9, 10, 1, 2, 3, 4, 5, 6, 7, 8, 9, 10], \"Freq\": [0.8497514955103084, 0.17750170366552306, 0.20613101070834938, 0.11642584864082696, 0.12406033051891398, 0.07252757784182663, 0.08588792112847891, 0.07061895737230488, 0.07061895737230488, 0.04198965032947858, 0.03244654798186981, 0.07532538672658802, 0.8285792539924682, 0.7742606901633566, 0.877795722516401, 0.9623589416597613, 0.07470427526498377, 0.8964513031798053, 0.9307160591467591, 0.9123558025047571, 0.8155486407819189, 0.09560859867894501, 0.8604773881105051, 0.851542358812413, 0.8655652078639169, 0.8494008354051229, 0.8729380331751975, 0.034380911567326186, 0.06876182313465237, 0.7563800544811761, 0.034380911567326186, 0.06876182313465237, 0.8736903523233697, 0.04836929427709651, 0.12092323569274128, 0.07255394141564478, 0.07255394141564478, 0.5320622370480617, 0.04836929427709651, 0.024184647138548256, 0.024184647138548256, 0.024184647138548256, 0.024184647138548256, 0.9089669463865432, 0.8198152203103412, 0.032553147094016494, 0.9440412657264783, 0.032553147094016494, 0.05337841585558713, 0.2668920792779356, 0.05337841585558713, 0.6405409902670456, 0.79461984729964, 0.796260421287469, 0.05586803497388312, 0.8380205246082467, 0.05586803497388312, 0.8597997379631549, 0.18013622305070545, 0.7205448922028218, 0.8676869199979553, 0.8245270020488134, 0.026597645227381075, 0.05319529045476215, 0.07979293568214323, 0.8937500177964381, 0.9237546952210226, 0.043988318820048694, 0.9769103218598543, 0.91372489528348, 0.3235746524727937, 0.23236122163169756, 0.11118717482089825, 0.07789760152122811, 0.06524756366735347, 0.025965867173742708, 0.05060015141549861, 0.03328957329967014, 0.04127907089159097, 0.03928169649361076, 0.8220928270350946, 0.8050730482838048, 0.018260514691285517, 0.9130257345642758, 0.036521029382571034, 0.018260514691285517, 0.9016746704426458, 0.056354666902665364, 0.9497337993286332, 0.9112190893882375, 0.802357306981147, 0.02999683884330756, 0.02999683884330756, 0.7799178099259966, 0.02999683884330756, 0.08999051652992268, 0.18865829271451054, 0.047164573178627635, 0.6603040245007868, 0.047164573178627635, 0.047164573178627635, 0.9559061728081296, 0.909026668402133, 0.11928206919248162, 0.039760689730827206, 0.6759317254240625, 0.039760689730827206, 0.039760689730827206, 0.039760689730827206, 0.039760689730827206, 0.07639746230270936, 0.07639746230270936, 0.7639746230270935, 0.8702417148414386, 0.8688871431376036, 0.8651756570189733, 0.9143744614914264, 0.9118153170686194, 0.8052352380304155, 0.05468009990555217, 0.8748815984888347, 0.936374636793268, 0.04891130658676967, 0.7825809053883147, 0.04891130658676967, 0.04891130658676967, 0.024455653293384835, 0.024455653293384835, 0.024455653293384835, 0.8394840083219741, 0.8355283033123495, 0.1412180065869059, 0.07060900329345295, 0.7060900329345294, 0.03530450164672647, 0.7800071752615086, 0.9535485927985093, 0.2844755502507122, 0.16894617831483344, 0.13416314160295595, 0.0720505760460319, 0.13664764422523293, 0.04969005244553924, 0.05714356031237013, 0.019876020978215697, 0.050932303756677726, 0.026087277533908104, 0.8991189109386116, 0.2581000414355997, 0.13778272888667353, 0.16689175611625243, 0.1280797198101472, 0.05821805445915783, 0.08344587805812621, 0.05627745264385257, 0.03881203630610522, 0.0349308326754947, 0.0349308326754947, 0.38194875728616656, 0.1467487330625798, 0.08845129116100699, 0.1045333440993719, 0.09649231763018945, 0.05427692866698156, 0.04020513234591227, 0.038194875728616656, 0.020102566172956134, 0.030153849259434203, 0.9425293398238282, 0.026929409709252235, 0.8300179131424057, 0.09577129767027759, 0.03192376589009253, 0.8933456272019134, 0.9546439350413443, 0.14247210817541486, 0.2765635041052171, 0.05447462959648215, 0.22208887450873493, 0.02514213673683792, 0.04609391735086952, 0.12152032756138327, 0.029332492859644236, 0.03771320510525688, 0.03352284898245056, 0.7901114595756179, 0.03022871267490786, 0.12091485069963144, 0.03022871267490786, 0.03022871267490786, 0.665031678847973, 0.12091485069963144, 0.03022871267490786, 0.07342250591299145, 0.1468450118259829, 0.07342250591299145, 0.07342250591299145, 0.5139575413909401, 0.05506687943474358, 0.01835562647824786, 0.01835562647824786, 0.01835562647824786, 0.07034158600528248, 0.07034158600528248, 0.07034158600528248, 0.7737574460581073, 0.9725360563157895, 0.2095706741931385, 0.36833633646066766, 0.053980325170959916, 0.050805011925609336, 0.041279072189557585, 0.08255814437911517, 0.07938283113376458, 0.041279072189557585, 0.02857781920815525, 0.044454385434908164, 0.9159085391134156, 0.7598875232761402, 0.1165536305131278, 0.14569203814140974, 0.0582768152565639, 0.08741522288484585, 0.0582768152565639, 0.0582768152565639, 0.0582768152565639, 0.3496608915393834, 0.0582768152565639, 0.06525594815324315, 0.913583274145404, 0.17595605579095833, 0.23615154856154932, 0.14817352066607017, 0.08797802789547916, 0.08334760537466447, 0.07871718285384978, 0.0648259152914057, 0.07408676033303509, 0.023152112604073464, 0.023152112604073464, 0.8403237545952376, 0.2166897111832334, 0.39980777697188136, 0.0854550973680357, 0.11292280723633291, 0.03662361315772959, 0.04577951644716199, 0.021363774342008927, 0.030519677631441325, 0.02441574210515306, 0.027467709868297194, 0.17205193342856553, 0.7312207170714036, 0.043012983357141384, 0.17617440810727386, 0.7046976324290954, 0.08808720405363693, 0.8706325628569861, 0.06697173560438355, 0.04136513890608642, 0.04136513890608642, 0.8273027781217284, 0.08273027781217283, 0.9166355072767142, 0.8833417235342744, 0.9196840349150599, 0.12664849203432166, 0.7598909522059298, 0.06332424601716083, 0.08983289856542295, 0.8084960870888066, 0.08983289856542295, 0.970057315666733, 0.8865539469350373, 0.929333836116092, 0.05579447530313295, 0.8369171295469944, 0.027897237651566476, 0.027897237651566476, 0.027897237651566476, 0.027897237651566476, 0.09001007831351561, 0.06000671887567707, 0.030003359437838537, 0.6900772670702864, 0.09001007831351561, 0.030003359437838537, 0.030003359437838537, 0.9221703019797541, 0.8750528937400164, 0.9568865247824685, 0.16364144737549036, 0.17248693101740875, 0.16806418919644955, 0.07960935277726558, 0.20786886558508233, 0.07518661095630638, 0.02653645092575519, 0.03538193456767359, 0.05307290185151038, 0.022113709104795994, 0.8750713951592993, 0.05469196219745621, 0.027345981098728104, 0.8894521368753595, 0.930922948919135, 0.8745581864093734, 0.8692559256221055, 0.0579503950414737, 0.8806359219672119, 0.10552130911240165, 0.8441704728992132, 0.8735298267415591, 0.03888655165169465, 0.8943906879889768, 0.770533877273227, 0.9454116885922467, 0.7839182437489445, 0.05998426084410481, 0.8997639126615722, 0.060122934342485675, 0.18036880302745703, 0.7214752121098281, 0.17246216432914513, 0.12503506913863022, 0.17246216432914513, 0.07329641983988668, 0.03880398697405765, 0.08623108216457256, 0.051738649298743535, 0.060361757515200794, 0.060361757515200794, 0.15952750200445925, 0.06060784196981854, 0.909117629547278, 0.9632503869463939, 0.2602668177239774, 0.20874191472278392, 0.05945181115522327, 0.171749676670645, 0.06473641659124311, 0.04227684348815877, 0.10701326007940189, 0.02642302718009923, 0.03170763261611908, 0.027744178539104193, 0.15936982766729846, 0.03541551725939966, 0.01770775862969983, 0.6906025865582933, 0.01770775862969983, 0.05312327588909949, 0.01770775862969983, 0.960539189724136, 0.09859043692592702, 0.8873139323333432, 0.0897411249839872, 0.029913708327995732, 0.059827416655991464, 0.029913708327995732, 0.059827416655991464, 0.029913708327995732, 0.029913708327995732, 0.5384467499039232, 0.11965483331198293, 0.029913708327995732, 0.06604974649568472, 0.9246964509395861, 0.879119737408627, 0.30314161184139493, 0.21359571566060345, 0.09693959403058157, 0.07393697849790119, 0.0805091543643813, 0.0928319841140315, 0.036968489248950596, 0.030396313382470494, 0.04189762114881068, 0.02957479139916048, 0.32350960212956476, 0.16175480106478238, 0.13019288866189802, 0.06016489551799832, 0.09567204697124324, 0.06608275409353914, 0.040438700266195594, 0.042411319791375864, 0.040438700266195594, 0.04142501002878573, 0.9282963250417912, 0.3065861172339949, 0.15329305861699746, 0.16036812286085889, 0.07546735193452182, 0.04009203071521472, 0.05895886869884518, 0.04952544970702995, 0.044808740211122335, 0.05660051395089137, 0.05424215920293756, 0.9551149024942278, 0.027288997214120793, 0.027288997214120793, 0.8971472344367378, 0.06408194531690985, 0.18250003071590387, 0.06083334357196796, 0.6691667792916475, 0.8761248201754804, 0.933437405015692, 0.9658875217814622, 0.9806030193314376, 0.953999765831399, 0.8701766005900473, 0.8854940692349633, 0.030833956758321287, 0.9250187027496386, 0.9391384958756297, 0.9192204454138249, 0.05257468760850974, 0.8411950017361558, 0.05257468760850974, 0.8852958175568465, 0.9471582796990063, 0.7865475692703203, 0.12078148881799974, 0.7246889329079984, 0.2753795685594559, 0.14828130614739932, 0.09744200118257669, 0.10167860992964524, 0.122861653664988, 0.07837726182076821, 0.06778573995309684, 0.027537956855945588, 0.031774565603014136, 0.04660269621775407, 0.3180226657233298, 0.16276750607886958, 0.11268519651614048, 0.1552551596444602, 0.06510700243154784, 0.03881378991111505, 0.04382202086738796, 0.03756173217204683, 0.03130144347670569, 0.03255350121577392, 0.9193879851241756, 0.12226980608263964, 0.8558886425784774, 0.0802474235735442, 0.1604948471470884, 0.6419793885883536, 0.09278088415041338, 0.8350279573537205, 0.857973725844595, 0.2534586736656639, 0.1662024089610911, 0.0706360238084637, 0.09972144537665464, 0.13711698739290015, 0.04986072268832732, 0.05817084313638188, 0.04570566246430005, 0.020775301120136386, 0.09556638515262737, 0.24543702993504826, 0.22080840063360743, 0.12484167266592419, 0.09341893872960313, 0.08237851869792277, 0.08577557101536289, 0.03397052317440114, 0.03651831241248123, 0.04670946936480157, 0.03142273393632106, 0.9519413119604125, 0.028846706423042805, 0.03825112958700412, 0.8797759805010948, 0.03825112958700412, 0.03825112958700412, 0.9545804169555763, 0.9041652178535212, 0.03931153121102266, 0.9758094004754808, 0.8998042061398221, 0.05372613862805582, 0.10745227725611164, 0.16117841588416748, 0.5372613862805582, 0.05372613862805582, 0.015077786410465959, 0.7840448933442299, 0.045233359231397874, 0.060311145641863836, 0.030155572820931918, 0.0753889320523298, 0.22388555158503118, 0.22810980727531477, 0.1225034150182246, 0.0633638353542541, 0.05702745181882869, 0.06970021888967952, 0.08870936949595574, 0.0591395796639705, 0.04224255690283607, 0.046466812593119675, 0.9483879354234619, 0.17818974313370062, 0.7573064083182276, 0.12421127150251167, 0.8073732647663259, 0.8676733569256218, 0.8925499514067142, 0.8378220287913385, 0.8896583375898695, 0.04236468274237474, 0.22562226833484614, 0.2704903330605258, 0.07563473768043137, 0.1435778071221748, 0.07948057179977534, 0.0602514012030555, 0.04999584355147158, 0.025638894128959786, 0.02051111530316783, 0.0487138988450236, 0.4039373569634659, 0.09589879697693794, 0.18889156980305957, 0.05521445886550973, 0.08427470037367274, 0.05230843471469342, 0.02324819320653041, 0.03487228980979561, 0.020342169055714107, 0.040684338111428214, 0.11692550858477346, 0.15731795700496795, 0.14031061030172817, 0.17007346703239778, 0.11054775357105855, 0.12117734526058341, 0.08078489684038895, 0.025511020054859664, 0.03614061174438453, 0.040392448420194474, 0.22590458241080494, 0.19643876731374343, 0.09821938365687172, 0.08839744529118454, 0.11786326038824606, 0.08839744529118454, 0.03273979455229057, 0.0458357123732068, 0.03273979455229057, 0.07530152747026832, 0.06503893534868244, 0.8238265144166442, 0.02167964511622748, 0.02167964511622748, 0.02167964511622748, 0.02167964511622748, 0.02167964511622748, 0.04335929023245496, 0.14965449853459734, 0.29930899706919467, 0.037413624633649334, 0.35542943401966864, 0.04676703079206167, 0.018706812316824667, 0.018706812316824667, 0.018706812316824667, 0.028060218475237, 0.028060218475237, 0.8817070493167555, 0.11919884378100583, 0.19204258164717605, 0.30793034643426503, 0.08608805384183754, 0.052977263902669255, 0.07946589585400389, 0.0463551059148356, 0.06291050088441974, 0.026488631951334628, 0.026488631951334628, 0.9583987887921582, 0.9276678236324357, 0.9220777288120975, 0.9401262191821197, 0.8597549975103177, 0.9231625109398888, 0.7645649366743461, 0.8871340312712179, 0.22839143377566765, 0.319197666481656, 0.04127556032090379, 0.060537488470658894, 0.02751704021393586, 0.14308860911246649, 0.038523856299510204, 0.0990613447701691, 0.03577215227811662, 0.011006816085574344, 0.1977851858115422, 0.7252123479756547, 0.06592839527051407, 0.23527420345714392, 0.2420937455863365, 0.1074077885347831, 0.11934198726087011, 0.044327023839751754, 0.10058824640559053, 0.056261222565838764, 0.02386839745217402, 0.04262213830745361, 0.025573282984472166, 0.24840295219590436, 0.2203226184694108, 0.0777609241656744, 0.1069212707278023, 0.06696079580933074, 0.06588078297369637, 0.037800449247202834, 0.07560089849440567, 0.04104048775410594, 0.0615607316311589, 0.10519680811306577, 0.8415744649045261, 0.957462299680486, 0.05692250180216216, 0.8538375270324324, 0.05692250180216216, 0.15907902978653166, 0.7158556340393925, 0.0501285629847475, 0.02506428149237375, 0.12532140746186876, 0.02506428149237375, 0.60154275581697, 0.02506428149237375, 0.07519284447712125, 0.02506428149237375, 0.07519284447712125, 0.8836989146731298, 0.07585209922709807, 0.6826688930438826, 0.12136335876335691, 0.015170419845419614, 0.04551125953625884, 0.015170419845419614, 0.030340839690839227, 0.015170419845419614, 0.030340839690839227, 0.4542325908033424, 0.08474488634390716, 0.10508365906644489, 0.15593059087278918, 0.04406734089883173, 0.04406734089883173, 0.054236727260100585, 0.01016938636126886, 0.02033877272253772, 0.03050815908380658, 0.8749294766119788, 0.9312471648560176, 0.251073439288501, 0.1747979640616146, 0.17161981926049436, 0.08024815622828671, 0.08024815622828671, 0.09534434403360798, 0.05561753401960465, 0.04687763581652392, 0.02701423080952226, 0.016685260205881396, 0.9202842954552402, 0.27095127400010005, 0.1204227884444889, 0.030105697111122227, 0.06021139422224445, 0.09031709133336668, 0.030105697111122227, 0.39137406244458894, 0.9095733239067126, 0.9375353178439342, 0.8791164725587814, 0.05494477953492384, 0.05494477953492384, 0.952055742549121, 0.8710468724734396, 0.031108816874051416, 0.031108816874051416, 0.8378646876003516, 0.8191857118048301, 0.06826547598373585, 0.9641677946591786, 0.9143907148323608, 0.7843165885348328, 0.8459004397356462, 0.8026701427476832, 0.1003337678434604, 0.3265201760498481, 0.09209543427046998, 0.058606185444844534, 0.2951240052758243, 0.052326951290039767, 0.039768482980430224, 0.03767540492882863, 0.03767540492882863, 0.020930780516015907, 0.04186156103203181, 0.9076513483426671, 0.04630080065883853, 0.1984320028235937, 0.07937280112943748, 0.052915200752958316, 0.1455168020706354, 0.01984320028235937, 0.15213120216475517, 0.0066144000941197895, 0.23811840338831244, 0.05952960084707811, 0.13484485547809408, 0.32300046777310903, 0.0909418792759239, 0.018815561229501496, 0.19129153916659855, 0.04390297620217016, 0.059582610560088074, 0.018815561229501496, 0.06271853743167166, 0.05331075681692091, 0.6853353772941977, 0.1392087485128839, 0.11779201797244022, 0.021416730540443678, 0.010708365270221839, 0.9449139568798899, 0.9551003712302518, 0.18984294107210717, 0.07593717642884287, 0.056952882321632155, 0.11390576464326431, 0.018984294107210718, 0.056952882321632155, 0.07593717642884287, 0.37968588214421434, 0.018984294107210718, 0.037968588214421436, 0.9478681667098271, 0.908417001059306, 0.9070416558986943, 0.9514244622871244, 0.20654755369931055, 0.06884918456643685, 0.02294972818881228, 0.01147486409440614, 0.4130951073986211, 0.14917323322727982, 0.06884918456643685, 0.01147486409440614, 0.01147486409440614, 0.034424592283218425, 0.902488196107863, 0.8606562617373482, 0.21853399203954676, 0.14742372478858312, 0.1925180406062674, 0.14222053450192726, 0.06764147372652637, 0.03989112553102838, 0.083251044586494, 0.03815672876880975, 0.03989112553102838, 0.03295353848215388, 0.2768098899031209, 0.16465415864927016, 0.057271011704093974, 0.1718130351122819, 0.04295325877807048, 0.1121557312538507, 0.059657303858431224, 0.04056696662373323, 0.033408090160721486, 0.04056696662373323, 0.09182749511680123, 0.8264474560512111, 0.14151864404856745, 0.09434576269904497, 0.09434576269904497, 0.6604203388933148, 0.7450383644919412, 0.9205432578679656, 0.909474108935851, 0.9689730030214044, 0.15930307299821206, 0.7965153649910603, 0.18053913284020814, 0.7221565313608326, 0.04105409340197877, 0.903190054843533, 0.8870887019218612, 0.19681809709962042, 0.35600920504784284, 0.05499329183665865, 0.06657082696016574, 0.12735288635857792, 0.04631014049402834, 0.05209890805578188, 0.043415756713151565, 0.03473260537052125, 0.02604945402789094, 0.9433466864101361, 0.06995287113946982, 0.9093873248131078, 0.9670109874500619, 0.035536655663689645, 0.035536655663689645, 0.017768327831844823, 0.4619765236279654, 0.4086715401324309, 0.035536655663689645, 0.017768327831844823, 0.8796672098262298, 0.1609547960170763, 0.7242965820768433, 0.9067846413654402, 0.041217483698429105, 0.9027181541561611, 0.024397787950166516, 0.024397787950166516, 0.024397787950166516, 0.935034231859101, 0.8571476265790832, 0.9233992804686685, 0.9574371810453278, 0.9556101366371318, 0.03523883162215863, 0.03523883162215863, 0.7047766324431725, 0.17619415811079311, 0.9170037142075297, 0.1461725037397386, 0.1883376490492786, 0.17990461998737062, 0.08714130030638265, 0.1574165424889493, 0.044976154996842654, 0.05622019374605332, 0.042165145309539985, 0.04778716468414532, 0.044976154996842654, 0.19637811147995596, 0.14828551275017082, 0.08816976433793941, 0.2524861433313719, 0.08416204777712398, 0.044084882168969705, 0.06011574841223141, 0.024046299364892564, 0.06011574841223141, 0.040077165608154275, 0.35125464824066244, 0.23416976549377494, 0.0684836106632738, 0.08615680051186059, 0.0729019081254205, 0.05301956954576036, 0.05743786700790706, 0.024300636041806833, 0.024300636041806833, 0.02871893350395353, 0.2629115233654189, 0.15654273910307384, 0.14249403174766978, 0.1384801153604115, 0.03813220567895389, 0.09031311871331184, 0.0541878712279871, 0.04214612206621219, 0.02809741471080813, 0.0461600384534705, 0.2540623451157446, 0.20863397877054524, 0.07571394390866562, 0.19517372207567135, 0.05215849469263631, 0.042063302171480896, 0.0891742006035395, 0.02019038504231083, 0.035333173824043954, 0.026920513389747776, 0.8621276414608776, 0.9349095731116713, 0.9291424749516263, 0.12596728154098624, 0.3054706577368916, 0.13384023663729788, 0.12124350848319924, 0.07715495994385406, 0.05196150363565682, 0.08660250605942803, 0.04093936650082052, 0.04093936650082052, 0.01574591019262328, 0.2202277445491185, 0.23171788774298555, 0.13979674219204913, 0.08426105008835838, 0.08234602622271388, 0.07468593076013584, 0.04787559664111272, 0.03255540571595665, 0.04787559664111272, 0.04213052504417919, 0.7775836039888134, 0.2859940686263664, 0.17080201320741326, 0.12313633510301887, 0.0536238878674437, 0.08738707652472306, 0.04567960818337797, 0.1310806147870846, 0.0238328390521972, 0.05560995778846013, 0.021846769131180766, 0.31848009677207567, 0.10411849317548627, 0.22865237716969533, 0.08778618052050803, 0.06328771153804068, 0.053080016128679276, 0.03878924255557332, 0.0204153908187228, 0.05512155521055156, 0.03266462530995648, 0.8649659110496692, 0.03123883505319583, 0.9684038866490707, 0.8698347089323389, 0.07760714896408186, 0.8536786386049005, 0.9451778429324823, 0.9415425348948134, 0.8740508365759143, 0.06846797740477266, 0.13693595480954532, 0.06846797740477266, 0.06846797740477266, 0.6846797740477266, 0.08547904645428775, 0.08547904645428775, 0.683832371634302, 0.08819122923429551, 0.08819122923429551, 0.08819122923429551, 0.7055298338743641, 0.9241607928061867, 0.9236837297823158, 0.45431310458956004, 0.17505642562166535, 0.05418413174003927, 0.08752821281083267, 0.06252015200773763, 0.029176070936944222, 0.050016121606190095, 0.025008060803095047, 0.0333440810707934, 0.025008060803095047, 0.8642143080417934, 0.05122431870596527, 0.05122431870596527, 0.5122431870596528, 0.3073459122357916, 0.06767643122124894, 0.8797936058762363, 0.9176244348593735, 0.04369640165997017, 0.21571471779831627, 0.15962889117075404, 0.09599304942025075, 0.17580749500562778, 0.06902870969546121, 0.08089301917436861, 0.05177153227159591, 0.05285010586058749, 0.047457237915629585, 0.047457237915629585, 0.31145672690108606, 0.2246263666741166, 0.0887179767536427, 0.06417896190689046, 0.06795419496023695, 0.07739227759360319, 0.06417896190689046, 0.04530279664015797, 0.02831424790009873, 0.02642663137342548, 0.9075023911169892, 0.9385344035274487, 0.13902213076801506, 0.4317003008059415, 0.12072974514064466, 0.04756020263116305, 0.03658477125474081, 0.0768280196349557, 0.06219411113305937, 0.03658477125474081, 0.02926781700379265, 0.021950862752844486, 0.8372204401829283, 0.07343764082770397, 0.014687528165540793, 0.19093786615203032, 0.014687528165540793, 0.4406258449662238, 0.08812516899324475, 0.14687528165540795, 0.029375056331081586, 0.029375056331081586, 0.8433835885034809, 0.06670345067289664, 0.23346207735513824, 0.03335172533644832, 0.06670345067289664, 0.5002758800467249, 0.10005517600934496, 0.7827019816946802, 0.1038502742484505, 0.7788770568633788, 0.32058652898673035, 0.20364801841340685, 0.08193650740851917, 0.08034550726466443, 0.08670950784008338, 0.09227800834357498, 0.056480505106843305, 0.020683001870111635, 0.02466050222974849, 0.034206503092876935, 0.3101170125677389, 0.1712780153093788, 0.0428195038273447, 0.12975607220407484, 0.09991217559713764, 0.08174632548856715, 0.057092671769792935, 0.03892682166122245, 0.03892682166122245, 0.029843896606937214, 0.15349935714982277, 0.08886804887621319, 0.10502587594461558, 0.10502587594461558, 0.06463130827360959, 0.30699871429964554, 0.04039456767100599, 0.08078913534201199, 0.016157827068402398, 0.04039456767100599, 0.7248327378148772, 0.25467096193495686, 0.11834651115834334, 0.03944883705278111, 0.7495279040028411, 0.03944883705278111, 0.03944883705278111, 0.9130907453947608, 0.8464249937859828, 0.9188164496059436, 0.032891500518605864, 0.9209620145209642, 0.032891500518605864, 0.10027435496608372, 0.8021948397286698, 0.12936180882592133, 0.33634070294739543, 0.09774003333514054, 0.1351112225515178, 0.051744723530368526, 0.12648710196312307, 0.022997654902386012, 0.020122948039587762, 0.034496482353579015, 0.045995309804772025, 0.06390344301873763, 0.6755506833409406, 0.04564531644195545, 0.07303250630712872, 0.01825812657678218, 0.04564531644195545, 0.01825812657678218, 0.00912906328839109, 0.02738718986517327, 0.01825812657678218, 0.10557995474330795, 0.7390596832031556, 0.03519331824776931, 0.03519331824776931, 0.017596659123884657, 0.017596659123884657, 0.017596659123884657, 0.03519331824776931, 0.12866807819707335, 0.3213402773434601, 0.14120496786755743, 0.08841806399183502, 0.05806559426329464, 0.07852051951513707, 0.07060248393377871, 0.03761066901145221, 0.03167214232543344, 0.04354919569747098, 0.7698955083047284, 0.8084324390999089, 0.15418783037777573, 0.21314200081633702, 0.12017580897091343, 0.0929661918454236, 0.13378061753365836, 0.07709391518888786, 0.0816288513764695, 0.036279489500653114, 0.03854695759444393, 0.04988429806339803, 0.23813919921429882, 0.1998668279120008, 0.10843838535651107, 0.12970081385778776, 0.057408556953447036, 0.08079722830485138, 0.05102982840306403, 0.059534799803574706, 0.027641157051659683, 0.04465109985268103, 0.19440527850258818, 0.11880322575158167, 0.10800293250143789, 0.06480175950086273, 0.043201173000575153, 0.06480175950086273, 0.021600586500287577, 0.03240087975043136, 0.15120410550201305, 0.20520557175273196, 0.14410739523276472, 0.1690490597922817, 0.1330222109840905, 0.09422406611373077, 0.07759628974071946, 0.17182035585445024, 0.0637398094298767, 0.06928240155421381, 0.03879814487035973, 0.03879814487035973, 0.8684876514210728, 0.16626283555758628, 0.2024069302440181, 0.1301187408711545, 0.13734755980844085, 0.05783055149829088, 0.13493795349601206, 0.033734488374003016, 0.03855370099886059, 0.04819212624857574, 0.050601732561004524, 0.9449375312729519, 0.06910737017734325, 0.8983958123054623, 0.9906292757024899, 0.8765784398184464, 0.09101362082078036, 0.8191225873870233, 0.11904970256233212, 0.08503550183023723, 0.03401420073209489, 0.08503550183023723, 0.5952485128116606, 0.017007100366047447, 0.017007100366047447, 0.017007100366047447, 0.017007100366047447, 0.30095558839629843, 0.21617936631283408, 0.13487126240551145, 0.08747364733157457, 0.09402453721984227, 0.02350613430496057, 0.05279246557015734, 0.02312078784094482, 0.03506652822543298, 0.03159841004929125, 0.11803281768837431, 0.3972811912437965, 0.08348662714543549, 0.10651742084072804, 0.07772892872161236, 0.05757698423823138, 0.040303888966761965, 0.04894043660249667, 0.031667341331027256, 0.0374250397548504, 0.9823552986626691, 0.9233827753589906, 0.7151391785378334, 0.2681771919516875, 0.059359822726609786, 0.7716776954459272, 0.059359822726609786, 0.8141616374718423, 0.08141616374718423, 0.040708081873592115, 0.9366733877806922, 0.07377705216324051, 0.8853246259588862, 0.5145293354383546, 0.1497996799377488, 0.09118241387515144, 0.07164332518761898, 0.04559120693757572, 0.013026059125021635, 0.02605211825004327, 0.01953908868753245, 0.03256514781255409, 0.02605211825004327, 0.8958065012406365, 0.943239419877082, 0.8765194961000954, 0.16179291696278097, 0.3053841307672491, 0.06876198970918192, 0.08291886994342525, 0.08291886994342525, 0.07685163555732095, 0.06471716678511238, 0.06673957824714714, 0.03438099485459096, 0.05460510947493858, 0.8853837305078224, 0.8085892608487977, 0.2757473585126443, 0.15704816445091002, 0.1095684868262163, 0.10591620393200908, 0.0712195164370406, 0.09313321380228384, 0.06939337498993699, 0.045653536177590125, 0.027392121706554074, 0.04382739473048652, 0.9293362097691539, 0.847548036509177, 0.7592925141427244, 0.959367403992597, 0.9241230927626078, 0.904651280827948, 0.8736465836116901, 0.8635827259333256, 0.07850752053939324, 0.15388611818842265, 0.07694305909421133, 0.6924875318479019, 0.2738129738624931, 0.2213321538721819, 0.0752985678121856, 0.11180696432718468, 0.03650839651499908, 0.08442566694093537, 0.043353720861561404, 0.03879017129718652, 0.07758034259437303, 0.031944846950624196, 0.957633041299611, 0.9172576468951824, 0.9711689634769622, 0.94643738925548, 0.17114333395231315, 0.2476544714839355, 0.15503572605091898, 0.12886086321115342, 0.08053803950697089, 0.06241698061790244, 0.05436317666720535, 0.05637662765487963, 0.016107607901394178, 0.028188313827439814, 0.9218975957697286, 0.8836365571965085, 0.9616355927660937, 0.9114805086252667, 0.028191292781623554, 0.11276517112649422, 0.05638258556324711, 0.028191292781623554, 0.19733904947136488, 0.14095646390811778, 0.028191292781623554, 0.39467809894272976, 0.017236806282284318, 0.034473612564568636, 0.017236806282284318, 0.017236806282284318, 0.44815696333939226, 0.3964465444925393, 0.034473612564568636, 0.017236806282284318, 0.07914159783468833, 0.03957079891734416, 0.7914159783468833, 0.03957079891734416, 0.9457203069559494, 0.8544014112844612, 0.9234192186323574, 0.038475800776348226, 0.18983729647440356, 0.2693738712818612, 0.10579865139482571, 0.11705382707512631, 0.039768287403728814, 0.04352001263049568, 0.11330210184835944, 0.023260696405954587, 0.03301518199554845, 0.06528001894574352, 0.8712649066808549, 0.10250175372715939, 0.9518291577200216, 0.1442280935907399, 0.6359147762864441, 0.06555822435942722, 0.0590024019234845, 0.013111644871885444, 0.03277911217971361, 0.045890757051599056, 0.006555822435942722, 0.006555822435942722, 0.1564298279932067, 0.09954625417749517, 0.09480595635951922, 0.12324774326737498, 0.22753429526284613, 0.08532536072356729, 0.05214327599773557, 0.037922382543807684, 0.09006565854154326, 0.03318208472583173, 0.8332380354439093, 0.2817026007352886, 0.20498894607076804, 0.05407683853400629, 0.1282752914062475, 0.09809286989889514, 0.07545605376838087, 0.03395522419577139, 0.05407683853400629, 0.023894417026653944, 0.044016031364888845, 0.9012155683529451, 0.2702258326532111, 0.13511291632660555, 0.12491571509440891, 0.10452131263001561, 0.13766221663465472, 0.06373250770122903, 0.0662818080092782, 0.015295801848294968, 0.03569020431268826, 0.04333810523683574, 0.9675220106609412, 0.09667903804440467, 0.870111342399642, 0.27612385556012975, 0.23772252465441632, 0.06948812259129092, 0.08777447064163064, 0.10240354908190241, 0.06034494856612107, 0.032915426490611494, 0.02011498285537369, 0.04205860051578135, 0.06948812259129092, 0.9317730468930702, 0.8858869296182835, 0.9316508244228453, 0.7849549338541038, 0.07849549338541038, 0.07849549338541038, 0.8242108248607244, 0.17399138645858359, 0.09988394407807576, 0.0837736305170958, 0.22554438985371944, 0.0805515678048998, 0.10955013221466374, 0.0418868152585479, 0.0837736305170958, 0.06766331695611584, 0.03544268983415592, 0.9086029669738336, 0.9599607547849662, 0.09191643745953697, 0.8272479371358328, 0.919773856951477, 0.766640945566628, 0.08518232728518088, 0.02129558182129522, 0.08518232728518088, 0.02129558182129522, 0.02129558182129522, 0.7294003564988126, 0.12685223591283698, 0.09513917693462773, 0.06342611795641849, 0.8695197557231571, 0.2244016277691967, 0.2068015001010244, 0.151801101137986, 0.1408010213453783, 0.09240067025790452, 0.05060036704599533, 0.024200175543736897, 0.019800143626693825, 0.033000239377823044, 0.05940043088008148, 0.9379864087071597, 0.04689932043535799, 0.9436630637781005, 0.8067846102670468, 0.04360997893335388, 0.06541496840003083, 0.02180498946667694, 0.02180498946667694, 0.02180498946667694, 0.8909659792259937, 0.9313989672894778, 0.2761531420586951, 0.09972196796563991, 0.03835460306370766, 0.09205104735289837, 0.10739288857838143, 0.03835460306370766, 0.22245669776950439, 0.06903828551467378, 0.015341841225483061, 0.030683682450966122, 0.8885961581604703, 0.9231937862231666, 0.8449273651135528, 0.17248015556685686, 0.7761607000508559, 0.8588575662555558, 0.9868485083233034, 0.12304146494534003, 0.32737818351527975, 0.10326694379341039, 0.2043367185699397, 0.05053488738826466, 0.0395490423038593, 0.0395490423038593, 0.024168859185691793, 0.026366028202572864, 0.06371790148955109, 0.07537072057989055, 0.8290779263787961, 0.1011189908924074, 0.0505594954462037, 0.8089519271392592, 0.9027259323202185, 0.09027259323202186, 0.27069414391261665, 0.2399334457407284, 0.12304279268755301, 0.07792710203545024, 0.05741996992085807, 0.05331854349793964, 0.06972424918961337, 0.028709984960429036, 0.028709984960429036, 0.04716640386356199, 0.8358137115833975, 0.07108085245919499, 0.1839739710708576, 0.17561151784036408, 0.2550548235300526, 0.07526207907444174, 0.05435594599820793, 0.0794433056896885, 0.02508735969148058, 0.03763103953722087, 0.0459934927677144, 0.9175611989674034, 0.0996453998612953, 0.04982269993064765, 0.8469858988210099, 0.8841638643678529, 0.17040668222556277, 0.08778526054044143, 0.31499417017452513, 0.12393213252768202, 0.06196606626384101, 0.0981129382510816, 0.030983033131920506, 0.04647454969788076, 0.030983033131920506, 0.03614687198724059, 0.05914785774689996, 0.05914785774689996, 0.7097742929627995, 0.05914785774689996, 0.2190199363442001, 0.2914897682227957, 0.11112040888051329, 0.12400393454781918, 0.04831322125239708, 0.06924895046176915, 0.032208814168264724, 0.04187145841874414, 0.03704013629350443, 0.022546169917785304, 0.9465723708782806, 0.9222968943872851, 0.8975651205265834, 0.8842365755317588, 0.056112995980337345, 0.7294689477443854, 0.11222599196067469, 0.056112995980337345, 0.7977101120378187, 0.9185343276579396, 0.9208601341535035, 0.0484663228501844, 0.7682777269959391, 0.9148054311295939, 0.9437366239498897, 0.9731052764336017, 0.058906693946500444, 0.2945334697325022, 0.029453346973250222, 0.530160245518504, 0.029453346973250222, 0.17856905091515213, 0.05952301697171738, 0.6845146951747498, 0.02976150848585869, 0.02976150848585869, 0.02976150848585869, 0.9084340287073421, 0.9563785040699272, 0.8708066017876808, 0.8736534319465687, 0.767174880184477, 0.6454205453948609, 0.07171339393276233, 0.05976116161063528, 0.03585669696638116, 0.02390446464425411, 0.07171339393276233, 0.02390446464425411, 0.02390446464425411, 0.02390446464425411, 0.02390446464425411, 0.08572255241198344, 0.028574184137327815, 0.028574184137327815, 0.05714836827465563, 0.028574184137327815, 0.6286320510212119, 0.08572255241198344, 0.028574184137327815, 0.22644526480679966, 0.17544407903950246, 0.2550059288364861, 0.0938421818118269, 0.06732156521283233, 0.04488104347522156, 0.05100118576729722, 0.026520616598994556, 0.026520616598994556, 0.03468080632176211, 0.9803119601498624, 0.06729298656689134, 0.03364649328344567, 0.8748088253695874, 0.04822633971506389, 0.04822633971506389, 0.7716214354410222, 0.04822633971506389, 0.9469015950571431, 0.7910698887669257, 0.9420780230778625, 0.08182881614194705, 0.08182881614194705, 0.08182881614194705, 0.7364593452775234, 0.9174629647718153, 0.09464826732087411, 0.09464826732087411, 0.7571861385669929, 0.9485426132326976, 0.9396067406553845, 0.9287084131109484, 0.0331681576111053, 0.9416797934211302, 0.260031750004283, 0.026003175000428303, 0.10401270000171321, 0.052006350000856606, 0.026003175000428303, 0.026003175000428303, 0.39004762500642454, 0.026003175000428303, 0.052006350000856606, 0.026003175000428303, 0.9483833099137019, 0.032702872755644895, 0.9249038118109194, 0.039304774872951635, 0.7860954974590327, 0.039304774872951635, 0.07860954974590327, 0.9182477427402953, 0.05750752179247804, 0.4408910004089983, 0.4600601743398243, 0.019169173930826015, 0.7913219716253399, 0.05275479810835599, 0.05275479810835599, 0.05275479810835599, 0.05275479810835599, 0.12734090918570862, 0.7640454551142517, 0.9268659543345261, 0.8445408706408509, 0.9236869584404729, 0.10010982883203205, 0.8008786306562564, 0.21359267917191427, 0.1950194027221826, 0.16251616893515217, 0.07197144624271025, 0.07197144624271025, 0.13001293514812173, 0.03250323378703043, 0.03250323378703043, 0.04643319112432919, 0.04411153156811273, 0.8179178817315029, 0.056178651708533915, 0.16853595512560174, 0.056178651708533915, 0.056178651708533915, 0.674143820502407, 0.21591264462134588, 0.7556942561747106, 0.9028187047952227, 0.08406366123857639, 0.840636612385764, 0.18480815803372883, 0.23711235370365208, 0.09937797177285418, 0.1377343819307979, 0.10286491815084907, 0.05579114204791814, 0.05056072248092581, 0.05753461523691558, 0.031382517401953955, 0.04009988334694116, 0.09771180961799782, 0.7816944769439825, 0.9571851493467173, 0.09152667943270579, 0.09152667943270579, 0.7322134354616463, 0.9433249402784604, 0.8476439014804288, 0.39309475319055664, 0.05312091259331846, 0.22735750589940304, 0.1317398632314298, 0.055245749097051204, 0.033997384059723815, 0.03187254755599108, 0.025498038044792865, 0.025498038044792865, 0.021248365037327386, 0.9353600850519657, 0.058460005315747854, 0.17732711614285923, 0.10177034491677138, 0.19737279014161724, 0.220502413986338, 0.06784689661118093, 0.07247282138012508, 0.05088517245838569, 0.029297523536646306, 0.04934319753540431, 0.033923448305590465, 0.1454712541942465, 0.7273562709712326, 0.9259567669471137, 0.21411160082599992, 0.25091203221796865, 0.11207404105735934, 0.11709228170171872, 0.05018240644359373, 0.08363734407265622, 0.04683691268068749, 0.04014592515487499, 0.05854614085085936, 0.02676395010324999, 0.8983524102205428, 0.02994508034068476, 0.02994508034068476, 0.930989105264445, 0.06070535652458916, 0.46540773335518354, 0.09105803478688373, 0.08094047536611888, 0.12646949275956074, 0.0859992550765013, 0.03035267826229458, 0.03035267826229458, 0.01011755942076486, 0.02023511884152972, 0.24104465330510758, 0.19175372669408808, 0.11661511905533882, 0.10759848613868891, 0.11360957474978885, 0.05770645066655942, 0.03125766077771969, 0.04628538230546953, 0.04147651141658958, 0.05349868863878946, 0.9335029942013424, 0.058198892007341206, 0.8729833801101181, 0.9664369666154149, 0.9053427935237629, 0.8386167346082952, 0.044699254047156134, 0.7598873188016544, 0.044699254047156134, 0.044699254047156134, 0.044699254047156134, 0.07008741647923208, 0.07008741647923208, 0.07008741647923208, 0.7709615812715529, 0.9016112187638823, 0.07513426823032353, 0.1025827342238055, 0.820661873790444, 0.9499062723641264, 0.8858483021685963, 0.04956765726295097, 0.8426501734701665, 0.04956765726295097, 0.9459272202636637, 0.8889244924566134, 0.2133888338826797, 0.21081788407686428, 0.14397318912566343, 0.07712849417446255, 0.08998324320353963, 0.11826369106750924, 0.05141899611630836, 0.05141899611630836, 0.023138548252338763, 0.020567598446523346, 0.9610199491547324, 0.9316447182906877, 0.8938982252149176, 0.9235404579990744, 0.16727374638949474, 0.3153696110273277, 0.05593548844234697, 0.14756314570028678, 0.04474839075387758, 0.12252535563561717, 0.05273917481707, 0.037823044565777474, 0.02663594687730808, 0.029832260502585053, 0.6540250943717142, 0.025154811321989004, 0.037732216982983506, 0.06288702830497252, 0.012577405660994502, 0.08804183962696152, 0.05030962264397801, 0.012577405660994502, 0.012577405660994502, 0.037732216982983506, 0.09773370063903258, 0.8796033057512933, 0.9132953408259867, 0.03512674387792257, 0.9397867330359568, 0.8169095071878637, 0.21993531507744865, 0.17280631898942395, 0.17673373533009265, 0.15840579240697195, 0.08640315949471197, 0.052365551208916346, 0.0301101919451269, 0.02880105316490399, 0.052365551208916346, 0.023564498044012356, 0.7300563091612837, 0.06636875537829852, 0.08296094422287315, 0.01659218884457463, 0.01659218884457463, 0.06636875537829852, 0.01659218884457463, 0.07607891307779924, 0.8368680438557915, 0.07607891307779924, 0.9135438621732744, 0.22518733298463672, 0.15571464514895092, 0.0694726878356858, 0.15571464514895092, 0.09582439701473904, 0.07665951761179123, 0.06468146798494885, 0.043120978656632565, 0.04791219850736952, 0.05989024813421189, 0.14529975946296111, 0.3094346729303802, 0.08341282487688509, 0.10224797888134302, 0.06457767087242716, 0.09148503373593848, 0.04574251686796924, 0.07803135230418283, 0.040361044295266976, 0.04305178058161811, 0.9395437788286867, 0.09558799613248874, 0.09558799613248874, 0.7647039690599099, 0.23671935306021716, 0.21373689159806017, 0.10571932272592223, 0.11031581501835362, 0.03677193833945121, 0.03907018448566691, 0.13329827648051062, 0.04136843063188261, 0.03907018448566691, 0.048263169070529716, 0.9108121957025426, 0.0890430079497637, 0.0890430079497637, 0.7123440635981096, 0.9001106677949364, 0.36782546721171516, 0.061304244535285865, 0.061304244535285865, 0.39847758947935813, 0.09195636680292879, 0.8908638566151268, 0.8208845571539258, 0.07462586883217508, 0.03977173378932642, 0.5965760068398963, 0.15908693515730568, 0.11931520136797927, 0.8467239582895969, 0.07056032985746641, 0.8320475833082323, 0.039444437862827336, 0.039444437862827336, 0.039444437862827336, 0.039444437862827336, 0.6705554436680647, 0.07888887572565467, 0.07888887572565467, 0.9489685125643516, 0.05837475388343402, 0.11674950776686804, 0.05837475388343402, 0.05837475388343402, 0.05837475388343402, 0.05837475388343402, 0.5837475388343403, 0.850297193332919, 0.30834080020192894, 0.1571352154875215, 0.10080372314293831, 0.08301483082359626, 0.0652259385042542, 0.050401861571469156, 0.0978389077563813, 0.03854260002524112, 0.06819075389081121, 0.0326129692521271, 0.15682489561444632, 0.31364979122889264, 0.13365758148958493, 0.07306614454763975, 0.07484824563416756, 0.08375875106680655, 0.058809335855417366, 0.04633462824972277, 0.026731516297916983, 0.03207781955750038, 0.8935662125250237, 0.035742648501000944, 0.03613309755335898, 0.8310612437272565, 0.07226619510671796, 0.12574660782755742, 0.7230429950084551, 0.09430995587066807, 0.11396124112603204, 0.03798708037534401, 0.11396124112603204, 0.03798708037534401, 0.018993540187672006, 0.03798708037534401, 0.17094186168904807, 0.018993540187672006, 0.41785788412878416, 0.03798708037534401, 0.9196769713953533, 0.04441466870659181, 0.17765867482636724, 0.04441466870659181, 0.13324400611977544, 0.04441466870659181, 0.5329760244791018, 0.9206646464091638, 0.8799859275932649, 0.9434416896896612, 0.11420365385877951, 0.057101826929389754, 0.7423237500820669, 0.8185659297144542, 0.9117919875735333, 0.11458872868087937, 0.8021211007661556, 0.07995701305240119, 0.8795271435764132, 0.11551172264852097, 0.8085820585396467, 0.9455924775662232, 0.8833510547812725, 0.8860777724019708, 0.053182179516085636, 0.9040970517734558, 0.8287555642374121, 0.04479759806688714, 0.11199399516721785, 0.9181006190032145, 0.061902400800741775, 0.041268267200494514, 0.1444389352017308, 0.5777557408069232, 0.041268267200494514, 0.020634133600247257, 0.08253653440098903, 0.9210386550518767, 0.7621025246120126, 0.10887178923028751, 0.10887178923028751, 0.9653476029490095, 0.09541728685460617, 0.2067374548516467, 0.5088921965578995, 0.01590288114243436, 0.03180576228486872, 0.047708643427303084, 0.03180576228486872, 0.03180576228486872, 0.047708643427303084, 0.8861613798241238, 0.9231091993764432, 0.2592301709555421, 0.13616130191604234, 0.09688400328641474, 0.11521340931357428, 0.17282011397036143, 0.05760670465678714, 0.03665881205431909, 0.04713275835555311, 0.034040325479010584, 0.0418957852049361, 0.9154293153293211, 0.049293913090021825, 0.07394086963503273, 0.09858782618004365, 0.09858782618004365, 0.566880000535251, 0.049293913090021825, 0.024646956545010913, 0.024646956545010913, 0.024646956545010913, 0.795086588691705, 0.04969291179323156, 0.04969291179323156, 0.04969291179323156, 0.04969291179323156, 0.06427993774795245, 0.8356391907233817, 0.24672215379898588, 0.1987024057441497, 0.14737095092691102, 0.06788998862925115, 0.08279266906006237, 0.03642877438642744, 0.12418900359009356, 0.02649365409921996, 0.04636389467363493, 0.023181947336817464, 0.06238096809718987, 0.8733335533606582, 0.9393294619774678, 0.845600811163027, 0.9400153885796533, 0.9108598955106393, 0.9471930592082043, 0.8954440221970152, 0.026595193747529534, 0.8776413936684746, 0.07978558124258861, 0.026595193747529534, 0.9304468923521297, 0.042293040561460445, 0.790377741511872, 0.17963130488906184, 0.03592626097781237, 0.8634833561084081, 0.8970934168511069, 0.5302593417081936, 0.0775989280548576, 0.1099318147443816, 0.0517326187032384, 0.0258663093516192, 0.032332886689524, 0.0517326187032384, 0.0517326187032384, 0.0129331546758096, 0.0517326187032384, 0.9304944113190493, 0.9151874108700702, 0.8532301404607048, 0.06881960654420775, 0.8946548850747008, 0.38157221159364035, 0.1942134011105355, 0.0982491323265062, 0.06854590627430665, 0.0388426802221071, 0.04341240730706088, 0.04112754376458399, 0.04341240730706088, 0.04112754376458399, 0.05026699793449155, 0.8536912972006914, 0.060977949800049384, 0.09146692470007407, 0.07842907981282382, 0.07842907981282382, 0.7842907981282381, 0.8438266360672266, 0.8951056117719263, 0.15926760129969206, 0.7432488060652296, 0.8738016387486528, 0.15615415025000093, 0.7807707512500046, 0.8292728299426463, 0.9150784045608278, 0.09139192882918086, 0.5666299587409214, 0.31073255801921496, 0.1899330705968081, 0.7597322823872324, 0.11454928207399455, 0.8018449745179619, 0.9092248807451373, 0.9336812621085552, 0.06901587363694409, 0.8281904836433291, 0.06901587363694409, 0.11287298162082042, 0.15049730882776055, 0.7274036593341761, 0.028312124123453835, 0.8493637237036151, 0.05662424824690767, 0.028312124123453835, 0.05847191825188961, 0.152026987454913, 0.5379416479173844, 0.03508315095113377, 0.011694383650377923, 0.14033260380453508, 0.03508315095113377, 0.011694383650377923, 0.011694383650377923, 0.9214401601556378, 0.7449863982050708, 0.918600492663724, 0.823263058741652, 0.10976840783222026, 0.10167176657437749, 0.10167176657437749, 0.10167176657437749, 0.7117023660206424, 0.9770890603818116, 0.22098446649388417, 0.6629533994816525, 0.22029066381499812, 0.13217439828899888, 0.16822196145872584, 0.22429594861163446, 0.024031708779817976, 0.0680898415428176, 0.052068702356272284, 0.0400528479663633, 0.032042278373090635, 0.04405813276299962, 0.18484560145853843, 0.12776093041987216, 0.12504261275136422, 0.09785943606628505, 0.1223242950828563, 0.16038074244196715, 0.06252130637568211, 0.04621140036463461, 0.04077476502761877, 0.03261981202209502, 0.9223569574259982, 0.20866037349509717, 0.17748123722571482, 0.16788765683513565, 0.10313098919872618, 0.07914703822227824, 0.06475666763640947, 0.0479679019528959, 0.055163087245830286, 0.05276469214818549, 0.040772716659961517, 0.32229808188134973, 0.13242940988194074, 0.08137228799974672, 0.10530531388202517, 0.08934996329383954, 0.11487852423493655, 0.057439262117468276, 0.03510177129400839, 0.03350623623518983, 0.027124095999915575, 0.38174114818053306, 0.19840493885698757, 0.07032073782272977, 0.10045819688961397, 0.06278637305600873, 0.05022909844480698, 0.035160368911364884, 0.04269473367808593, 0.03264891398912454, 0.02511454922240349, 0.16497768303013652, 0.3411025068055525, 0.057965131875453366, 0.08248884151506826, 0.10032426670751544, 0.024523709639614887, 0.08025941336601236, 0.057965131875453366, 0.03121199408678258, 0.057965131875453366, 0.22808220569780482, 0.09774951672763064, 0.0651663444850871, 0.03258317224254355, 0.5213307558806968, 0.07014578576542284, 0.07014578576542284, 0.07014578576542284, 0.07014578576542284, 0.6313120718888054, 0.2774293769301369, 0.20966036882506528, 0.08894682313790649, 0.09530016764775695, 0.09953573065432393, 0.031766722549252314, 0.07200457111163859, 0.06353344509850463, 0.031766722549252314, 0.029648941045968828, 0.9105527616929191, 0.05042980229949417, 0.10085960459898834, 0.07564470344924125, 0.10085960459898834, 0.579942726444183, 0.05042980229949417, 0.025214901149747084, 0.025214901149747084, 0.025214901149747084, 0.9342694013266751, 0.9113189847887392, 0.23729316599340963, 0.21751873549395884, 0.09228067566410375, 0.11996487836333487, 0.05273181466520214, 0.09359897103073381, 0.047458633198681925, 0.04877692856531198, 0.027684202699231126, 0.061959882231612515, 0.8062752351580094, 0.22021355072341078, 0.19724649328599986, 0.0803847010309383, 0.1519878801005136, 0.06687466724422597, 0.10335175846834924, 0.0675501689335616, 0.035801589534787646, 0.022291555748075325, 0.05404013514684927, 0.9206758334243761, 0.8400146524904122, 0.049412626617083066, 0.15992860120271857, 0.07996430060135928, 0.6397144048108743, 0.8602590035285425, 0.10064401769179813, 0.06038641061507888, 0.6541861149966879, 0.010064401769179814, 0.06038641061507888, 0.02012880353835963, 0.04025760707671926, 0.03019320530753944, 0.03019320530753944, 0.22650533218929594, 0.028313166523661993, 0.11325266609464797, 0.028313166523661993, 0.056626333047323986, 0.08493949957098598, 0.056626333047323986, 0.028313166523661993, 0.028313166523661993, 0.36807116480760593], \"Term\": [\"ability_things\", \"able_get\", \"able_get\", \"able_get\", \"able_get\", \"able_get\", \"able_get\", \"able_get\", \"able_get\", \"able_get\", \"able_get\", \"according_staff\", \"according_staff\", \"ad_would\", \"additional_services\", \"adjust_time\", \"advice_especially\", \"advice_especially\", \"advice_vent\", \"age_old\", \"agitated_state\", \"ago_husband\", \"ago_husband\", \"ago_recently\", \"al_sounds\", \"along_fine\", \"already_mom\", \"also_happy\", \"also_happy\", \"also_happy\", \"also_happy\", \"also_happy\", \"alz_could\", \"alzheimers_clinical\", \"alzheimers_clinical\", \"alzheimers_clinical\", \"alzheimers_clinical\", \"alzheimers_clinical\", \"alzheimers_clinical\", \"alzheimers_clinical\", \"alzheimers_clinical\", \"alzheimers_clinical\", \"alzheimers_clinical\", \"amazing_daughter\", \"annual_physical\", \"anosognosia_characteristic\", \"anosognosia_characteristic\", \"anosognosia_characteristic\", \"another_level\", \"another_level\", \"another_level\", \"another_level\", \"another_mom\", \"anti_inflammatory\", \"anyone_even\", \"anyone_even\", \"anyone_even\", \"anyone_says\", \"anyone_think\", \"anyone_think\", \"anything_days\", \"appointment_elder\", \"appointment_elder\", \"appointment_elder\", \"appointment_elder\", \"appointment_tell\", \"approved_medicaid\", \"approved_medicaid\", \"ask_uti\", \"ask_visit\", \"assisted_living\", \"assisted_living\", \"assisted_living\", \"assisted_living\", \"assisted_living\", \"assisted_living\", \"assisted_living\", \"assisted_living\", \"assisted_living\", \"assisted_living\", \"awake_would\", \"aware_need\", \"away_thought\", \"away_thought\", \"away_thought\", \"away_thought\", \"baking_soda\", \"baking_soda\", \"based_person\", \"become_interested\", \"behaviors_toward\", \"believes_fine\", \"believes_fine\", \"believes_fine\", \"believes_fine\", \"believes_fine\", \"best_right\", \"best_right\", \"best_right\", \"best_right\", \"best_right\", \"best_speak\", \"best_truly\", \"bible_amp\", \"bible_amp\", \"bible_amp\", \"bible_amp\", \"bible_amp\", \"bible_amp\", \"bible_amp\", \"big_fan\", \"big_fan\", \"big_fan\", \"bills_food\", \"blunti_think\", \"board_helped\", \"board_may\", \"bother_others\", \"bring_every\", \"brother_let\", \"brother_let\", \"brother_seen\", \"brother_take\", \"brother_take\", \"brother_take\", \"brother_take\", \"brother_take\", \"brother_take\", \"brother_take\", \"call_morning\", \"call_watch\", \"cannot_walk\", \"cannot_walk\", \"cannot_walk\", \"cannot_walk\", \"care_baby\", \"care_easy\", \"care_facility\", \"care_facility\", \"care_facility\", \"care_facility\", \"care_facility\", \"care_facility\", \"care_facility\", \"care_facility\", \"care_facility\", \"care_facility\", \"care_god\", \"care_mom\", \"care_mom\", \"care_mom\", \"care_mom\", \"care_mom\", \"care_mom\", \"care_mom\", \"care_mom\", \"care_mom\", \"care_mom\", \"care_needs\", \"care_needs\", \"care_needs\", \"care_needs\", \"care_needs\", \"care_needs\", \"care_needs\", \"care_needs\", \"care_needs\", \"care_needs\", \"care_trying\", \"care_trying\", \"caregiving_daughter\", \"caregiving_daughter\", \"caregiving_daughter\", \"cares_us\", \"caring_great\", \"certified_elder\", \"certified_elder\", \"certified_elder\", \"certified_elder\", \"certified_elder\", \"certified_elder\", \"certified_elder\", \"certified_elder\", \"certified_elder\", \"certified_elder\", \"chair_sits\", \"charge_nurse\", \"charge_nurse\", \"charge_nurse\", \"charge_nurse\", \"charge_nurse\", \"charge_nurse\", \"charge_nurse\", \"clinical_stages\", \"clinical_stages\", \"clinical_stages\", \"clinical_stages\", \"clinical_stages\", \"clinical_stages\", \"clinical_stages\", \"clinical_stages\", \"clinical_stages\", \"close_eyes\", \"close_eyes\", \"close_eyes\", \"close_eyes\", \"cocktail_hour\", \"come_back\", \"come_back\", \"come_back\", \"come_back\", \"come_back\", \"come_back\", \"come_back\", \"come_back\", \"come_back\", \"come_back\", \"come_site\", \"come_true\", \"comforting_know\", \"comforting_know\", \"comforting_know\", \"comforting_know\", \"comforting_know\", \"comforting_know\", \"comforting_know\", \"comforting_know\", \"comforting_know\", \"control_disease\", \"control_disease\", \"could_get\", \"could_get\", \"could_get\", \"could_get\", \"could_get\", \"could_get\", \"could_get\", \"could_get\", \"could_get\", \"could_get\", \"count_blessings\", \"couple_weeks\", \"couple_weeks\", \"couple_weeks\", \"couple_weeks\", \"couple_weeks\", \"couple_weeks\", \"couple_weeks\", \"couple_weeks\", \"couple_weeks\", \"couple_weeks\", \"course_mom\", \"course_mom\", \"course_mom\", \"cover_bills\", \"cover_bills\", \"cover_bills\", \"cover_skilled\", \"cover_skilled\", \"dad_handle\", \"dad_handle\", \"dad_handle\", \"dad_handle\", \"dad_happens\", \"dad_making\", \"dad_moderate\", \"dad_tried\", \"dad_tried\", \"dad_tried\", \"day_feel\", \"day_feel\", \"day_feel\", \"day_prior\", \"days_er\", \"days_family\", \"days_feel\", \"days_feel\", \"days_feel\", \"days_feel\", \"days_feel\", \"days_feel\", \"decided_would\", \"decided_would\", \"decided_would\", \"decided_would\", \"decided_would\", \"decided_would\", \"decided_would\", \"definitely_come\", \"definitely_put\", \"dementia_knows\", \"dementia_specialist\", \"dementia_specialist\", \"dementia_specialist\", \"dementia_specialist\", \"dementia_specialist\", \"dementia_specialist\", \"dementia_specialist\", \"dementia_specialist\", \"dementia_specialist\", \"dementia_specialist\", \"dementia_training\", \"dementia_training\", \"dementia_training\", \"dentist_appointment\", \"depends_upon\", \"die_know\", \"difference_world\", \"difference_world\", \"different_reactions\", \"distance_hard\", \"distance_hard\", \"door_hands\", \"dpoa_medical\", \"dpoa_medical\", \"dpoa_place\", \"dressed_day\", \"drive_think\", \"drive_work\", \"drive_work\", \"due_fact\", \"due_fact\", \"due_fact\", \"early_onset\", \"early_onset\", \"early_onset\", \"early_onset\", \"early_onset\", \"early_onset\", \"early_onset\", \"early_onset\", \"early_onset\", \"early_onset\", \"easier_say\", \"easier_say\", \"easter_bunny\", \"elder_law\", \"elder_law\", \"elder_law\", \"elder_law\", \"elder_law\", \"elder_law\", \"elder_law\", \"elder_law\", \"elder_law\", \"elder_law\", \"eldercare_attorney\", \"eldercare_attorney\", \"eldercare_attorney\", \"eldercare_attorney\", \"eldercare_attorney\", \"eldercare_attorney\", \"eldercare_attorney\", \"enjoy_vacation\", \"erase_board\", \"erase_board\", \"essential_oils\", \"essential_oils\", \"essential_oils\", \"essential_oils\", \"essential_oils\", \"essential_oils\", \"essential_oils\", \"essential_oils\", \"essential_oils\", \"essential_oils\", \"evaluate_mom\", \"evaluate_mom\", \"even_nice\", \"even_though\", \"even_though\", \"even_though\", \"even_though\", \"even_though\", \"even_though\", \"even_though\", \"even_though\", \"even_though\", \"even_though\", \"every_day\", \"every_day\", \"every_day\", \"every_day\", \"every_day\", \"every_day\", \"every_day\", \"every_day\", \"every_day\", \"every_day\", \"every_pwd\", \"every_time\", \"every_time\", \"every_time\", \"every_time\", \"every_time\", \"every_time\", \"every_time\", \"every_time\", \"every_time\", \"every_time\", \"every_visit\", \"every_visit\", \"every_visit\", \"everyone_going\", \"everyone_going\", \"everyone_responded\", \"everyone_responded\", \"everyone_responded\", \"everything_disease\", \"everything_except\", \"excellent_article\", \"expenses_paid\", \"experience_area\", \"experience_first\", \"experience_much\", \"eye_see\", \"eye_see\", \"eyes_see\", \"facilities_specialize\", \"facility_asked\", \"facility_asked\", \"facility_asked\", \"fact_might\", \"fall_alert\", \"fall_result\", \"family_hard\", \"family_hard\", \"family_member\", \"family_member\", \"family_member\", \"family_member\", \"family_member\", \"family_member\", \"family_member\", \"family_member\", \"family_member\", \"family_member\", \"family_members\", \"family_members\", \"family_members\", \"family_members\", \"family_members\", \"family_members\", \"family_members\", \"family_members\", \"family_members\", \"family_members\", \"family_problem\", \"far_behind\", \"far_behind\", \"far_beyond\", \"far_beyond\", \"far_beyond\", \"far_disease\", \"far_disease\", \"fast_mom\", \"feel_better\", \"feel_better\", \"feel_better\", \"feel_better\", \"feel_better\", \"feel_better\", \"feel_better\", \"feel_better\", \"feel_better\", \"feel_better\", \"feel_like\", \"feel_like\", \"feel_like\", \"feel_like\", \"feel_like\", \"feel_like\", \"feel_like\", \"feel_like\", \"feel_like\", \"feel_like\", \"feel_something\", \"feel_something\", \"feil_word\", \"feil_word\", \"feil_word\", \"feil_word\", \"financial_stress\", \"find_different\", \"find_different\", \"finding_someone\", \"fine_sees\", \"first_let\", \"first_let\", \"first_let\", \"first_let\", \"first_let\", \"first_take\", \"first_take\", \"first_take\", \"first_take\", \"first_take\", \"first_take\", \"first_time\", \"first_time\", \"first_time\", \"first_time\", \"first_time\", \"first_time\", \"first_time\", \"first_time\", \"first_time\", \"first_time\", \"follow_lead\", \"fortunate_enough\", \"fortunate_enough\", \"foster_home\", \"foster_home\", \"found_help\", \"free_could\", \"friends_even\", \"friends_staff\", \"friends_staff\", \"full_time\", \"full_time\", \"full_time\", \"full_time\", \"full_time\", \"full_time\", \"full_time\", \"full_time\", \"full_time\", \"full_time\", \"geri_psych\", \"geri_psych\", \"geri_psych\", \"geri_psych\", \"geri_psych\", \"geri_psych\", \"geri_psych\", \"geri_psych\", \"geri_psych\", \"geri_psych\", \"geriatric_psychiatrist\", \"geriatric_psychiatrist\", \"geriatric_psychiatrist\", \"geriatric_psychiatrist\", \"geriatric_psychiatrist\", \"geriatric_psychiatrist\", \"geriatric_psychiatrist\", \"geriatric_psychiatrist\", \"geriatric_psychiatrist\", \"geriatric_psychiatrist\", \"get_back\", \"get_back\", \"get_back\", \"get_back\", \"get_back\", \"get_back\", \"get_back\", \"get_back\", \"get_back\", \"get_back\", \"get_copy\", \"get_copy\", \"get_copy\", \"get_copy\", \"get_copy\", \"get_copy\", \"get_copy\", \"get_copy\", \"get_involved\", \"get_involved\", \"get_involved\", \"get_involved\", \"get_involved\", \"get_involved\", \"get_involved\", \"get_involved\", \"get_involved\", \"get_involved\", \"get_might\", \"get_mom\", \"get_mom\", \"get_mom\", \"get_mom\", \"get_mom\", \"get_mom\", \"get_mom\", \"get_mom\", \"get_mom\", \"get_mom\", \"gets_care\", \"getting_stuff\", \"ghost_dog\", \"give_dh\", \"give_give\", \"give_needy\", \"give_want\", \"given_mother\", \"glad_found\", \"glad_found\", \"glad_found\", \"glad_found\", \"glad_found\", \"glad_found\", \"glad_found\", \"glad_found\", \"glad_found\", \"glad_found\", \"glad_read\", \"glad_read\", \"glad_read\", \"go_back\", \"go_back\", \"go_back\", \"go_back\", \"go_back\", \"go_back\", \"go_back\", \"go_back\", \"go_back\", \"go_back\", \"go_home\", \"go_home\", \"go_home\", \"go_home\", \"go_home\", \"go_home\", \"go_home\", \"go_home\", \"go_home\", \"go_home\", \"go_hope\", \"go_hope\", \"go_hour\", \"go_vacation\", \"go_vacation\", \"go_vacation\", \"god_faithful\", \"god_faithful\", \"god_love\", \"god_love\", \"god_love\", \"god_love\", \"god_love\", \"god_love\", \"god_love\", \"god_love\", \"god_love\", \"god_please\", \"going_say\", \"going_say\", \"going_say\", \"going_say\", \"going_say\", \"going_say\", \"going_say\", \"going_say\", \"going_say\", \"good_advice\", \"good_advice\", \"good_advice\", \"good_advice\", \"good_advice\", \"good_advice\", \"good_advice\", \"good_advice\", \"good_advice\", \"good_advice\", \"good_conversations\", \"good_listener\", \"good_luck\", \"good_luck\", \"good_luck\", \"good_luck\", \"good_luck\", \"good_luck\", \"good_luck\", \"good_luck\", \"good_luck\", \"good_luck\", \"good_may\", \"good_points\", \"good_points\", \"good_points\", \"good_points\", \"good_points\", \"good_points\", \"good_points\", \"good_riddance\", \"got_easier\", \"great_getting\", \"great_getting\", \"great_getting\", \"great_post\", \"great_sense\", \"great_sense\", \"great_sense\", \"great_thread\", \"great_work\", \"great_work\", \"grief_frustration\", \"guess_want\", \"happens_care\", \"happy_moments\", \"health_aid\", \"health_aid\", \"health_care\", \"health_care\", \"health_care\", \"health_care\", \"health_care\", \"health_care\", \"health_care\", \"health_care\", \"health_care\", \"health_care\", \"hear_better\", \"hearing_aid\", \"hearing_aid\", \"hearing_aid\", \"hearing_aid\", \"hearing_aid\", \"hearing_aid\", \"hearing_aid\", \"hearing_aid\", \"hearing_aid\", \"hearing_aid\", \"hearing_aids\", \"hearing_aids\", \"hearing_aids\", \"hearing_aids\", \"hearing_aids\", \"hearing_aids\", \"hearing_aids\", \"hearing_aids\", \"hearing_aids\", \"hearing_aids\", \"hearing_loss\", \"hearing_loss\", \"hearing_loss\", \"hearing_loss\", \"hearing_loss\", \"hearing_test\", \"heart_smile\", \"help_line\", \"help_line\", \"help_line\", \"help_line\", \"help_line\", \"help_line\", \"help_line\", \"help_line\", \"help_line\", \"help_line\", \"help_pack\", \"helpful_article\", \"helpful_hear\", \"highest_level\", \"holy_spirit\", \"holy_spirit\", \"holy_spirit\", \"holy_spirit\", \"holy_spirit\", \"holy_spirit\", \"holy_spirit\", \"holy_spirit\", \"holy_spirit\", \"holy_spirit\", \"home_along\", \"home_boyfriend\", \"home_care\", \"home_care\", \"home_care\", \"home_care\", \"home_care\", \"home_care\", \"home_care\", \"home_care\", \"home_care\", \"home_care\", \"home_health\", \"home_health\", \"home_health\", \"home_health\", \"home_health\", \"home_health\", \"home_health\", \"home_health\", \"home_health\", \"home_health\", \"home_recently\", \"home_recently\", \"home_seems\", \"home_seems\", \"home_seems\", \"home_seems\", \"home_tonight\", \"home_unfortunately\", \"hospice_see\", \"https_youtube\", \"hugs_prayers\", \"hugs_prayers\", \"husband_first\", \"husband_first\", \"husband_stayed\", \"husband_stayed\", \"husband_willing\", \"ice_cream\", \"ice_cream\", \"ice_cream\", \"ice_cream\", \"ice_cream\", \"ice_cream\", \"ice_cream\", \"ice_cream\", \"ice_cream\", \"ice_cream\", \"ill_people\", \"important_take\", \"important_take\", \"information_forum\", \"international_version\", \"international_version\", \"international_version\", \"international_version\", \"international_version\", \"international_version\", \"international_version\", \"involved_one\", \"jjaz_wrote\", \"jjaz_wrote\", \"job_help\", \"job_help\", \"job_keep\", \"job_keep\", \"job_keep\", \"job_keep\", \"keeps_track\", \"kind_relationship\", \"kind_work\", \"knew_know\", \"know_alz\", \"know_look\", \"know_look\", \"know_look\", \"know_look\", \"knowledgeable_willing\", \"last_night\", \"last_night\", \"last_night\", \"last_night\", \"last_night\", \"last_night\", \"last_night\", \"last_night\", \"last_night\", \"last_night\", \"last_time\", \"last_time\", \"last_time\", \"last_time\", \"last_time\", \"last_time\", \"last_time\", \"last_time\", \"last_time\", \"last_time\", \"last_week\", \"last_week\", \"last_week\", \"last_week\", \"last_week\", \"last_week\", \"last_week\", \"last_week\", \"last_week\", \"last_week\", \"last_year\", \"last_year\", \"last_year\", \"last_year\", \"last_year\", \"last_year\", \"last_year\", \"last_year\", \"last_year\", \"last_year\", \"law_attorney\", \"law_attorney\", \"law_attorney\", \"law_attorney\", \"law_attorney\", \"law_attorney\", \"law_attorney\", \"law_attorney\", \"law_attorney\", \"law_attorney\", \"laws_bought\", \"learning_let\", \"let_attorney\", \"let_go\", \"let_go\", \"let_go\", \"let_go\", \"let_go\", \"let_go\", \"let_go\", \"let_go\", \"let_go\", \"let_go\", \"let_know\", \"let_know\", \"let_know\", \"let_know\", \"let_know\", \"let_know\", \"let_know\", \"let_know\", \"let_know\", \"let_know\", \"let_sink\", \"let_us\", \"let_us\", \"let_us\", \"let_us\", \"let_us\", \"let_us\", \"let_us\", \"let_us\", \"let_us\", \"let_us\", \"level_care\", \"level_care\", \"level_care\", \"level_care\", \"level_care\", \"level_care\", \"level_care\", \"level_care\", \"level_care\", \"level_care\", \"level_supervision\", \"library_ask\", \"library_ask\", \"life_alert\", \"life_outside\", \"life_outside\", \"like_although\", \"like_needed\", \"like_nobody\", \"like_thank\", \"like_thank\", \"like_thank\", \"like_thank\", \"like_thank\", \"like_thought\", \"like_thought\", \"like_thought\", \"line_ask\", \"line_ask\", \"line_ask\", \"line_ask\", \"list_current\", \"live_mil\", \"living_facility\", \"living_facility\", \"living_facility\", \"living_facility\", \"living_facility\", \"living_facility\", \"living_facility\", \"living_facility\", \"living_facility\", \"living_facility\", \"living_good\", \"living_hell\", \"living_hell\", \"living_hell\", \"living_hell\", \"lo_take\", \"lo_take\", \"long_life\", \"long_life\", \"long_term\", \"long_term\", \"long_term\", \"long_term\", \"long_term\", \"long_term\", \"long_term\", \"long_term\", \"long_term\", \"long_term\", \"long_time\", \"long_time\", \"long_time\", \"long_time\", \"long_time\", \"long_time\", \"long_time\", \"long_time\", \"long_time\", \"long_time\", \"longer_meet\", \"look_solutions\", \"looks_like\", \"looks_like\", \"looks_like\", \"looks_like\", \"looks_like\", \"looks_like\", \"looks_like\", \"looks_like\", \"looks_like\", \"looks_like\", \"lord_good\", \"lord_jesus\", \"lord_jesus\", \"lord_jesus\", \"lord_jesus\", \"lord_jesus\", \"lord_jesus\", \"lord_jesus\", \"lord_jesus\", \"lord_jesus\", \"love_brother\", \"love_god\", \"love_god\", \"love_god\", \"love_god\", \"love_god\", \"love_god\", \"love_live\", \"loved_loved\", \"loved_loved\", \"loved_one\", \"loved_one\", \"loved_one\", \"loved_one\", \"loved_one\", \"loved_one\", \"loved_one\", \"loved_one\", \"loved_one\", \"loved_one\", \"loved_ones\", \"loved_ones\", \"loved_ones\", \"loved_ones\", \"loved_ones\", \"loved_ones\", \"loved_ones\", \"loved_ones\", \"loved_ones\", \"loved_ones\", \"luck_best\", \"luck_best\", \"luck_best\", \"luck_best\", \"luck_best\", \"luck_best\", \"luck_best\", \"luck_best\", \"luck_best\", \"luck_best\", \"luck_greg\", \"luck_greg\", \"made_comment\", \"made_comment\", \"made_comment\", \"made_comment\", \"made_comment\", \"made_people\", \"magically_appear\", \"major_problems\", \"make_appt\", \"make_appt\", \"make_appt\", \"make_dad\", \"make_dad\", \"make_decisions\", \"make_decisions\", \"make_decisions\", \"make_decisions\", \"make_decisions\", \"make_decisions\", \"make_decisions\", \"make_decisions\", \"make_decisions\", \"make_decisions\", \"make_happy\", \"make_happy\", \"make_happy\", \"make_happy\", \"make_happy\", \"make_happy\", \"make_happy\", \"make_happy\", \"make_happy\", \"make_happy\", \"make_list\", \"make_list\", \"make_list\", \"make_list\", \"make_list\", \"make_list\", \"make_list\", \"make_list\", \"make_sure\", \"make_sure\", \"make_sure\", \"make_sure\", \"make_sure\", \"make_sure\", \"make_sure\", \"make_sure\", \"make_sure\", \"make_sure\", \"many_blessings\", \"many_nursing\", \"many_people\", \"many_people\", \"many_people\", \"many_people\", \"many_people\", \"many_people\", \"many_people\", \"many_people\", \"many_people\", \"many_people\", \"many_times\", \"many_times\", \"many_times\", \"many_times\", \"many_times\", \"many_times\", \"many_times\", \"many_times\", \"many_times\", \"many_times\", \"married_years\", \"married_years\", \"married_years\", \"married_years\", \"married_years\", \"married_years\", \"married_years\", \"married_years\", \"married_years\", \"married_years\", \"may_able\", \"may_able\", \"may_able\", \"may_able\", \"may_able\", \"may_able\", \"may_able\", \"may_able\", \"may_able\", \"may_able\", \"may_dad\", \"may_need\", \"may_need\", \"may_need\", \"may_need\", \"may_need\", \"may_need\", \"may_need\", \"may_need\", \"may_need\", \"may_need\", \"may_point\", \"maybe_look\", \"maybe_look\", \"mc_nh\", \"mean_like\", \"mean_well\", \"mean_well\", \"medi_cal\", \"medi_cal\", \"medi_cal\", \"medi_cal\", \"medi_cal\", \"medi_cal\", \"medi_cal\", \"medi_cal\", \"medi_cal\", \"memory_care\", \"memory_care\", \"memory_care\", \"memory_care\", \"memory_care\", \"memory_care\", \"memory_care\", \"memory_care\", \"memory_care\", \"memory_care\", \"memory_loss\", \"memory_loss\", \"memory_loss\", \"memory_loss\", \"memory_loss\", \"memory_loss\", \"memory_loss\", \"memory_loss\", \"memory_loss\", \"memory_loss\", \"mental_test\", \"mind_pretty\", \"missher_wrote\", \"missher_wrote\", \"mom_anosognosia\", \"mom_anosognosia\", \"mom_anosognosia\", \"mom_continue\", \"mom_continue\", \"mom_continue\", \"mom_dearly\", \"mom_involved\", \"mom_involved\", \"mom_memory\", \"mom_memory\", \"mom_memory\", \"mom_memory\", \"mom_memory\", \"mom_memory\", \"mom_memory\", \"mom_memory\", \"mom_memory\", \"mom_memory\", \"mom_none\", \"mom_side\", \"mom_worry\", \"mom_would\", \"mom_would\", \"mom_would\", \"mom_would\", \"mom_would\", \"mom_would\", \"mom_would\", \"mom_would\", \"mom_would\", \"mom_would\", \"mom_yesterday\", \"money_living\", \"months_ago\", \"months_ago\", \"months_ago\", \"months_ago\", \"months_ago\", \"months_ago\", \"months_ago\", \"months_ago\", \"months_ago\", \"months_ago\", \"morning_find\", \"morning_still\", \"morning_take\", \"mostly_continent\", \"mother_adjust\", \"mother_big\", \"mother_certainly\", \"move_soon\", \"move_soon\", \"mpsunshine_wrote\", \"mpsunshine_wrote\", \"mpsunshine_wrote\", \"much_better\", \"much_better\", \"much_better\", \"much_better\", \"much_better\", \"much_better\", \"much_better\", \"much_better\", \"much_better\", \"much_better\", \"much_caregiving\", \"much_eating\", \"name_amen\", \"need_bit\", \"need_help\", \"need_help\", \"need_help\", \"need_help\", \"need_help\", \"need_help\", \"need_help\", \"need_help\", \"need_help\", \"need_help\", \"need_sort\", \"needs_mil\", \"neurologist_psychiatrist\", \"never_happens\", \"never_put\", \"never_put\", \"never_put\", \"never_put\", \"never_put\", \"never_put\", \"never_put\", \"never_put\", \"new_international\", \"new_international\", \"new_international\", \"new_international\", \"new_international\", \"new_international\", \"new_international\", \"new_international\", \"news_translation\", \"news_translation\", \"news_translation\", \"news_translation\", \"next_doctor\", \"northern_ca\", \"nose_dive\", \"nose_dive\", \"nursing_home\", \"nursing_home\", \"nursing_home\", \"nursing_home\", \"nursing_home\", \"nursing_home\", \"nursing_home\", \"nursing_home\", \"nursing_home\", \"nursing_home\", \"ok_good\", \"ok_good\", \"old_brain\", \"older_brother\", \"older_brother\", \"older_brother\", \"older_brother\", \"older_brother\", \"older_brother\", \"older_brother\", \"older_brother\", \"older_brother\", \"one_another\", \"one_another\", \"one_another\", \"one_another\", \"one_another\", \"one_another\", \"one_another\", \"one_another\", \"one_another\", \"one_another\", \"one_credit\", \"one_day\", \"one_day\", \"one_day\", \"one_day\", \"one_day\", \"one_day\", \"one_day\", \"one_day\", \"one_day\", \"one_day\", \"one_grown\", \"one_person\", \"one_person\", \"one_person\", \"one_person\", \"one_person\", \"one_person\", \"one_person\", \"one_person\", \"one_person\", \"one_person\", \"one_predict\", \"one_sometimes\", \"one_sometimes\", \"one_thing\", \"one_thing\", \"one_thing\", \"one_thing\", \"one_thing\", \"one_thing\", \"one_thing\", \"one_thing\", \"one_thing\", \"one_thing\", \"one_wonderful\", \"open_arms\", \"opinion_whether\", \"others_posted\", \"others_posted\", \"others_posted\", \"parents_kids\", \"passed_away\", \"passed_away\", \"passed_away\", \"passed_away\", \"passed_away\", \"passed_away\", \"passed_away\", \"passed_away\", \"passed_away\", \"passed_away\", \"passed_good\", \"patients_tend\", \"pcp_would\", \"pcp_would\", \"peaceful_passing\", \"people_talking\", \"people_talking\", \"people_talking\", \"people_talking\", \"people_talking\", \"people_talking\", \"people_use\", \"people_use\", \"people_use\", \"people_use\", \"person_believe\", \"person_dementia\", \"person_dementia\", \"person_dementia\", \"person_dementia\", \"person_dementia\", \"person_dementia\", \"person_dementia\", \"person_dementia\", \"person_dementia\", \"person_dementia\", \"person_first\", \"person_first\", \"person_hard\", \"person_mother\", \"person_mother\", \"person_mother\", \"person_mother\", \"person_mother\", \"person_mother\", \"person_poa\", \"personally_feel\", \"physical_therapy\", \"physical_therapy\", \"physical_therapy\", \"physical_therapy\", \"physical_therapy\", \"physical_therapy\", \"physical_therapy\", \"physical_therapy\", \"physical_therapy\", \"physical_therapy\", \"placement_close\", \"point_contact\", \"post_thanks\", \"posted_anything\", \"posted_anything\", \"posted_help\", \"posts_get\", \"power_attorney\", \"power_attorney\", \"power_attorney\", \"power_attorney\", \"power_attorney\", \"power_attorney\", \"power_attorney\", \"power_attorney\", \"power_attorney\", \"power_attorney\", \"precious_memories\", \"precious_memories\", \"prescription_coverage\", \"prescription_coverage\", \"prescription_coverage\", \"pretty_healthy\", \"pretty_healthy\", \"pretty_much\", \"pretty_much\", \"pretty_much\", \"pretty_much\", \"pretty_much\", \"pretty_much\", \"pretty_much\", \"pretty_much\", \"pretty_much\", \"pretty_much\", \"pretty_sharp\", \"private_pay\", \"private_pay\", \"private_pay\", \"private_pay\", \"private_pay\", \"private_pay\", \"private_pay\", \"private_pay\", \"private_pay\", \"private_pay\", \"protective_underwear\", \"provide_support\", \"provide_support\", \"provide_support\", \"psych_staff\", \"psych_unit\", \"psych_unit\", \"psych_unit\", \"psych_unit\", \"psych_unit\", \"psych_unit\", \"psych_unit\", \"psych_unit\", \"psych_unit\", \"psych_unit\", \"psychiatrist_neurologist\", \"psychiatrist_neurologist\", \"psychiatrist_neurologist\", \"psychiatrist_neurologist\", \"quality_life\", \"quality_life\", \"quality_life\", \"quality_life\", \"quality_life\", \"quality_life\", \"quality_life\", \"quality_life\", \"quality_life\", \"quality_life\", \"question_mom\", \"ran_much\", \"reach_outi\", \"read_reply\", \"read_thread\", \"read_thread\", \"read_thread\", \"read_thread\", \"reality_would\", \"really_big\", \"really_cause\", \"really_cause\", \"really_main\", \"really_push\", \"recently_placed\", \"refuse_accept\", \"regarding_mother\", \"regarding_mother\", \"regarding_mother\", \"regarding_mother\", \"regarding_mother\", \"repeat_repeat\", \"repeat_repeat\", \"repeat_repeat\", \"repeat_repeat\", \"repeat_repeat\", \"repeat_repeat\", \"resident_staff\", \"resist_become\", \"response_exactly\", \"retirement_funds\", \"right_far\", \"right_front\", \"right_front\", \"right_front\", \"right_front\", \"right_front\", \"right_front\", \"right_front\", \"right_front\", \"right_front\", \"right_front\", \"right_hand\", \"right_hand\", \"right_hand\", \"right_hand\", \"right_hand\", \"right_hand\", \"right_hand\", \"right_hand\", \"right_thing\", \"right_thing\", \"right_thing\", \"right_thing\", \"right_thing\", \"right_thing\", \"right_thing\", \"right_thing\", \"right_thing\", \"right_thing\", \"road_map\", \"rock_solid\", \"rock_solid\", \"rock_solid\", \"room_checks\", \"room_checks\", \"room_checks\", \"room_checks\", \"room_memory\", \"rooms_locked\", \"run_problems\", \"sad_thing\", \"sad_thing\", \"sad_thing\", \"sad_thing\", \"safe_facility\", \"said_needs\", \"said_needs\", \"said_needs\", \"said_post\", \"said_stop\", \"san_diego\", \"san_diego\", \"santa_claus\", \"saw_mom\", \"saw_mom\", \"saw_mom\", \"saw_mom\", \"saw_mom\", \"saw_mom\", \"saw_mom\", \"saw_mom\", \"saw_mom\", \"saw_mom\", \"say_received\", \"say_received\", \"says_word\", \"second_facility\", \"second_facility\", \"second_facility\", \"second_facility\", \"see_car\", \"see_clearly\", \"see_clearly\", \"see_clearly\", \"see_clearly\", \"see_doc\", \"see_doc\", \"see_doc\", \"see_doc\", \"see_doc\", \"see_level\", \"see_level\", \"see_tried\", \"see_went\", \"seemed_bit\", \"seemed_think\", \"seemed_think\", \"seems_like\", \"seems_like\", \"seems_like\", \"seems_like\", \"seems_like\", \"seems_like\", \"seems_like\", \"seems_like\", \"seems_like\", \"seems_like\", \"sense_however\", \"set_schedule\", \"set_schedule\", \"set_schedule\", \"set_schedule\", \"set_schedule\", \"several_us\", \"several_us\", \"sheriff_office\", \"shopping_mom\", \"shopping_mom\", \"short_term\", \"short_term\", \"short_term\", \"short_term\", \"short_term\", \"short_term\", \"short_term\", \"short_term\", \"short_term\", \"short_term\", \"since_probably\", \"since_probably\", \"sippy_cup\", \"sisters_live\", \"sisters_live\", \"sisters_live\", \"site_helpful\", \"situation_nothing\", \"skilled_nursing\", \"skilled_nursing\", \"skilled_nursing\", \"skilled_nursing\", \"skilled_nursing\", \"skilled_nursing\", \"skilled_nursing\", \"skilled_nursing\", \"skilled_nursing\", \"skilled_nursing\", \"snf_mc\", \"snf_mc\", \"social_worker\", \"social_worker\", \"social_worker\", \"social_worker\", \"social_worker\", \"social_worker\", \"social_worker\", \"social_worker\", \"social_worker\", \"social_worker\", \"solo_full\", \"solo_full\", \"someone_deleting\", \"someone_else\", \"someone_else\", \"someone_else\", \"someone_else\", \"someone_else\", \"someone_else\", \"someone_else\", \"someone_else\", \"someone_else\", \"someone_else\", \"someone_wants\", \"someone_wants\", \"someone_wants\", \"sometimes_possible\", \"sorry_hear\", \"sorry_hear\", \"sorry_hear\", \"sorry_hear\", \"sorry_hear\", \"sorry_hear\", \"sorry_hear\", \"sorry_hear\", \"sorry_hear\", \"sorry_hear\", \"sounds_like\", \"sounds_like\", \"sounds_like\", \"sounds_like\", \"sounds_like\", \"sounds_like\", \"sounds_like\", \"sounds_like\", \"sounds_like\", \"sounds_like\", \"st_peter\", \"staff_must\", \"staff_must\", \"stage_non\", \"start_right\", \"stigma_attached\", \"still_help\", \"still_help\", \"still_help\", \"still_help\", \"still_help\", \"still_long\", \"still_long\", \"still_long\", \"still_long\", \"still_miss\", \"still_miss\", \"still_well\", \"still_well\", \"stop_get\", \"store_knows\", \"strongly_suggest\", \"strongly_suggest\", \"strongly_suggest\", \"suffered_stroke\", \"supply_store\", \"support_group\", \"support_group\", \"support_group\", \"support_group\", \"support_group\", \"support_group\", \"support_group\", \"support_group\", \"support_group\", \"support_group\", \"support_try\", \"sure_mean\", \"sure_new\", \"table_one\", \"take_care\", \"take_care\", \"take_care\", \"take_care\", \"take_care\", \"take_care\", \"take_care\", \"take_care\", \"take_care\", \"take_care\", \"take_dad\", \"take_dad\", \"take_dad\", \"take_dad\", \"take_dad\", \"take_dad\", \"take_dad\", \"take_dad\", \"take_dad\", \"take_dad\", \"take_high\", \"take_high\", \"take_personal\", \"take_personal\", \"take_places\", \"takes_several\", \"taking_care\", \"taking_care\", \"taking_care\", \"taking_care\", \"taking_care\", \"taking_care\", \"taking_care\", \"taking_care\", \"taking_care\", \"taking_care\", \"taking_home\", \"taking_home\", \"taking_home\", \"taking_home\", \"taking_home\", \"taking_home\", \"taking_home\", \"tell_love\", \"tell_love\", \"tell_love\", \"tells_wants\", \"term_care\", \"term_care\", \"term_care\", \"term_care\", \"term_care\", \"term_care\", \"term_care\", \"term_care\", \"term_care\", \"term_care\", \"term_memory\", \"term_memory\", \"term_memory\", \"term_memory\", \"term_memory\", \"term_memory\", \"term_memory\", \"term_memory\", \"term_memory\", \"term_memory\", \"term_mom\", \"thank_mom\", \"thank_mom\", \"thank_mom\", \"thank_much\", \"thank_much\", \"thank_much\", \"thank_much\", \"thank_much\", \"thank_much\", \"thank_much\", \"thank_much\", \"thank_much\", \"thank_much\", \"thank_valuable\", \"thanks_jo\", \"thanks_jo\", \"thanks_jo\", \"thanks_laugh\", \"thanks_replies\", \"thanks_replies\", \"thanks_replies\", \"thanks_replies\", \"thanks_replies\", \"thanks_responding\", \"thanks_suggestion\", \"thanks_suggestion\", \"thanks_update\", \"thanks_update\", \"thanks_update\", \"thanks_update\", \"thick_skin\", \"thick_skin\", \"thing_absolutely\", \"thing_another\", \"thing_another\", \"thing_another\", \"thing_another\", \"thing_another\", \"thing_another\", \"thing_another\", \"thing_asked\", \"thing_might\", \"thing_might\", \"thing_might\", \"thing_might\", \"thing_might\", \"thing_might\", \"thing_might\", \"things_currently\", \"things_going\", \"things_going\", \"things_going\", \"things_going\", \"things_going\", \"things_going\", \"things_going\", \"things_going\", \"things_going\", \"things_going\", \"things_like\", \"things_like\", \"things_like\", \"things_like\", \"things_like\", \"things_like\", \"things_like\", \"things_like\", \"things_like\", \"things_like\", \"things_things\", \"things_things\", \"things_thought\", \"things_thought\", \"things_thought\", \"think_ok\", \"think_ok\", \"think_ok\", \"think_really\", \"think_really\", \"think_really\", \"think_really\", \"think_really\", \"think_really\", \"think_really\", \"think_really\", \"think_really\", \"think_really\", \"thisi_would\", \"thought_process\", \"thought_process\", \"thought_process\", \"thought_process\", \"thought_process\", \"thought_process\", \"thoughtful_response\", \"thoughts_family\", \"three_working\", \"thyroid_problems\", \"thyroid_problems\", \"thyroid_problems\", \"time_choices\", \"time_nothing\", \"time_stage\", \"time_stage\", \"times_loved\", \"times_loved\", \"times_said\", \"times_said\", \"title_easy\", \"today_sister\", \"told_worry\", \"translation_gnt\", \"translation_gnt\", \"transport_chair\", \"transport_chair\", \"transport_chair\", \"tried_seroquel\", \"truly_believes\", \"truly_believes\", \"truly_believes\", \"truly_believes\", \"truly_believes\", \"truly_believes\", \"truly_believes\", \"trust_assets\", \"trust_lord\", \"trust_lord\", \"trust_lord\", \"trust_one\", \"try_best\", \"try_best\", \"try_best\", \"try_best\", \"try_best\", \"try_best\", \"try_best\", \"try_best\", \"try_best\", \"two_daughters\", \"two_major\", \"two_years\", \"two_years\", \"two_years\", \"two_years\", \"two_years\", \"two_years\", \"two_years\", \"two_years\", \"two_years\", \"two_years\", \"type_home\", \"understand_alzheimers\", \"understand_alzheimers\", \"understand_alzheimers\", \"understand_alzheimers\", \"understand_alzheimers\", \"understand_alzheimers\", \"understand_alzheimers\", \"understand_alzheimers\", \"understand_alzheimers\", \"understand_like\", \"understand_like\", \"understand_like\", \"understand_like\", \"understand_like\", \"unlikely_would\", \"unlikely_would\", \"us_know\", \"us_know\", \"us_know\", \"us_know\", \"us_know\", \"us_know\", \"us_know\", \"us_know\", \"us_know\", \"us_know\", \"us_year\", \"us_year\", \"use_medication\", \"use_work\", \"used_living\", \"used_toilet\", \"vacation_time\", \"validate_saying\", \"validation_title\", \"validation_title\", \"validation_title\", \"validation_title\", \"vent_people\", \"vent_people\", \"version_niv\", \"version_niv\", \"version_niv\", \"veteran_benefits\", \"visit_friend\", \"visit_mom\", \"visit_mom\", \"visit_mom\", \"visit_mom\", \"visit_mom\", \"visit_mom\", \"visit_mom\", \"visit_mom\", \"visit_mom\", \"visit_mom\", \"visit_wife\", \"walk_unassisted\", \"walk_wheelchair\", \"want_facility\", \"want_facility\", \"want_go\", \"want_go\", \"want_go\", \"want_go\", \"want_go\", \"want_go\", \"want_go\", \"want_go\", \"want_go\", \"want_go\", \"want_good\", \"want_good\", \"want_good\", \"waste_energy\", \"waste_energy\", \"waste_energy\", \"way_easier\", \"way_end\", \"wear_hearing\", \"wear_hearing\", \"week_fell\", \"week_good\", \"week_good\", \"weeks_changed\", \"weeks_told\", \"welcome_world\", \"welcome_world\", \"welcome_world\", \"whether_getting\", \"whether_getting\", \"whether_go\", \"whether_go\", \"wife_stage\", \"wife_taking\", \"wife_want\", \"wife_want\", \"wife_want\", \"wishes_greg\", \"wishes_greg\", \"wishes_greg\", \"word_validation\", \"word_validation\", \"word_validation\", \"word_validation\", \"work_arounds\", \"work_arounds\", \"work_arounds\", \"work_arounds\", \"work_arounds\", \"work_arounds\", \"work_arounds\", \"work_arounds\", \"work_arounds\", \"work_father\", \"work_limit\", \"work_use\", \"working_day\", \"working_day\", \"working_time\", \"working_time\", \"working_time\", \"working_time\", \"world_may\", \"worse_better\", \"worse_better\", \"would_able\", \"would_able\", \"would_able\", \"would_able\", \"would_able\", \"would_able\", \"would_able\", \"would_able\", \"would_able\", \"would_able\", \"would_also\", \"would_also\", \"would_also\", \"would_also\", \"would_also\", \"would_also\", \"would_also\", \"would_also\", \"would_also\", \"would_also\", \"would_argue\", \"would_get\", \"would_get\", \"would_get\", \"would_get\", \"would_get\", \"would_get\", \"would_get\", \"would_get\", \"would_get\", \"would_get\", \"would_like\", \"would_like\", \"would_like\", \"would_like\", \"would_like\", \"would_like\", \"would_like\", \"would_like\", \"would_like\", \"would_like\", \"would_make\", \"would_make\", \"would_make\", \"would_make\", \"would_make\", \"would_make\", \"would_make\", \"would_make\", \"would_make\", \"would_make\", \"would_say\", \"would_say\", \"would_say\", \"would_say\", \"would_say\", \"would_say\", \"would_say\", \"would_say\", \"would_say\", \"would_say\", \"would_strongly\", \"would_strongly\", \"would_strongly\", \"would_strongly\", \"would_strongly\", \"would_wait\", \"would_wait\", \"would_wait\", \"would_wait\", \"would_wait\", \"would_want\", \"would_want\", \"would_want\", \"would_want\", \"would_want\", \"would_want\", \"would_want\", \"would_want\", \"would_want\", \"would_want\", \"wrote_always\", \"wwwalzinfoorg_understand\", \"wwwalzinfoorg_understand\", \"wwwalzinfoorg_understand\", \"wwwalzinfoorg_understand\", \"wwwalzinfoorg_understand\", \"wwwalzinfoorg_understand\", \"wwwalzinfoorg_understand\", \"wwwalzinfoorg_understand\", \"wwwalzinfoorg_understand\", \"wwwnelforg_find\", \"yeah_really\", \"year_old\", \"year_old\", \"year_old\", \"year_old\", \"year_old\", \"year_old\", \"year_old\", \"year_old\", \"year_old\", \"year_old\", \"year_worth\", \"years_ago\", \"years_ago\", \"years_ago\", \"years_ago\", \"years_ago\", \"years_ago\", \"years_ago\", \"years_ago\", \"years_ago\", \"years_ago\", \"yes_sad\", \"yes_want\", \"yes_want\", \"yesterday_said\", \"yesterday_said\", \"yesterday_said\", \"yoga_meditation\", \"younger_brother\", \"younger_brother\", \"younger_brother\", \"younger_brother\", \"younger_brother\", \"younger_brother\", \"younger_brother\", \"younger_brother\", \"younger_brother\", \"younger_sister\", \"younger_sister\", \"younger_sister\", \"younger_sister\", \"younger_sister\", \"younger_sister\", \"younger_sister\", \"younger_sister\", \"younger_sister\", \"younger_sister\"]}, \"R\": 30, \"lambda.step\": 0.01, \"plot.opts\": {\"xlab\": \"PC1\", \"ylab\": \"PC2\"}, \"topic.order\": [9, 8, 7, 6, 4, 2, 10, 1, 3, 5]};\n",
       "\n",
       "function LDAvis_load_lib(url, callback){\n",
       "  var s = document.createElement('script');\n",
       "  s.src = url;\n",
       "  s.async = true;\n",
       "  s.onreadystatechange = s.onload = callback;\n",
       "  s.onerror = function(){console.warn(\"failed to load library \" + url);};\n",
       "  document.getElementsByTagName(\"head\")[0].appendChild(s);\n",
       "}\n",
       "\n",
       "if(typeof(LDAvis) !== \"undefined\"){\n",
       "   // already loaded: just create the visualization\n",
       "   !function(LDAvis){\n",
       "       new LDAvis(\"#\" + \"ldavis_el192111405193155477449546446445\", ldavis_el192111405193155477449546446445_data);\n",
       "   }(LDAvis);\n",
       "}else if(typeof define === \"function\" && define.amd){\n",
       "   // require.js is available: use it to load d3/LDAvis\n",
       "   require.config({paths: {d3: \"https://d3js.org/d3.v5\"}});\n",
       "   require([\"d3\"], function(d3){\n",
       "      window.d3 = d3;\n",
       "      LDAvis_load_lib(\"https://cdn.jsdelivr.net/gh/bmabey/pyLDAvis@3.3.1/pyLDAvis/js/ldavis.v3.0.0.js\", function(){\n",
       "        new LDAvis(\"#\" + \"ldavis_el192111405193155477449546446445\", ldavis_el192111405193155477449546446445_data);\n",
       "      });\n",
       "    });\n",
       "}else{\n",
       "    // require.js not available: dynamically load d3 & LDAvis\n",
       "    LDAvis_load_lib(\"https://d3js.org/d3.v5.js\", function(){\n",
       "         LDAvis_load_lib(\"https://cdn.jsdelivr.net/gh/bmabey/pyLDAvis@3.3.1/pyLDAvis/js/ldavis.v3.0.0.js\", function(){\n",
       "                 new LDAvis(\"#\" + \"ldavis_el192111405193155477449546446445\", ldavis_el192111405193155477449546446445_data);\n",
       "            })\n",
       "         });\n",
       "}\n",
       "</script>"
      ],
      "text/plain": [
       "PreparedData(topic_coordinates=              x         y  topics  cluster       Freq\n",
       "topic                                                \n",
       "8     -0.061571 -0.051138       1        1  18.780121\n",
       "7     -0.046657  0.064143       2        1  17.353409\n",
       "6     -0.011599  0.000546       3        1  11.561359\n",
       "5      0.000063 -0.006521       4        1  10.758349\n",
       "3      0.010620 -0.002879       5        1   8.791801\n",
       "1      0.015137  0.001267       6        1   8.452968\n",
       "9      0.016041 -0.000399       7        1   6.873646\n",
       "0      0.026281 -0.003283       8        1   6.059113\n",
       "2      0.026236 -0.001130       9        1   5.692097\n",
       "4      0.025449 -0.000605      10        1   5.677136, topic_info=                Term         Freq        Total Category  logprob  loglift\n",
       "2586       take_care  1877.000000  1877.000000  Default  30.0000  30.0000\n",
       "9728    nursing_home  1332.000000  1332.000000  Default  29.0000  29.0000\n",
       "177590   wishes_greg    79.000000    79.000000  Default  28.0000  28.0000\n",
       "365120  away_thought    54.000000    54.000000  Default  27.0000  27.0000\n",
       "583        years_ago  1480.000000  1480.000000  Default  26.0000  26.0000\n",
       "...              ...          ...          ...      ...      ...      ...\n",
       "3850      months_ago    23.559685   547.602707  Topic10  -8.7508  -0.2773\n",
       "500        last_year    23.129884   498.266483  Topic10  -8.7692  -0.2013\n",
       "2576      short_term    23.467710   573.567753  Topic10  -8.7547  -0.3275\n",
       "2423     pretty_much    22.863889   487.635226  Topic10  -8.7808  -0.1913\n",
       "2848      loved_ones    22.907962   770.676842  Topic10  -8.7789  -0.6471\n",
       "\n",
       "[894 rows x 6 columns], token_table=        Topic      Freq            Term\n",
       "term                                   \n",
       "527276      9  0.849751  ability_things\n",
       "5067        1  0.177502        able_get\n",
       "5067        2  0.206131        able_get\n",
       "5067        3  0.116426        able_get\n",
       "5067        4  0.124060        able_get\n",
       "...       ...       ...             ...\n",
       "99698       6  0.084939  younger_sister\n",
       "99698       7  0.056626  younger_sister\n",
       "99698       8  0.028313  younger_sister\n",
       "99698       9  0.028313  younger_sister\n",
       "99698      10  0.368071  younger_sister\n",
       "\n",
       "[2261 rows x 3 columns], R=30, lambda_step=0.01, plot_opts={'xlab': 'PC1', 'ylab': 'PC2'}, topic_order=[9, 8, 7, 6, 4, 2, 10, 1, 3, 5])"
      ]
     },
     "execution_count": 49,
     "metadata": {},
     "output_type": "execute_result"
    }
   ],
   "source": [
    "data = pos_df.POST_CONTENT.values.tolist()\n",
    "data_words = list(sent_to_words(data))\n",
    "data_words = remove_stopwords(data_words)\n",
    "bi_g = []\n",
    "for x in range(len(data_words)):\n",
    "    bigrams = ngrams(data_words[x],2)\n",
    "    bi_g.append(list(bigrams))\n",
    "for sublist in list(bi_g):\n",
    "    for i in range(len(sublist)):\n",
    "       sublist[i] = '_'.join(sublist[i])\n",
    "id2word = corpora.Dictionary(list(bi_g))\n",
    "# Create Corpus\n",
    "texts = list(bi_g)\n",
    "# Term Document Frequency\n",
    "corpus = [id2word.doc2bow(text) for text in texts]\n",
    "num_topics = 10\n",
    "\n",
    "lda_model6 = gensim.models.LdaMulticore(corpus=corpus,\n",
    "                                       id2word=id2word,\n",
    "                                       num_topics=num_topics)\n",
    "\n",
    "pprint(lda_model6.print_topics())\n",
    "doc_lda = lda_model6[corpus]\n",
    "\n",
    "pyLDAvis.enable_notebook()\n",
    "LDAvis_prepared = pyLDAvis.gensim_models.prepare(lda_model6, corpus, id2word)\n",
    "LDAvis_prepared"
   ]
  },
  {
   "cell_type": "code",
   "execution_count": 61,
   "id": "22a3c2ec",
   "metadata": {},
   "outputs": [],
   "source": [
    "mdiff, annotation=lda_model2.diff(lda_model3, distance ='jaccard')"
   ]
  },
  {
   "cell_type": "code",
   "execution_count": 65,
   "id": "710dc1f3",
   "metadata": {},
   "outputs": [],
   "source": [
    "mdiff2, annotation2=lda_model4.diff(lda_model5, distance ='jaccard')"
   ]
  },
  {
   "cell_type": "code",
   "execution_count": null,
   "id": "e500b210",
   "metadata": {},
   "outputs": [],
   "source": []
  },
  {
   "cell_type": "code",
   "execution_count": 13,
   "id": "8420c141",
   "metadata": {},
   "outputs": [],
   "source": [
    "from nltk.sentiment import SentimentIntensityAnalyzer"
   ]
  },
  {
   "cell_type": "code",
   "execution_count": 14,
   "id": "67b6efaf",
   "metadata": {},
   "outputs": [],
   "source": [
    "df[\"Sentiment_NLTK\"] = np.nan"
   ]
  },
  {
   "cell_type": "code",
   "execution_count": 15,
   "id": "ead224ae",
   "metadata": {},
   "outputs": [],
   "source": [
    "df['Sentiment_NLTK'] = df['POST_CONTENT'].apply(lambda x: get_nltk_score(x))"
   ]
  },
  {
   "cell_type": "code",
   "execution_count": 16,
   "id": "7a27396f",
   "metadata": {},
   "outputs": [],
   "source": [
    "df['Sentiment_NLTK'] = df['Sentiment_NLTK'].apply(lambda x: getBinary(x))"
   ]
  },
  {
   "cell_type": "code",
   "execution_count": 17,
   "id": "fa927a83",
   "metadata": {
    "scrolled": true
   },
   "outputs": [
    {
     "data": {
      "text/html": [
       "<div>\n",
       "<style scoped>\n",
       "    .dataframe tbody tr th:only-of-type {\n",
       "        vertical-align: middle;\n",
       "    }\n",
       "\n",
       "    .dataframe tbody tr th {\n",
       "        vertical-align: top;\n",
       "    }\n",
       "\n",
       "    .dataframe thead th {\n",
       "        text-align: right;\n",
       "    }\n",
       "</style>\n",
       "<table border=\"1\" class=\"dataframe\">\n",
       "  <thead>\n",
       "    <tr style=\"text-align: right;\">\n",
       "      <th></th>\n",
       "      <th>THREAD_HEADING</th>\n",
       "      <th>USER</th>\n",
       "      <th>POST_DATE</th>\n",
       "      <th>USER_JOIN_DATE</th>\n",
       "      <th>USER_PROFILE_POSTS</th>\n",
       "      <th>POST_CONTENT</th>\n",
       "      <th>QUESTION</th>\n",
       "      <th>Sentiment</th>\n",
       "      <th>Sentiment_NLTK</th>\n",
       "    </tr>\n",
       "  </thead>\n",
       "  <tbody>\n",
       "    <tr>\n",
       "      <th>0</th>\n",
       "      <td>New here.(2)</td>\n",
       "      <td>moxvox</td>\n",
       "      <td>Tuesday, February 15, 2022 12:48 PM</td>\n",
       "      <td>Joined: 2/15/2022</td>\n",
       "      <td>Posts: 2</td>\n",
       "      <td>Hi all: My mother was diagnosed around a year ...</td>\n",
       "      <td>YES</td>\n",
       "      <td>1</td>\n",
       "      <td>-1</td>\n",
       "    </tr>\n",
       "    <tr>\n",
       "      <th>1</th>\n",
       "      <td>New here.(2)</td>\n",
       "      <td>SusanB-dil</td>\n",
       "      <td>Tuesday, February 15, 2022 1:18 PM</td>\n",
       "      <td>Joined: 9/10/2021</td>\n",
       "      <td>Posts: 156</td>\n",
       "      <td>Hi moxvox - welcome to 'here'...   A lot of su...</td>\n",
       "      <td>NO</td>\n",
       "      <td>1</td>\n",
       "      <td>1</td>\n",
       "    </tr>\n",
       "    <tr>\n",
       "      <th>2</th>\n",
       "      <td>New here.(2)</td>\n",
       "      <td>moxvox</td>\n",
       "      <td>Tuesday, February 15, 2022 2:00 PM</td>\n",
       "      <td>Joined: 2/15/2022</td>\n",
       "      <td>Posts: 2</td>\n",
       "      <td>Hi Susan:Thanks for your words of encouragemen...</td>\n",
       "      <td>NO</td>\n",
       "      <td>1</td>\n",
       "      <td>1</td>\n",
       "    </tr>\n",
       "    <tr>\n",
       "      <th>3</th>\n",
       "      <td>New here.(2)</td>\n",
       "      <td>SusanB-dil</td>\n",
       "      <td>Tuesday, February 15, 2022 2:27 PM</td>\n",
       "      <td>Joined: 9/10/2021</td>\n",
       "      <td>Posts: 156</td>\n",
       "      <td>Do tell her neurologist.  If no HIPAA access i...</td>\n",
       "      <td>NO</td>\n",
       "      <td>1</td>\n",
       "      <td>1</td>\n",
       "    </tr>\n",
       "    <tr>\n",
       "      <th>4</th>\n",
       "      <td>New here.(2)</td>\n",
       "      <td>LicketyGlitz</td>\n",
       "      <td>Tuesday, February 15, 2022 3:56 PM</td>\n",
       "      <td>Joined: 2/3/2018</td>\n",
       "      <td>Posts: 1088</td>\n",
       "      <td>Dementia often strains family relations, mox, ...</td>\n",
       "      <td>NO</td>\n",
       "      <td>1</td>\n",
       "      <td>1</td>\n",
       "    </tr>\n",
       "  </tbody>\n",
       "</table>\n",
       "</div>"
      ],
      "text/plain": [
       "  THREAD_HEADING          USER                            POST_DATE  \\\n",
       "0   New here.(2)        moxvox  Tuesday, February 15, 2022 12:48 PM   \n",
       "1   New here.(2)    SusanB-dil   Tuesday, February 15, 2022 1:18 PM   \n",
       "2   New here.(2)        moxvox   Tuesday, February 15, 2022 2:00 PM   \n",
       "3   New here.(2)    SusanB-dil   Tuesday, February 15, 2022 2:27 PM   \n",
       "4   New here.(2)  LicketyGlitz   Tuesday, February 15, 2022 3:56 PM   \n",
       "\n",
       "      USER_JOIN_DATE USER_PROFILE_POSTS  \\\n",
       "0  Joined: 2/15/2022           Posts: 2   \n",
       "1  Joined: 9/10/2021         Posts: 156   \n",
       "2  Joined: 2/15/2022           Posts: 2   \n",
       "3  Joined: 9/10/2021         Posts: 156   \n",
       "4   Joined: 2/3/2018        Posts: 1088   \n",
       "\n",
       "                                        POST_CONTENT QUESTION  Sentiment  \\\n",
       "0  Hi all: My mother was diagnosed around a year ...      YES          1   \n",
       "1  Hi moxvox - welcome to 'here'...   A lot of su...       NO          1   \n",
       "2  Hi Susan:Thanks for your words of encouragemen...       NO          1   \n",
       "3  Do tell her neurologist.  If no HIPAA access i...       NO          1   \n",
       "4  Dementia often strains family relations, mox, ...       NO          1   \n",
       "\n",
       "   Sentiment_NLTK  \n",
       "0              -1  \n",
       "1               1  \n",
       "2               1  \n",
       "3               1  \n",
       "4               1  "
      ]
     },
     "execution_count": 17,
     "metadata": {},
     "output_type": "execute_result"
    }
   ],
   "source": [
    "df.head()"
   ]
  },
  {
   "cell_type": "code",
   "execution_count": 18,
   "id": "debc1846",
   "metadata": {},
   "outputs": [],
   "source": [
    "df.to_csv(\"SentimentAlz.csv\")"
   ]
  },
  {
   "cell_type": "code",
   "execution_count": 19,
   "id": "a126f0ee",
   "metadata": {},
   "outputs": [
    {
     "data": {
      "text/plain": [
       "<AxesSubplot:>"
      ]
     },
     "execution_count": 19,
     "metadata": {},
     "output_type": "execute_result"
    },
    {
     "data": {
      "image/png": "[encoded data removed]",
      "text/plain": [
       "<Figure size 432x288 with 1 Axes>"
      ]
     },
     "metadata": {
      "needs_background": "light"
     },
     "output_type": "display_data"
    }
   ],
   "source": [
    "df.Sentiment.value_counts().sort_values().plot(kind = 'barh')"
   ]
  },
  {
   "cell_type": "code",
   "execution_count": 20,
   "id": "31980392",
   "metadata": {},
   "outputs": [
    {
     "data": {
      "text/plain": [
       "<AxesSubplot:>"
      ]
     },
     "execution_count": 20,
     "metadata": {},
     "output_type": "execute_result"
    },
    {
     "data": {
      "image/png": "[encoded data removed]",
      "text/plain": [
       "<Figure size 432x288 with 1 Axes>"
      ]
     },
     "metadata": {
      "needs_background": "light"
     },
     "output_type": "display_data"
    }
   ],
   "source": [
    "df.Sentiment_NLTK.value_counts().sort_values().plot(kind = 'barh')"
   ]
  },
  {
   "cell_type": "code",
   "execution_count": 21,
   "id": "03ab45ad",
   "metadata": {},
   "outputs": [
    {
     "data": {
      "text/plain": [
       "4449"
      ]
     },
     "execution_count": 21,
     "metadata": {},
     "output_type": "execute_result"
    }
   ],
   "source": [
    "len(df.USER.unique())"
   ]
  },
  {
   "cell_type": "code",
   "execution_count": 22,
   "id": "d04a28c2",
   "metadata": {},
   "outputs": [
    {
     "data": {
      "text/plain": [
       "5597"
      ]
     },
     "execution_count": 22,
     "metadata": {},
     "output_type": "execute_result"
    }
   ],
   "source": [
    "len(df.THREAD_HEADING.unique())"
   ]
  },
  {
   "cell_type": "code",
   "execution_count": 23,
   "id": "0dd73e7f",
   "metadata": {},
   "outputs": [
    {
     "data": {
      "text/plain": [
       "45927"
      ]
     },
     "execution_count": 23,
     "metadata": {},
     "output_type": "execute_result"
    }
   ],
   "source": [
    "len(df)"
   ]
  },
  {
   "cell_type": "code",
   "execution_count": 24,
   "id": "f9fb293c",
   "metadata": {},
   "outputs": [
    {
     "data": {
      "text/plain": [
       "harshedbuzz      1263\n",
       "jfkoc            1206\n",
       "M1                940\n",
       "abc123            723\n",
       "Jo C.             723\n",
       "                 ... \n",
       "nhcurealz           1\n",
       "Jennkidd            1\n",
       "WhiteBearKite       1\n",
       "cdn13               1\n",
       "MandyPonder         1\n",
       "Name: USER, Length: 4449, dtype: int64"
      ]
     },
     "execution_count": 24,
     "metadata": {},
     "output_type": "execute_result"
    }
   ],
   "source": [
    "df.USER.value_counts()"
   ]
  },
  {
   "cell_type": "code",
   "execution_count": 25,
   "id": "ab95a224",
   "metadata": {
    "scrolled": true
   },
   "outputs": [
    {
     "data": {
      "text/plain": [
       "<AxesSubplot:>"
      ]
     },
     "execution_count": 25,
     "metadata": {},
     "output_type": "execute_result"
    },
    {
     "data": {
      "image/png": "[encoded data removed]",
      "text/plain": [
       "<Figure size 432x288 with 1 Axes>"
      ]
     },
     "metadata": {
      "needs_background": "light"
     },
     "output_type": "display_data"
    }
   ],
   "source": [
    "df[df['USER'] == 'harshedbuzz'].Sentiment_NLTK.value_counts().sort_values().plot(kind = 'barh')"
   ]
  },
  {
   "cell_type": "code",
   "execution_count": 26,
   "id": "b00a5712",
   "metadata": {
    "scrolled": true
   },
   "outputs": [
    {
     "data": {
      "text/plain": [
       "<AxesSubplot:>"
      ]
     },
     "execution_count": 26,
     "metadata": {},
     "output_type": "execute_result"
    },
    {
     "data": {
      "image/png": "[encoded data removed]",
      "text/plain": [
       "<Figure size 432x288 with 1 Axes>"
      ]
     },
     "metadata": {
      "needs_background": "light"
     },
     "output_type": "display_data"
    }
   ],
   "source": [
    "df[df['USER'] == 'jfkoc'].Sentiment_NLTK.value_counts().sort_values().plot(kind = 'barh')"
   ]
  },
  {
   "cell_type": "code",
   "execution_count": 27,
   "id": "3ad1ba6d",
   "metadata": {
    "scrolled": true
   },
   "outputs": [
    {
     "data": {
      "text/plain": [
       "<AxesSubplot:>"
      ]
     },
     "execution_count": 27,
     "metadata": {},
     "output_type": "execute_result"
    },
    {
     "data": {
      "image/png": "[encoded data removed]",
      "text/plain": [
       "<Figure size 432x288 with 1 Axes>"
      ]
     },
     "metadata": {
      "needs_background": "light"
     },
     "output_type": "display_data"
    }
   ],
   "source": [
    "df[df['USER'] == 'M1'].Sentiment_NLTK.value_counts().sort_values().plot(kind = 'barh')"
   ]
  },
  {
   "cell_type": "code",
   "execution_count": 28,
   "id": "60b5737c",
   "metadata": {},
   "outputs": [
    {
     "data": {
      "text/plain": [
       "<AxesSubplot:>"
      ]
     },
     "execution_count": 28,
     "metadata": {},
     "output_type": "execute_result"
    },
    {
     "data": {
      "image/png": "[encoded data removed]",
      "text/plain": [
       "<Figure size 432x288 with 1 Axes>"
      ]
     },
     "metadata": {
      "needs_background": "light"
     },
     "output_type": "display_data"
    }
   ],
   "source": [
    "df[df['USER'] == 'abc123'].Sentiment_NLTK.value_counts().sort_values().plot(kind = 'barh')"
   ]
  },
  {
   "cell_type": "code",
   "execution_count": 29,
   "id": "28eb6a96",
   "metadata": {
    "scrolled": true
   },
   "outputs": [
    {
     "data": {
      "text/plain": [
       "<AxesSubplot:>"
      ]
     },
     "execution_count": 29,
     "metadata": {},
     "output_type": "execute_result"
    },
    {
     "data": {
      "image/png": "[encoded data removed]",
      "text/plain": [
       "<Figure size 432x288 with 1 Axes>"
      ]
     },
     "metadata": {
      "needs_background": "light"
     },
     "output_type": "display_data"
    }
   ],
   "source": [
    "df[df['USER'] == 'Jo C.'].Sentiment_NLTK.value_counts().sort_values().plot(kind = 'barh')"
   ]
  },
  {
   "cell_type": "code",
   "execution_count": 30,
   "id": "612abbbb",
   "metadata": {},
   "outputs": [
    {
     "data": {
      "text/plain": [
       "SHARE A JOKE                                                    443\n",
       "FEEL GODD STUFF                                                 239\n",
       "Please Share a Thought or Quote For Today                       120\n",
       "Alzheimers Association Apology.                                 106\n",
       "Caregiver Information for New Forum Members                      79\n",
       "                                                               ... \n",
       "Bible Verse to Lift You Up 4/ 7 / 18 ONE THING TODAY!             1\n",
       "Bible Verse to Lift You Up 3/16 /18 FRIDAY                        1\n",
       "reposting— FOR MEGPIESMOM                                         1\n",
       "Bible Verse to Lift You Up 4/ 4 /18 JESUS, OUR GOOD SHEPHERD      1\n",
       "Bible Verse to Lift You Up 6/16/18 Rest Needed!                   1\n",
       "Name: THREAD_HEADING, Length: 5597, dtype: int64"
      ]
     },
     "execution_count": 30,
     "metadata": {},
     "output_type": "execute_result"
    }
   ],
   "source": [
    "df.THREAD_HEADING.value_counts()"
   ]
  },
  {
   "cell_type": "code",
   "execution_count": 31,
   "id": "4aba2bbb",
   "metadata": {},
   "outputs": [
    {
     "data": {
      "text/plain": [
       "<AxesSubplot:>"
      ]
     },
     "execution_count": 31,
     "metadata": {},
     "output_type": "execute_result"
    },
    {
     "data": {
      "image/png": "[encoded data removed]",
      "text/plain": [
       "<Figure size 432x288 with 1 Axes>"
      ]
     },
     "metadata": {
      "needs_background": "light"
     },
     "output_type": "display_data"
    }
   ],
   "source": [
    "df[df['THREAD_HEADING'] == 'SHARE A JOKE'].Sentiment_NLTK.value_counts().sort_values().plot(kind = 'barh')"
   ]
  },
  {
   "cell_type": "code",
   "execution_count": 32,
   "id": "08d1ca99",
   "metadata": {
    "scrolled": true
   },
   "outputs": [
    {
     "data": {
      "text/plain": [
       "<AxesSubplot:>"
      ]
     },
     "execution_count": 32,
     "metadata": {},
     "output_type": "execute_result"
    },
    {
     "data": {
      "image/png": "[encoded data removed]",
      "text/plain": [
       "<Figure size 432x288 with 1 Axes>"
      ]
     },
     "metadata": {
      "needs_background": "light"
     },
     "output_type": "display_data"
    }
   ],
   "source": [
    "df[df['THREAD_HEADING'] == 'FEEL GODD STUFF'].Sentiment_NLTK.value_counts().sort_values().plot(kind = 'barh')"
   ]
  },
  {
   "cell_type": "code",
   "execution_count": 33,
   "id": "9e64506a",
   "metadata": {},
   "outputs": [
    {
     "data": {
      "text/plain": [
       "<AxesSubplot:>"
      ]
     },
     "execution_count": 33,
     "metadata": {},
     "output_type": "execute_result"
    },
    {
     "data": {
      "image/png": "[encoded data removed]",
      "text/plain": [
       "<Figure size 432x288 with 1 Axes>"
      ]
     },
     "metadata": {
      "needs_background": "light"
     },
     "output_type": "display_data"
    }
   ],
   "source": [
    "df[df['THREAD_HEADING'] == 'Please Share a Thought or Quote For Today'].Sentiment_NLTK.value_counts().sort_values().plot(kind = 'barh')"
   ]
  },
  {
   "cell_type": "code",
   "execution_count": 34,
   "id": "5f2fa542",
   "metadata": {},
   "outputs": [
    {
     "data": {
      "text/plain": [
       "<AxesSubplot:>"
      ]
     },
     "execution_count": 34,
     "metadata": {},
     "output_type": "execute_result"
    },
    {
     "data": {
      "image/png": "[encoded data removed]",
      "text/plain": [
       "<Figure size 432x288 with 1 Axes>"
      ]
     },
     "metadata": {
      "needs_background": "light"
     },
     "output_type": "display_data"
    }
   ],
   "source": [
    "df['POST_CONTENT'].str.len().hist()"
   ]
  },
  {
   "cell_type": "code",
   "execution_count": 35,
   "id": "eaca279c",
   "metadata": {
    "scrolled": true
   },
   "outputs": [
    {
     "data": {
      "text/html": [
       "<div>\n",
       "<style scoped>\n",
       "    .dataframe tbody tr th:only-of-type {\n",
       "        vertical-align: middle;\n",
       "    }\n",
       "\n",
       "    .dataframe tbody tr th {\n",
       "        vertical-align: top;\n",
       "    }\n",
       "\n",
       "    .dataframe thead th {\n",
       "        text-align: right;\n",
       "    }\n",
       "</style>\n",
       "<table border=\"1\" class=\"dataframe\">\n",
       "  <thead>\n",
       "    <tr style=\"text-align: right;\">\n",
       "      <th></th>\n",
       "      <th>THREAD_HEADING</th>\n",
       "      <th>USER</th>\n",
       "      <th>POST_DATE</th>\n",
       "      <th>USER_JOIN_DATE</th>\n",
       "      <th>USER_PROFILE_POSTS</th>\n",
       "      <th>POST_CONTENT</th>\n",
       "      <th>QUESTION</th>\n",
       "      <th>Sentiment</th>\n",
       "      <th>Sentiment_NLTK</th>\n",
       "    </tr>\n",
       "  </thead>\n",
       "  <tbody>\n",
       "    <tr>\n",
       "      <th>0</th>\n",
       "      <td>New here.(2)</td>\n",
       "      <td>moxvox</td>\n",
       "      <td>Tuesday, February 15, 2022 12:48 PM</td>\n",
       "      <td>Joined: 2/15/2022</td>\n",
       "      <td>Posts: 2</td>\n",
       "      <td>Hi all: My mother was diagnosed around a year ...</td>\n",
       "      <td>YES</td>\n",
       "      <td>1</td>\n",
       "      <td>-1</td>\n",
       "    </tr>\n",
       "    <tr>\n",
       "      <th>1</th>\n",
       "      <td>New here.(2)</td>\n",
       "      <td>SusanB-dil</td>\n",
       "      <td>Tuesday, February 15, 2022 1:18 PM</td>\n",
       "      <td>Joined: 9/10/2021</td>\n",
       "      <td>Posts: 156</td>\n",
       "      <td>Hi moxvox - welcome to 'here'...   A lot of su...</td>\n",
       "      <td>NO</td>\n",
       "      <td>1</td>\n",
       "      <td>1</td>\n",
       "    </tr>\n",
       "    <tr>\n",
       "      <th>2</th>\n",
       "      <td>New here.(2)</td>\n",
       "      <td>moxvox</td>\n",
       "      <td>Tuesday, February 15, 2022 2:00 PM</td>\n",
       "      <td>Joined: 2/15/2022</td>\n",
       "      <td>Posts: 2</td>\n",
       "      <td>Hi Susan:Thanks for your words of encouragemen...</td>\n",
       "      <td>NO</td>\n",
       "      <td>1</td>\n",
       "      <td>1</td>\n",
       "    </tr>\n",
       "    <tr>\n",
       "      <th>3</th>\n",
       "      <td>New here.(2)</td>\n",
       "      <td>SusanB-dil</td>\n",
       "      <td>Tuesday, February 15, 2022 2:27 PM</td>\n",
       "      <td>Joined: 9/10/2021</td>\n",
       "      <td>Posts: 156</td>\n",
       "      <td>Do tell her neurologist.  If no HIPAA access i...</td>\n",
       "      <td>NO</td>\n",
       "      <td>1</td>\n",
       "      <td>1</td>\n",
       "    </tr>\n",
       "    <tr>\n",
       "      <th>4</th>\n",
       "      <td>New here.(2)</td>\n",
       "      <td>LicketyGlitz</td>\n",
       "      <td>Tuesday, February 15, 2022 3:56 PM</td>\n",
       "      <td>Joined: 2/3/2018</td>\n",
       "      <td>Posts: 1088</td>\n",
       "      <td>Dementia often strains family relations, mox, ...</td>\n",
       "      <td>NO</td>\n",
       "      <td>1</td>\n",
       "      <td>1</td>\n",
       "    </tr>\n",
       "  </tbody>\n",
       "</table>\n",
       "</div>"
      ],
      "text/plain": [
       "  THREAD_HEADING          USER                            POST_DATE  \\\n",
       "0   New here.(2)        moxvox  Tuesday, February 15, 2022 12:48 PM   \n",
       "1   New here.(2)    SusanB-dil   Tuesday, February 15, 2022 1:18 PM   \n",
       "2   New here.(2)        moxvox   Tuesday, February 15, 2022 2:00 PM   \n",
       "3   New here.(2)    SusanB-dil   Tuesday, February 15, 2022 2:27 PM   \n",
       "4   New here.(2)  LicketyGlitz   Tuesday, February 15, 2022 3:56 PM   \n",
       "\n",
       "      USER_JOIN_DATE USER_PROFILE_POSTS  \\\n",
       "0  Joined: 2/15/2022           Posts: 2   \n",
       "1  Joined: 9/10/2021         Posts: 156   \n",
       "2  Joined: 2/15/2022           Posts: 2   \n",
       "3  Joined: 9/10/2021         Posts: 156   \n",
       "4   Joined: 2/3/2018        Posts: 1088   \n",
       "\n",
       "                                        POST_CONTENT QUESTION  Sentiment  \\\n",
       "0  Hi all: My mother was diagnosed around a year ...      YES          1   \n",
       "1  Hi moxvox - welcome to 'here'...   A lot of su...       NO          1   \n",
       "2  Hi Susan:Thanks for your words of encouragemen...       NO          1   \n",
       "3  Do tell her neurologist.  If no HIPAA access i...       NO          1   \n",
       "4  Dementia often strains family relations, mox, ...       NO          1   \n",
       "\n",
       "   Sentiment_NLTK  \n",
       "0              -1  \n",
       "1               1  \n",
       "2               1  \n",
       "3               1  \n",
       "4               1  "
      ]
     },
     "execution_count": 35,
     "metadata": {},
     "output_type": "execute_result"
    }
   ],
   "source": [
    "df.head()"
   ]
  },
  {
   "cell_type": "code",
   "execution_count": 36,
   "id": "da6883bd",
   "metadata": {},
   "outputs": [],
   "source": [
    "from datetime import datetime"
   ]
  },
  {
   "cell_type": "code",
   "execution_count": 37,
   "id": "a1684da0",
   "metadata": {},
   "outputs": [],
   "source": [
    "df['POST_DATE'] = df['POST_DATE'].apply(lambda x: datetime.strptime(x, '%A, %B %d, %Y %I:%M %p'))"
   ]
  },
  {
   "cell_type": "code",
   "execution_count": 38,
   "id": "4fa378f2",
   "metadata": {
    "scrolled": true
   },
   "outputs": [
    {
     "data": {
      "text/plain": [
       "<AxesSubplot:xlabel='POST_DATE'>"
      ]
     },
     "execution_count": 38,
     "metadata": {},
     "output_type": "execute_result"
    },
    {
     "data": {
      "image/png": "[encoded data removed]",
      "text/plain": [
       "<Figure size 432x288 with 1 Axes>"
      ]
     },
     "metadata": {
      "needs_background": "light"
     },
     "output_type": "display_data"
    }
   ],
   "source": [
    "df.groupby(df[\"POST_DATE\"].dt.year).count()['THREAD_HEADING'].plot(kind=\"bar\")"
   ]
  },
  {
   "cell_type": "code",
   "execution_count": 39,
   "id": "71b70fb5",
   "metadata": {},
   "outputs": [],
   "source": [
    "df['POST_CONTENT'] = df['POST_CONTENT'].apply(lambda x: x.replace(u'\\xa0', u' '))"
   ]
  },
  {
   "cell_type": "code",
   "execution_count": 40,
   "id": "b4af1c04",
   "metadata": {},
   "outputs": [],
   "source": [
    "df['POST_LEN'] = df['POST_CONTENT'].apply(lambda x: len(x.split()))"
   ]
  },
  {
   "cell_type": "code",
   "execution_count": 41,
   "id": "b1d9ebf8",
   "metadata": {},
   "outputs": [
    {
     "data": {
      "text/plain": [
       "<AxesSubplot:>"
      ]
     },
     "execution_count": 41,
     "metadata": {},
     "output_type": "execute_result"
    },
    {
     "data": {
      "image/png": "[encoded data removed]",
      "text/plain": [
       "<Figure size 432x288 with 1 Axes>"
      ]
     },
     "metadata": {
      "needs_background": "light"
     },
     "output_type": "display_data"
    }
   ],
   "source": [
    "df['POST_LEN'].hist()"
   ]
  },
  {
   "cell_type": "code",
   "execution_count": 42,
   "id": "1435c0ef",
   "metadata": {},
   "outputs": [],
   "source": [
    "#nltk.download('stopwords')\n",
    "#stop=set(stopwords.words('english'))"
   ]
  },
  {
   "cell_type": "code",
   "execution_count": 43,
   "id": "f89d7e37",
   "metadata": {},
   "outputs": [],
   "source": [
    "#counts_mat\n",
    "#def getCounts(features):\n",
    "#    features = str(features).lower()\n",
    "#    features = features.replace(\".\",\" \")\n",
    "#    words = TextBlob(features).words \n",
    "#    return [word.lemma for word in words]\n",
    "#bow = CountVectorizer(analyzer=split_into_lemmas).fit_transform(df['POST_CONTENT'])\n",
    "#X = vectorizer.fit_transform([doc1,doc2,doc3])\n",
    "#df_bow_sklearn = pd.DataFrame(bow.toarray(),columns=bow.get_feature_names())\n",
    "#df_bow_sklearn.head()\n",
    "#print (\"Length of Vocabulary : \"+str(len(bow.vocabulary_)))"
   ]
  },
  {
   "cell_type": "code",
   "execution_count": 44,
   "id": "ffa8e992",
   "metadata": {},
   "outputs": [],
   "source": [
    "#len(getCounts(df.loc[1,'POST_CONTENT']))"
   ]
  },
  {
   "cell_type": "code",
   "execution_count": 45,
   "id": "c85c0722",
   "metadata": {},
   "outputs": [],
   "source": [
    "#pd.DataFrame(CountVectorizer(analyzer=split_into_lemmas).fit_transform(df.loc[1:2,'POST_CONTENT']).toarray())"
   ]
  },
  {
   "cell_type": "code",
   "execution_count": 46,
   "id": "af0ee869",
   "metadata": {},
   "outputs": [],
   "source": [
    "#cv=CountVectorizer(stop_words='english')\n",
    "#X = cv.fit_transform(df['POST_CONTENT'])"
   ]
  },
  {
   "cell_type": "code",
   "execution_count": 47,
   "id": "9ca6bab4",
   "metadata": {},
   "outputs": [],
   "source": [
    "#counts=pd.DataFrame(X.toarray())"
   ]
  },
  {
   "cell_type": "code",
   "execution_count": 48,
   "id": "72b087dd",
   "metadata": {},
   "outputs": [],
   "source": [
    "#counts.columns = cv.get_feature_names_out()"
   ]
  },
  {
   "cell_type": "code",
   "execution_count": 49,
   "id": "4a10c3fd",
   "metadata": {},
   "outputs": [],
   "source": [
    "#cv.get_feature_names_out()[0:50]"
   ]
  },
  {
   "cell_type": "code",
   "execution_count": 50,
   "id": "ae3e76f6",
   "metadata": {},
   "outputs": [],
   "source": [
    "#counts.head()"
   ]
  },
  {
   "cell_type": "code",
   "execution_count": 51,
   "id": "023649bc",
   "metadata": {},
   "outputs": [],
   "source": [
    "#counts.columns"
   ]
  },
  {
   "cell_type": "code",
   "execution_count": 52,
   "id": "24743dee",
   "metadata": {},
   "outputs": [],
   "source": [
    "#count = pd.DataFrame(np.nan, index = list(counts.columns), columns = ['count'])"
   ]
  },
  {
   "cell_type": "code",
   "execution_count": 53,
   "id": "e624ad6d",
   "metadata": {},
   "outputs": [],
   "source": [
    "#for x in range(len(counts.columns)):\n",
    "#    col1 = counts.columns[x]\n",
    "#    count.at[col1,'count'] = counts[col1].sum()"
   ]
  },
  {
   "cell_type": "code",
   "execution_count": 54,
   "id": "d4e0c6f7",
   "metadata": {},
   "outputs": [],
   "source": [
    "#count.head()"
   ]
  },
  {
   "cell_type": "code",
   "execution_count": 55,
   "id": "1c200434",
   "metadata": {},
   "outputs": [],
   "source": [
    "#sum(count['count'])"
   ]
  },
  {
   "cell_type": "code",
   "execution_count": 56,
   "id": "1db1ba80",
   "metadata": {
    "scrolled": true
   },
   "outputs": [],
   "source": [
    "#count['count'][10:50]"
   ]
  },
  {
   "cell_type": "code",
   "execution_count": 57,
   "id": "26da9b39",
   "metadata": {},
   "outputs": [],
   "source": [
    "#count['count'].sort_values(ascending=False)[1:20]"
   ]
  },
  {
   "cell_type": "code",
   "execution_count": 58,
   "id": "8dc907de",
   "metadata": {},
   "outputs": [],
   "source": [
    "#count['count'].sort_values(ascending=False)[1:20].plot(kind='bar')"
   ]
  },
  {
   "cell_type": "code",
   "execution_count": 59,
   "id": "a5cf72d9",
   "metadata": {},
   "outputs": [],
   "source": [
    "#Perform differential for positive vs neutral vs negative by subsetting data and then finding difference between word frequency"
   ]
  },
  {
   "cell_type": "code",
   "execution_count": 60,
   "id": "57015c1e",
   "metadata": {},
   "outputs": [],
   "source": [
    "pos_df = df[df['Sentiment'] == 1]"
   ]
  },
  {
   "cell_type": "code",
   "execution_count": 61,
   "id": "3d295f17",
   "metadata": {},
   "outputs": [],
   "source": [
    "neg_df = df[df['Sentiment'] == -1]"
   ]
  },
  {
   "cell_type": "code",
   "execution_count": 62,
   "id": "1d708e63",
   "metadata": {},
   "outputs": [],
   "source": [
    "#df['Sentiment'] == 1"
   ]
  },
  {
   "cell_type": "code",
   "execution_count": 63,
   "id": "0b3a790a",
   "metadata": {},
   "outputs": [],
   "source": [
    "cv2=CountVectorizer(stop_words='english')\n",
    "X2 = cv2.fit_transform(pos_df['POST_CONTENT'])"
   ]
  },
  {
   "cell_type": "code",
   "execution_count": 64,
   "id": "af5c1200",
   "metadata": {},
   "outputs": [],
   "source": [
    "counts2=pd.DataFrame(X2.toarray())"
   ]
  },
  {
   "cell_type": "code",
   "execution_count": 65,
   "id": "ff4c87ce",
   "metadata": {},
   "outputs": [],
   "source": [
    "counts2.columns = cv2.get_feature_names_out()"
   ]
  },
  {
   "cell_type": "code",
   "execution_count": 66,
   "id": "cbb28e6f",
   "metadata": {},
   "outputs": [],
   "source": [
    "count2 = pd.DataFrame(np.nan, index = list(counts2.columns), columns = ['count'])"
   ]
  },
  {
   "cell_type": "code",
   "execution_count": 67,
   "id": "a1025f1a",
   "metadata": {},
   "outputs": [],
   "source": [
    "for x in range(len(counts2.columns)):\n",
    "    col1 = counts2.columns[x]\n",
    "    count2.at[col1,'count'] = counts2[col1].sum()"
   ]
  },
  {
   "cell_type": "code",
   "execution_count": 73,
   "id": "8e221857",
   "metadata": {},
   "outputs": [
    {
     "data": {
      "text/plain": [
       "care        21739.0\n",
       "just        18930.0\n",
       "time        18224.0\n",
       "know        15428.0\n",
       "like        15281.0\n",
       "help        13666.0\n",
       "home        13530.0\n",
       "dementia    13390.0\n",
       "good        13284.0\n",
       "dad         12504.0\n",
       "mother      11884.0\n",
       "don         11867.0\n",
       "day         10588.0\n",
       "things      10398.0\n",
       "need        10240.0\n",
       "think        9722.0\n",
       "going        9637.0\n",
       "make         9037.0\n",
       "did          8485.0\n",
       "Name: count, dtype: float64"
      ]
     },
     "execution_count": 73,
     "metadata": {},
     "output_type": "execute_result"
    }
   ],
   "source": [
    "count2['count'].sort_values(ascending=False)[1:20]"
   ]
  },
  {
   "cell_type": "code",
   "execution_count": 74,
   "id": "04aa19f1",
   "metadata": {
    "scrolled": false
   },
   "outputs": [
    {
     "data": {
      "text/plain": [
       "<AxesSubplot:>"
      ]
     },
     "execution_count": 74,
     "metadata": {},
     "output_type": "execute_result"
    },
    {
     "data": {
      "image/png": "[encoded data removed]",
      "text/plain": [
       "<Figure size 432x288 with 1 Axes>"
      ]
     },
     "metadata": {
      "needs_background": "light"
     },
     "output_type": "display_data"
    }
   ],
   "source": [
    "count2['count'].sort_values(ascending=False)[1:20].plot(kind='bar')"
   ]
  },
  {
   "cell_type": "code",
   "execution_count": 76,
   "id": "8180030b",
   "metadata": {},
   "outputs": [],
   "source": [
    "#count2.to_csv(\"Pos_Counts.csv\")"
   ]
  },
  {
   "cell_type": "code",
   "execution_count": 77,
   "id": "f5e786f5",
   "metadata": {},
   "outputs": [],
   "source": [
    "cv3=CountVectorizer(stop_words='english')\n",
    "X3 = cv3.fit_transform(neg_df['POST_CONTENT'])"
   ]
  },
  {
   "cell_type": "code",
   "execution_count": 78,
   "id": "664826f3",
   "metadata": {},
   "outputs": [],
   "source": [
    "counts3=pd.DataFrame(X3.toarray())"
   ]
  },
  {
   "cell_type": "code",
   "execution_count": 79,
   "id": "7216f928",
   "metadata": {},
   "outputs": [],
   "source": [
    "counts3.columns = cv3.get_feature_names_out()"
   ]
  },
  {
   "cell_type": "code",
   "execution_count": 80,
   "id": "9e95ed5c",
   "metadata": {},
   "outputs": [],
   "source": [
    "count3 = pd.DataFrame(np.nan, index = list(counts3.columns), columns = ['count'])"
   ]
  },
  {
   "cell_type": "code",
   "execution_count": 81,
   "id": "0c1bee34",
   "metadata": {},
   "outputs": [],
   "source": [
    "for x in range(len(counts3.columns)):\n",
    "    col1 = counts3.columns[x]\n",
    "    count3.at[col1,'count'] = counts3[col1].sum()"
   ]
  },
  {
   "cell_type": "code",
   "execution_count": 82,
   "id": "8635d450",
   "metadata": {},
   "outputs": [
    {
     "data": {
      "text/plain": [
       "just        4382.0\n",
       "time        3450.0\n",
       "know        3266.0\n",
       "like        3098.0\n",
       "care        2965.0\n",
       "don         2627.0\n",
       "home        2592.0\n",
       "help        2576.0\n",
       "dad         2560.0\n",
       "mother      2410.0\n",
       "dementia    2341.0\n",
       "day         2148.0\n",
       "going       2106.0\n",
       "things      2033.0\n",
       "think       1851.0\n",
       "sorry       1729.0\n",
       "years       1665.0\n",
       "did         1596.0\n",
       "said        1578.0\n",
       "Name: count, dtype: float64"
      ]
     },
     "execution_count": 82,
     "metadata": {},
     "output_type": "execute_result"
    }
   ],
   "source": [
    "count3['count'].sort_values(ascending=False)[1:20]"
   ]
  },
  {
   "cell_type": "code",
   "execution_count": 83,
   "id": "50773d55",
   "metadata": {
    "scrolled": true
   },
   "outputs": [
    {
     "data": {
      "text/plain": [
       "<AxesSubplot:>"
      ]
     },
     "execution_count": 83,
     "metadata": {},
     "output_type": "execute_result"
    },
    {
     "data": {
      "image/png": "[encoded data removed]",
      "text/plain": [
       "<Figure size 432x288 with 1 Axes>"
      ]
     },
     "metadata": {
      "needs_background": "light"
     },
     "output_type": "display_data"
    }
   ],
   "source": [
    "count3['count'].sort_values(ascending=False)[1:20].plot(kind='bar')"
   ]
  },
  {
   "cell_type": "code",
   "execution_count": 85,
   "id": "2dcf8782",
   "metadata": {},
   "outputs": [
    {
     "data": {
      "text/plain": [
       "'000'"
      ]
     },
     "execution_count": 85,
     "metadata": {},
     "output_type": "execute_result"
    }
   ],
   "source": [
    "count2.index[1]"
   ]
  },
  {
   "cell_type": "code",
   "execution_count": 86,
   "id": "10fee8ef",
   "metadata": {},
   "outputs": [],
   "source": [
    "posCounts = set(count2.index)\n",
    "NegCounts = set(count3.index)\n",
    "intersection = posCounts.intersection(NegCounts)"
   ]
  },
  {
   "cell_type": "code",
   "execution_count": 90,
   "id": "b75f3934",
   "metadata": {},
   "outputs": [
    {
     "data": {
      "text/plain": [
       "18474"
      ]
     },
     "execution_count": 90,
     "metadata": {},
     "output_type": "execute_result"
    }
   ],
   "source": [
    "len(intersection)"
   ]
  },
  {
   "cell_type": "code",
   "execution_count": 96,
   "id": "26d002db",
   "metadata": {},
   "outputs": [],
   "source": [
    "intersection = list(intersection)"
   ]
  },
  {
   "cell_type": "code",
   "execution_count": 102,
   "id": "f467cd08",
   "metadata": {
    "scrolled": true
   },
   "outputs": [
    {
     "data": {
      "text/plain": [
       "['crossroad',\n",
       " 'actively',\n",
       " 'athletic',\n",
       " 'passengers',\n",
       " 'dismantling',\n",
       " 'speedo',\n",
       " 'alzstore',\n",
       " 'crew',\n",
       " 'pia',\n",
       " 'fairy',\n",
       " 'parameters',\n",
       " 'dejected',\n",
       " 'promised',\n",
       " 'alheimers',\n",
       " 'ruptures',\n",
       " 'twc',\n",
       " 'bethmimi',\n",
       " 'stuffs',\n",
       " 'only1bones',\n",
       " 'nearly',\n",
       " 'infecting',\n",
       " 'mind',\n",
       " 'continent',\n",
       " 'hydroxyzine',\n",
       " 'slipper',\n",
       " 'administrator',\n",
       " 'promoted',\n",
       " 'practically',\n",
       " 'examining',\n",
       " 'abuses',\n",
       " 'knelt',\n",
       " 'laws',\n",
       " 'homedepot',\n",
       " 'typo',\n",
       " 'planner',\n",
       " 'drain',\n",
       " 'contentious',\n",
       " 'rounding',\n",
       " 'bases',\n",
       " 'consecutive',\n",
       " 'definition',\n",
       " 'considers',\n",
       " 'excusing',\n",
       " 'intruder',\n",
       " 'braces',\n",
       " 'cleared',\n",
       " 'euthanasia',\n",
       " 'licenses',\n",
       " 'galatians',\n",
       " 'ads']"
      ]
     },
     "execution_count": 102,
     "metadata": {},
     "output_type": "execute_result"
    }
   ],
   "source": [
    "intersection[0:50]"
   ]
  },
  {
   "cell_type": "code",
   "execution_count": 125,
   "id": "c778aff7",
   "metadata": {},
   "outputs": [],
   "source": [
    "dif = []\n",
    "retBest = 0\n",
    "retVal = []\n",
    "retWorst = []\n",
    "for val in intersection:\n",
    "    posCount = count2.loc[val,'count']\n",
    "    negCount = count3.loc[val,'count']\n",
    "    ret = posCount-negCount\n",
    "    if(ret >= 5000):\n",
    "        #retBest = ret\n",
    "        retVal.append(val)\n",
    "    if(ret < -2):\n",
    "        #retWorst = ret\n",
    "        retWorst.append(val)\n",
    "    dif.append(ret)"
   ]
  },
  {
   "cell_type": "code",
   "execution_count": 126,
   "id": "d3a0ccf9",
   "metadata": {},
   "outputs": [
    {
     "data": {
      "text/plain": [
       "['good',\n",
       " 'just',\n",
       " 'going',\n",
       " 'facility',\n",
       " 'don',\n",
       " 'able',\n",
       " 'people',\n",
       " 'does',\n",
       " 'family',\n",
       " 'things',\n",
       " 'sure',\n",
       " 'home',\n",
       " 'mother',\n",
       " 'think',\n",
       " 'dad',\n",
       " 'years',\n",
       " 'like',\n",
       " 'right',\n",
       " 'did',\n",
       " 'help',\n",
       " 'know',\n",
       " 'care',\n",
       " 'need',\n",
       " 'way',\n",
       " 'time',\n",
       " 'want',\n",
       " 'make',\n",
       " 'day',\n",
       " 'best',\n",
       " 'dementia',\n",
       " 'said',\n",
       " 'really',\n",
       " 'work',\n",
       " 'mom']"
      ]
     },
     "execution_count": 126,
     "metadata": {},
     "output_type": "execute_result"
    }
   ],
   "source": [
    "retVal"
   ]
  },
  {
   "cell_type": "code",
   "execution_count": 127,
   "id": "a9657226",
   "metadata": {
    "scrolled": true
   },
   "outputs": [
    {
     "data": {
      "text/plain": [
       "['alzstore',\n",
       " 'outraged',\n",
       " 'perm',\n",
       " 'hysterical',\n",
       " 'yawning',\n",
       " 'reindeer',\n",
       " 'prevagen',\n",
       " 'wronged',\n",
       " 'robbery',\n",
       " 'shoveling',\n",
       " 'nasty',\n",
       " 'irving',\n",
       " 'jamestown',\n",
       " 'moron',\n",
       " 'mannose',\n",
       " 'sighs',\n",
       " 'embarassed',\n",
       " 'encephalitis',\n",
       " 'mickey',\n",
       " 'begining',\n",
       " 'wolf',\n",
       " 'enacting',\n",
       " 'pseudodementia',\n",
       " 'hysterically',\n",
       " 'dodged',\n",
       " 'slapping',\n",
       " 'hyperlink',\n",
       " 'promotes',\n",
       " 'ostriches',\n",
       " 'marine',\n",
       " 'jags',\n",
       " '1965',\n",
       " 'vertigo',\n",
       " 'knockwho',\n",
       " 'stewart',\n",
       " 'ranger',\n",
       " 'bella',\n",
       " 'mocked',\n",
       " 'overuse',\n",
       " 'tremble',\n",
       " 'diff',\n",
       " 'blackberries',\n",
       " 'siding',\n",
       " 'discord',\n",
       " 'abusers',\n",
       " 'ruff',\n",
       " 'anniversery',\n",
       " 'ezekiel',\n",
       " 'bitterly',\n",
       " 'excruciatingly',\n",
       " 'icky',\n",
       " 'youre',\n",
       " 'lola',\n",
       " 'jonah',\n",
       " 'saloon',\n",
       " 'monkeys',\n",
       " 'outrageous',\n",
       " 'aas',\n",
       " 'panics',\n",
       " 'doingmebest',\n",
       " 'vicious',\n",
       " 'vaginal']"
      ]
     },
     "execution_count": 127,
     "metadata": {},
     "output_type": "execute_result"
    }
   ],
   "source": [
    "retWorst"
   ]
  },
  {
   "cell_type": "code",
   "execution_count": 131,
   "id": "378adb37",
   "metadata": {},
   "outputs": [
    {
     "data": {
      "text/plain": [
       "34056"
      ]
     },
     "execution_count": 131,
     "metadata": {},
     "output_type": "execute_result"
    }
   ],
   "source": [
    "len(pos_df)"
   ]
  },
  {
   "cell_type": "code",
   "execution_count": 132,
   "id": "227da19f",
   "metadata": {},
   "outputs": [
    {
     "data": {
      "text/plain": [
       "8674"
      ]
     },
     "execution_count": 132,
     "metadata": {},
     "output_type": "execute_result"
    }
   ],
   "source": [
    "len(neg_df)"
   ]
  },
  {
   "cell_type": "code",
   "execution_count": 137,
   "id": "5f286914",
   "metadata": {},
   "outputs": [
    {
     "data": {
      "text/html": [
       "<div>\n",
       "<style scoped>\n",
       "    .dataframe tbody tr th:only-of-type {\n",
       "        vertical-align: middle;\n",
       "    }\n",
       "\n",
       "    .dataframe tbody tr th {\n",
       "        vertical-align: top;\n",
       "    }\n",
       "\n",
       "    .dataframe thead th {\n",
       "        text-align: right;\n",
       "    }\n",
       "</style>\n",
       "<table border=\"1\" class=\"dataframe\">\n",
       "  <thead>\n",
       "    <tr style=\"text-align: right;\">\n",
       "      <th></th>\n",
       "      <th>count</th>\n",
       "      <th>countN</th>\n",
       "    </tr>\n",
       "  </thead>\n",
       "  <tbody>\n",
       "    <tr>\n",
       "      <th>00</th>\n",
       "      <td>227.0</td>\n",
       "      <td>0.006665</td>\n",
       "    </tr>\n",
       "    <tr>\n",
       "      <th>000</th>\n",
       "      <td>352.0</td>\n",
       "      <td>0.010336</td>\n",
       "    </tr>\n",
       "    <tr>\n",
       "      <th>000133</th>\n",
       "      <td>1.0</td>\n",
       "      <td>0.000029</td>\n",
       "    </tr>\n",
       "    <tr>\n",
       "      <th>000malachiteround</th>\n",
       "      <td>1.0</td>\n",
       "      <td>0.000029</td>\n",
       "    </tr>\n",
       "    <tr>\n",
       "      <th>001</th>\n",
       "      <td>1.0</td>\n",
       "      <td>0.000029</td>\n",
       "    </tr>\n",
       "  </tbody>\n",
       "</table>\n",
       "</div>"
      ],
      "text/plain": [
       "                   count    countN\n",
       "00                 227.0  0.006665\n",
       "000                352.0  0.010336\n",
       "000133               1.0  0.000029\n",
       "000malachiteround    1.0  0.000029\n",
       "001                  1.0  0.000029"
      ]
     },
     "execution_count": 137,
     "metadata": {},
     "output_type": "execute_result"
    }
   ],
   "source": [
    "count2.head()"
   ]
  },
  {
   "cell_type": "code",
   "execution_count": 134,
   "id": "e67abe69",
   "metadata": {},
   "outputs": [],
   "source": [
    "posNormal = count2['count'].apply(lambda x: x/len(pos_df))"
   ]
  },
  {
   "cell_type": "code",
   "execution_count": 138,
   "id": "09a1b202",
   "metadata": {},
   "outputs": [],
   "source": [
    "negNormal = count3['count'].apply(lambda x: x/len(neg_df))"
   ]
  },
  {
   "cell_type": "code",
   "execution_count": 139,
   "id": "d3b73ae3",
   "metadata": {},
   "outputs": [],
   "source": [
    "#count2['countN'] = posNormal\n",
    "count3['countN'] = negNormal"
   ]
  },
  {
   "cell_type": "code",
   "execution_count": 154,
   "id": "18056ce2",
   "metadata": {},
   "outputs": [],
   "source": [
    "dif = []\n",
    "retBest = 0\n",
    "retVal = []\n",
    "retWorst = []\n",
    "for val in intersection:\n",
    "    posCount = count2.loc[val,'countN']\n",
    "    negCount = count3.loc[val,'countN']\n",
    "    ret = posCount-negCount\n",
    "    if(ret >= .1):\n",
    "        #retBest = ret\n",
    "        retVal.append(val)\n",
    "    if(ret < -.02):\n",
    "        #retWorst = ret\n",
    "        retWorst.append(val)\n",
    "    dif.append(ret)"
   ]
  },
  {
   "cell_type": "code",
   "execution_count": 144,
   "id": "bfee898e",
   "metadata": {},
   "outputs": [
    {
     "data": {
      "text/plain": [
       "0.29650483715492215"
      ]
     },
     "execution_count": 144,
     "metadata": {},
     "output_type": "execute_result"
    }
   ],
   "source": [
    "max(dif)"
   ]
  },
  {
   "cell_type": "code",
   "execution_count": 156,
   "id": "61c009e5",
   "metadata": {},
   "outputs": [
    {
     "data": {
      "text/plain": [
       "10"
      ]
     },
     "execution_count": 156,
     "metadata": {},
     "output_type": "execute_result"
    }
   ],
   "source": [
    "len(retVal)"
   ]
  },
  {
   "cell_type": "code",
   "execution_count": 157,
   "id": "7c89cd30",
   "metadata": {},
   "outputs": [
    {
     "data": {
      "text/plain": [
       "['good',\n",
       " 'able',\n",
       " 'help',\n",
       " 'care',\n",
       " 'need',\n",
       " 'time',\n",
       " 'make',\n",
       " 'best',\n",
       " 'dementia',\n",
       " 'mom']"
      ]
     },
     "execution_count": 157,
     "metadata": {},
     "output_type": "execute_result"
    }
   ],
   "source": [
    "retVal"
   ]
  },
  {
   "cell_type": "code",
   "execution_count": 155,
   "id": "6c180854",
   "metadata": {},
   "outputs": [
    {
     "data": {
      "text/plain": [
       "17"
      ]
     },
     "execution_count": 155,
     "metadata": {},
     "output_type": "execute_result"
    }
   ],
   "source": [
    "len(retWorst)"
   ]
  },
  {
   "cell_type": "code",
   "execution_count": 158,
   "id": "81012d38",
   "metadata": {},
   "outputs": [
    {
     "data": {
      "text/plain": [
       "['hate',\n",
       " 'grief',\n",
       " 'afraid',\n",
       " 'awful',\n",
       " 'difficult',\n",
       " 'worse',\n",
       " 'hard',\n",
       " 'horrible',\n",
       " 'mad',\n",
       " 'anger',\n",
       " 'sick',\n",
       " 'sad',\n",
       " 'angry',\n",
       " 'wrong',\n",
       " 'sorry',\n",
       " 'bad',\n",
       " 'terrible']"
      ]
     },
     "execution_count": 158,
     "metadata": {},
     "output_type": "execute_result"
    }
   ],
   "source": [
    "retWorst"
   ]
  }
 ],
 "metadata": {
  "kernelspec": {
   "display_name": "Python 3 (ipykernel)",
   "language": "python",
   "name": "python3"
  },
  "language_info": {
   "codemirror_mode": {
    "name": "ipython",
    "version": 3
   },
   "file_extension": ".py",
   "mimetype": "text/x-python",
   "name": "python",
   "nbconvert_exporter": "python",
   "pygments_lexer": "ipython3",
   "version": "3.8.12"
  }
 },
 "nbformat": 4,
 "nbformat_minor": 5
}
